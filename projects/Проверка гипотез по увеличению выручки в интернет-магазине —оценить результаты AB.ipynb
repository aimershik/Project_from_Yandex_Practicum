{
 "cells": [
  {
   "cell_type": "markdown",
   "metadata": {},
   "source": [
    "# Проверка гипотез по увеличению прибыли интрнет-магазина"
   ]
  },
  {
   "cell_type": "markdown",
   "metadata": {},
   "source": [
    "-------------"
   ]
  },
  {
   "cell_type": "markdown",
   "metadata": {},
   "source": [
    "<font color='blue'><b>ОПИСАНИЕ ПРОЕКТА</b></font>\n",
    "\n",
    "Вы — аналитик крупного интернет-магазина. Вместе с отделом маркетинга вы подготовили список гипотез для увеличения выручки.\n",
    "\n",
    "\n",
    "__________________________________________________________________________\n",
    "_______________________\n",
    "<font color='blue'><b>**ЦЕЛЬ:**</b></font>\n",
    "\n",
    "Приоритизировать гипотезы, запустить A/B-тест и проанализировать результаты.\n",
    "__________________________________________________________________________\n",
    "_______________________\n",
    "<font color='blue'><b>**ОПИСАНИЕ ДАННЫХ:**</b></font>\n",
    "\n",
    "**Данные файла hypothesis.csv:**\n",
    "- Hypothesis — краткое описание гипотезы;\n",
    "- Reach — охват пользователей по 10-балльной шкале;\n",
    "- Impact — влияние на пользователей по 10-балльной шкале;\n",
    "- Confidence — уверенность в гипотезе по 10-балльной шкале;\n",
    "- Efforts — затраты ресурсов на проверку гипотезы по 10-балльной шкале. Чем больше значение Efforts, тем дороже проверка гипотезы.\n",
    "\n",
    "**Данные файла orders.csv:**\n",
    "- transactionId — идентификатор заказа;\n",
    "- visitorId — идентификатор пользователя, совершившего заказ;\n",
    "- date — дата, когда был совершён заказ;\n",
    "- revenue — выручка заказа;\n",
    "- group — группа A/B-теста, в которую попал заказ.\n",
    "\n",
    "**Данные файла visitors.csv:**\n",
    "- date — дата;\n",
    "- group — группа A/B-теста;\n",
    "- visitors — количество пользователей в указанную дату в указанной группе A/B-теста"
   ]
  },
  {
   "cell_type": "markdown",
   "metadata": {},
   "source": [
    "## Загрузим данные и подготовим их к анализу"
   ]
  },
  {
   "cell_type": "markdown",
   "metadata": {},
   "source": [
    "### Импортируем библиотеки"
   ]
  },
  {
   "cell_type": "code",
   "execution_count": 1,
   "metadata": {},
   "outputs": [],
   "source": [
    "#!pip install -U seaborn # установка seaborn\n",
    "import pandas as pd \n",
    "import numpy as np\n",
    "import matplotlib.pyplot as plt\n",
    "import seaborn as sns\n",
    "import math as mt\n",
    "from scipy import stats as st\n",
    "from datetime import datetime, timedelta\n",
    "# количество отражаемых столбцов при выводе датафрэйма\n",
    "pd.set_option('display.max_columns', 50) \n",
    "# Графики высокого разрешения\n",
    "%config InlineBackend.figure_format='retina' \n",
    "%matplotlib inline \n",
    "#убрать уведомления об ошибках\n",
    "import warnings\n",
    "warnings.simplefilter('ignore')"
   ]
  },
  {
   "cell_type": "markdown",
   "metadata": {},
   "source": [
    "### Загрузим данные из файлов"
   ]
  },
  {
   "cell_type": "code",
   "execution_count": 10,
   "metadata": {},
   "outputs": [],
   "source": [
    "try:\n",
    "    hypothesis = pd.read_csv(\"/datasets/hypothesis.csv\")\n",
    "except:\n",
    "    hypothesis = pd.read_csv(\"C:\\\\Users\\dell\\\\Desktop\\\\УЧЕБА\\\\ПРОЕКТ Принятие решений в бизнесе АB\\\\hypothesis.csv\")\n",
    "    \n",
    "try:   \n",
    "    orders = pd.read_csv(\"/datasets/orders.csv\")\n",
    "except:\n",
    "    orders = pd.read_csv(\"C:\\\\Users\\dell\\\\Desktop\\\\УЧЕБА\\\\ПРОЕКТ Принятие решений в бизнесе АB\\\\orders.csv\")\n",
    "\n",
    "try:   \n",
    "    visitors = pd.read_csv(\"/datasets/visitors.csv\")\n",
    "except:\n",
    "    visitors = pd.read_csv(\"C:\\\\Users\\dell\\\\Desktop\\\\УЧЕБА\\\\ПРОЕКТ Принятие решений в бизнесе АB\\\\visitors.csv\")"
   ]
  },
  {
   "cell_type": "markdown",
   "metadata": {},
   "source": [
    "### Изучим детально данные каждого датафрейма в разрезе каждого столбца"
   ]
  },
  {
   "cell_type": "code",
   "execution_count": 11,
   "metadata": {},
   "outputs": [],
   "source": [
    "# напишем функцию \n",
    "def get_info_about_df(data):\n",
    "    \"\"\"\n",
    "    Приводит наименование столцов к нижнему регстру и убирает пробелы заменяя их на \"_\"\n",
    "    выводит по DF:\n",
    "    - количество строк-дупликатов ;\n",
    "    - 5 рандомных строк;\n",
    "    - Основные статистические данные;\n",
    "    - Типы данных и наличеие нулевых значений.\n",
    "    выводит по каждому столбцу DF:\n",
    "    - Количество Null и Na;\n",
    "    - Количество уникальных значений;\n",
    "    - Список уникальных значений;\n",
    "    - Количетсво повторений по каждому уникальному значению;\n",
    "    - Статистические сведения.\n",
    "    \"\"\"\n",
    "    data.columns = data.columns.str.lower()\n",
    "    data.columns = data.columns.str.replace(' ','_')\n",
    "    \n",
    "    print(f'\\033[1mDATAFRAME INFO:\\033[0m\\n')\n",
    "    \n",
    "    print(f'DUPLICATE ROWS COUNT = {data.duplicated().sum()}\\n')\n",
    "    \n",
    "    print('\\033[1mRANDOM FIVE ROWS\\033[0m')\n",
    "    display(data.sample(5))\n",
    "    print('*'*70)\n",
    "    \n",
    "    print('\\033[1mSTATISTIC INFO\\033[0m')\n",
    "    display(data.describe())\n",
    "    print('*'*70)\n",
    "    \n",
    "    print('\\033[1mINFO ABOUT DATA TYPES AND PRESENCE NULL \\033[0m')\n",
    "    display(data.info())\n",
    "    print('*'*70)\n",
    "    \n",
    "    for col in data.columns:\n",
    "        column=data[col]\n",
    "        print(f'\\033[1mCOLUMN - {col}\\033[0m')\n",
    "        print(f'Null, Na in {col}: {column.isna().sum()}')\n",
    "        print(f'Unique values: {column.nunique()}')\n",
    "        print(f'List for unique values and it amount :\\n{column.unique()}')\n",
    "        \n",
    "        print(column.value_counts())\n",
    "        print(f'Statistic info:\\n{column.describe()}')\n",
    "       \n",
    "        print('*'*70)"
   ]
  },
  {
   "cell_type": "markdown",
   "metadata": {},
   "source": [
    "#### **DateFrame - hypothesis**"
   ]
  },
  {
   "cell_type": "code",
   "execution_count": null,
   "metadata": {},
   "outputs": [],
   "source": [
    "get_info_about_df(hypothesis)"
   ]
  },
  {
   "cell_type": "markdown",
   "metadata": {},
   "source": [
    "#### **DateFrame - orders**"
   ]
  },
  {
   "cell_type": "code",
   "execution_count": 15,
   "metadata": {},
   "outputs": [
    {
     "name": "stdout",
     "output_type": "stream",
     "text": [
      "\u001b[1mDATAFRAME INFO:\u001b[0m\n",
      "\n",
      "DUPLICATE ROWS COUNT = 0\n",
      "\n",
      "\u001b[1mRANDOM FIVE ROWS\u001b[0m\n"
     ]
    },
    {
     "data": {
      "text/html": [
       "<div>\n",
       "<style scoped>\n",
       "    .dataframe tbody tr th:only-of-type {\n",
       "        vertical-align: middle;\n",
       "    }\n",
       "\n",
       "    .dataframe tbody tr th {\n",
       "        vertical-align: top;\n",
       "    }\n",
       "\n",
       "    .dataframe thead th {\n",
       "        text-align: right;\n",
       "    }\n",
       "</style>\n",
       "<table border=\"1\" class=\"dataframe\">\n",
       "  <thead>\n",
       "    <tr style=\"text-align: right;\">\n",
       "      <th></th>\n",
       "      <th>transactionid</th>\n",
       "      <th>visitorid</th>\n",
       "      <th>date</th>\n",
       "      <th>revenue</th>\n",
       "      <th>group</th>\n",
       "    </tr>\n",
       "  </thead>\n",
       "  <tbody>\n",
       "    <tr>\n",
       "      <th>166</th>\n",
       "      <td>2830055340</td>\n",
       "      <td>2303470071</td>\n",
       "      <td>2019-08-22</td>\n",
       "      <td>436</td>\n",
       "      <td>A</td>\n",
       "    </tr>\n",
       "    <tr>\n",
       "      <th>766</th>\n",
       "      <td>178265899</td>\n",
       "      <td>433951253</td>\n",
       "      <td>2019-08-07</td>\n",
       "      <td>5490</td>\n",
       "      <td>B</td>\n",
       "    </tr>\n",
       "    <tr>\n",
       "      <th>420</th>\n",
       "      <td>2788225284</td>\n",
       "      <td>1606766439</td>\n",
       "      <td>2019-08-06</td>\n",
       "      <td>37550</td>\n",
       "      <td>B</td>\n",
       "    </tr>\n",
       "    <tr>\n",
       "      <th>1035</th>\n",
       "      <td>2898835960</td>\n",
       "      <td>3972127743</td>\n",
       "      <td>2019-08-09</td>\n",
       "      <td>8439</td>\n",
       "      <td>A</td>\n",
       "    </tr>\n",
       "    <tr>\n",
       "      <th>1143</th>\n",
       "      <td>3551685910</td>\n",
       "      <td>2397025226</td>\n",
       "      <td>2019-08-13</td>\n",
       "      <td>910</td>\n",
       "      <td>B</td>\n",
       "    </tr>\n",
       "  </tbody>\n",
       "</table>\n",
       "</div>"
      ],
      "text/plain": [
       "      transactionid   visitorid        date  revenue group\n",
       "166      2830055340  2303470071  2019-08-22      436     A\n",
       "766       178265899   433951253  2019-08-07     5490     B\n",
       "420      2788225284  1606766439  2019-08-06    37550     B\n",
       "1035     2898835960  3972127743  2019-08-09     8439     A\n",
       "1143     3551685910  2397025226  2019-08-13      910     B"
      ]
     },
     "metadata": {},
     "output_type": "display_data"
    },
    {
     "name": "stdout",
     "output_type": "stream",
     "text": [
      "**********************************************************************\n",
      "\u001b[1mSTATISTIC INFO\u001b[0m\n"
     ]
    },
    {
     "data": {
      "text/html": [
       "<div>\n",
       "<style scoped>\n",
       "    .dataframe tbody tr th:only-of-type {\n",
       "        vertical-align: middle;\n",
       "    }\n",
       "\n",
       "    .dataframe tbody tr th {\n",
       "        vertical-align: top;\n",
       "    }\n",
       "\n",
       "    .dataframe thead th {\n",
       "        text-align: right;\n",
       "    }\n",
       "</style>\n",
       "<table border=\"1\" class=\"dataframe\">\n",
       "  <thead>\n",
       "    <tr style=\"text-align: right;\">\n",
       "      <th></th>\n",
       "      <th>transactionid</th>\n",
       "      <th>visitorid</th>\n",
       "      <th>revenue</th>\n",
       "    </tr>\n",
       "  </thead>\n",
       "  <tbody>\n",
       "    <tr>\n",
       "      <th>count</th>\n",
       "      <td>1.197000e+03</td>\n",
       "      <td>1.197000e+03</td>\n",
       "      <td>1.197000e+03</td>\n",
       "    </tr>\n",
       "    <tr>\n",
       "      <th>mean</th>\n",
       "      <td>2.155621e+09</td>\n",
       "      <td>2.165960e+09</td>\n",
       "      <td>8.348006e+03</td>\n",
       "    </tr>\n",
       "    <tr>\n",
       "      <th>std</th>\n",
       "      <td>1.229085e+09</td>\n",
       "      <td>1.236014e+09</td>\n",
       "      <td>3.919113e+04</td>\n",
       "    </tr>\n",
       "    <tr>\n",
       "      <th>min</th>\n",
       "      <td>1.062393e+06</td>\n",
       "      <td>5.114589e+06</td>\n",
       "      <td>5.000000e+01</td>\n",
       "    </tr>\n",
       "    <tr>\n",
       "      <th>25%</th>\n",
       "      <td>1.166776e+09</td>\n",
       "      <td>1.111826e+09</td>\n",
       "      <td>1.220000e+03</td>\n",
       "    </tr>\n",
       "    <tr>\n",
       "      <th>50%</th>\n",
       "      <td>2.145194e+09</td>\n",
       "      <td>2.217985e+09</td>\n",
       "      <td>2.978000e+03</td>\n",
       "    </tr>\n",
       "    <tr>\n",
       "      <th>75%</th>\n",
       "      <td>3.237740e+09</td>\n",
       "      <td>3.177606e+09</td>\n",
       "      <td>8.290000e+03</td>\n",
       "    </tr>\n",
       "    <tr>\n",
       "      <th>max</th>\n",
       "      <td>4.293856e+09</td>\n",
       "      <td>4.283872e+09</td>\n",
       "      <td>1.294500e+06</td>\n",
       "    </tr>\n",
       "  </tbody>\n",
       "</table>\n",
       "</div>"
      ],
      "text/plain": [
       "       transactionid     visitorid       revenue\n",
       "count   1.197000e+03  1.197000e+03  1.197000e+03\n",
       "mean    2.155621e+09  2.165960e+09  8.348006e+03\n",
       "std     1.229085e+09  1.236014e+09  3.919113e+04\n",
       "min     1.062393e+06  5.114589e+06  5.000000e+01\n",
       "25%     1.166776e+09  1.111826e+09  1.220000e+03\n",
       "50%     2.145194e+09  2.217985e+09  2.978000e+03\n",
       "75%     3.237740e+09  3.177606e+09  8.290000e+03\n",
       "max     4.293856e+09  4.283872e+09  1.294500e+06"
      ]
     },
     "metadata": {},
     "output_type": "display_data"
    },
    {
     "name": "stdout",
     "output_type": "stream",
     "text": [
      "**********************************************************************\n",
      "\u001b[1mINFO ABOUT DATA TYPES AND PRESENCE NULL \u001b[0m\n",
      "<class 'pandas.core.frame.DataFrame'>\n",
      "RangeIndex: 1197 entries, 0 to 1196\n",
      "Data columns (total 5 columns):\n",
      " #   Column         Non-Null Count  Dtype \n",
      "---  ------         --------------  ----- \n",
      " 0   transactionid  1197 non-null   int64 \n",
      " 1   visitorid      1197 non-null   int64 \n",
      " 2   date           1197 non-null   object\n",
      " 3   revenue        1197 non-null   int64 \n",
      " 4   group          1197 non-null   object\n",
      "dtypes: int64(3), object(2)\n",
      "memory usage: 46.9+ KB\n"
     ]
    },
    {
     "data": {
      "text/plain": [
       "None"
      ]
     },
     "metadata": {},
     "output_type": "display_data"
    },
    {
     "name": "stdout",
     "output_type": "stream",
     "text": [
      "**********************************************************************\n",
      "\u001b[1mCOLUMN - transactionid\u001b[0m\n",
      "Null, Na in transactionid: 0\n",
      "Unique values: 1197\n",
      "List for unique values and it amount :\n",
      "[3667963787 2804400009 2961555356 ... 1807773912 1947021204 3936777065]\n",
      "3667963787    1\n",
      "4167421281    1\n",
      "2875229767    1\n",
      "504373597     1\n",
      "2017680897    1\n",
      "             ..\n",
      "1853288890    1\n",
      "2084190534    1\n",
      "2956594374    1\n",
      "3646798055    1\n",
      "3936777065    1\n",
      "Name: transactionid, Length: 1197, dtype: int64\n",
      "Statistic info:\n",
      "count    1.197000e+03\n",
      "mean     2.155621e+09\n",
      "std      1.229085e+09\n",
      "min      1.062393e+06\n",
      "25%      1.166776e+09\n",
      "50%      2.145194e+09\n",
      "75%      3.237740e+09\n",
      "max      4.293856e+09\n",
      "Name: transactionid, dtype: float64\n",
      "**********************************************************************\n",
      "\u001b[1mCOLUMN - visitorid\u001b[0m\n",
      "Null, Na in visitorid: 0\n",
      "Unique values: 1031\n",
      "List for unique values and it amount :\n",
      "[3312258926 3642806036 4069496402 ...  370388673  573423106 2108080724]\n",
      "4256040402    11\n",
      "2458001652    11\n",
      "2378935119     9\n",
      "2038680547     8\n",
      "199603092      5\n",
      "              ..\n",
      "2524310328     1\n",
      "2210805728     1\n",
      "2274825520     1\n",
      "1831227158     1\n",
      "2108080724     1\n",
      "Name: visitorid, Length: 1031, dtype: int64\n",
      "Statistic info:\n",
      "count    1.197000e+03\n",
      "mean     2.165960e+09\n",
      "std      1.236014e+09\n",
      "min      5.114589e+06\n",
      "25%      1.111826e+09\n",
      "50%      2.217985e+09\n",
      "75%      3.177606e+09\n",
      "max      4.283872e+09\n",
      "Name: visitorid, dtype: float64\n",
      "**********************************************************************\n",
      "\u001b[1mCOLUMN - date\u001b[0m\n",
      "Null, Na in date: 0\n",
      "Unique values: 31\n",
      "List for unique values and it amount :\n",
      "['2019-08-15' '2019-08-16' '2019-08-01' '2019-08-22' '2019-08-17'\n",
      " '2019-08-23' '2019-08-02' '2019-08-18' '2019-08-24' '2019-08-03'\n",
      " '2019-08-25' '2019-08-28' '2019-08-19' '2019-08-06' '2019-08-26'\n",
      " '2019-08-29' '2019-08-04' '2019-08-20' '2019-08-09' '2019-08-07'\n",
      " '2019-08-30' '2019-08-05' '2019-08-27' '2019-08-21' '2019-08-08'\n",
      " '2019-08-10' '2019-08-31' '2019-08-11' '2019-08-12' '2019-08-13'\n",
      " '2019-08-14']\n",
      "2019-08-05    48\n",
      "2019-08-14    47\n",
      "2019-08-12    47\n",
      "2019-08-06    46\n",
      "2019-08-15    46\n",
      "2019-08-01    45\n",
      "2019-08-28    45\n",
      "2019-08-02    44\n",
      "2019-08-27    44\n",
      "2019-08-08    43\n",
      "2019-08-19    43\n",
      "2019-08-29    42\n",
      "2019-08-07    42\n",
      "2019-08-22    41\n",
      "2019-08-09    41\n",
      "2019-08-26    41\n",
      "2019-08-03    40\n",
      "2019-08-23    40\n",
      "2019-08-10    39\n",
      "2019-08-16    38\n",
      "2019-08-21    37\n",
      "2019-08-30    35\n",
      "2019-08-13    35\n",
      "2019-08-04    33\n",
      "2019-08-20    32\n",
      "2019-08-31    32\n",
      "2019-08-24    31\n",
      "2019-08-11    26\n",
      "2019-08-18    26\n",
      "2019-08-17    24\n",
      "2019-08-25    24\n",
      "Name: date, dtype: int64\n",
      "Statistic info:\n",
      "count           1197\n",
      "unique            31\n",
      "top       2019-08-05\n",
      "freq              48\n",
      "Name: date, dtype: object\n",
      "**********************************************************************\n",
      "\u001b[1mCOLUMN - revenue\u001b[0m\n",
      "Null, Na in revenue: 0\n",
      "Unique values: 713\n",
      "List for unique values and it amount :\n",
      "[   1650     730     400    9759    2308    2210    1860    1044   13710\n",
      "    1855    4008    4499    7370   11985   10980   15277    1060     990\n",
      "   16490    1190     300    1050     632   15185    7555    3488    7620\n",
      "    5280     700     190     383    1680   22785    2355    2470    6250\n",
      "   19260     610    2986    1090    9290    2480    3000    2140    3590\n",
      "    6990    1250    2970   18100     100    2750     570    2978    1440\n",
      "    7860   56650     790    1350    2540    1710    2350   14610    8999\n",
      "   10510   29499     780     890    4400   32350   40740    2490    2080\n",
      "    5400    5100    4020     690   12350    1290     382    2110    1490\n",
      "   17868    1940   26550    5970     987    9024    5555    7129    3240\n",
      "    2995    2550   17600     850    5365    8390    5870    5020   14489\n",
      "    8470    1630    5800     172    6230     760    3390    4480    1139\n",
      "   12336    1450    7990    5099    9400    6441    3070    6145   53904\n",
      "    6922    5190    6976    7690     426   28490     390     299    6329\n",
      "    8800    2990    9448    2920    9980    1790    4970    3760    8090\n",
      "   11990   18900    6420    1990     650     436    1038    1780    3564\n",
      "    3340    5480   38160    2800    3040     995    3210     310    2090\n",
      "    3468     778    5740    4580    1840    1550   17990     290    6940\n",
      "    1690    5369   11115     165    2646    2220    2190    2845    1799\n",
      "    1498    9850    6700     500    2640    4717   30649    5640    2820\n",
      "   17422   14155    4185   10960    1140    1310    1380   10791    9310\n",
      "    3470    2955   15850   27550   15485    6201    2320     599     660\n",
      "    6149    2938   10590     110   12810    9880     920   15417     950\n",
      "    2339    3190    2360   16950   34340    1620   14271    1920     380\n",
      "    8240     282   10970     170    1922   14400   19538   10450    2290\n",
      "    1830   33970    1100    4877   12680     860    3354    1000    6890\n",
      "    4299   12562     420   23750    6350     490   22040    2950    2342\n",
      "    5622    7485    1200    2057      76    1900    2690   20219    4195\n",
      "     830    2330    2526    1435    1460     250    6194    3460    5070\n",
      "    8850    1410    1758    1220    8000   15072   41450    1530    1390\n",
      "    4370    6000    2580    5160    6536    5000   14970    9080     910\n",
      "   16770    2500    1590    3990   20026   12470    4980   16680   16480\n",
      "    4780    3450    5415   16279    2385     120    1398   20990    5539\n",
      "     270   21220    1253   12550     880    9990    3890   19240    3080\n",
      "     460      70     870   26980   13990   24744    4500    8870     600\n",
      "     440     750    1950   37550   31680    9490   11249     470 1294500\n",
      "    2630    4930    3150   17650    5450    5770    1575   20450   11050\n",
      "    2000    2255    1999    7300   18464    6677    2890    6248    5270\n",
      "    4485    7349    3030      50    9232    9934    2840    8990    8780\n",
      "    4410     350   19280   13769    6681    6260    1130   11135   20100\n",
      "    2722    8885    8585    1980   10195   30990    2359     320    2590\n",
      "    8250     580    5350    3140    1910   17379    4840    6930    5690\n",
      "    6090     740   10440    4880    6590   21550   33405    3525   43990\n",
      "   13390     697    4495    8401    6382    2285   10485    6288   11711\n",
      "    3950   25080    1580   35485    9750   27490    1510    1850    4990\n",
      "    3650   33050    5530   27600    1893   31350     360    5249    6716\n",
      "    3559    5790     604    3550     240    2235   10550    4690   12888\n",
      "    7995    3220     495     265    4790     480    1721    2830     340\n",
      "    1870    2670    2420    3261    1634   39800   12990   25890   18990\n",
      "    3826   18010   10250   17030    5119    9870   13860    8877    4620\n",
      "   43690    1846      90    4190   34550   10765    7024    4698    2030\n",
      "   78990   10850     550   16990     620     654    6613   10160    6400\n",
      "    6440   27390    2050     540   42740    9680    5150     410    3680\n",
      "    5227     590    5776    2390   14495    2070    2555   19520   11688\n",
      "    4180    1399   45880    3050     295   17792   24381    1805   28350\n",
      "    6170    3270    2960    1020   10137   14490   67990   86620    4900\n",
      "   49495    3170   37150   19660   45780   24860    1737    1040    9690\n",
      "    1149    5490    1640     840   12490    4740    3480     785    7890\n",
      "    2600    3739     900    3888    1993   13770   20290    2578    5330\n",
      "    5719    2436    5030    4210    2400    8099    1540    6242   18560\n",
      "     150    4600   13740    2790   19990     980    1120   15416    3410\n",
      "    5840    4170   10170     985   22950    1180    1188    2674    4710\n",
      "   18270     770   93940    7110   12642    4920    3290   35890    4363\n",
      "    6445   58220    3740    3500    1600    1420    1729    3250     450\n",
      "   11440    4188     530   13354   17300    2180     160    1960     359\n",
      "     510   19386      75    1885    4040   25790   13203    2250   34990\n",
      "    3430   19490     720      60    7390    3910   58550     800    7240\n",
      "   18350   18463    3330    6660    4283   60450   24350    9050    5170\n",
      "   28750   11250    1730    5900    2348    3600    1320    3806    2907\n",
      "     971   14990     640    8290    5430     820    4685    2610   14250\n",
      "     130   52900    3490    4390    9800   13070   15500    6674    3404\n",
      "   18557    8439    8340   27985    6645    8640    6060    1720   15450\n",
      "    1800    8950    8280    1825    5688    4240    2061   12150    1280\n",
      "    8777    9300    8590    6015    1170    4650   39500    6585    5050\n",
      "   14000   32610   16920   65710     725    6438   66350    3320   11490\n",
      "    7500    7550   11565    2752   28060    1707    6780    5390    3260\n",
      "   17940   24990    3980    8529    5440    2510   18893   92550   52480\n",
      "    4140    3520    3180    4120     370    6385    9368    3780    1329\n",
      "    3020    6180   25250    4940   10380   15380     112   31550    8600\n",
      "    6490  202740]\n",
      "990       17\n",
      "390       13\n",
      "890       13\n",
      "400       10\n",
      "1490      10\n",
      "          ..\n",
      "70         1\n",
      "3080       1\n",
      "19240      1\n",
      "3890       1\n",
      "202740     1\n",
      "Name: revenue, Length: 713, dtype: int64\n",
      "Statistic info:\n",
      "count    1.197000e+03\n",
      "mean     8.348006e+03\n",
      "std      3.919113e+04\n",
      "min      5.000000e+01\n",
      "25%      1.220000e+03\n",
      "50%      2.978000e+03\n",
      "75%      8.290000e+03\n",
      "max      1.294500e+06\n",
      "Name: revenue, dtype: float64\n",
      "**********************************************************************\n",
      "\u001b[1mCOLUMN - group\u001b[0m\n",
      "Null, Na in group: 0\n",
      "Unique values: 2\n",
      "List for unique values and it amount :\n",
      "['B' 'A']\n",
      "B    640\n",
      "A    557\n",
      "Name: group, dtype: int64\n",
      "Statistic info:\n",
      "count     1197\n",
      "unique       2\n",
      "top          B\n",
      "freq       640\n",
      "Name: group, dtype: object\n",
      "**********************************************************************\n"
     ]
    }
   ],
   "source": [
    "get_info_about_df(orders)"
   ]
  },
  {
   "cell_type": "code",
   "execution_count": 16,
   "metadata": {},
   "outputs": [
    {
     "name": "stdout",
     "output_type": "stream",
     "text": [
      "Найдено 58 userid которые одновременно попали в группу А и В\n",
      "Количество заказов(суммарно в 2х группах) 181 шт. (15.12%), на суммму 1558935 руб. (15.60%)\n"
     ]
    }
   ],
   "source": [
    "# проверим наличиеи дубликатов userid которые могли попсчать одновременно в 2 группы\n",
    "arr = orders.groupby(['visitorid','group'], as_index=False).agg({'transactionid':'nunique','revenue':'sum'})\n",
    "a= arr[arr['group']=='A']\n",
    "b= arr[arr['group']=='B']\n",
    "\n",
    "ab = list(a.merge(b, left_on='visitorid', right_on='visitorid', how=\"inner\")['visitorid'])\n",
    "s = arr[arr['visitorid'].isin(ab)]['revenue'].sum()\n",
    "c= arr[arr['visitorid'].isin(ab)]['transactionid'].sum()\n",
    "pc=c/arr.transactionid.sum()*100\n",
    "ps=s/arr.revenue.sum()*100\n",
    "print('Найдено {} userid которые одновременно попали в группу А и В'.format(len(ab)))\n",
    "print('Количество заказов(суммарно в 2х группах) {} шт. ({:.2f}%), на суммму {} руб. ({:.2f}%)'.format(c, pc, s, ps))"
   ]
  },
  {
   "cell_type": "markdown",
   "metadata": {},
   "source": [
    "#### **DateFrame - visitors**"
   ]
  },
  {
   "cell_type": "code",
   "execution_count": 17,
   "metadata": {
    "scrolled": true
   },
   "outputs": [
    {
     "name": "stdout",
     "output_type": "stream",
     "text": [
      "\u001b[1mDATAFRAME INFO:\u001b[0m\n",
      "\n",
      "DUPLICATE ROWS COUNT = 0\n",
      "\n",
      "\u001b[1mRANDOM FIVE ROWS\u001b[0m\n"
     ]
    },
    {
     "data": {
      "text/html": [
       "<div>\n",
       "<style scoped>\n",
       "    .dataframe tbody tr th:only-of-type {\n",
       "        vertical-align: middle;\n",
       "    }\n",
       "\n",
       "    .dataframe tbody tr th {\n",
       "        vertical-align: top;\n",
       "    }\n",
       "\n",
       "    .dataframe thead th {\n",
       "        text-align: right;\n",
       "    }\n",
       "</style>\n",
       "<table border=\"1\" class=\"dataframe\">\n",
       "  <thead>\n",
       "    <tr style=\"text-align: right;\">\n",
       "      <th></th>\n",
       "      <th>date</th>\n",
       "      <th>group</th>\n",
       "      <th>visitors</th>\n",
       "    </tr>\n",
       "  </thead>\n",
       "  <tbody>\n",
       "    <tr>\n",
       "      <th>29</th>\n",
       "      <td>2019-08-30</td>\n",
       "      <td>A</td>\n",
       "      <td>490</td>\n",
       "    </tr>\n",
       "    <tr>\n",
       "      <th>55</th>\n",
       "      <td>2019-08-25</td>\n",
       "      <td>B</td>\n",
       "      <td>679</td>\n",
       "    </tr>\n",
       "    <tr>\n",
       "      <th>3</th>\n",
       "      <td>2019-08-04</td>\n",
       "      <td>A</td>\n",
       "      <td>717</td>\n",
       "    </tr>\n",
       "    <tr>\n",
       "      <th>17</th>\n",
       "      <td>2019-08-18</td>\n",
       "      <td>A</td>\n",
       "      <td>668</td>\n",
       "    </tr>\n",
       "    <tr>\n",
       "      <th>52</th>\n",
       "      <td>2019-08-22</td>\n",
       "      <td>B</td>\n",
       "      <td>650</td>\n",
       "    </tr>\n",
       "  </tbody>\n",
       "</table>\n",
       "</div>"
      ],
      "text/plain": [
       "          date group  visitors\n",
       "29  2019-08-30     A       490\n",
       "55  2019-08-25     B       679\n",
       "3   2019-08-04     A       717\n",
       "17  2019-08-18     A       668\n",
       "52  2019-08-22     B       650"
      ]
     },
     "metadata": {},
     "output_type": "display_data"
    },
    {
     "name": "stdout",
     "output_type": "stream",
     "text": [
      "**********************************************************************\n",
      "\u001b[1mSTATISTIC INFO\u001b[0m\n"
     ]
    },
    {
     "data": {
      "text/html": [
       "<div>\n",
       "<style scoped>\n",
       "    .dataframe tbody tr th:only-of-type {\n",
       "        vertical-align: middle;\n",
       "    }\n",
       "\n",
       "    .dataframe tbody tr th {\n",
       "        vertical-align: top;\n",
       "    }\n",
       "\n",
       "    .dataframe thead th {\n",
       "        text-align: right;\n",
       "    }\n",
       "</style>\n",
       "<table border=\"1\" class=\"dataframe\">\n",
       "  <thead>\n",
       "    <tr style=\"text-align: right;\">\n",
       "      <th></th>\n",
       "      <th>visitors</th>\n",
       "    </tr>\n",
       "  </thead>\n",
       "  <tbody>\n",
       "    <tr>\n",
       "      <th>count</th>\n",
       "      <td>62.000000</td>\n",
       "    </tr>\n",
       "    <tr>\n",
       "      <th>mean</th>\n",
       "      <td>607.290323</td>\n",
       "    </tr>\n",
       "    <tr>\n",
       "      <th>std</th>\n",
       "      <td>114.400560</td>\n",
       "    </tr>\n",
       "    <tr>\n",
       "      <th>min</th>\n",
       "      <td>361.000000</td>\n",
       "    </tr>\n",
       "    <tr>\n",
       "      <th>25%</th>\n",
       "      <td>534.000000</td>\n",
       "    </tr>\n",
       "    <tr>\n",
       "      <th>50%</th>\n",
       "      <td>624.500000</td>\n",
       "    </tr>\n",
       "    <tr>\n",
       "      <th>75%</th>\n",
       "      <td>710.500000</td>\n",
       "    </tr>\n",
       "    <tr>\n",
       "      <th>max</th>\n",
       "      <td>770.000000</td>\n",
       "    </tr>\n",
       "  </tbody>\n",
       "</table>\n",
       "</div>"
      ],
      "text/plain": [
       "         visitors\n",
       "count   62.000000\n",
       "mean   607.290323\n",
       "std    114.400560\n",
       "min    361.000000\n",
       "25%    534.000000\n",
       "50%    624.500000\n",
       "75%    710.500000\n",
       "max    770.000000"
      ]
     },
     "metadata": {},
     "output_type": "display_data"
    },
    {
     "name": "stdout",
     "output_type": "stream",
     "text": [
      "**********************************************************************\n",
      "\u001b[1mINFO ABOUT DATA TYPES AND PRESENCE NULL \u001b[0m\n",
      "<class 'pandas.core.frame.DataFrame'>\n",
      "RangeIndex: 62 entries, 0 to 61\n",
      "Data columns (total 3 columns):\n",
      " #   Column    Non-Null Count  Dtype \n",
      "---  ------    --------------  ----- \n",
      " 0   date      62 non-null     object\n",
      " 1   group     62 non-null     object\n",
      " 2   visitors  62 non-null     int64 \n",
      "dtypes: int64(1), object(2)\n",
      "memory usage: 1.6+ KB\n"
     ]
    },
    {
     "data": {
      "text/plain": [
       "None"
      ]
     },
     "metadata": {},
     "output_type": "display_data"
    },
    {
     "name": "stdout",
     "output_type": "stream",
     "text": [
      "**********************************************************************\n",
      "\u001b[1mCOLUMN - date\u001b[0m\n",
      "Null, Na in date: 0\n",
      "Unique values: 31\n",
      "List for unique values and it amount :\n",
      "['2019-08-01' '2019-08-02' '2019-08-03' '2019-08-04' '2019-08-05'\n",
      " '2019-08-06' '2019-08-07' '2019-08-08' '2019-08-09' '2019-08-10'\n",
      " '2019-08-11' '2019-08-12' '2019-08-13' '2019-08-14' '2019-08-15'\n",
      " '2019-08-16' '2019-08-17' '2019-08-18' '2019-08-19' '2019-08-20'\n",
      " '2019-08-21' '2019-08-22' '2019-08-23' '2019-08-24' '2019-08-25'\n",
      " '2019-08-26' '2019-08-27' '2019-08-28' '2019-08-29' '2019-08-30'\n",
      " '2019-08-31']\n",
      "2019-08-01    2\n",
      "2019-08-17    2\n",
      "2019-08-30    2\n",
      "2019-08-29    2\n",
      "2019-08-28    2\n",
      "2019-08-27    2\n",
      "2019-08-26    2\n",
      "2019-08-25    2\n",
      "2019-08-24    2\n",
      "2019-08-23    2\n",
      "2019-08-22    2\n",
      "2019-08-21    2\n",
      "2019-08-20    2\n",
      "2019-08-19    2\n",
      "2019-08-18    2\n",
      "2019-08-16    2\n",
      "2019-08-02    2\n",
      "2019-08-15    2\n",
      "2019-08-14    2\n",
      "2019-08-13    2\n",
      "2019-08-12    2\n",
      "2019-08-11    2\n",
      "2019-08-10    2\n",
      "2019-08-09    2\n",
      "2019-08-08    2\n",
      "2019-08-07    2\n",
      "2019-08-06    2\n",
      "2019-08-05    2\n",
      "2019-08-04    2\n",
      "2019-08-03    2\n",
      "2019-08-31    2\n",
      "Name: date, dtype: int64\n",
      "Statistic info:\n",
      "count             62\n",
      "unique            31\n",
      "top       2019-08-01\n",
      "freq               2\n",
      "Name: date, dtype: object\n",
      "**********************************************************************\n",
      "\u001b[1mCOLUMN - group\u001b[0m\n",
      "Null, Na in group: 0\n",
      "Unique values: 2\n",
      "List for unique values and it amount :\n",
      "['A' 'B']\n",
      "A    31\n",
      "B    31\n",
      "Name: group, dtype: int64\n",
      "Statistic info:\n",
      "count     62\n",
      "unique     2\n",
      "top        A\n",
      "freq      31\n",
      "Name: group, dtype: object\n",
      "**********************************************************************\n",
      "\u001b[1mCOLUMN - visitors\u001b[0m\n",
      "Null, Na in visitors: 0\n",
      "Unique values: 58\n",
      "List for unique values and it amount :\n",
      "[719 619 507 717 756 667 644 610 617 406 718 595 748 735 628 361 412 668\n",
      " 502 575 646 609 468 395 621 722 711 594 577 490 699 713 581 509 770 707\n",
      " 655 709 654 369 721 543 769 746 544 413 421 737 487 560 656 650 546 378\n",
      " 679 676 720 531]\n",
      "490    2\n",
      "610    2\n",
      "654    2\n",
      "718    2\n",
      "544    1\n",
      "581    1\n",
      "509    1\n",
      "770    1\n",
      "707    1\n",
      "655    1\n",
      "709    1\n",
      "369    1\n",
      "721    1\n",
      "543    1\n",
      "769    1\n",
      "746    1\n",
      "413    1\n",
      "699    1\n",
      "421    1\n",
      "737    1\n",
      "487    1\n",
      "560    1\n",
      "656    1\n",
      "650    1\n",
      "546    1\n",
      "378    1\n",
      "679    1\n",
      "676    1\n",
      "720    1\n",
      "713    1\n",
      "719    1\n",
      "619    1\n",
      "361    1\n",
      "507    1\n",
      "717    1\n",
      "756    1\n",
      "667    1\n",
      "644    1\n",
      "617    1\n",
      "406    1\n",
      "595    1\n",
      "748    1\n",
      "735    1\n",
      "628    1\n",
      "412    1\n",
      "577    1\n",
      "668    1\n",
      "502    1\n",
      "575    1\n",
      "646    1\n",
      "609    1\n",
      "468    1\n",
      "395    1\n",
      "621    1\n",
      "722    1\n",
      "711    1\n",
      "594    1\n",
      "531    1\n",
      "Name: visitors, dtype: int64\n",
      "Statistic info:\n",
      "count     62.000000\n",
      "mean     607.290323\n",
      "std      114.400560\n",
      "min      361.000000\n",
      "25%      534.000000\n",
      "50%      624.500000\n",
      "75%      710.500000\n",
      "max      770.000000\n",
      "Name: visitors, dtype: float64\n",
      "**********************************************************************\n"
     ]
    }
   ],
   "source": [
    "get_info_about_df(visitors)"
   ]
  },
  {
   "cell_type": "markdown",
   "metadata": {},
   "source": [
    "#### Выводы"
   ]
  },
  {
   "cell_type": "markdown",
   "metadata": {},
   "source": [
    "- данные в orders и visitors предоставлены за одинаковый период с 01.08.2019 по 31.08.2019;\n",
    "- есть дубли по userid, которые оновременно есть в двух группах - так как их объем превышает 15 % от всех данных, удалять их не будем;\n",
    "- Столбцы с датами имеют формат данных object, поэтому необходимо заменить их на тип datatime, а так же определим период за который предоставлены данные;"
   ]
  },
  {
   "cell_type": "markdown",
   "metadata": {},
   "source": [
    "### Проведем предобработку данных"
   ]
  },
  {
   "cell_type": "code",
   "execution_count": 18,
   "metadata": {
    "scrolled": true
   },
   "outputs": [
    {
     "name": "stdout",
     "output_type": "stream",
     "text": [
      "\n",
      "Мин. дата 2019-08-01, Макс. дата 2019-08-31\n",
      "\n",
      "<class 'pandas.core.frame.DataFrame'>\n",
      "RangeIndex: 1197 entries, 0 to 1196\n",
      "Data columns (total 5 columns):\n",
      " #   Column         Non-Null Count  Dtype         \n",
      "---  ------         --------------  -----         \n",
      " 0   transactionid  1197 non-null   int64         \n",
      " 1   visitorid      1197 non-null   int64         \n",
      " 2   date           1197 non-null   datetime64[ns]\n",
      " 3   revenue        1197 non-null   int64         \n",
      " 4   group          1197 non-null   object        \n",
      "dtypes: datetime64[ns](1), int64(3), object(1)\n",
      "memory usage: 46.9+ KB\n"
     ]
    },
    {
     "data": {
      "text/html": [
       "<div>\n",
       "<style scoped>\n",
       "    .dataframe tbody tr th:only-of-type {\n",
       "        vertical-align: middle;\n",
       "    }\n",
       "\n",
       "    .dataframe tbody tr th {\n",
       "        vertical-align: top;\n",
       "    }\n",
       "\n",
       "    .dataframe thead th {\n",
       "        text-align: right;\n",
       "    }\n",
       "</style>\n",
       "<table border=\"1\" class=\"dataframe\">\n",
       "  <thead>\n",
       "    <tr style=\"text-align: right;\">\n",
       "      <th></th>\n",
       "      <th>transactionid</th>\n",
       "      <th>visitorid</th>\n",
       "      <th>date</th>\n",
       "      <th>revenue</th>\n",
       "      <th>group</th>\n",
       "    </tr>\n",
       "  </thead>\n",
       "  <tbody>\n",
       "    <tr>\n",
       "      <th>0</th>\n",
       "      <td>3667963787</td>\n",
       "      <td>3312258926</td>\n",
       "      <td>2019-08-15</td>\n",
       "      <td>1650</td>\n",
       "      <td>B</td>\n",
       "    </tr>\n",
       "    <tr>\n",
       "      <th>1</th>\n",
       "      <td>2804400009</td>\n",
       "      <td>3642806036</td>\n",
       "      <td>2019-08-15</td>\n",
       "      <td>730</td>\n",
       "      <td>B</td>\n",
       "    </tr>\n",
       "    <tr>\n",
       "      <th>2</th>\n",
       "      <td>2961555356</td>\n",
       "      <td>4069496402</td>\n",
       "      <td>2019-08-15</td>\n",
       "      <td>400</td>\n",
       "      <td>A</td>\n",
       "    </tr>\n",
       "    <tr>\n",
       "      <th>3</th>\n",
       "      <td>3797467345</td>\n",
       "      <td>1196621759</td>\n",
       "      <td>2019-08-15</td>\n",
       "      <td>9759</td>\n",
       "      <td>B</td>\n",
       "    </tr>\n",
       "    <tr>\n",
       "      <th>4</th>\n",
       "      <td>2282983706</td>\n",
       "      <td>2322279887</td>\n",
       "      <td>2019-08-15</td>\n",
       "      <td>2308</td>\n",
       "      <td>B</td>\n",
       "    </tr>\n",
       "  </tbody>\n",
       "</table>\n",
       "</div>"
      ],
      "text/plain": [
       "   transactionid   visitorid       date  revenue group\n",
       "0     3667963787  3312258926 2019-08-15     1650     B\n",
       "1     2804400009  3642806036 2019-08-15      730     B\n",
       "2     2961555356  4069496402 2019-08-15      400     A\n",
       "3     3797467345  1196621759 2019-08-15     9759     B\n",
       "4     2282983706  2322279887 2019-08-15     2308     B"
      ]
     },
     "execution_count": 18,
     "metadata": {},
     "output_type": "execute_result"
    }
   ],
   "source": [
    "orders['date'] = orders['date'].astype('datetime64[D]')\n",
    "orders['date'] = orders['date'].map(lambda x: datetime.strftime(x, '%Y-%m-%d'))\n",
    "print('\\nМин. дата {}, Макс. дата {}\\n'.format(orders['date'].min(), orders['date'].max()))\n",
    "orders['date'] = orders['date'].map(lambda x: datetime.strptime(x, '%Y-%m-%d'))\n",
    "orders.info()\n",
    "orders.head()"
   ]
  },
  {
   "cell_type": "code",
   "execution_count": 19,
   "metadata": {
    "scrolled": true
   },
   "outputs": [
    {
     "name": "stdout",
     "output_type": "stream",
     "text": [
      "\n",
      "Мин. дата 2019-08-01, Макс. дата 2019-08-31\n",
      "\n",
      "<class 'pandas.core.frame.DataFrame'>\n",
      "RangeIndex: 62 entries, 0 to 61\n",
      "Data columns (total 3 columns):\n",
      " #   Column    Non-Null Count  Dtype         \n",
      "---  ------    --------------  -----         \n",
      " 0   date      62 non-null     datetime64[ns]\n",
      " 1   group     62 non-null     object        \n",
      " 2   visitors  62 non-null     int64         \n",
      "dtypes: datetime64[ns](1), int64(1), object(1)\n",
      "memory usage: 1.6+ KB\n"
     ]
    },
    {
     "data": {
      "text/html": [
       "<div>\n",
       "<style scoped>\n",
       "    .dataframe tbody tr th:only-of-type {\n",
       "        vertical-align: middle;\n",
       "    }\n",
       "\n",
       "    .dataframe tbody tr th {\n",
       "        vertical-align: top;\n",
       "    }\n",
       "\n",
       "    .dataframe thead th {\n",
       "        text-align: right;\n",
       "    }\n",
       "</style>\n",
       "<table border=\"1\" class=\"dataframe\">\n",
       "  <thead>\n",
       "    <tr style=\"text-align: right;\">\n",
       "      <th></th>\n",
       "      <th>date</th>\n",
       "      <th>group</th>\n",
       "      <th>visitors</th>\n",
       "    </tr>\n",
       "  </thead>\n",
       "  <tbody>\n",
       "    <tr>\n",
       "      <th>0</th>\n",
       "      <td>2019-08-01</td>\n",
       "      <td>A</td>\n",
       "      <td>719</td>\n",
       "    </tr>\n",
       "    <tr>\n",
       "      <th>1</th>\n",
       "      <td>2019-08-02</td>\n",
       "      <td>A</td>\n",
       "      <td>619</td>\n",
       "    </tr>\n",
       "    <tr>\n",
       "      <th>2</th>\n",
       "      <td>2019-08-03</td>\n",
       "      <td>A</td>\n",
       "      <td>507</td>\n",
       "    </tr>\n",
       "    <tr>\n",
       "      <th>3</th>\n",
       "      <td>2019-08-04</td>\n",
       "      <td>A</td>\n",
       "      <td>717</td>\n",
       "    </tr>\n",
       "    <tr>\n",
       "      <th>4</th>\n",
       "      <td>2019-08-05</td>\n",
       "      <td>A</td>\n",
       "      <td>756</td>\n",
       "    </tr>\n",
       "  </tbody>\n",
       "</table>\n",
       "</div>"
      ],
      "text/plain": [
       "        date group  visitors\n",
       "0 2019-08-01     A       719\n",
       "1 2019-08-02     A       619\n",
       "2 2019-08-03     A       507\n",
       "3 2019-08-04     A       717\n",
       "4 2019-08-05     A       756"
      ]
     },
     "execution_count": 19,
     "metadata": {},
     "output_type": "execute_result"
    }
   ],
   "source": [
    "visitors['date'] = pd.to_datetime(visitors['date'])\n",
    "visitors['date'] = visitors['date'].map(lambda x: datetime.strftime(x, '%Y-%m-%d'))\n",
    "print('\\nМин. дата {}, Макс. дата {}\\n'.format(visitors['date'].min(), visitors['date'].max()))\n",
    "visitors['date'] = visitors['date'].map(lambda x: datetime.strptime(x, '%Y-%m-%d'))\n",
    "visitors.info()\n",
    "visitors.head()"
   ]
  },
  {
   "cell_type": "markdown",
   "metadata": {},
   "source": [
    "Периоды совпадают, типы преобразованы - выгрузки готовы к использованию в анализе"
   ]
  },
  {
   "cell_type": "markdown",
   "metadata": {},
   "source": [
    "## Приоритизация гипотез"
   ]
  },
  {
   "cell_type": "markdown",
   "metadata": {},
   "source": [
    "Еще раз посмотрим на 9 гипотез по увеличению выручки интернет-магазина с указанными параметрам"
   ]
  },
  {
   "cell_type": "code",
   "execution_count": 20,
   "metadata": {
    "scrolled": true
   },
   "outputs": [
    {
     "data": {
      "text/html": [
       "<div>\n",
       "<style scoped>\n",
       "    .dataframe tbody tr th:only-of-type {\n",
       "        vertical-align: middle;\n",
       "    }\n",
       "\n",
       "    .dataframe tbody tr th {\n",
       "        vertical-align: top;\n",
       "    }\n",
       "\n",
       "    .dataframe thead th {\n",
       "        text-align: right;\n",
       "    }\n",
       "</style>\n",
       "<table border=\"1\" class=\"dataframe\">\n",
       "  <thead>\n",
       "    <tr style=\"text-align: right;\">\n",
       "      <th></th>\n",
       "      <th>hypothesis</th>\n",
       "      <th>reach</th>\n",
       "      <th>impact</th>\n",
       "      <th>confidence</th>\n",
       "      <th>efforts</th>\n",
       "    </tr>\n",
       "  </thead>\n",
       "  <tbody>\n",
       "    <tr>\n",
       "      <th>0</th>\n",
       "      <td>Добавить два новых канала привлечения трафика,...</td>\n",
       "      <td>3</td>\n",
       "      <td>10</td>\n",
       "      <td>8</td>\n",
       "      <td>6</td>\n",
       "    </tr>\n",
       "    <tr>\n",
       "      <th>1</th>\n",
       "      <td>Запустить собственную службу доставки, что сок...</td>\n",
       "      <td>2</td>\n",
       "      <td>5</td>\n",
       "      <td>4</td>\n",
       "      <td>10</td>\n",
       "    </tr>\n",
       "    <tr>\n",
       "      <th>2</th>\n",
       "      <td>Добавить блоки рекомендаций товаров на сайт ин...</td>\n",
       "      <td>8</td>\n",
       "      <td>3</td>\n",
       "      <td>7</td>\n",
       "      <td>3</td>\n",
       "    </tr>\n",
       "    <tr>\n",
       "      <th>3</th>\n",
       "      <td>Изменить структура категорий, что увеличит кон...</td>\n",
       "      <td>8</td>\n",
       "      <td>3</td>\n",
       "      <td>3</td>\n",
       "      <td>8</td>\n",
       "    </tr>\n",
       "    <tr>\n",
       "      <th>4</th>\n",
       "      <td>Изменить цвет фона главной страницы, чтобы уве...</td>\n",
       "      <td>3</td>\n",
       "      <td>1</td>\n",
       "      <td>1</td>\n",
       "      <td>1</td>\n",
       "    </tr>\n",
       "    <tr>\n",
       "      <th>5</th>\n",
       "      <td>Добавить страницу отзывов клиентов о магазине,...</td>\n",
       "      <td>3</td>\n",
       "      <td>2</td>\n",
       "      <td>2</td>\n",
       "      <td>3</td>\n",
       "    </tr>\n",
       "    <tr>\n",
       "      <th>6</th>\n",
       "      <td>Показать на главной странице баннеры с актуаль...</td>\n",
       "      <td>5</td>\n",
       "      <td>3</td>\n",
       "      <td>8</td>\n",
       "      <td>3</td>\n",
       "    </tr>\n",
       "    <tr>\n",
       "      <th>7</th>\n",
       "      <td>Добавить форму подписки на все основные страни...</td>\n",
       "      <td>10</td>\n",
       "      <td>7</td>\n",
       "      <td>8</td>\n",
       "      <td>5</td>\n",
       "    </tr>\n",
       "    <tr>\n",
       "      <th>8</th>\n",
       "      <td>Запустить акцию, дающую скидку на товар в день...</td>\n",
       "      <td>1</td>\n",
       "      <td>9</td>\n",
       "      <td>9</td>\n",
       "      <td>5</td>\n",
       "    </tr>\n",
       "  </tbody>\n",
       "</table>\n",
       "</div>"
      ],
      "text/plain": [
       "                                          hypothesis  reach  impact  \\\n",
       "0  Добавить два новых канала привлечения трафика,...      3      10   \n",
       "1  Запустить собственную службу доставки, что сок...      2       5   \n",
       "2  Добавить блоки рекомендаций товаров на сайт ин...      8       3   \n",
       "3  Изменить структура категорий, что увеличит кон...      8       3   \n",
       "4  Изменить цвет фона главной страницы, чтобы уве...      3       1   \n",
       "5  Добавить страницу отзывов клиентов о магазине,...      3       2   \n",
       "6  Показать на главной странице баннеры с актуаль...      5       3   \n",
       "7  Добавить форму подписки на все основные страни...     10       7   \n",
       "8  Запустить акцию, дающую скидку на товар в день...      1       9   \n",
       "\n",
       "   confidence  efforts  \n",
       "0           8        6  \n",
       "1           4       10  \n",
       "2           7        3  \n",
       "3           3        8  \n",
       "4           1        1  \n",
       "5           2        3  \n",
       "6           8        3  \n",
       "7           8        5  \n",
       "8           9        5  "
      ]
     },
     "metadata": {},
     "output_type": "display_data"
    }
   ],
   "source": [
    "display(hypothesis)"
   ]
  },
  {
   "cell_type": "markdown",
   "metadata": {},
   "source": [
    "### Фреймворк ICE"
   ]
  },
  {
   "cell_type": "code",
   "execution_count": 21,
   "metadata": {
    "scrolled": true
   },
   "outputs": [
    {
     "data": {
      "text/html": [
       "<div>\n",
       "<style scoped>\n",
       "    .dataframe tbody tr th:only-of-type {\n",
       "        vertical-align: middle;\n",
       "    }\n",
       "\n",
       "    .dataframe tbody tr th {\n",
       "        vertical-align: top;\n",
       "    }\n",
       "\n",
       "    .dataframe thead th {\n",
       "        text-align: right;\n",
       "    }\n",
       "</style>\n",
       "<table border=\"1\" class=\"dataframe\">\n",
       "  <thead>\n",
       "    <tr style=\"text-align: right;\">\n",
       "      <th></th>\n",
       "      <th>hypothesis</th>\n",
       "      <th>ice</th>\n",
       "    </tr>\n",
       "  </thead>\n",
       "  <tbody>\n",
       "    <tr>\n",
       "      <th>8</th>\n",
       "      <td>Запустить акцию, дающую скидку на товар в день...</td>\n",
       "      <td>16.0</td>\n",
       "    </tr>\n",
       "    <tr>\n",
       "      <th>0</th>\n",
       "      <td>Добавить два новых канала привлечения трафика,...</td>\n",
       "      <td>13.0</td>\n",
       "    </tr>\n",
       "    <tr>\n",
       "      <th>7</th>\n",
       "      <td>Добавить форму подписки на все основные страни...</td>\n",
       "      <td>11.0</td>\n",
       "    </tr>\n",
       "    <tr>\n",
       "      <th>6</th>\n",
       "      <td>Показать на главной странице баннеры с актуаль...</td>\n",
       "      <td>8.0</td>\n",
       "    </tr>\n",
       "    <tr>\n",
       "      <th>2</th>\n",
       "      <td>Добавить блоки рекомендаций товаров на сайт ин...</td>\n",
       "      <td>7.0</td>\n",
       "    </tr>\n",
       "    <tr>\n",
       "      <th>1</th>\n",
       "      <td>Запустить собственную службу доставки, что сок...</td>\n",
       "      <td>2.0</td>\n",
       "    </tr>\n",
       "    <tr>\n",
       "      <th>3</th>\n",
       "      <td>Изменить структура категорий, что увеличит кон...</td>\n",
       "      <td>1.0</td>\n",
       "    </tr>\n",
       "    <tr>\n",
       "      <th>4</th>\n",
       "      <td>Изменить цвет фона главной страницы, чтобы уве...</td>\n",
       "      <td>1.0</td>\n",
       "    </tr>\n",
       "    <tr>\n",
       "      <th>5</th>\n",
       "      <td>Добавить страницу отзывов клиентов о магазине,...</td>\n",
       "      <td>1.0</td>\n",
       "    </tr>\n",
       "  </tbody>\n",
       "</table>\n",
       "</div>"
      ],
      "text/plain": [
       "                                          hypothesis   ice\n",
       "8  Запустить акцию, дающую скидку на товар в день...  16.0\n",
       "0  Добавить два новых канала привлечения трафика,...  13.0\n",
       "7  Добавить форму подписки на все основные страни...  11.0\n",
       "6  Показать на главной странице баннеры с актуаль...   8.0\n",
       "2  Добавить блоки рекомендаций товаров на сайт ин...   7.0\n",
       "1  Запустить собственную службу доставки, что сок...   2.0\n",
       "3  Изменить структура категорий, что увеличит кон...   1.0\n",
       "4  Изменить цвет фона главной страницы, чтобы уве...   1.0\n",
       "5  Добавить страницу отзывов клиентов о магазине,...   1.0"
      ]
     },
     "execution_count": 21,
     "metadata": {},
     "output_type": "execute_result"
    }
   ],
   "source": [
    "hypothesis['ice'] = round(hypothesis.impact*hypothesis.confidence/hypothesis.efforts,0)\n",
    "hypothesis[['hypothesis','ice']].sort_values('ice', ascending=False)"
   ]
  },
  {
   "cell_type": "markdown",
   "metadata": {},
   "source": [
    "### Фреймворк RICE"
   ]
  },
  {
   "cell_type": "code",
   "execution_count": 22,
   "metadata": {
    "scrolled": true
   },
   "outputs": [
    {
     "data": {
      "text/html": [
       "<div>\n",
       "<style scoped>\n",
       "    .dataframe tbody tr th:only-of-type {\n",
       "        vertical-align: middle;\n",
       "    }\n",
       "\n",
       "    .dataframe tbody tr th {\n",
       "        vertical-align: top;\n",
       "    }\n",
       "\n",
       "    .dataframe thead th {\n",
       "        text-align: right;\n",
       "    }\n",
       "</style>\n",
       "<table border=\"1\" class=\"dataframe\">\n",
       "  <thead>\n",
       "    <tr style=\"text-align: right;\">\n",
       "      <th></th>\n",
       "      <th>hypothesis</th>\n",
       "      <th>rice</th>\n",
       "    </tr>\n",
       "  </thead>\n",
       "  <tbody>\n",
       "    <tr>\n",
       "      <th>7</th>\n",
       "      <td>Добавить форму подписки на все основные страни...</td>\n",
       "      <td>112.0</td>\n",
       "    </tr>\n",
       "    <tr>\n",
       "      <th>2</th>\n",
       "      <td>Добавить блоки рекомендаций товаров на сайт ин...</td>\n",
       "      <td>56.0</td>\n",
       "    </tr>\n",
       "    <tr>\n",
       "      <th>0</th>\n",
       "      <td>Добавить два новых канала привлечения трафика,...</td>\n",
       "      <td>40.0</td>\n",
       "    </tr>\n",
       "    <tr>\n",
       "      <th>6</th>\n",
       "      <td>Показать на главной странице баннеры с актуаль...</td>\n",
       "      <td>40.0</td>\n",
       "    </tr>\n",
       "    <tr>\n",
       "      <th>8</th>\n",
       "      <td>Запустить акцию, дающую скидку на товар в день...</td>\n",
       "      <td>16.0</td>\n",
       "    </tr>\n",
       "    <tr>\n",
       "      <th>3</th>\n",
       "      <td>Изменить структура категорий, что увеличит кон...</td>\n",
       "      <td>9.0</td>\n",
       "    </tr>\n",
       "    <tr>\n",
       "      <th>1</th>\n",
       "      <td>Запустить собственную службу доставки, что сок...</td>\n",
       "      <td>4.0</td>\n",
       "    </tr>\n",
       "    <tr>\n",
       "      <th>5</th>\n",
       "      <td>Добавить страницу отзывов клиентов о магазине,...</td>\n",
       "      <td>4.0</td>\n",
       "    </tr>\n",
       "    <tr>\n",
       "      <th>4</th>\n",
       "      <td>Изменить цвет фона главной страницы, чтобы уве...</td>\n",
       "      <td>3.0</td>\n",
       "    </tr>\n",
       "  </tbody>\n",
       "</table>\n",
       "</div>"
      ],
      "text/plain": [
       "                                          hypothesis   rice\n",
       "7  Добавить форму подписки на все основные страни...  112.0\n",
       "2  Добавить блоки рекомендаций товаров на сайт ин...   56.0\n",
       "0  Добавить два новых канала привлечения трафика,...   40.0\n",
       "6  Показать на главной странице баннеры с актуаль...   40.0\n",
       "8  Запустить акцию, дающую скидку на товар в день...   16.0\n",
       "3  Изменить структура категорий, что увеличит кон...    9.0\n",
       "1  Запустить собственную службу доставки, что сок...    4.0\n",
       "5  Добавить страницу отзывов клиентов о магазине,...    4.0\n",
       "4  Изменить цвет фона главной страницы, чтобы уве...    3.0"
      ]
     },
     "execution_count": 22,
     "metadata": {},
     "output_type": "execute_result"
    }
   ],
   "source": [
    "hypothesis['rice'] = round(hypothesis.reach*hypothesis.impact*hypothesis.confidence/hypothesis.efforts,0)\n",
    "hypothesis[['hypothesis','rice']].sort_values('rice', ascending=False)"
   ]
  },
  {
   "cell_type": "markdown",
   "metadata": {},
   "source": [
    "### Вывод"
   ]
  },
  {
   "cell_type": "markdown",
   "metadata": {},
   "source": [
    "Перспективными являются гипотезы:\n",
    "- По фреймворку ICE: 8, 0, 7 и 6;\n",
    "- По фреймворку RICE: 7, 2, 0 и 6.\n",
    "\n",
    "Перспективнрсть гипотез отличаются по расчетам 2-х фреймворка, изменение позиций переспективности связано с тем, что при приоритизации через фреймворк Ice мы не учитывали очень важный показатель, а именно как много будет затронуто пользователей/потребителей (reach) при внесении изменений, который учтен в RICE, поэтому для нас приоритетными являются гипотезы: 7, 2, и 0"
   ]
  },
  {
   "cell_type": "code",
   "execution_count": 23,
   "metadata": {},
   "outputs": [
    {
     "data": {
      "text/html": [
       "<div>\n",
       "<style scoped>\n",
       "    .dataframe tbody tr th:only-of-type {\n",
       "        vertical-align: middle;\n",
       "    }\n",
       "\n",
       "    .dataframe tbody tr th {\n",
       "        vertical-align: top;\n",
       "    }\n",
       "\n",
       "    .dataframe thead th {\n",
       "        text-align: right;\n",
       "    }\n",
       "</style>\n",
       "<table border=\"1\" class=\"dataframe\">\n",
       "  <thead>\n",
       "    <tr style=\"text-align: right;\">\n",
       "      <th></th>\n",
       "      <th>hypothesis</th>\n",
       "      <th>ice</th>\n",
       "      <th>rice</th>\n",
       "    </tr>\n",
       "  </thead>\n",
       "  <tbody>\n",
       "    <tr>\n",
       "      <th>7</th>\n",
       "      <td>Добавить форму подписки на все основные страни...</td>\n",
       "      <td>11.0</td>\n",
       "      <td>112.0</td>\n",
       "    </tr>\n",
       "    <tr>\n",
       "      <th>2</th>\n",
       "      <td>Добавить блоки рекомендаций товаров на сайт ин...</td>\n",
       "      <td>7.0</td>\n",
       "      <td>56.0</td>\n",
       "    </tr>\n",
       "    <tr>\n",
       "      <th>0</th>\n",
       "      <td>Добавить два новых канала привлечения трафика,...</td>\n",
       "      <td>13.0</td>\n",
       "      <td>40.0</td>\n",
       "    </tr>\n",
       "    <tr>\n",
       "      <th>6</th>\n",
       "      <td>Показать на главной странице баннеры с актуаль...</td>\n",
       "      <td>8.0</td>\n",
       "      <td>40.0</td>\n",
       "    </tr>\n",
       "    <tr>\n",
       "      <th>8</th>\n",
       "      <td>Запустить акцию, дающую скидку на товар в день...</td>\n",
       "      <td>16.0</td>\n",
       "      <td>16.0</td>\n",
       "    </tr>\n",
       "    <tr>\n",
       "      <th>3</th>\n",
       "      <td>Изменить структура категорий, что увеличит кон...</td>\n",
       "      <td>1.0</td>\n",
       "      <td>9.0</td>\n",
       "    </tr>\n",
       "    <tr>\n",
       "      <th>1</th>\n",
       "      <td>Запустить собственную службу доставки, что сок...</td>\n",
       "      <td>2.0</td>\n",
       "      <td>4.0</td>\n",
       "    </tr>\n",
       "    <tr>\n",
       "      <th>5</th>\n",
       "      <td>Добавить страницу отзывов клиентов о магазине,...</td>\n",
       "      <td>1.0</td>\n",
       "      <td>4.0</td>\n",
       "    </tr>\n",
       "    <tr>\n",
       "      <th>4</th>\n",
       "      <td>Изменить цвет фона главной страницы, чтобы уве...</td>\n",
       "      <td>1.0</td>\n",
       "      <td>3.0</td>\n",
       "    </tr>\n",
       "  </tbody>\n",
       "</table>\n",
       "</div>"
      ],
      "text/plain": [
       "                                          hypothesis   ice   rice\n",
       "7  Добавить форму подписки на все основные страни...  11.0  112.0\n",
       "2  Добавить блоки рекомендаций товаров на сайт ин...   7.0   56.0\n",
       "0  Добавить два новых канала привлечения трафика,...  13.0   40.0\n",
       "6  Показать на главной странице баннеры с актуаль...   8.0   40.0\n",
       "8  Запустить акцию, дающую скидку на товар в день...  16.0   16.0\n",
       "3  Изменить структура категорий, что увеличит кон...   1.0    9.0\n",
       "1  Запустить собственную службу доставки, что сок...   2.0    4.0\n",
       "5  Добавить страницу отзывов клиентов о магазине,...   1.0    4.0\n",
       "4  Изменить цвет фона главной страницы, чтобы уве...   1.0    3.0"
      ]
     },
     "metadata": {},
     "output_type": "display_data"
    }
   ],
   "source": [
    "display(hypothesis[['hypothesis','ice','rice']].sort_values(['rice', 'ice'], ascending=False))"
   ]
  },
  {
   "cell_type": "markdown",
   "metadata": {},
   "source": [
    "## Анализ A/B-теста"
   ]
  },
  {
   "cell_type": "markdown",
   "metadata": {},
   "source": [
    "### Проверка размера выборки и есть ли разница между ними"
   ]
  },
  {
   "cell_type": "code",
   "execution_count": 24,
   "metadata": {},
   "outputs": [
    {
     "name": "stdout",
     "output_type": "stream",
     "text": [
      "Количество посетителей:\n",
      "Группа А: 18736\n",
      "Группа В: 18916\n",
      "\n"
     ]
    }
   ],
   "source": [
    "# Определим количество посететилей в разрезе групп\n",
    "a = visitors[visitors['group']==\"A\"]\n",
    "b = visitors[visitors['group']==\"B\"]\n",
    "print('Количество посетителей:\\nГруппа А: {}\\nГруппа В: {}\\n'\n",
    "      .format(a['visitors'].sum(),b['visitors'].sum()))"
   ]
  },
  {
   "cell_type": "code",
   "execution_count": 25,
   "metadata": {},
   "outputs": [
    {
     "name": "stdout",
     "output_type": "stream",
     "text": [
      "Количество покупок:\n",
      "Группа А: 557\n",
      "Группа В: 640\n",
      "\n"
     ]
    }
   ],
   "source": [
    "# Определим количество покупок в разрезе групп\n",
    "purchasesA = len(orders[orders['group']=='A'])\n",
    "purchasesB = len(orders[orders['group']=='B'])\n",
    "print('Количество покупок:\\nГруппа А: {}\\nГруппа В: {}\\n'.format(purchasesA, purchasesB))\n"
   ]
  },
  {
   "cell_type": "code",
   "execution_count": 26,
   "metadata": {},
   "outputs": [
    {
     "data": {
      "image/png": "[encoded data removed]",
      "text/plain": [
       "<Figure size 432x288 with 1 Axes>"
      ]
     },
     "metadata": {
      "image/png": {
       "height": 263,
       "width": 398
      },
      "needs_background": "light"
     },
     "output_type": "display_data"
    }
   ],
   "source": [
    "# Построим распределение кол-ва посетителей в день по группам A и B\n",
    "plt.hist(a['visitors'], label=\"A\", alpha = 0.6,bins=30)\n",
    "plt.hist(b['visitors'], label=\"B\", alpha = 0.6,bins=30)\n",
    "plt.legend()\n",
    "plt.title('Распределение кол-ва посетителей в день по группам A и B')\n",
    "plt.show()"
   ]
  },
  {
   "cell_type": "code",
   "execution_count": 27,
   "metadata": {},
   "outputs": [
    {
     "name": "stdout",
     "output_type": "stream",
     "text": [
      "\n",
      "Конверсия начальная: 0.030\n",
      "Конверсия после изменения: 0.034\n",
      "Относительное изменение конверсии: 0.121\n"
     ]
    }
   ],
   "source": [
    "# Расчет конверсий\n",
    "a_conversion = purchasesA/a['visitors'].sum()\n",
    "b_conversion = purchasesB/b['visitors'].sum()\n",
    "print('\\nКонверсия начальная: {:.3f}\\nКонверсия после изменения: {:.3f}\\nОтносительное изменение конверсии: {:.3f}'\n",
    "      .format(a_conversion, b_conversion, abs(1-a_conversion/b_conversion)))"
   ]
  },
  {
   "cell_type": "code",
   "execution_count": 28,
   "metadata": {},
   "outputs": [
    {
     "name": "stdout",
     "output_type": "stream",
     "text": [
      "\n",
      "На сайте: http://www.evanmiller.org/ab-testing/sample-size.html для расчета минимального размера выборки укажем:\n",
      "Baseline conversion rate = 2.97%\n",
      "Minimum Detectable Effect = 12.133%\n",
      "Statistical power 1−β = 80%\n",
      "Significance level α = 5%\n",
      "\n",
      "Расчет показал, что для корректного проведения тестирования - необходимый объем выборки должен составлять не менее 35445.\n",
      "Наша выборка = 37652, а значит что вазмер выборки подобран корректно.\n"
     ]
    }
   ],
   "source": [
    "# Определим минимальный размер выборки для определения относительного различия между группами,\n",
    "# на которой будет заметно изменение показателя, если оно есть.\n",
    "print(f'\\nНа сайте: http://www.evanmiller.org/ab-testing/sample-size.html для расчета минимального размера выборки укажем:')\n",
    "print(f'Baseline conversion rate = {a_conversion*100:.2f}%')\n",
    "print(f'Minimum Detectable Effect = {abs(1-a_conversion/b_conversion)*100:.3f}%')\n",
    "print(f'Statistical power 1−β = 80%')\n",
    "print(f'Significance level α = 5%\\n')\n",
    "print('Расчет показал, что для корректного проведения тестирования - необходимый объем выборки должен составлять не менее 35445.')\n",
    "print('Наша выборка = {}, а значит что вазмер выборки подобран корректно.'.format(visitors['visitors'].sum()))"
   ]
  },
  {
   "cell_type": "markdown",
   "metadata": {},
   "source": [
    "### Построим график кумулятивной выручки по группам."
   ]
  },
  {
   "cell_type": "code",
   "execution_count": 29,
   "metadata": {},
   "outputs": [],
   "source": [
    "# Список уникальных пар дата/группа по датафрейму заказов\n",
    "datesGroups = orders[['date', 'group']].drop_duplicates()"
   ]
  },
  {
   "cell_type": "code",
   "execution_count": 30,
   "metadata": {},
   "outputs": [],
   "source": [
    "# Получим таблицу с куммулятивными значениями (с накоплением на каждый день и по группе)\n",
    "# для таблицы orders сумма дохода накопитально на каждую дату по каждой группе уникальных пар\n",
    "ordersAggregated = datesGroups.apply(\n",
    "    lambda x: orders[np.logical_and(orders['date'] <= x['date'], orders['group'] == x['group'])]\n",
    "    .agg({'date': 'max',\n",
    "          'group': 'max',\n",
    "          'transactionid':'nunique',\n",
    "          'visitorid': 'nunique',\n",
    "          'revenue': 'sum',})\n",
    "    ,axis=1,).sort_values(by=['date', 'group'])\n",
    "# для таблицы visitors количество посещений накопитально на каждую дату по каждой группе\n",
    "visitorsAggregated = datesGroups.apply(\n",
    "    lambda x: visitors[np.logical_and(visitors['date']<=x['date'],visitors['group']==x['group'])]\n",
    "    .agg({'date':'max',\n",
    "          'group':'max',\n",
    "          'visitors':'sum'})\n",
    "    ,axis=1).sort_values(by=['date','group'])"
   ]
  },
  {
   "cell_type": "code",
   "execution_count": 31,
   "metadata": {},
   "outputs": [
    {
     "data": {
      "text/html": [
       "<div>\n",
       "<style scoped>\n",
       "    .dataframe tbody tr th:only-of-type {\n",
       "        vertical-align: middle;\n",
       "    }\n",
       "\n",
       "    .dataframe tbody tr th {\n",
       "        vertical-align: top;\n",
       "    }\n",
       "\n",
       "    .dataframe thead th {\n",
       "        text-align: right;\n",
       "    }\n",
       "</style>\n",
       "<table border=\"1\" class=\"dataframe\">\n",
       "  <thead>\n",
       "    <tr style=\"text-align: right;\">\n",
       "      <th></th>\n",
       "      <th>date</th>\n",
       "      <th>group</th>\n",
       "      <th>orders</th>\n",
       "      <th>buyers</th>\n",
       "      <th>revenue</th>\n",
       "      <th>visitors</th>\n",
       "    </tr>\n",
       "  </thead>\n",
       "  <tbody>\n",
       "    <tr>\n",
       "      <th>0</th>\n",
       "      <td>2019-08-01</td>\n",
       "      <td>A</td>\n",
       "      <td>24</td>\n",
       "      <td>20</td>\n",
       "      <td>148579</td>\n",
       "      <td>719</td>\n",
       "    </tr>\n",
       "    <tr>\n",
       "      <th>1</th>\n",
       "      <td>2019-08-01</td>\n",
       "      <td>B</td>\n",
       "      <td>21</td>\n",
       "      <td>20</td>\n",
       "      <td>101217</td>\n",
       "      <td>713</td>\n",
       "    </tr>\n",
       "    <tr>\n",
       "      <th>2</th>\n",
       "      <td>2019-08-02</td>\n",
       "      <td>A</td>\n",
       "      <td>44</td>\n",
       "      <td>38</td>\n",
       "      <td>242401</td>\n",
       "      <td>1338</td>\n",
       "    </tr>\n",
       "    <tr>\n",
       "      <th>3</th>\n",
       "      <td>2019-08-02</td>\n",
       "      <td>B</td>\n",
       "      <td>45</td>\n",
       "      <td>43</td>\n",
       "      <td>266748</td>\n",
       "      <td>1294</td>\n",
       "    </tr>\n",
       "    <tr>\n",
       "      <th>4</th>\n",
       "      <td>2019-08-03</td>\n",
       "      <td>A</td>\n",
       "      <td>68</td>\n",
       "      <td>62</td>\n",
       "      <td>354874</td>\n",
       "      <td>1845</td>\n",
       "    </tr>\n",
       "  </tbody>\n",
       "</table>\n",
       "</div>"
      ],
      "text/plain": [
       "        date group  orders  buyers  revenue  visitors\n",
       "0 2019-08-01     A      24      20   148579       719\n",
       "1 2019-08-01     B      21      20   101217       713\n",
       "2 2019-08-02     A      44      38   242401      1338\n",
       "3 2019-08-02     B      45      43   266748      1294\n",
       "4 2019-08-03     A      68      62   354874      1845"
      ]
     },
     "metadata": {},
     "output_type": "display_data"
    }
   ],
   "source": [
    "# Объеденим данные  с куммулятивными значениями\n",
    "cumulativeData = ordersAggregated.merge(visitorsAggregated, left_on=['date', 'group'], right_on=['date', 'group']) \n",
    "cumulativeData.columns =['date', 'group', 'orders', 'buyers', 'revenue', 'visitors']\n",
    "display(cumulativeData.head(5)) \n",
    "# датафрейм с кумулятивным количеством заказов и кумулятивной выручкой по дням в группе А\n",
    "cumulativeRevenueA = cumulativeData[cumulativeData['group']=='A']\n",
    "# датафрейм с кумулятивным количеством заказов и кумулятивной выручкой по дням в группе B\n",
    "cumulativeRevenueB = cumulativeData[cumulativeData['group']=='B']"
   ]
  },
  {
   "cell_type": "code",
   "execution_count": 32,
   "metadata": {
    "scrolled": false
   },
   "outputs": [
    {
     "data": {
      "text/plain": [
       "<matplotlib.legend.Legend at 0x169d6270cd0>"
      ]
     },
     "execution_count": 32,
     "metadata": {},
     "output_type": "execute_result"
    },
    {
     "data": {
      "image/png": "[encoded data removed]",
      "text/plain": [
       "<Figure size 576x432 with 1 Axes>"
      ]
     },
     "metadata": {
      "image/png": {
       "height": 405,
       "width": 491
      },
      "needs_background": "light"
     },
     "output_type": "display_data"
    }
   ],
   "source": [
    "plt.figure(figsize=(8, 6))\n",
    "# Строим график выручки группы А\n",
    "plt.plot(cumulativeRevenueA['date'], cumulativeRevenueA['revenue'], label='A')\n",
    "# Строим график выручки группы B\n",
    "plt.plot(cumulativeRevenueB['date'], cumulativeRevenueB['revenue'], label='B')\n",
    "plt.xticks(rotation=45)\n",
    "plt.legend() "
   ]
  },
  {
   "cell_type": "markdown",
   "metadata": {},
   "source": [
    "#### Выводы и предположения"
   ]
  },
  {
   "cell_type": "markdown",
   "metadata": {},
   "source": [
    "Из графика видно:\n",
    "- выручка росла в течении всего периода проведения теста. \n",
    "- выручка В показывает стабильно большую прибыль. \n",
    "- есть несколько точек со скачками, можно предположить, что в эти дни или увеличивалось количество заказов или были \"крупные\" заказы."
   ]
  },
  {
   "cell_type": "markdown",
   "metadata": {},
   "source": [
    "### Построим график кумулятивного среднего чека по группам."
   ]
  },
  {
   "cell_type": "code",
   "execution_count": 33,
   "metadata": {},
   "outputs": [
    {
     "data": {
      "text/plain": [
       "<matplotlib.legend.Legend at 0x169d6281f10>"
      ]
     },
     "execution_count": 33,
     "metadata": {},
     "output_type": "execute_result"
    },
    {
     "data": {
      "image/png": "[encoded data removed]",
      "text/plain": [
       "<Figure size 720x288 with 1 Axes>"
      ]
     },
     "metadata": {
      "image/png": {
       "height": 286,
       "width": 626
      },
      "needs_background": "light"
     },
     "output_type": "display_data"
    }
   ],
   "source": [
    "# Строим график среднего чека группы А\n",
    "plt.figure(figsize=(10,4))\n",
    "plt.plot(cumulativeRevenueA['date'], cumulativeRevenueA['revenue']/cumulativeRevenueA['orders'], label='A')\n",
    "# Строим график среднего чека группы B\n",
    "plt.plot(cumulativeRevenueB['date'], cumulativeRevenueB['revenue']/cumulativeRevenueB['orders'], label='B')\n",
    "plt.xticks(rotation=45)\n",
    "plt.legend() "
   ]
  },
  {
   "cell_type": "markdown",
   "metadata": {},
   "source": [
    "#### Выводы и предположения"
   ]
  },
  {
   "cell_type": "markdown",
   "metadata": {},
   "source": [
    "Из графика видно:\n",
    "- средний чек рос, при этом есть скачки для группы В.\n",
    "- для группы В заметен рост среднего чека (17 число), воможно в этот день были более крупные заказы.\n",
    "- средний чек для группы А к концу периода немного выровнялся, а вот для группы В из-за роста 17 числа, необходимо скорее всего больше времени для того, чтобы выровняться и прийти к более реальному среднему."
   ]
  },
  {
   "cell_type": "markdown",
   "metadata": {},
   "source": [
    "### Построим график относительного изменения кумулятивного среднего чека группы B к группе A."
   ]
  },
  {
   "cell_type": "code",
   "execution_count": 34,
   "metadata": {
    "scrolled": false
   },
   "outputs": [
    {
     "data": {
      "text/html": [
       "<div>\n",
       "<style scoped>\n",
       "    .dataframe tbody tr th:only-of-type {\n",
       "        vertical-align: middle;\n",
       "    }\n",
       "\n",
       "    .dataframe tbody tr th {\n",
       "        vertical-align: top;\n",
       "    }\n",
       "\n",
       "    .dataframe thead th {\n",
       "        text-align: right;\n",
       "    }\n",
       "</style>\n",
       "<table border=\"1\" class=\"dataframe\">\n",
       "  <thead>\n",
       "    <tr style=\"text-align: right;\">\n",
       "      <th></th>\n",
       "      <th>date</th>\n",
       "      <th>groupA</th>\n",
       "      <th>ordersA</th>\n",
       "      <th>buyersA</th>\n",
       "      <th>revenueA</th>\n",
       "      <th>visitorsA</th>\n",
       "      <th>groupB</th>\n",
       "      <th>ordersB</th>\n",
       "      <th>buyersB</th>\n",
       "      <th>revenueB</th>\n",
       "      <th>visitorsB</th>\n",
       "    </tr>\n",
       "  </thead>\n",
       "  <tbody>\n",
       "    <tr>\n",
       "      <th>0</th>\n",
       "      <td>2019-08-01</td>\n",
       "      <td>A</td>\n",
       "      <td>24</td>\n",
       "      <td>20</td>\n",
       "      <td>148579</td>\n",
       "      <td>719</td>\n",
       "      <td>B</td>\n",
       "      <td>21</td>\n",
       "      <td>20</td>\n",
       "      <td>101217</td>\n",
       "      <td>713</td>\n",
       "    </tr>\n",
       "    <tr>\n",
       "      <th>1</th>\n",
       "      <td>2019-08-02</td>\n",
       "      <td>A</td>\n",
       "      <td>44</td>\n",
       "      <td>38</td>\n",
       "      <td>242401</td>\n",
       "      <td>1338</td>\n",
       "      <td>B</td>\n",
       "      <td>45</td>\n",
       "      <td>43</td>\n",
       "      <td>266748</td>\n",
       "      <td>1294</td>\n",
       "    </tr>\n",
       "    <tr>\n",
       "      <th>2</th>\n",
       "      <td>2019-08-03</td>\n",
       "      <td>A</td>\n",
       "      <td>68</td>\n",
       "      <td>62</td>\n",
       "      <td>354874</td>\n",
       "      <td>1845</td>\n",
       "      <td>B</td>\n",
       "      <td>61</td>\n",
       "      <td>59</td>\n",
       "      <td>380996</td>\n",
       "      <td>1803</td>\n",
       "    </tr>\n",
       "    <tr>\n",
       "      <th>3</th>\n",
       "      <td>2019-08-04</td>\n",
       "      <td>A</td>\n",
       "      <td>84</td>\n",
       "      <td>77</td>\n",
       "      <td>425699</td>\n",
       "      <td>2562</td>\n",
       "      <td>B</td>\n",
       "      <td>78</td>\n",
       "      <td>75</td>\n",
       "      <td>489567</td>\n",
       "      <td>2573</td>\n",
       "    </tr>\n",
       "    <tr>\n",
       "      <th>4</th>\n",
       "      <td>2019-08-05</td>\n",
       "      <td>A</td>\n",
       "      <td>109</td>\n",
       "      <td>100</td>\n",
       "      <td>549917</td>\n",
       "      <td>3318</td>\n",
       "      <td>B</td>\n",
       "      <td>101</td>\n",
       "      <td>98</td>\n",
       "      <td>581995</td>\n",
       "      <td>3280</td>\n",
       "    </tr>\n",
       "  </tbody>\n",
       "</table>\n",
       "</div>"
      ],
      "text/plain": [
       "        date groupA  ordersA  buyersA  revenueA  visitorsA groupB  ordersB  \\\n",
       "0 2019-08-01      A       24       20    148579        719      B       21   \n",
       "1 2019-08-02      A       44       38    242401       1338      B       45   \n",
       "2 2019-08-03      A       68       62    354874       1845      B       61   \n",
       "3 2019-08-04      A       84       77    425699       2562      B       78   \n",
       "4 2019-08-05      A      109      100    549917       3318      B      101   \n",
       "\n",
       "   buyersB  revenueB  visitorsB  \n",
       "0       20    101217        713  \n",
       "1       43    266748       1294  \n",
       "2       59    380996       1803  \n",
       "3       75    489567       2573  \n",
       "4       98    581995       3280  "
      ]
     },
     "metadata": {},
     "output_type": "display_data"
    },
    {
     "data": {
      "text/plain": [
       "<matplotlib.lines.Line2D at 0x169d632c8e0>"
      ]
     },
     "execution_count": 34,
     "metadata": {},
     "output_type": "execute_result"
    },
    {
     "data": {
      "image/png": "[encoded data removed]",
      "text/plain": [
       "<Figure size 720x288 with 1 Axes>"
      ]
     },
     "metadata": {
      "image/png": {
       "height": 286,
       "width": 619
      },
      "needs_background": "light"
     },
     "output_type": "display_data"
    }
   ],
   "source": [
    "# Объеденим данные\n",
    "mergedCumulativeRevenue  = cumulativeRevenueA.merge(cumulativeRevenueB, left_on='date', right_on='date', how='left', suffixes=['A', 'B'])\n",
    "display(mergedCumulativeRevenue.head())\n",
    "plt.figure(figsize=(10,4))\n",
    "plt.plot(mergedCumulativeRevenue['date'],\n",
    "         (mergedCumulativeRevenue['revenueB']/mergedCumulativeRevenue['ordersB'])/\n",
    "         (mergedCumulativeRevenue['revenueA']/mergedCumulativeRevenue['ordersA'])-1)\n",
    "plt.xticks(rotation=45)\n",
    "plt.axhline(y=0, color='black', linestyle='--') "
   ]
  },
  {
   "cell_type": "markdown",
   "metadata": {},
   "source": [
    "#### Выводы и предположения"
   ]
  },
  {
   "cell_type": "markdown",
   "metadata": {},
   "source": [
    "Из графика видно есть несколько скачков и один очень большой, соответсвенно есть аномальные значения  которые оказывают влияние. Определим выброс позже.\n"
   ]
  },
  {
   "cell_type": "markdown",
   "metadata": {},
   "source": [
    "### Построим график кумулятивной конверсии по группам."
   ]
  },
  {
   "cell_type": "code",
   "execution_count": 35,
   "metadata": {
    "scrolled": false
   },
   "outputs": [
    {
     "data": {
      "text/plain": [
       "<matplotlib.legend.Legend at 0x169d63d4940>"
      ]
     },
     "execution_count": 35,
     "metadata": {},
     "output_type": "execute_result"
    },
    {
     "data": {
      "image/png": "[encoded data removed]",
      "text/plain": [
       "<Figure size 936x288 with 1 Axes>"
      ]
     },
     "metadata": {
      "image/png": {
       "height": 286,
       "width": 788
      },
      "needs_background": "light"
     },
     "output_type": "display_data"
    }
   ],
   "source": [
    "cumulativeData['conversion'] =  cumulativeData['orders']/cumulativeData['visitors']\n",
    "\n",
    "cumulativeDataA = cumulativeData[cumulativeData['group']==\"A\"]\n",
    "cumulativeDataB = cumulativeData[cumulativeData['group']==\"B\"]\n",
    "# строим графики\n",
    "plt.figure(figsize=(13,4))\n",
    "plt.plot(cumulativeDataA['date'], cumulativeDataA['conversion'], label='A')\n",
    "plt.plot(cumulativeDataB['date'], cumulativeDataB['conversion'], label='B')\n",
    "plt.xticks(rotation=45)\n",
    "plt.legend()"
   ]
  },
  {
   "cell_type": "markdown",
   "metadata": {},
   "source": [
    "#### Выводы и предположения"
   ]
  },
  {
   "cell_type": "markdown",
   "metadata": {},
   "source": [
    "Графики получились похожие, но колебания в группе В более сильные, Первые пять дней конверсия группы А была больше, чем в группе В, но прия этом дальше дальше группа В показывала более высокую конверсию"
   ]
  },
  {
   "cell_type": "markdown",
   "metadata": {},
   "source": [
    "### Построим график относительного изменения кумулятивной конверсии группы B к группе A."
   ]
  },
  {
   "cell_type": "code",
   "execution_count": 36,
   "metadata": {
    "scrolled": false
   },
   "outputs": [
    {
     "data": {
      "text/html": [
       "<div>\n",
       "<style scoped>\n",
       "    .dataframe tbody tr th:only-of-type {\n",
       "        vertical-align: middle;\n",
       "    }\n",
       "\n",
       "    .dataframe tbody tr th {\n",
       "        vertical-align: top;\n",
       "    }\n",
       "\n",
       "    .dataframe thead th {\n",
       "        text-align: right;\n",
       "    }\n",
       "</style>\n",
       "<table border=\"1\" class=\"dataframe\">\n",
       "  <thead>\n",
       "    <tr style=\"text-align: right;\">\n",
       "      <th></th>\n",
       "      <th>date</th>\n",
       "      <th>conversionA</th>\n",
       "      <th>conversionB</th>\n",
       "    </tr>\n",
       "  </thead>\n",
       "  <tbody>\n",
       "    <tr>\n",
       "      <th>0</th>\n",
       "      <td>2019-08-01</td>\n",
       "      <td>0.033380</td>\n",
       "      <td>0.029453</td>\n",
       "    </tr>\n",
       "    <tr>\n",
       "      <th>1</th>\n",
       "      <td>2019-08-02</td>\n",
       "      <td>0.032885</td>\n",
       "      <td>0.034776</td>\n",
       "    </tr>\n",
       "    <tr>\n",
       "      <th>2</th>\n",
       "      <td>2019-08-03</td>\n",
       "      <td>0.036856</td>\n",
       "      <td>0.033833</td>\n",
       "    </tr>\n",
       "  </tbody>\n",
       "</table>\n",
       "</div>"
      ],
      "text/plain": [
       "        date  conversionA  conversionB\n",
       "0 2019-08-01     0.033380     0.029453\n",
       "1 2019-08-02     0.032885     0.034776\n",
       "2 2019-08-03     0.036856     0.033833"
      ]
     },
     "metadata": {},
     "output_type": "display_data"
    },
    {
     "data": {
      "text/plain": [
       "<matplotlib.lines.Line2D at 0x169d66507c0>"
      ]
     },
     "execution_count": 36,
     "metadata": {},
     "output_type": "execute_result"
    },
    {
     "data": {
      "image/png": "[encoded data removed]",
      "text/plain": [
       "<Figure size 720x288 with 1 Axes>"
      ]
     },
     "metadata": {
      "image/png": {
       "height": 315,
       "width": 639
      },
      "needs_background": "light"
     },
     "output_type": "display_data"
    }
   ],
   "source": [
    "mergedCumulativeConversions =  cumulativeDataA[['date','conversion']].merge(\n",
    "    cumulativeDataB[['date','conversion']], \n",
    "    left_on='date', right_on='date', suffixes=['A', 'B'])\n",
    "display(mergedCumulativeConversions.head(3))\n",
    "plt.figure(figsize=(10,4))\n",
    "plt.plot(mergedCumulativeConversions['date'],mergedCumulativeConversions['conversionB']\n",
    "         /mergedCumulativeConversions['conversionA']-1)\n",
    "plt.xticks(rotation=45)\n",
    "plt.title(\"График относительного изменения кумулятивной конверсии группы B к группе A\")\n",
    "plt.xlabel('Дата')\n",
    "plt.ylabel('Относительное изменение конверсии')\n",
    "plt.grid()\n",
    "plt.axhline(y=0, color='black', linestyle='--')\n",
    "plt.axhline(y=0.1, color='red', linestyle='--')"
   ]
  },
  {
   "cell_type": "markdown",
   "metadata": {},
   "source": [
    "#### Выводы и предположения"
   ]
  },
  {
   "cell_type": "markdown",
   "metadata": {},
   "source": [
    "В начале периода конверсия группы А была выше чем у группы В, но только в 1 неделю, с начала второй недели конверсия группы В уже была выше на 20% на протяжении 2-х недель, на последней неделе периода конверсия В выше А на 10%. В целом видно, что конверсия не установилась и делать выводы рано, нужнно проверить исключив аномалии."
   ]
  },
  {
   "cell_type": "markdown",
   "metadata": {},
   "source": [
    "### Построим точечный график количества заказов по пользователям."
   ]
  },
  {
   "cell_type": "code",
   "execution_count": 37,
   "metadata": {},
   "outputs": [
    {
     "data": {
      "text/plain": [
       "<matplotlib.collections.PathCollection at 0x169d66acf10>"
      ]
     },
     "execution_count": 37,
     "metadata": {},
     "output_type": "execute_result"
    },
    {
     "data": {
      "image/png": "[encoded data removed]",
      "text/plain": [
       "<Figure size 720x288 with 1 Axes>"
      ]
     },
     "metadata": {
      "image/png": {
       "height": 263,
       "width": 605
      },
      "needs_background": "light"
     },
     "output_type": "display_data"
    }
   ],
   "source": [
    "# получим таблицу с наименование уникальных пользователей и с количетсвом совершенных заказов\n",
    "ordersByUsers = orders.groupby('visitorid', as_index=False).agg({'transactionid':'nunique'})\n",
    "ordersByUsers.columns = ['userId', 'orders']\n",
    "\n",
    "x_values = pd.Series(range(0,len(ordersByUsers)))\n",
    "plt.figure(figsize=(10,4))\n",
    "plt.title(\"Точечная диаграмма количества заказов на одного пользователя\")\n",
    "plt.ylabel('количество заказов')\n",
    "plt.grid()\n",
    "plt.scatter(x_values , ordersByUsers['orders']) "
   ]
  },
  {
   "cell_type": "markdown",
   "metadata": {},
   "source": [
    "#### Выводы и предположения"
   ]
  },
  {
   "cell_type": "markdown",
   "metadata": {},
   "source": [
    "Большинство пользователей не совершают больше 3-х заказов, при этом есть пользователи которые совершили заказы в колиетсве 4 - 11 штук, и не понятно что считать выбросами."
   ]
  },
  {
   "cell_type": "code",
   "execution_count": 38,
   "metadata": {
    "scrolled": true
   },
   "outputs": [
    {
     "name": "stdout",
     "output_type": "stream",
     "text": [
      "Перцентили:\n",
      "95: 2.0\n",
      "99: 4.0\n",
      "\n",
      "Не более 5% пользователей оформляли больше чем 2.0 и не более 1% оформляли больше чем 4.0 заказов.\n",
      "выберем 4.0 за границу числа заказов.\n"
     ]
    }
   ],
   "source": [
    "arr = list(np.percentile(ordersByUsers['orders'], [95, 99]))\n",
    "print('Перцентили:\\n95: {}\\n99: {}\\n'.format(arr[0],arr[1]))\n",
    "print('Не более 5% пользователей оформляли больше чем {} и не более 1% оформляли больше чем {} заказов.\\nвыберем {} за границу числа заказов.'\n",
    "      .format(arr[0],arr[1],arr[1]))"
   ]
  },
  {
   "cell_type": "markdown",
   "metadata": {},
   "source": [
    "### Построим точечный график стоимостей заказов."
   ]
  },
  {
   "cell_type": "code",
   "execution_count": 39,
   "metadata": {},
   "outputs": [
    {
     "data": {
      "text/plain": [
       "<matplotlib.collections.PathCollection at 0x169d66f0700>"
      ]
     },
     "execution_count": 39,
     "metadata": {},
     "output_type": "execute_result"
    },
    {
     "data": {
      "image/png": "[encoded data removed]",
      "text/plain": [
       "<Figure size 720x288 with 1 Axes>"
      ]
     },
     "metadata": {
      "image/png": {
       "height": 263,
       "width": 608
      },
      "needs_background": "light"
     },
     "output_type": "display_data"
    }
   ],
   "source": [
    "x_values = pd.Series(range(0,len(orders['revenue'])))\n",
    "plt.figure(figsize=(10,4))\n",
    "plt.title(\"Точечная диаграмма стоимости заказа\")\n",
    "plt.ylabel('количество заказов')\n",
    "plt.grid()\n",
    "plt.scatter(x_values , orders['revenue']) "
   ]
  },
  {
   "cell_type": "markdown",
   "metadata": {},
   "source": [
    "На графике видно что стоимость заказов не превышеат 100 тысяч, но при этом есть два очень выделяющих заказа, стоимость одного - 200 тыс.руб., а второго около 1,2 млн.руб. Эти значения аномальны. Построим точечную диграмму с диапазоном до 150 тысю.руб."
   ]
  },
  {
   "cell_type": "code",
   "execution_count": 40,
   "metadata": {},
   "outputs": [
    {
     "data": {
      "text/plain": [
       "<matplotlib.collections.PathCollection at 0x169d6b6f8b0>"
      ]
     },
     "execution_count": 40,
     "metadata": {},
     "output_type": "execute_result"
    },
    {
     "data": {
      "image/png": "[encoded data removed]",
      "text/plain": [
       "<Figure size 720x288 with 1 Axes>"
      ]
     },
     "metadata": {
      "image/png": {
       "height": 263,
       "width": 643
      },
      "needs_background": "light"
     },
     "output_type": "display_data"
    }
   ],
   "source": [
    "x_values = pd.Series(range(0,len(orders['revenue'])))\n",
    "plt.figure(figsize=(10,4))\n",
    "plt.title(\"Точечная диаграмма стоимости заказа\")\n",
    "plt.ylabel('количество заказов')\n",
    "plt.axhline(y=25000, color='red', linestyle='--')\n",
    "plt.axis([0, 1200, 0, 150000])\n",
    "plt.grid()\n",
    "plt.scatter(x_values , orders['revenue']) "
   ]
  },
  {
   "cell_type": "markdown",
   "metadata": {},
   "source": [
    "#### Выводы и предположения"
   ]
  },
  {
   "cell_type": "markdown",
   "metadata": {},
   "source": [
    "По второму графику уже видно, что основная масса пользователей совершает заказы на сумму не привышающию 30 тыс. руб., но так же есть заказы сумма которых составляют 30+ тыс.руб. и мы помним о тех аномальных значениях"
   ]
  },
  {
   "cell_type": "code",
   "execution_count": 41,
   "metadata": {},
   "outputs": [
    {
     "name": "stdout",
     "output_type": "stream",
     "text": [
      "Перцентили:\n",
      "95: 28000\n",
      "99: 58233\n",
      "\n",
      "Не более 5% пользователей оформляли заказы на сумму больше чем 28000 и не более 1% больше чем 58233 заказов.\n",
      "Выберем 58233 за границу стоимости заказа.\n"
     ]
    }
   ],
   "source": [
    "arr = list(np.percentile(orders['revenue'], [95, 99]))\n",
    "print('Перцентили:\\n95: {:.0f}\\n99: {:.0f}\\n'.format(arr[0],arr[1]))\n",
    "print('Не более 5% пользователей оформляли заказы на сумму больше чем {:.0f} и не более 1% больше чем {:.0f} заказов.\\nВыберем {:.0f} за границу стоимости заказа.'\n",
    "      .format(arr[0],arr[1],arr[1]))"
   ]
  },
  {
   "cell_type": "markdown",
   "metadata": {},
   "source": [
    "### Посчитаем статистическую значимость различий в конверсии между группами по «сырым» данным."
   ]
  },
  {
   "cell_type": "code",
   "execution_count": 42,
   "metadata": {},
   "outputs": [],
   "source": [
    "# группировка данных по userid которые совершили хотябы 1 заказ для каждой группы\n",
    "ordersByUsersA= (orders[orders['group']==\"A\"]\n",
    "                .groupby('visitorid', as_index=False)\n",
    "                .agg({'transactionid':'nunique'}))\n",
    "ordersByUsersA.columns=['visitorid','orders']\n",
    "\n",
    "ordersByUsersB= (orders[orders['group']==\"B\"]\n",
    "                .groupby('visitorid', as_index=False)\n",
    "                .agg({'transactionid':'nunique'}))\n",
    "ordersByUsersB.columns=['visitorid','orders']"
   ]
  },
  {
   "cell_type": "code",
   "execution_count": 43,
   "metadata": {},
   "outputs": [
    {
     "name": "stdout",
     "output_type": "stream",
     "text": [
      "Кол-во покупателей в группе A: 503\n",
      "Кол-во покупок в группе А: 557\n",
      "Кол-во посетителей в группе A: 18736\n",
      "\n",
      "Кол-во покупателей в группе B: 586\n",
      "Кол-во покупок в группе B: 640\n",
      "Кол-во посетителей в группе B: 18916\n"
     ]
    }
   ],
   "source": [
    "print('Кол-во покупателей в группе A: {}'.format(len(ordersByUsersA)))\n",
    "print('Кол-во покупок в группе А: {}'.format(ordersByUsersA['orders'].sum()))\n",
    "print('Кол-во посетителей в группе A: {}\\n'.format(visitors[visitors['group']=='A']['visitors'].sum()))\n",
    "print('Кол-во покупателей в группе B: {}'.format(len(ordersByUsersB)))\n",
    "print('Кол-во покупок в группе B: {}'.format(ordersByUsersB['orders'].sum()))\n",
    "print('Кол-во посетителей в группе B: {}'.format(visitors[visitors['group']=='B']['visitors'].sum()))"
   ]
  },
  {
   "cell_type": "code",
   "execution_count": 44,
   "metadata": {},
   "outputs": [],
   "source": [
    "# необходимо исчключить визиты тех кто уже совершил заказы и для оставшихся установить кол-во закзов = 0\n",
    "# создадим список индексов для групп А и В всех визитов которые не делали заказы\n",
    "list_orders_1 =[]\n",
    "for i in range(0,(visitors[visitors['group']=='A']['visitors'].sum()-len(ordersByUsersA))):\n",
    "    list_orders_1.append(0)\n",
    "list_orders_2 =[]\n",
    "for i in range(0,(visitors[visitors['group']=='B']['visitors'].sum()-len(ordersByUsersB))):\n",
    "    list_orders_2.append(0)"
   ]
  },
  {
   "cell_type": "code",
   "execution_count": 45,
   "metadata": {},
   "outputs": [],
   "source": [
    "# создадим Series на основании списков\n",
    "orders_by_non_purchased_users_A = pd.Series(data = list_orders_1, name = 'orders')    \n",
    "orders_by_non_purchased_users_B = pd.Series(data = list_orders_2, name = 'orders')\n",
    "# Объеденим с полученными ранее количеством заказов и series выше\n",
    "sampleA = pd.concat([ordersByUsersA['orders'], orders_by_non_purchased_users_A], axis=0)\n",
    "sampleB = pd.concat([ordersByUsersB['orders'], orders_by_non_purchased_users_B], axis=0)"
   ]
  },
  {
   "cell_type": "markdown",
   "metadata": {},
   "source": [
    "сформулируем гипотезы\n",
    "\n",
    "$\\begin{equation*}\n",
    " \\begin{cases}\n",
    "   H_0 :\\text{Статистическая значимость различий в конверсии между группами А и В, по сырым данным, ЕСТЬ.}\\\\\n",
    "   H_1 :\\text{Статистическая значимость различий в конверсии между группами А и В, по сырым данным,  НЕТ..}\n",
    " \\end{cases}\n",
    "\\end{equation*}$"
   ]
  },
  {
   "cell_type": "code",
   "execution_count": 46,
   "metadata": {},
   "outputs": [
    {
     "name": "stdout",
     "output_type": "stream",
     "text": [
      "\n",
      "Относительный прирост конверсии группы B по отношению к группе A: 0.138\n",
      "P-value: 0.01679\n",
      "По \"сырым\" данным в конверсии групп A и B РАЗНИЦА СТАТИСТИЧЕСКИ ЗНАЧИМА!\n"
     ]
    }
   ],
   "source": [
    "#проведем проверку гипотез\n",
    "print('\\nОтносительный прирост конверсии группы B по отношению к группе A: {:.3f}'.format(sampleB.mean()/sampleA.mean()-1))\n",
    "alpha = 0.05\n",
    "results = st.mannwhitneyu(sampleA, sampleB)\n",
    "print('P-value: {:.5f}'.format(results.pvalue))\n",
    "if results.pvalue < alpha:\n",
    "    print('По \"сырым\" данным в конверсии групп A и B РАЗНИЦА СТАТИСТИЧЕСКИ ЗНАЧИМА!')\n",
    "else:\n",
    "    print('По \"сырым\" данным РАЗЛИЧИЙ в конверсии групп A и B НЕТ!')"
   ]
  },
  {
   "cell_type": "markdown",
   "metadata": {},
   "source": [
    "### Посчитаем статистическую значимость различий в среднем чеке заказа между группами по «сырым» данным."
   ]
  },
  {
   "cell_type": "code",
   "execution_count": 47,
   "metadata": {
    "scrolled": true
   },
   "outputs": [
    {
     "data": {
      "text/html": [
       "<div>\n",
       "<style scoped>\n",
       "    .dataframe tbody tr th:only-of-type {\n",
       "        vertical-align: middle;\n",
       "    }\n",
       "\n",
       "    .dataframe tbody tr th {\n",
       "        vertical-align: top;\n",
       "    }\n",
       "\n",
       "    .dataframe thead th {\n",
       "        text-align: right;\n",
       "    }\n",
       "</style>\n",
       "<table border=\"1\" class=\"dataframe\">\n",
       "  <thead>\n",
       "    <tr style=\"text-align: right;\">\n",
       "      <th></th>\n",
       "      <th>transactionid</th>\n",
       "      <th>visitorid</th>\n",
       "      <th>date</th>\n",
       "      <th>revenue</th>\n",
       "      <th>group</th>\n",
       "    </tr>\n",
       "  </thead>\n",
       "  <tbody>\n",
       "    <tr>\n",
       "      <th>0</th>\n",
       "      <td>3667963787</td>\n",
       "      <td>3312258926</td>\n",
       "      <td>2019-08-15</td>\n",
       "      <td>1650</td>\n",
       "      <td>B</td>\n",
       "    </tr>\n",
       "    <tr>\n",
       "      <th>1</th>\n",
       "      <td>2804400009</td>\n",
       "      <td>3642806036</td>\n",
       "      <td>2019-08-15</td>\n",
       "      <td>730</td>\n",
       "      <td>B</td>\n",
       "    </tr>\n",
       "    <tr>\n",
       "      <th>2</th>\n",
       "      <td>2961555356</td>\n",
       "      <td>4069496402</td>\n",
       "      <td>2019-08-15</td>\n",
       "      <td>400</td>\n",
       "      <td>A</td>\n",
       "    </tr>\n",
       "    <tr>\n",
       "      <th>3</th>\n",
       "      <td>3797467345</td>\n",
       "      <td>1196621759</td>\n",
       "      <td>2019-08-15</td>\n",
       "      <td>9759</td>\n",
       "      <td>B</td>\n",
       "    </tr>\n",
       "    <tr>\n",
       "      <th>4</th>\n",
       "      <td>2282983706</td>\n",
       "      <td>2322279887</td>\n",
       "      <td>2019-08-15</td>\n",
       "      <td>2308</td>\n",
       "      <td>B</td>\n",
       "    </tr>\n",
       "    <tr>\n",
       "      <th>...</th>\n",
       "      <td>...</td>\n",
       "      <td>...</td>\n",
       "      <td>...</td>\n",
       "      <td>...</td>\n",
       "      <td>...</td>\n",
       "    </tr>\n",
       "    <tr>\n",
       "      <th>1192</th>\n",
       "      <td>2662137336</td>\n",
       "      <td>3733762160</td>\n",
       "      <td>2019-08-14</td>\n",
       "      <td>6490</td>\n",
       "      <td>B</td>\n",
       "    </tr>\n",
       "    <tr>\n",
       "      <th>1193</th>\n",
       "      <td>2203539145</td>\n",
       "      <td>370388673</td>\n",
       "      <td>2019-08-14</td>\n",
       "      <td>3190</td>\n",
       "      <td>A</td>\n",
       "    </tr>\n",
       "    <tr>\n",
       "      <th>1194</th>\n",
       "      <td>1807773912</td>\n",
       "      <td>573423106</td>\n",
       "      <td>2019-08-14</td>\n",
       "      <td>10550</td>\n",
       "      <td>A</td>\n",
       "    </tr>\n",
       "    <tr>\n",
       "      <th>1195</th>\n",
       "      <td>1947021204</td>\n",
       "      <td>1614305549</td>\n",
       "      <td>2019-08-14</td>\n",
       "      <td>100</td>\n",
       "      <td>A</td>\n",
       "    </tr>\n",
       "    <tr>\n",
       "      <th>1196</th>\n",
       "      <td>3936777065</td>\n",
       "      <td>2108080724</td>\n",
       "      <td>2019-08-15</td>\n",
       "      <td>202740</td>\n",
       "      <td>B</td>\n",
       "    </tr>\n",
       "  </tbody>\n",
       "</table>\n",
       "<p>1197 rows × 5 columns</p>\n",
       "</div>"
      ],
      "text/plain": [
       "      transactionid   visitorid       date  revenue group\n",
       "0        3667963787  3312258926 2019-08-15     1650     B\n",
       "1        2804400009  3642806036 2019-08-15      730     B\n",
       "2        2961555356  4069496402 2019-08-15      400     A\n",
       "3        3797467345  1196621759 2019-08-15     9759     B\n",
       "4        2282983706  2322279887 2019-08-15     2308     B\n",
       "...             ...         ...        ...      ...   ...\n",
       "1192     2662137336  3733762160 2019-08-14     6490     B\n",
       "1193     2203539145   370388673 2019-08-14     3190     A\n",
       "1194     1807773912   573423106 2019-08-14    10550     A\n",
       "1195     1947021204  1614305549 2019-08-14      100     A\n",
       "1196     3936777065  2108080724 2019-08-15   202740     B\n",
       "\n",
       "[1197 rows x 5 columns]"
      ]
     },
     "execution_count": 47,
     "metadata": {},
     "output_type": "execute_result"
    }
   ],
   "source": [
    "orders"
   ]
  },
  {
   "cell_type": "markdown",
   "metadata": {},
   "source": [
    "сформулируем гипотезы\n",
    "\n",
    "$\\begin{equation*}\n",
    " \\begin{cases}\n",
    "   H_0 :\\text{Статистическая значимость различий в среднем чеке между группами А и В, по сырым данным, ЕСТЬ.}\\\\\n",
    "   H_1 :\\text{Статистическая значимость различий в среднем чеке между группами А и В, по сырым данным,  НЕТ..}\n",
    " \\end{cases}\n",
    "\\end{equation*}$"
   ]
  },
  {
   "cell_type": "code",
   "execution_count": 48,
   "metadata": {
    "scrolled": true
   },
   "outputs": [
    {
     "name": "stdout",
     "output_type": "stream",
     "text": [
      "Относительное изменение среднего чека в группе B по отношению группы A: 0.259\n",
      "P-value: 0.72929\n",
      "По \"сырым\" данным РАЗЛИЧИЙ в средних чеках в группах A и B НЕТ!\n"
     ]
    }
   ],
   "source": [
    "print('Относительное изменение среднего чека в группе B по отношению группы A: {:.3f}'.format(\n",
    "orders[orders['group']=='B']['revenue'].mean()/orders[orders['group']=='A']['revenue'].mean()-1))\n",
    "results = st.mannwhitneyu(orders[orders['group']=='A']['revenue'], orders[orders['group']=='B']['revenue'])\n",
    "print('P-value: {:.5f}'.format(results.pvalue))\n",
    "if results.pvalue < alpha:\n",
    "    print('По \"сырым\" данным РАЗНИЦА в средних чеках в группах A и B СТАТИСТИЧЕСКИ ЗНАЧИМА!')\n",
    "else:\n",
    "    print('По \"сырым\" данным РАЗЛИЧИЙ в средних чеках в группах A и B НЕТ!')"
   ]
  },
  {
   "cell_type": "markdown",
   "metadata": {},
   "source": [
    "### Посчитаем статистическую значимость различий в конверсии между группами по «очищенным» данным. "
   ]
  },
  {
   "cell_type": "code",
   "execution_count": 49,
   "metadata": {},
   "outputs": [],
   "source": [
    "# ранее мы определили, что граница для числа заказов составила\n",
    "limit_orders = 2\n",
    "# а стоимость\n",
    "limit_revenue = 58233"
   ]
  },
  {
   "cell_type": "code",
   "execution_count": 50,
   "metadata": {
    "scrolled": true
   },
   "outputs": [
    {
     "name": "stdout",
     "output_type": "stream",
     "text": [
      "Кол-во аномальных пользователей: 31\n"
     ]
    }
   ],
   "source": [
    "usersWithManyOrders = pd.concat([ordersByUsersA[ordersByUsersA['orders']>limit_orders]['visitorid'], \n",
    "                                ordersByUsersB[ordersByUsersB['orders']>limit_orders]['visitorid']], axis = 0)\n",
    "usersWithExpensiveOrders = orders[orders['revenue']>limit_revenue]['visitorid']\n",
    "abnormalUsers = pd.concat([usersWithManyOrders, usersWithExpensiveOrders], axis = 0).drop_duplicates().sort_values()\n",
    "print('Кол-во аномальных пользователей: {}'.format(len(abnormalUsers)))"
   ]
  },
  {
   "cell_type": "markdown",
   "metadata": {},
   "source": [
    "сформулируем гипотезы\n",
    "\n",
    "$\\begin{equation*}\n",
    " \\begin{cases}\n",
    "   H_0 :\\text{Статистическая значимость различий в конверсии между группами А и В, по очищенным данным, ЕСТЬ.}\\\\\n",
    "   H_1 :\\text{Статистическая значимость различий в конверсии между группами А и В, по очищенным данным,  НЕТ..}\n",
    " \\end{cases}\n",
    "\\end{equation*}$"
   ]
  },
  {
   "cell_type": "code",
   "execution_count": 51,
   "metadata": {
    "scrolled": true
   },
   "outputs": [
    {
     "name": "stdout",
     "output_type": "stream",
     "text": [
      "\n",
      "Относительный прирост конверсии группы B по отношению к группе A после очистки данных: 0.174\n",
      "P-value: 0.01007\n",
      "По очищенным данным в конверсии групп A и B РАЗНИЦА СТАТИСТИЧЕСКИ ЗНАЧИМА!\n"
     ]
    }
   ],
   "source": [
    "sampleAFiltered = pd.concat([\n",
    "    ordersByUsersA[np.logical_not(ordersByUsersA['visitorid'].isin(abnormalUsers))]['orders'],\n",
    "    orders_by_non_purchased_users_A\n",
    "], axis = 0)\n",
    "sampleBFiltered = pd.concat([\n",
    "    ordersByUsersB[np.logical_not(ordersByUsersB['visitorid'].isin(abnormalUsers))]['orders'],\n",
    "    orders_by_non_purchased_users_B\n",
    "], axis = 0)\n",
    "print('\\nОтносительный прирост конверсии группы B по отношению к группе A после очистки данных: {:.3f}'.format(sampleBFiltered.mean()/sampleAFiltered.mean()-1))\n",
    "results = st.mannwhitneyu(sampleAFiltered, sampleBFiltered)\n",
    "print('P-value: {:.5f}'.format(results.pvalue))\n",
    "if results.pvalue < alpha:\n",
    "    print('По очищенным данным в конверсии групп A и B РАЗНИЦА СТАТИСТИЧЕСКИ ЗНАЧИМА!')\n",
    "else:\n",
    "    print('По очищенным данным РАЗЛИЧИЙ в конверсии групп A и B НЕТ!')"
   ]
  },
  {
   "cell_type": "markdown",
   "metadata": {},
   "source": [
    "### Посчитаем статистическую значимость различий в среднем чеке заказа между группами по «очищенным» данным. Сделайте выводы и предположения."
   ]
  },
  {
   "cell_type": "markdown",
   "metadata": {},
   "source": [
    "сформулируем гипотезы\n",
    "\n",
    "$\\begin{equation*}\n",
    " \\begin{cases}\n",
    "   H_0 :\\text{Статистическая значимость различий в среднем чеке между группами А и В, по очищенным данным, ЕСТЬ.}\\\\\n",
    "   H_1 :\\text{Статистическая значимость различий в среднем чеке между группами А и В, по очищенным данным,  НЕТ..}\n",
    " \\end{cases}\n",
    "\\end{equation*}$"
   ]
  },
  {
   "cell_type": "code",
   "execution_count": 52,
   "metadata": {
    "scrolled": true
   },
   "outputs": [
    {
     "name": "stdout",
     "output_type": "stream",
     "text": [
      "Относительное изменение среднего чека в группе B по отношению группы A после очистки данных: -0.020\n",
      "P-value: 0.7977151576527292\n",
      "По очищенным данным РАЗЛИЧИЙ в средних чеках в группах A и B НЕТ!\n"
     ]
    }
   ],
   "source": [
    "print('Относительное изменение среднего чека в группе B по отношению группы A после очистки данных: {:.3f}'.format(\n",
    "orders[np.logical_and(orders['group']=='B', np.logical_not(orders['visitorid'].isin(abnormalUsers)))]['revenue'].mean()\\\n",
    "/orders[np.logical_and(orders['group']=='A', np.logical_not(orders['visitorid'].isin(abnormalUsers)))]['revenue'].mean()-1))\n",
    "       \n",
    "       \n",
    "results = st.mannwhitneyu(orders[np.logical_and(orders['group']=='A', np.logical_not(orders['visitorid'].isin(abnormalUsers)))]['revenue'],\n",
    "                             orders[np.logical_and(orders['group']=='B', np.logical_not(orders['visitorid'].isin(abnormalUsers)))]['revenue'])\n",
    "print('P-value: {}'.format(results.pvalue))\n",
    "if results.pvalue < alpha:\n",
    "    print('По очищенным данным РАЗНИЦА в средних чеках в группах A и B СТАТИСТИЧЕСКИ ЗНАЧИМА!')\n",
    "else:\n",
    "    print('По очищенным данным РАЗЛИЧИЙ в средних чеках в группах A и B НЕТ!')"
   ]
  },
  {
   "cell_type": "markdown",
   "metadata": {},
   "source": [
    "## Решение по результатам теста."
   ]
  },
  {
   "cell_type": "markdown",
   "metadata": {},
   "source": [
    "Варианты решений: \n",
    "1. Остановить тест, зафиксировать победу одной из групп. \n",
    "2. Остановить тест, зафиксировать отсутствие различий между группами. \n",
    "3. Продолжить тест."
   ]
  },
  {
   "cell_type": "markdown",
   "metadata": {},
   "source": [
    "По результатам теста:\n",
    "- есть статистически значимое различие в конверсии между группами по «сырым» данным.\n",
    "- нет статистически значимого различия в среднем чеке заказа между группами по «сырым» данным.\n",
    "- есть статистически значимое различие в конверсии между группами по «очищенным» данным.\n",
    "- нет статистически значимого различия в среднем чеке заказа между группами по «очищенным» данным. \n",
    "При этом показатель конверсии в группе А по сырым данным составил 13.8%, а после очистки  17.3, что позволяет на сделать вывод что А/В тест нужно остановить и зафиксировать победу группы В."
   ]
  }
 ],
 "metadata": {
  "ExecuteTimeLog": [
   {
    "duration": 159,
    "start_time": "2022-05-03T18:20:36.012Z"
   },
   {
    "duration": 1768,
    "start_time": "2022-05-03T18:24:35.287Z"
   },
   {
    "duration": 48,
    "start_time": "2022-05-03T18:27:46.108Z"
   },
   {
    "duration": 19,
    "start_time": "2022-05-03T18:27:58.373Z"
   },
   {
    "duration": 5,
    "start_time": "2022-05-03T18:28:58.495Z"
   },
   {
    "duration": 35,
    "start_time": "2022-05-03T18:34:28.321Z"
   },
   {
    "duration": 228,
    "start_time": "2022-05-03T18:34:32.387Z"
   },
   {
    "duration": 113,
    "start_time": "2022-05-03T18:35:14.218Z"
   },
   {
    "duration": 139,
    "start_time": "2022-05-03T18:35:34.191Z"
   },
   {
    "duration": 169,
    "start_time": "2022-05-03T18:36:01.832Z"
   },
   {
    "duration": 32,
    "start_time": "2022-05-03T18:36:40.842Z"
   },
   {
    "duration": 100,
    "start_time": "2022-05-03T18:36:46.816Z"
   },
   {
    "duration": 17,
    "start_time": "2022-05-03T18:37:30.629Z"
   },
   {
    "duration": 128,
    "start_time": "2022-05-03T18:37:44.036Z"
   },
   {
    "duration": 113,
    "start_time": "2022-05-03T18:37:54.293Z"
   },
   {
    "duration": 124,
    "start_time": "2022-05-03T18:38:21.449Z"
   },
   {
    "duration": 99,
    "start_time": "2022-05-03T18:38:42.235Z"
   },
   {
    "duration": 40,
    "start_time": "2022-05-03T18:38:49.426Z"
   },
   {
    "duration": 37,
    "start_time": "2022-05-03T18:39:35.859Z"
   },
   {
    "duration": 38,
    "start_time": "2022-05-03T18:40:36.137Z"
   },
   {
    "duration": 96,
    "start_time": "2022-05-03T18:41:55.151Z"
   },
   {
    "duration": 3,
    "start_time": "2022-05-03T18:42:23.845Z"
   },
   {
    "duration": 2,
    "start_time": "2022-05-03T18:42:28.279Z"
   },
   {
    "duration": 11,
    "start_time": "2022-05-03T18:43:38.197Z"
   },
   {
    "duration": 64,
    "start_time": "2022-05-03T18:43:55.949Z"
   },
   {
    "duration": 60,
    "start_time": "2022-05-03T18:44:43.477Z"
   },
   {
    "duration": 57,
    "start_time": "2022-05-03T18:45:44.636Z"
   },
   {
    "duration": 55,
    "start_time": "2022-05-03T18:45:47.141Z"
   },
   {
    "duration": 75,
    "start_time": "2022-05-03T18:45:48.491Z"
   },
   {
    "duration": 14,
    "start_time": "2022-05-03T18:46:17.761Z"
   },
   {
    "duration": 8,
    "start_time": "2022-05-03T18:47:55.798Z"
   },
   {
    "duration": 259,
    "start_time": "2022-05-03T18:47:57.850Z"
   },
   {
    "duration": 98,
    "start_time": "2022-05-03T18:49:14.295Z"
   },
   {
    "duration": 8,
    "start_time": "2022-05-03T18:54:10.505Z"
   },
   {
    "duration": 65,
    "start_time": "2022-05-03T18:54:52.453Z"
   },
   {
    "duration": 93,
    "start_time": "2022-05-03T18:55:02.052Z"
   },
   {
    "duration": 8,
    "start_time": "2022-05-03T19:00:08.099Z"
   },
   {
    "duration": 8,
    "start_time": "2022-05-03T19:00:53.187Z"
   },
   {
    "duration": 3,
    "start_time": "2022-05-03T19:05:07.094Z"
   },
   {
    "duration": 61,
    "start_time": "2022-05-04T07:48:02.851Z"
   },
   {
    "duration": 1636,
    "start_time": "2022-05-04T07:48:09.156Z"
   },
   {
    "duration": 46,
    "start_time": "2022-05-04T07:48:10.795Z"
   },
   {
    "duration": 8,
    "start_time": "2022-05-04T07:48:10.845Z"
   },
   {
    "duration": 115,
    "start_time": "2022-05-04T07:48:10.856Z"
   },
   {
    "duration": 0,
    "start_time": "2022-05-04T07:48:10.972Z"
   },
   {
    "duration": 0,
    "start_time": "2022-05-04T07:48:10.973Z"
   },
   {
    "duration": 0,
    "start_time": "2022-05-04T07:48:10.974Z"
   },
   {
    "duration": 0,
    "start_time": "2022-05-04T07:48:10.975Z"
   },
   {
    "duration": 5,
    "start_time": "2022-05-04T07:48:48.320Z"
   },
   {
    "duration": 9,
    "start_time": "2022-05-04T07:48:51.227Z"
   },
   {
    "duration": 110,
    "start_time": "2022-05-04T07:48:52.386Z"
   },
   {
    "duration": 80,
    "start_time": "2022-05-04T07:48:55.267Z"
   },
   {
    "duration": 75,
    "start_time": "2022-05-04T07:48:55.349Z"
   },
   {
    "duration": 742,
    "start_time": "2022-05-04T07:48:57.314Z"
   },
   {
    "duration": 760,
    "start_time": "2022-05-04T07:49:13.346Z"
   },
   {
    "duration": 960,
    "start_time": "2022-05-04T07:50:11.469Z"
   },
   {
    "duration": 5,
    "start_time": "2022-05-04T08:06:27.648Z"
   },
   {
    "duration": 12,
    "start_time": "2022-05-04T08:07:16.733Z"
   },
   {
    "duration": 0,
    "start_time": "2022-05-04T08:08:08.485Z"
   },
   {
    "duration": 1343,
    "start_time": "2022-05-04T08:08:19.617Z"
   },
   {
    "duration": 93,
    "start_time": "2022-05-04T08:08:20.962Z"
   },
   {
    "duration": 7,
    "start_time": "2022-05-04T08:08:21.057Z"
   },
   {
    "duration": 101,
    "start_time": "2022-05-04T08:08:21.065Z"
   },
   {
    "duration": 104,
    "start_time": "2022-05-04T08:08:21.170Z"
   },
   {
    "duration": 81,
    "start_time": "2022-05-04T08:08:21.276Z"
   },
   {
    "duration": 14,
    "start_time": "2022-05-04T08:08:21.358Z"
   },
   {
    "duration": 2992,
    "start_time": "2022-05-04T08:08:21.373Z"
   },
   {
    "duration": 14,
    "start_time": "2022-05-04T08:09:19.408Z"
   },
   {
    "duration": 47,
    "start_time": "2022-05-04T08:10:45.087Z"
   },
   {
    "duration": 70,
    "start_time": "2022-05-04T08:11:26.625Z"
   },
   {
    "duration": 21,
    "start_time": "2022-05-04T08:11:37.919Z"
   },
   {
    "duration": 24,
    "start_time": "2022-05-04T08:12:07.419Z"
   },
   {
    "duration": 24,
    "start_time": "2022-05-04T08:12:28.751Z"
   },
   {
    "duration": 194,
    "start_time": "2022-05-04T08:13:08.367Z"
   },
   {
    "duration": 27,
    "start_time": "2022-05-04T08:14:17.570Z"
   },
   {
    "duration": 31,
    "start_time": "2022-05-04T08:15:08.011Z"
   },
   {
    "duration": 27,
    "start_time": "2022-05-04T08:15:13.839Z"
   },
   {
    "duration": 1015,
    "start_time": "2022-05-04T08:16:45.083Z"
   },
   {
    "duration": 25,
    "start_time": "2022-05-04T08:16:48.473Z"
   },
   {
    "duration": 859,
    "start_time": "2022-05-04T08:17:03.459Z"
   },
   {
    "duration": 31,
    "start_time": "2022-05-04T08:17:11.852Z"
   },
   {
    "duration": 30,
    "start_time": "2022-05-04T08:17:23.515Z"
   },
   {
    "duration": 211,
    "start_time": "2022-05-04T08:18:02.856Z"
   },
   {
    "duration": 27,
    "start_time": "2022-05-04T08:18:11.252Z"
   },
   {
    "duration": 804,
    "start_time": "2022-05-04T08:18:25.271Z"
   },
   {
    "duration": 839,
    "start_time": "2022-05-04T08:18:34.619Z"
   },
   {
    "duration": 35,
    "start_time": "2022-05-04T08:18:42.287Z"
   },
   {
    "duration": 25,
    "start_time": "2022-05-04T08:19:04.739Z"
   },
   {
    "duration": 62,
    "start_time": "2022-05-04T08:19:15.518Z"
   },
   {
    "duration": 26,
    "start_time": "2022-05-04T08:20:01.962Z"
   },
   {
    "duration": 3,
    "start_time": "2022-05-04T08:21:28.149Z"
   },
   {
    "duration": 12,
    "start_time": "2022-05-04T08:28:00.345Z"
   },
   {
    "duration": 6,
    "start_time": "2022-05-04T08:28:12.234Z"
   },
   {
    "duration": 16,
    "start_time": "2022-05-04T08:28:37.609Z"
   },
   {
    "duration": 13,
    "start_time": "2022-05-04T08:29:16.363Z"
   },
   {
    "duration": 11,
    "start_time": "2022-05-04T08:29:56.767Z"
   },
   {
    "duration": 18,
    "start_time": "2022-05-04T08:30:37.422Z"
   },
   {
    "duration": 17,
    "start_time": "2022-05-04T08:30:59.316Z"
   },
   {
    "duration": 15,
    "start_time": "2022-05-04T08:31:00.717Z"
   },
   {
    "duration": 11,
    "start_time": "2022-05-04T08:31:02.667Z"
   },
   {
    "duration": 10,
    "start_time": "2022-05-04T08:31:30.855Z"
   },
   {
    "duration": 13,
    "start_time": "2022-05-04T08:31:42.649Z"
   },
   {
    "duration": 18,
    "start_time": "2022-05-04T08:31:46.417Z"
   },
   {
    "duration": 5,
    "start_time": "2022-05-04T08:32:04.044Z"
   },
   {
    "duration": 223,
    "start_time": "2022-05-04T08:32:08.465Z"
   },
   {
    "duration": 15,
    "start_time": "2022-05-04T08:32:12.433Z"
   },
   {
    "duration": 11,
    "start_time": "2022-05-04T08:32:30.575Z"
   },
   {
    "duration": 11,
    "start_time": "2022-05-04T08:32:39.051Z"
   },
   {
    "duration": 11,
    "start_time": "2022-05-04T08:32:51.031Z"
   },
   {
    "duration": 15,
    "start_time": "2022-05-04T08:34:12.683Z"
   },
   {
    "duration": 1497,
    "start_time": "2022-05-04T08:34:21.358Z"
   },
   {
    "duration": 53,
    "start_time": "2022-05-04T08:34:22.857Z"
   },
   {
    "duration": 8,
    "start_time": "2022-05-04T08:34:22.914Z"
   },
   {
    "duration": 81,
    "start_time": "2022-05-04T08:34:22.924Z"
   },
   {
    "duration": 106,
    "start_time": "2022-05-04T08:34:23.008Z"
   },
   {
    "duration": 59,
    "start_time": "2022-05-04T08:34:23.116Z"
   },
   {
    "duration": 77,
    "start_time": "2022-05-04T08:34:23.177Z"
   },
   {
    "duration": 19,
    "start_time": "2022-05-04T08:34:23.256Z"
   },
   {
    "duration": 23,
    "start_time": "2022-05-04T08:34:23.277Z"
   },
   {
    "duration": 30,
    "start_time": "2022-05-04T08:34:23.302Z"
   },
   {
    "duration": 11,
    "start_time": "2022-05-04T08:34:23.334Z"
   },
   {
    "duration": 12,
    "start_time": "2022-05-04T08:36:23.252Z"
   },
   {
    "duration": 11,
    "start_time": "2022-05-04T08:36:27.348Z"
   },
   {
    "duration": 15,
    "start_time": "2022-05-04T08:36:46.682Z"
   },
   {
    "duration": 15,
    "start_time": "2022-05-04T08:36:49.008Z"
   },
   {
    "duration": 16,
    "start_time": "2022-05-04T08:59:15.785Z"
   },
   {
    "duration": 231,
    "start_time": "2022-05-04T08:59:39.544Z"
   },
   {
    "duration": 9,
    "start_time": "2022-05-04T08:59:45.532Z"
   },
   {
    "duration": 136,
    "start_time": "2022-05-04T09:14:55.289Z"
   },
   {
    "duration": 13,
    "start_time": "2022-05-04T09:14:59.902Z"
   },
   {
    "duration": 16,
    "start_time": "2022-05-04T09:15:46.712Z"
   },
   {
    "duration": 3027,
    "start_time": "2022-05-04T09:33:31.854Z"
   },
   {
    "duration": 3460,
    "start_time": "2022-05-04T09:33:41.849Z"
   },
   {
    "duration": 3350,
    "start_time": "2022-05-04T09:33:56.726Z"
   },
   {
    "duration": 3036,
    "start_time": "2022-05-04T09:34:08.929Z"
   },
   {
    "duration": 5,
    "start_time": "2022-05-04T09:34:22.781Z"
   },
   {
    "duration": 6,
    "start_time": "2022-05-04T09:34:29.117Z"
   },
   {
    "duration": 8,
    "start_time": "2022-05-04T09:34:33.035Z"
   },
   {
    "duration": 285,
    "start_time": "2022-05-04T09:35:32.381Z"
   },
   {
    "duration": 18,
    "start_time": "2022-05-04T09:35:36.688Z"
   },
   {
    "duration": 183,
    "start_time": "2022-05-04T09:35:55.416Z"
   },
   {
    "duration": 5,
    "start_time": "2022-05-04T09:35:58.854Z"
   },
   {
    "duration": 8,
    "start_time": "2022-05-04T09:36:32.616Z"
   },
   {
    "duration": 6,
    "start_time": "2022-05-04T09:36:55.569Z"
   },
   {
    "duration": 8,
    "start_time": "2022-05-04T09:37:10.757Z"
   },
   {
    "duration": 10,
    "start_time": "2022-05-04T09:37:14.418Z"
   },
   {
    "duration": 11,
    "start_time": "2022-05-04T09:37:48.047Z"
   },
   {
    "duration": 8,
    "start_time": "2022-05-04T09:38:34.929Z"
   },
   {
    "duration": 7,
    "start_time": "2022-05-04T09:40:53.671Z"
   },
   {
    "duration": 8,
    "start_time": "2022-05-04T09:41:27.172Z"
   },
   {
    "duration": 5,
    "start_time": "2022-05-04T09:42:09.555Z"
   },
   {
    "duration": 16,
    "start_time": "2022-05-04T09:43:20.212Z"
   },
   {
    "duration": 6,
    "start_time": "2022-05-04T09:43:22.836Z"
   },
   {
    "duration": 8,
    "start_time": "2022-05-04T09:43:42.622Z"
   },
   {
    "duration": 16,
    "start_time": "2022-05-04T09:44:06.016Z"
   },
   {
    "duration": 13,
    "start_time": "2022-05-04T09:44:32.125Z"
   },
   {
    "duration": 20,
    "start_time": "2022-05-04T09:45:06.056Z"
   },
   {
    "duration": 13,
    "start_time": "2022-05-04T09:45:16.963Z"
   },
   {
    "duration": 10,
    "start_time": "2022-05-04T09:46:18.636Z"
   },
   {
    "duration": 8,
    "start_time": "2022-05-04T09:46:28.879Z"
   },
   {
    "duration": 7,
    "start_time": "2022-05-04T09:46:38.370Z"
   },
   {
    "duration": 9,
    "start_time": "2022-05-04T09:46:55.234Z"
   },
   {
    "duration": 10,
    "start_time": "2022-05-04T09:47:10.625Z"
   },
   {
    "duration": 11,
    "start_time": "2022-05-04T09:47:12.665Z"
   },
   {
    "duration": 10,
    "start_time": "2022-05-04T09:47:27.429Z"
   },
   {
    "duration": 11,
    "start_time": "2022-05-04T09:48:34.718Z"
   },
   {
    "duration": 9,
    "start_time": "2022-05-04T09:52:23.866Z"
   },
   {
    "duration": 8,
    "start_time": "2022-05-04T09:52:28.555Z"
   },
   {
    "duration": 29,
    "start_time": "2022-05-04T09:57:34.973Z"
   },
   {
    "duration": 21,
    "start_time": "2022-05-04T09:57:53.656Z"
   },
   {
    "duration": 329,
    "start_time": "2022-05-04T09:58:07.159Z"
   },
   {
    "duration": 414,
    "start_time": "2022-05-04T09:58:49.834Z"
   },
   {
    "duration": 374,
    "start_time": "2022-05-04T09:58:53.880Z"
   },
   {
    "duration": 242,
    "start_time": "2022-05-04T10:41:12.758Z"
   },
   {
    "duration": 353,
    "start_time": "2022-05-04T10:41:17.812Z"
   },
   {
    "duration": 257,
    "start_time": "2022-05-04T10:41:26.193Z"
   },
   {
    "duration": 144,
    "start_time": "2022-05-04T10:41:35.720Z"
   },
   {
    "duration": 263,
    "start_time": "2022-05-04T10:41:37.953Z"
   },
   {
    "duration": 289,
    "start_time": "2022-05-04T10:43:24.315Z"
   },
   {
    "duration": 292,
    "start_time": "2022-05-04T10:43:32.254Z"
   },
   {
    "duration": 376,
    "start_time": "2022-05-04T10:43:37.997Z"
   },
   {
    "duration": 368,
    "start_time": "2022-05-04T10:45:36.014Z"
   },
   {
    "duration": 278,
    "start_time": "2022-05-04T10:50:01.324Z"
   },
   {
    "duration": 279,
    "start_time": "2022-05-04T10:50:27.488Z"
   },
   {
    "duration": 280,
    "start_time": "2022-05-04T10:50:40.539Z"
   },
   {
    "duration": 269,
    "start_time": "2022-05-04T10:50:54.807Z"
   },
   {
    "duration": 378,
    "start_time": "2022-05-04T10:51:00.986Z"
   },
   {
    "duration": 265,
    "start_time": "2022-05-04T10:54:30.313Z"
   },
   {
    "duration": 449,
    "start_time": "2022-05-04T10:57:09.822Z"
   },
   {
    "duration": 279,
    "start_time": "2022-05-04T10:57:31.981Z"
   },
   {
    "duration": 281,
    "start_time": "2022-05-04T10:57:39.913Z"
   },
   {
    "duration": 318,
    "start_time": "2022-05-04T11:00:10.042Z"
   },
   {
    "duration": 385,
    "start_time": "2022-05-04T11:00:20.985Z"
   },
   {
    "duration": 296,
    "start_time": "2022-05-04T11:00:43.927Z"
   },
   {
    "duration": 289,
    "start_time": "2022-05-04T11:01:09.978Z"
   },
   {
    "duration": 3031,
    "start_time": "2022-05-04T11:03:05.432Z"
   },
   {
    "duration": 293,
    "start_time": "2022-05-04T11:03:20.138Z"
   },
   {
    "duration": 376,
    "start_time": "2022-05-04T11:03:36.983Z"
   },
   {
    "duration": 287,
    "start_time": "2022-05-04T11:03:52.734Z"
   },
   {
    "duration": 288,
    "start_time": "2022-05-04T11:04:05.867Z"
   },
   {
    "duration": 423,
    "start_time": "2022-05-04T11:04:09.107Z"
   },
   {
    "duration": 439,
    "start_time": "2022-05-04T11:05:49.714Z"
   },
   {
    "duration": 9,
    "start_time": "2022-05-04T11:05:53.163Z"
   },
   {
    "duration": 280,
    "start_time": "2022-05-04T11:05:59.588Z"
   },
   {
    "duration": 381,
    "start_time": "2022-05-04T11:06:10.279Z"
   },
   {
    "duration": 370,
    "start_time": "2022-05-04T11:06:17.421Z"
   },
   {
    "duration": 269,
    "start_time": "2022-05-04T11:06:30.823Z"
   },
   {
    "duration": 171,
    "start_time": "2022-05-04T11:09:00.881Z"
   },
   {
    "duration": 451,
    "start_time": "2022-05-04T11:09:48.492Z"
   },
   {
    "duration": 269,
    "start_time": "2022-05-04T11:10:11.808Z"
   },
   {
    "duration": 350,
    "start_time": "2022-05-04T11:10:32.160Z"
   },
   {
    "duration": 296,
    "start_time": "2022-05-04T11:10:49.864Z"
   },
   {
    "duration": 236,
    "start_time": "2022-05-04T11:12:02.029Z"
   },
   {
    "duration": 183,
    "start_time": "2022-05-04T11:12:55.720Z"
   },
   {
    "duration": 500,
    "start_time": "2022-05-04T11:13:10.999Z"
   },
   {
    "duration": 395,
    "start_time": "2022-05-04T11:13:17.650Z"
   },
   {
    "duration": 168,
    "start_time": "2022-05-04T11:13:22.128Z"
   },
   {
    "duration": 163,
    "start_time": "2022-05-04T11:13:37.683Z"
   },
   {
    "duration": 274,
    "start_time": "2022-05-04T11:13:49.976Z"
   },
   {
    "duration": 156,
    "start_time": "2022-05-04T11:13:57.031Z"
   },
   {
    "duration": 267,
    "start_time": "2022-05-04T11:14:11.874Z"
   },
   {
    "duration": 287,
    "start_time": "2022-05-04T11:14:27.479Z"
   },
   {
    "duration": 296,
    "start_time": "2022-05-04T11:14:33.957Z"
   },
   {
    "duration": 616,
    "start_time": "2022-05-04T11:14:54.854Z"
   },
   {
    "duration": 142,
    "start_time": "2022-05-04T11:15:08.241Z"
   },
   {
    "duration": 282,
    "start_time": "2022-05-04T11:15:14.044Z"
   },
   {
    "duration": 277,
    "start_time": "2022-05-04T11:16:34.585Z"
   },
   {
    "duration": 312,
    "start_time": "2022-05-04T11:16:58.251Z"
   },
   {
    "duration": 418,
    "start_time": "2022-05-04T11:19:16.554Z"
   },
   {
    "duration": 16,
    "start_time": "2022-05-04T11:19:19.415Z"
   },
   {
    "duration": 377,
    "start_time": "2022-05-04T11:38:42.747Z"
   },
   {
    "duration": 179,
    "start_time": "2022-05-04T11:39:10.098Z"
   },
   {
    "duration": 267,
    "start_time": "2022-05-04T11:39:22.727Z"
   },
   {
    "duration": 381,
    "start_time": "2022-05-04T11:43:36.952Z"
   },
   {
    "duration": 272,
    "start_time": "2022-05-04T11:48:22.450Z"
   },
   {
    "duration": 263,
    "start_time": "2022-05-04T11:48:32.106Z"
   },
   {
    "duration": 272,
    "start_time": "2022-05-04T11:48:37.906Z"
   },
   {
    "duration": 369,
    "start_time": "2022-05-04T11:48:41.798Z"
   },
   {
    "duration": 282,
    "start_time": "2022-05-04T11:48:45.100Z"
   },
   {
    "duration": 280,
    "start_time": "2022-05-04T12:11:40.171Z"
   },
   {
    "duration": 242,
    "start_time": "2022-05-04T12:19:45.322Z"
   },
   {
    "duration": 257,
    "start_time": "2022-05-04T12:20:04.680Z"
   },
   {
    "duration": 264,
    "start_time": "2022-05-04T12:20:24.550Z"
   },
   {
    "duration": 177,
    "start_time": "2022-05-04T12:20:33.279Z"
   },
   {
    "duration": 192,
    "start_time": "2022-05-04T12:20:36.593Z"
   },
   {
    "duration": 142,
    "start_time": "2022-05-04T12:20:45.852Z"
   },
   {
    "duration": 357,
    "start_time": "2022-05-04T12:21:59.484Z"
   },
   {
    "duration": 257,
    "start_time": "2022-05-04T12:22:05.018Z"
   },
   {
    "duration": 269,
    "start_time": "2022-05-04T12:22:17.833Z"
   },
   {
    "duration": 251,
    "start_time": "2022-05-04T12:22:28.499Z"
   },
   {
    "duration": 261,
    "start_time": "2022-05-04T12:22:34.212Z"
   },
   {
    "duration": 272,
    "start_time": "2022-05-04T12:22:42.385Z"
   },
   {
    "duration": 221,
    "start_time": "2022-05-04T12:23:23.967Z"
   },
   {
    "duration": 244,
    "start_time": "2022-05-04T12:23:29.256Z"
   },
   {
    "duration": 253,
    "start_time": "2022-05-04T12:23:34.685Z"
   },
   {
    "duration": 253,
    "start_time": "2022-05-04T12:23:41.924Z"
   },
   {
    "duration": 255,
    "start_time": "2022-05-04T12:24:17.363Z"
   },
   {
    "duration": 255,
    "start_time": "2022-05-04T12:25:02.012Z"
   },
   {
    "duration": 348,
    "start_time": "2022-05-04T12:25:31.234Z"
   },
   {
    "duration": 259,
    "start_time": "2022-05-04T12:25:38.071Z"
   },
   {
    "duration": 257,
    "start_time": "2022-05-04T12:28:41.931Z"
   },
   {
    "duration": 258,
    "start_time": "2022-05-04T12:28:50.967Z"
   },
   {
    "duration": 279,
    "start_time": "2022-05-04T12:28:58.049Z"
   },
   {
    "duration": 255,
    "start_time": "2022-05-04T12:29:04.419Z"
   },
   {
    "duration": 353,
    "start_time": "2022-05-04T12:29:40.244Z"
   },
   {
    "duration": 254,
    "start_time": "2022-05-04T12:30:10.014Z"
   },
   {
    "duration": 252,
    "start_time": "2022-05-04T12:30:45.798Z"
   },
   {
    "duration": 259,
    "start_time": "2022-05-04T12:31:40.159Z"
   },
   {
    "duration": 257,
    "start_time": "2022-05-04T12:31:46.224Z"
   },
   {
    "duration": 331,
    "start_time": "2022-05-04T12:31:52.710Z"
   },
   {
    "duration": 366,
    "start_time": "2022-05-04T12:32:08.594Z"
   },
   {
    "duration": 247,
    "start_time": "2022-05-04T12:33:00.822Z"
   },
   {
    "duration": 243,
    "start_time": "2022-05-04T12:35:41.298Z"
   },
   {
    "duration": 183,
    "start_time": "2022-05-04T12:35:51.833Z"
   },
   {
    "duration": 149,
    "start_time": "2022-05-04T12:36:15.920Z"
   },
   {
    "duration": 165,
    "start_time": "2022-05-04T12:36:22.845Z"
   },
   {
    "duration": 165,
    "start_time": "2022-05-04T12:36:54.320Z"
   },
   {
    "duration": 155,
    "start_time": "2022-05-04T12:37:01.725Z"
   },
   {
    "duration": 440,
    "start_time": "2022-05-04T12:40:00.509Z"
   },
   {
    "duration": 636,
    "start_time": "2022-05-04T12:40:03.737Z"
   },
   {
    "duration": 701,
    "start_time": "2022-05-04T12:40:19.617Z"
   },
   {
    "duration": 248,
    "start_time": "2022-05-04T12:40:22.569Z"
   },
   {
    "duration": 251,
    "start_time": "2022-05-04T12:46:21.347Z"
   },
   {
    "duration": 247,
    "start_time": "2022-05-04T12:47:18.674Z"
   },
   {
    "duration": 337,
    "start_time": "2022-05-04T12:47:46.155Z"
   },
   {
    "duration": 242,
    "start_time": "2022-05-04T12:53:23.904Z"
   },
   {
    "duration": 261,
    "start_time": "2022-05-04T12:53:26.786Z"
   },
   {
    "duration": 253,
    "start_time": "2022-05-04T12:53:58.669Z"
   },
   {
    "duration": 253,
    "start_time": "2022-05-04T12:54:08.313Z"
   },
   {
    "duration": 3,
    "start_time": "2022-05-04T12:54:46.945Z"
   },
   {
    "duration": 356,
    "start_time": "2022-05-04T12:54:59.678Z"
   },
   {
    "duration": 274,
    "start_time": "2022-05-04T12:56:05.051Z"
   },
   {
    "duration": 335,
    "start_time": "2022-05-04T13:02:43.040Z"
   },
   {
    "duration": 481,
    "start_time": "2022-05-04T13:03:08.325Z"
   },
   {
    "duration": 312,
    "start_time": "2022-05-04T13:03:14.936Z"
   },
   {
    "duration": 226,
    "start_time": "2022-05-04T13:03:20.845Z"
   },
   {
    "duration": 507,
    "start_time": "2022-05-04T13:03:29.481Z"
   },
   {
    "duration": 263,
    "start_time": "2022-05-04T13:03:35.347Z"
   },
   {
    "duration": 287,
    "start_time": "2022-05-04T13:03:42.444Z"
   },
   {
    "duration": 326,
    "start_time": "2022-05-04T13:03:50.133Z"
   },
   {
    "duration": 249,
    "start_time": "2022-05-04T13:04:29.016Z"
   },
   {
    "duration": 13,
    "start_time": "2022-05-04T13:17:29.040Z"
   },
   {
    "duration": 31,
    "start_time": "2022-05-04T13:28:42.153Z"
   },
   {
    "duration": 35,
    "start_time": "2022-05-04T13:28:58.314Z"
   },
   {
    "duration": 37,
    "start_time": "2022-05-04T13:29:04.769Z"
   },
   {
    "duration": 29,
    "start_time": "2022-05-04T13:29:15.997Z"
   },
   {
    "duration": 24,
    "start_time": "2022-05-04T13:31:29.465Z"
   },
   {
    "duration": 159,
    "start_time": "2022-05-04T13:32:06.478Z"
   },
   {
    "duration": 174,
    "start_time": "2022-05-04T13:32:14.950Z"
   },
   {
    "duration": 188,
    "start_time": "2022-05-04T13:35:45.544Z"
   },
   {
    "duration": 172,
    "start_time": "2022-05-04T13:35:49.775Z"
   },
   {
    "duration": 171,
    "start_time": "2022-05-04T13:35:52.690Z"
   },
   {
    "duration": 168,
    "start_time": "2022-05-04T13:35:56.049Z"
   },
   {
    "duration": 177,
    "start_time": "2022-05-04T13:37:25.082Z"
   },
   {
    "duration": 147,
    "start_time": "2022-05-04T13:43:15.529Z"
   },
   {
    "duration": 164,
    "start_time": "2022-05-04T13:44:29.141Z"
   },
   {
    "duration": 130,
    "start_time": "2022-05-04T13:46:05.899Z"
   },
   {
    "duration": 133,
    "start_time": "2022-05-04T13:46:28.057Z"
   },
   {
    "duration": 180,
    "start_time": "2022-05-04T13:46:34.452Z"
   },
   {
    "duration": 162,
    "start_time": "2022-05-04T13:46:42.478Z"
   },
   {
    "duration": 222,
    "start_time": "2022-05-04T13:46:52.261Z"
   },
   {
    "duration": 222,
    "start_time": "2022-05-04T13:46:56.760Z"
   },
   {
    "duration": 139,
    "start_time": "2022-05-04T13:47:15.616Z"
   },
   {
    "duration": 177,
    "start_time": "2022-05-04T13:47:23.827Z"
   },
   {
    "duration": 291,
    "start_time": "2022-05-04T13:47:43.226Z"
   },
   {
    "duration": 379,
    "start_time": "2022-05-04T13:48:20.677Z"
   },
   {
    "duration": 301,
    "start_time": "2022-05-04T13:53:16.495Z"
   },
   {
    "duration": 276,
    "start_time": "2022-05-04T13:55:06.452Z"
   },
   {
    "duration": 283,
    "start_time": "2022-05-04T14:00:02.008Z"
   },
   {
    "duration": 291,
    "start_time": "2022-05-04T14:00:18.998Z"
   },
   {
    "duration": 291,
    "start_time": "2022-05-04T14:00:25.079Z"
   },
   {
    "duration": 287,
    "start_time": "2022-05-04T14:00:29.099Z"
   },
   {
    "duration": 394,
    "start_time": "2022-05-04T14:04:06.147Z"
   },
   {
    "duration": 283,
    "start_time": "2022-05-04T14:05:56.637Z"
   },
   {
    "duration": 280,
    "start_time": "2022-05-04T14:06:15.392Z"
   },
   {
    "duration": 531,
    "start_time": "2022-05-04T14:08:11.532Z"
   },
   {
    "duration": 472,
    "start_time": "2022-05-04T14:09:59.248Z"
   },
   {
    "duration": 460,
    "start_time": "2022-05-04T14:10:31.326Z"
   },
   {
    "duration": 471,
    "start_time": "2022-05-04T14:10:57.942Z"
   },
   {
    "duration": 473,
    "start_time": "2022-05-04T14:11:07.998Z"
   },
   {
    "duration": 499,
    "start_time": "2022-05-04T14:11:15.338Z"
   },
   {
    "duration": 460,
    "start_time": "2022-05-04T14:11:21.962Z"
   },
   {
    "duration": 761,
    "start_time": "2022-05-04T14:12:18.548Z"
   },
   {
    "duration": 699,
    "start_time": "2022-05-04T14:12:31.111Z"
   },
   {
    "duration": 601,
    "start_time": "2022-05-04T14:12:40.727Z"
   },
   {
    "duration": 2,
    "start_time": "2022-05-04T14:13:11.761Z"
   },
   {
    "duration": 534,
    "start_time": "2022-05-04T14:13:42.531Z"
   },
   {
    "duration": 502,
    "start_time": "2022-05-04T14:13:51.149Z"
   },
   {
    "duration": 516,
    "start_time": "2022-05-04T14:14:04.053Z"
   },
   {
    "duration": 3,
    "start_time": "2022-05-04T14:20:18.750Z"
   },
   {
    "duration": 11,
    "start_time": "2022-05-04T14:20:52.341Z"
   },
   {
    "duration": 3553,
    "start_time": "2022-05-04T14:24:59.470Z"
   },
   {
    "duration": 3469,
    "start_time": "2022-05-04T14:25:15.469Z"
   },
   {
    "duration": 224,
    "start_time": "2022-05-04T14:25:29.529Z"
   },
   {
    "duration": 228,
    "start_time": "2022-05-04T14:25:53.399Z"
   },
   {
    "duration": 231,
    "start_time": "2022-05-04T14:26:06.130Z"
   },
   {
    "duration": 222,
    "start_time": "2022-05-04T14:26:27.849Z"
   },
   {
    "duration": 269,
    "start_time": "2022-05-04T14:26:41.974Z"
   },
   {
    "duration": 10,
    "start_time": "2022-05-04T17:45:05.784Z"
   },
   {
    "duration": 10,
    "start_time": "2022-05-04T17:45:19.818Z"
   },
   {
    "duration": 17,
    "start_time": "2022-05-04T17:46:32.579Z"
   },
   {
    "duration": 16,
    "start_time": "2022-05-04T17:46:39.233Z"
   },
   {
    "duration": 225,
    "start_time": "2022-05-04T17:48:14.594Z"
   },
   {
    "duration": 218,
    "start_time": "2022-05-04T17:48:35.786Z"
   },
   {
    "duration": 329,
    "start_time": "2022-05-04T17:49:07.507Z"
   },
   {
    "duration": 326,
    "start_time": "2022-05-04T17:49:25.007Z"
   },
   {
    "duration": 251,
    "start_time": "2022-05-04T17:49:33.687Z"
   },
   {
    "duration": 423,
    "start_time": "2022-05-04T17:49:54.802Z"
   },
   {
    "duration": 414,
    "start_time": "2022-05-04T17:49:58.229Z"
   },
   {
    "duration": 15,
    "start_time": "2022-05-04T17:56:04.314Z"
   },
   {
    "duration": 4,
    "start_time": "2022-05-04T17:56:36.586Z"
   },
   {
    "duration": 25,
    "start_time": "2022-05-04T17:58:04.983Z"
   },
   {
    "duration": 208,
    "start_time": "2022-05-04T18:01:25.549Z"
   },
   {
    "duration": 297,
    "start_time": "2022-05-04T18:01:40.322Z"
   },
   {
    "duration": 217,
    "start_time": "2022-05-04T18:01:49.772Z"
   },
   {
    "duration": 217,
    "start_time": "2022-05-04T18:02:08.765Z"
   },
   {
    "duration": 241,
    "start_time": "2022-05-04T18:02:24.910Z"
   },
   {
    "duration": 327,
    "start_time": "2022-05-04T18:02:32.929Z"
   },
   {
    "duration": 229,
    "start_time": "2022-05-04T18:02:41.735Z"
   },
   {
    "duration": 254,
    "start_time": "2022-05-04T18:03:01.906Z"
   },
   {
    "duration": 239,
    "start_time": "2022-05-04T18:08:42.813Z"
   },
   {
    "duration": 269,
    "start_time": "2022-05-04T18:09:52.731Z"
   },
   {
    "duration": 290,
    "start_time": "2022-05-04T18:10:49.181Z"
   },
   {
    "duration": 351,
    "start_time": "2022-05-04T18:10:52.327Z"
   },
   {
    "duration": 268,
    "start_time": "2022-05-04T18:13:41.953Z"
   },
   {
    "duration": 245,
    "start_time": "2022-05-04T18:13:58.990Z"
   },
   {
    "duration": 49,
    "start_time": "2022-05-05T06:21:22.036Z"
   },
   {
    "duration": 1455,
    "start_time": "2022-05-05T06:21:29.743Z"
   },
   {
    "duration": 40,
    "start_time": "2022-05-05T06:21:31.200Z"
   },
   {
    "duration": 6,
    "start_time": "2022-05-05T06:21:31.242Z"
   },
   {
    "duration": 90,
    "start_time": "2022-05-05T06:21:31.249Z"
   },
   {
    "duration": 63,
    "start_time": "2022-05-05T06:21:31.342Z"
   },
   {
    "duration": 68,
    "start_time": "2022-05-05T06:21:31.407Z"
   },
   {
    "duration": 38,
    "start_time": "2022-05-05T06:21:31.477Z"
   },
   {
    "duration": 82,
    "start_time": "2022-05-05T06:21:31.517Z"
   },
   {
    "duration": 41,
    "start_time": "2022-05-05T06:21:31.601Z"
   },
   {
    "duration": 144,
    "start_time": "2022-05-05T06:21:31.644Z"
   },
   {
    "duration": 23,
    "start_time": "2022-05-05T06:21:31.790Z"
   },
   {
    "duration": 357,
    "start_time": "2022-05-05T06:21:31.815Z"
   },
   {
    "duration": 942,
    "start_time": "2022-05-05T06:21:32.175Z"
   },
   {
    "duration": 298,
    "start_time": "2022-05-05T06:21:33.121Z"
   },
   {
    "duration": 386,
    "start_time": "2022-05-05T06:21:33.421Z"
   },
   {
    "duration": 2,
    "start_time": "2022-05-05T06:21:33.809Z"
   },
   {
    "duration": 13,
    "start_time": "2022-05-05T06:21:33.813Z"
   },
   {
    "duration": 14,
    "start_time": "2022-05-05T06:21:33.827Z"
   },
   {
    "duration": 32,
    "start_time": "2022-05-05T06:21:33.843Z"
   },
   {
    "duration": 11,
    "start_time": "2022-05-05T06:22:00.783Z"
   },
   {
    "duration": 132,
    "start_time": "2022-05-05T06:25:42.587Z"
   },
   {
    "duration": 295,
    "start_time": "2022-05-05T06:27:49.888Z"
   },
   {
    "duration": 9,
    "start_time": "2022-05-05T06:29:42.491Z"
   },
   {
    "duration": 513,
    "start_time": "2022-05-05T06:37:28.045Z"
   },
   {
    "duration": 718,
    "start_time": "2022-05-05T06:37:39.851Z"
   },
   {
    "duration": 731,
    "start_time": "2022-05-05T06:39:46.587Z"
   },
   {
    "duration": 320,
    "start_time": "2022-05-05T06:41:11.157Z"
   },
   {
    "duration": 10,
    "start_time": "2022-05-05T06:42:43.624Z"
   },
   {
    "duration": 9,
    "start_time": "2022-05-05T06:43:44.156Z"
   },
   {
    "duration": 4,
    "start_time": "2022-05-05T06:44:09.973Z"
   },
   {
    "duration": 13,
    "start_time": "2022-05-05T06:44:11.262Z"
   },
   {
    "duration": 9,
    "start_time": "2022-05-05T06:45:30.694Z"
   },
   {
    "duration": 8,
    "start_time": "2022-05-05T06:45:46.243Z"
   },
   {
    "duration": 7,
    "start_time": "2022-05-05T06:45:49.679Z"
   },
   {
    "duration": 10,
    "start_time": "2022-05-05T06:45:51.303Z"
   },
   {
    "duration": 9,
    "start_time": "2022-05-05T06:45:59.037Z"
   },
   {
    "duration": 12,
    "start_time": "2022-05-05T06:46:02.182Z"
   },
   {
    "duration": 10,
    "start_time": "2022-05-05T06:46:06.602Z"
   },
   {
    "duration": 11,
    "start_time": "2022-05-05T06:46:10.526Z"
   },
   {
    "duration": 11,
    "start_time": "2022-05-05T06:46:15.352Z"
   },
   {
    "duration": 20,
    "start_time": "2022-05-05T06:47:23.769Z"
   },
   {
    "duration": 5,
    "start_time": "2022-05-05T06:49:16.982Z"
   },
   {
    "duration": 20,
    "start_time": "2022-05-05T06:49:17.775Z"
   },
   {
    "duration": 2525,
    "start_time": "2022-05-05T06:51:54.768Z"
   },
   {
    "duration": 197,
    "start_time": "2022-05-05T06:52:16.325Z"
   },
   {
    "duration": 424,
    "start_time": "2022-05-05T06:59:36.719Z"
   },
   {
    "duration": 458,
    "start_time": "2022-05-05T06:59:45.200Z"
   },
   {
    "duration": 325,
    "start_time": "2022-05-05T06:59:50.776Z"
   },
   {
    "duration": 229,
    "start_time": "2022-05-05T07:02:54.557Z"
   },
   {
    "duration": 317,
    "start_time": "2022-05-05T07:03:16.465Z"
   },
   {
    "duration": 21,
    "start_time": "2022-05-05T07:04:19.700Z"
   },
   {
    "duration": 464,
    "start_time": "2022-05-05T07:09:34.535Z"
   },
   {
    "duration": 192,
    "start_time": "2022-05-05T07:17:35.213Z"
   },
   {
    "duration": 398,
    "start_time": "2022-05-05T07:18:39.221Z"
   },
   {
    "duration": 308,
    "start_time": "2022-05-05T07:18:42.705Z"
   },
   {
    "duration": 346,
    "start_time": "2022-05-05T07:18:53.779Z"
   },
   {
    "duration": 194,
    "start_time": "2022-05-05T07:18:56.899Z"
   },
   {
    "duration": 305,
    "start_time": "2022-05-05T07:19:17.297Z"
   },
   {
    "duration": 15,
    "start_time": "2022-05-05T07:19:23.102Z"
   },
   {
    "duration": 202,
    "start_time": "2022-05-05T07:19:25.889Z"
   },
   {
    "duration": 45,
    "start_time": "2022-05-05T08:21:57.335Z"
   },
   {
    "duration": 40,
    "start_time": "2022-05-05T08:26:07.677Z"
   },
   {
    "duration": 639,
    "start_time": "2022-05-05T08:44:49.654Z"
   },
   {
    "duration": 271,
    "start_time": "2022-05-05T08:45:20.806Z"
   },
   {
    "duration": 654,
    "start_time": "2022-05-05T08:45:45.887Z"
   },
   {
    "duration": 6532,
    "start_time": "2022-05-05T08:55:12.225Z"
   },
   {
    "duration": 283,
    "start_time": "2022-05-05T08:55:28.486Z"
   },
   {
    "duration": 597,
    "start_time": "2022-05-05T08:57:57.281Z"
   },
   {
    "duration": 625,
    "start_time": "2022-05-05T08:58:01.239Z"
   },
   {
    "duration": 318,
    "start_time": "2022-05-05T08:58:04.229Z"
   },
   {
    "duration": 416,
    "start_time": "2022-05-05T08:58:09.790Z"
   },
   {
    "duration": 291,
    "start_time": "2022-05-05T08:58:13.370Z"
   },
   {
    "duration": 47,
    "start_time": "2022-05-05T08:58:14.767Z"
   },
   {
    "duration": 13,
    "start_time": "2022-05-05T08:59:54.532Z"
   },
   {
    "duration": 1222,
    "start_time": "2022-05-05T09:00:29.977Z"
   },
   {
    "duration": 10119,
    "start_time": "2022-05-05T09:00:56.885Z"
   },
   {
    "duration": 6134,
    "start_time": "2022-05-05T09:01:30.111Z"
   },
   {
    "duration": 4106,
    "start_time": "2022-05-05T09:01:56.876Z"
   },
   {
    "duration": 6364,
    "start_time": "2022-05-05T09:02:39.236Z"
   },
   {
    "duration": 3040,
    "start_time": "2022-05-05T09:02:49.740Z"
   },
   {
    "duration": 2525,
    "start_time": "2022-05-05T09:02:56.772Z"
   },
   {
    "duration": 3404,
    "start_time": "2022-05-05T09:03:32.697Z"
   },
   {
    "duration": 3282,
    "start_time": "2022-05-05T09:04:25.086Z"
   },
   {
    "duration": 3451,
    "start_time": "2022-05-05T09:04:48.700Z"
   },
   {
    "duration": 421,
    "start_time": "2022-05-05T09:06:38.873Z"
   },
   {
    "duration": 3372,
    "start_time": "2022-05-05T09:06:41.097Z"
   },
   {
    "duration": 19,
    "start_time": "2022-05-05T09:07:17.581Z"
   },
   {
    "duration": 1477,
    "start_time": "2022-05-05T09:07:25.382Z"
   },
   {
    "duration": 62,
    "start_time": "2022-05-05T09:07:26.865Z"
   },
   {
    "duration": 7,
    "start_time": "2022-05-05T09:07:26.929Z"
   },
   {
    "duration": 110,
    "start_time": "2022-05-05T09:07:26.938Z"
   },
   {
    "duration": 98,
    "start_time": "2022-05-05T09:07:27.051Z"
   },
   {
    "duration": 57,
    "start_time": "2022-05-05T09:07:27.159Z"
   },
   {
    "duration": 83,
    "start_time": "2022-05-05T09:07:27.217Z"
   },
   {
    "duration": 25,
    "start_time": "2022-05-05T09:07:27.302Z"
   },
   {
    "duration": 17,
    "start_time": "2022-05-05T09:07:27.329Z"
   },
   {
    "duration": 47,
    "start_time": "2022-05-05T09:07:27.348Z"
   },
   {
    "duration": 18,
    "start_time": "2022-05-05T09:07:27.397Z"
   },
   {
    "duration": 329,
    "start_time": "2022-05-05T09:07:27.416Z"
   },
   {
    "duration": 732,
    "start_time": "2022-05-05T09:07:27.747Z"
   },
   {
    "duration": 359,
    "start_time": "2022-05-05T09:07:28.484Z"
   },
   {
    "duration": 388,
    "start_time": "2022-05-05T09:07:28.845Z"
   },
   {
    "duration": 9,
    "start_time": "2022-05-05T09:07:29.235Z"
   },
   {
    "duration": 24,
    "start_time": "2022-05-05T09:07:29.245Z"
   },
   {
    "duration": 53,
    "start_time": "2022-05-05T09:07:29.271Z"
   },
   {
    "duration": 21,
    "start_time": "2022-05-05T09:08:35.581Z"
   },
   {
    "duration": 3350,
    "start_time": "2022-05-05T09:09:19.097Z"
   },
   {
    "duration": 2977,
    "start_time": "2022-05-05T09:09:33.216Z"
   },
   {
    "duration": 18,
    "start_time": "2022-05-05T09:09:50.834Z"
   },
   {
    "duration": 18,
    "start_time": "2022-05-05T09:11:13.577Z"
   },
   {
    "duration": 42,
    "start_time": "2022-05-05T09:11:26.229Z"
   },
   {
    "duration": 53,
    "start_time": "2022-05-05T09:12:31.368Z"
   },
   {
    "duration": 30,
    "start_time": "2022-05-05T09:18:27.599Z"
   },
   {
    "duration": 370,
    "start_time": "2022-05-05T09:23:24.443Z"
   },
   {
    "duration": 165,
    "start_time": "2022-05-05T09:24:01.470Z"
   },
   {
    "duration": 455,
    "start_time": "2022-05-05T09:24:07.114Z"
   },
   {
    "duration": 187,
    "start_time": "2022-05-05T09:25:07.461Z"
   },
   {
    "duration": 557,
    "start_time": "2022-05-05T09:25:11.848Z"
   },
   {
    "duration": 1369,
    "start_time": "2022-05-05T09:25:16.631Z"
   },
   {
    "duration": 34,
    "start_time": "2022-05-05T09:25:18.002Z"
   },
   {
    "duration": 5,
    "start_time": "2022-05-05T09:25:18.040Z"
   },
   {
    "duration": 74,
    "start_time": "2022-05-05T09:25:18.047Z"
   },
   {
    "duration": 82,
    "start_time": "2022-05-05T09:25:18.123Z"
   },
   {
    "duration": 74,
    "start_time": "2022-05-05T09:25:18.207Z"
   },
   {
    "duration": 37,
    "start_time": "2022-05-05T09:25:18.283Z"
   },
   {
    "duration": 48,
    "start_time": "2022-05-05T09:25:18.321Z"
   },
   {
    "duration": 17,
    "start_time": "2022-05-05T09:25:18.372Z"
   },
   {
    "duration": 10,
    "start_time": "2022-05-05T09:25:18.391Z"
   },
   {
    "duration": 13,
    "start_time": "2022-05-05T09:25:18.403Z"
   },
   {
    "duration": 306,
    "start_time": "2022-05-05T09:25:18.418Z"
   },
   {
    "duration": 652,
    "start_time": "2022-05-05T09:25:18.726Z"
   },
   {
    "duration": 291,
    "start_time": "2022-05-05T09:25:19.382Z"
   },
   {
    "duration": 342,
    "start_time": "2022-05-05T09:25:19.677Z"
   },
   {
    "duration": 42,
    "start_time": "2022-05-05T09:25:20.020Z"
   },
   {
    "duration": 13,
    "start_time": "2022-05-05T09:25:20.064Z"
   },
   {
    "duration": 26,
    "start_time": "2022-05-05T09:25:20.079Z"
   },
   {
    "duration": 29,
    "start_time": "2022-05-05T09:26:09.256Z"
   },
   {
    "duration": 234,
    "start_time": "2022-05-05T09:26:28.568Z"
   },
   {
    "duration": 265,
    "start_time": "2022-05-05T09:26:44.402Z"
   },
   {
    "duration": 438,
    "start_time": "2022-05-05T09:26:53.402Z"
   },
   {
    "duration": 377,
    "start_time": "2022-05-05T09:27:01.820Z"
   },
   {
    "duration": 358,
    "start_time": "2022-05-05T09:27:10.866Z"
   },
   {
    "duration": 243,
    "start_time": "2022-05-05T09:27:18.589Z"
   },
   {
    "duration": 277,
    "start_time": "2022-05-05T09:27:27.374Z"
   },
   {
    "duration": 324,
    "start_time": "2022-05-05T09:29:11.026Z"
   },
   {
    "duration": 315,
    "start_time": "2022-05-05T09:29:18.080Z"
   },
   {
    "duration": 312,
    "start_time": "2022-05-05T09:29:20.999Z"
   },
   {
    "duration": 2,
    "start_time": "2022-05-05T09:31:58.690Z"
   },
   {
    "duration": 14,
    "start_time": "2022-05-05T09:36:23.455Z"
   },
   {
    "duration": 14,
    "start_time": "2022-05-05T09:36:42.811Z"
   },
   {
    "duration": 557,
    "start_time": "2022-05-05T09:37:27.174Z"
   },
   {
    "duration": 9,
    "start_time": "2022-05-05T09:37:41.229Z"
   },
   {
    "duration": 239,
    "start_time": "2022-05-05T09:37:43.866Z"
   },
   {
    "duration": 239,
    "start_time": "2022-05-05T09:37:49.386Z"
   },
   {
    "duration": 15,
    "start_time": "2022-05-05T09:37:53.157Z"
   },
   {
    "duration": 383,
    "start_time": "2022-05-05T09:40:59.029Z"
   },
   {
    "duration": 315,
    "start_time": "2022-05-05T09:42:07.278Z"
   },
   {
    "duration": 333,
    "start_time": "2022-05-05T09:43:17.492Z"
   },
   {
    "duration": 331,
    "start_time": "2022-05-05T09:43:26.105Z"
   },
   {
    "duration": 443,
    "start_time": "2022-05-05T09:44:01.368Z"
   },
   {
    "duration": 339,
    "start_time": "2022-05-05T09:44:12.476Z"
   },
   {
    "duration": 94,
    "start_time": "2022-05-05T11:32:00.569Z"
   },
   {
    "duration": 13,
    "start_time": "2022-05-05T11:32:04.431Z"
   },
   {
    "duration": 10,
    "start_time": "2022-05-05T11:32:44.931Z"
   },
   {
    "duration": 13,
    "start_time": "2022-05-05T11:34:37.977Z"
   },
   {
    "duration": 17,
    "start_time": "2022-05-05T11:34:43.671Z"
   },
   {
    "duration": 610,
    "start_time": "2022-05-05T11:35:13.068Z"
   },
   {
    "duration": 1394,
    "start_time": "2022-05-05T11:35:24.459Z"
   },
   {
    "duration": 22,
    "start_time": "2022-05-05T11:36:12.321Z"
   },
   {
    "duration": 17,
    "start_time": "2022-05-05T11:36:17.373Z"
   },
   {
    "duration": 20,
    "start_time": "2022-05-05T11:36:25.938Z"
   },
   {
    "duration": 20,
    "start_time": "2022-05-05T11:36:38.263Z"
   },
   {
    "duration": 10,
    "start_time": "2022-05-05T11:36:56.857Z"
   },
   {
    "duration": 151,
    "start_time": "2022-05-05T11:37:27.430Z"
   },
   {
    "duration": 139,
    "start_time": "2022-05-05T11:37:42.126Z"
   },
   {
    "duration": 148,
    "start_time": "2022-05-05T11:38:31.751Z"
   },
   {
    "duration": 148,
    "start_time": "2022-05-05T11:38:44.743Z"
   },
   {
    "duration": 135,
    "start_time": "2022-05-05T11:38:52.169Z"
   },
   {
    "duration": 130,
    "start_time": "2022-05-05T11:39:33.900Z"
   },
   {
    "duration": 166,
    "start_time": "2022-05-05T11:40:45.999Z"
   },
   {
    "duration": 17,
    "start_time": "2022-05-05T11:41:30.119Z"
   },
   {
    "duration": 161,
    "start_time": "2022-05-05T11:41:33.135Z"
   },
   {
    "duration": 17,
    "start_time": "2022-05-05T11:42:09.986Z"
   },
   {
    "duration": 1189,
    "start_time": "2022-05-05T11:42:17.179Z"
   },
   {
    "duration": 35,
    "start_time": "2022-05-05T11:42:18.370Z"
   },
   {
    "duration": 5,
    "start_time": "2022-05-05T11:42:18.407Z"
   },
   {
    "duration": 87,
    "start_time": "2022-05-05T11:42:18.415Z"
   },
   {
    "duration": 86,
    "start_time": "2022-05-05T11:42:18.504Z"
   },
   {
    "duration": 72,
    "start_time": "2022-05-05T11:42:18.592Z"
   },
   {
    "duration": 36,
    "start_time": "2022-05-05T11:42:18.666Z"
   },
   {
    "duration": 20,
    "start_time": "2022-05-05T11:42:18.704Z"
   },
   {
    "duration": 35,
    "start_time": "2022-05-05T11:42:18.726Z"
   },
   {
    "duration": 26,
    "start_time": "2022-05-05T11:42:18.764Z"
   },
   {
    "duration": 14,
    "start_time": "2022-05-05T11:42:18.791Z"
   },
   {
    "duration": 282,
    "start_time": "2022-05-05T11:42:18.807Z"
   },
   {
    "duration": 705,
    "start_time": "2022-05-05T11:42:19.090Z"
   },
   {
    "duration": 244,
    "start_time": "2022-05-05T11:42:19.797Z"
   },
   {
    "duration": 380,
    "start_time": "2022-05-05T11:42:20.043Z"
   },
   {
    "duration": 310,
    "start_time": "2022-05-05T11:42:20.425Z"
   },
   {
    "duration": 375,
    "start_time": "2022-05-05T11:42:20.737Z"
   },
   {
    "duration": 113,
    "start_time": "2022-05-05T11:42:21.114Z"
   },
   {
    "duration": 17,
    "start_time": "2022-05-05T11:43:15.477Z"
   },
   {
    "duration": 1293,
    "start_time": "2022-05-05T11:43:22.540Z"
   },
   {
    "duration": 38,
    "start_time": "2022-05-05T11:43:23.835Z"
   },
   {
    "duration": 6,
    "start_time": "2022-05-05T11:43:23.875Z"
   },
   {
    "duration": 74,
    "start_time": "2022-05-05T11:43:23.883Z"
   },
   {
    "duration": 62,
    "start_time": "2022-05-05T11:43:23.959Z"
   },
   {
    "duration": 68,
    "start_time": "2022-05-05T11:43:24.024Z"
   },
   {
    "duration": 61,
    "start_time": "2022-05-05T11:43:24.095Z"
   },
   {
    "duration": 22,
    "start_time": "2022-05-05T11:43:24.159Z"
   },
   {
    "duration": 8,
    "start_time": "2022-05-05T11:43:24.183Z"
   },
   {
    "duration": 15,
    "start_time": "2022-05-05T11:43:24.194Z"
   },
   {
    "duration": 45,
    "start_time": "2022-05-05T11:43:24.211Z"
   },
   {
    "duration": 284,
    "start_time": "2022-05-05T11:43:24.257Z"
   },
   {
    "duration": 611,
    "start_time": "2022-05-05T11:43:24.543Z"
   },
   {
    "duration": 368,
    "start_time": "2022-05-05T11:43:25.157Z"
   },
   {
    "duration": 462,
    "start_time": "2022-05-05T11:43:25.527Z"
   },
   {
    "duration": 447,
    "start_time": "2022-05-05T11:43:25.992Z"
   },
   {
    "duration": 447,
    "start_time": "2022-05-05T11:43:26.442Z"
   },
   {
    "duration": 163,
    "start_time": "2022-05-05T11:43:26.892Z"
   },
   {
    "duration": 378,
    "start_time": "2022-05-05T11:43:38.077Z"
   },
   {
    "duration": 255,
    "start_time": "2022-05-05T11:43:55.219Z"
   },
   {
    "duration": 250,
    "start_time": "2022-05-05T11:45:41.800Z"
   },
   {
    "duration": 147,
    "start_time": "2022-05-05T11:45:54.710Z"
   },
   {
    "duration": 17,
    "start_time": "2022-05-05T11:46:35.214Z"
   },
   {
    "duration": 255,
    "start_time": "2022-05-05T11:46:40.797Z"
   },
   {
    "duration": 250,
    "start_time": "2022-05-05T11:47:01.883Z"
   },
   {
    "duration": 269,
    "start_time": "2022-05-05T11:47:16.199Z"
   },
   {
    "duration": 5,
    "start_time": "2022-05-05T11:52:00.870Z"
   },
   {
    "duration": 4,
    "start_time": "2022-05-05T11:52:12.180Z"
   },
   {
    "duration": 5,
    "start_time": "2022-05-05T11:52:25.559Z"
   },
   {
    "duration": 4,
    "start_time": "2022-05-05T11:52:32.991Z"
   },
   {
    "duration": 192,
    "start_time": "2022-05-05T11:53:36.439Z"
   },
   {
    "duration": 190,
    "start_time": "2022-05-05T11:53:46.958Z"
   },
   {
    "duration": 403,
    "start_time": "2022-05-05T11:54:36.738Z"
   },
   {
    "duration": 406,
    "start_time": "2022-05-05T11:54:53.933Z"
   },
   {
    "duration": 401,
    "start_time": "2022-05-05T11:55:24.540Z"
   },
   {
    "duration": 4,
    "start_time": "2022-05-05T11:58:51.594Z"
   },
   {
    "duration": 4,
    "start_time": "2022-05-05T11:58:54.772Z"
   },
   {
    "duration": 4,
    "start_time": "2022-05-05T11:59:00.386Z"
   },
   {
    "duration": 4,
    "start_time": "2022-05-05T11:59:06.755Z"
   },
   {
    "duration": 5,
    "start_time": "2022-05-05T11:59:16.839Z"
   },
   {
    "duration": 4,
    "start_time": "2022-05-05T11:59:34.018Z"
   },
   {
    "duration": 5,
    "start_time": "2022-05-05T11:59:41.010Z"
   },
   {
    "duration": 10,
    "start_time": "2022-05-05T11:59:53.839Z"
   },
   {
    "duration": 11,
    "start_time": "2022-05-05T12:00:13.483Z"
   },
   {
    "duration": 4,
    "start_time": "2022-05-05T12:00:18.080Z"
   },
   {
    "duration": 4,
    "start_time": "2022-05-05T12:00:25.686Z"
   },
   {
    "duration": 4,
    "start_time": "2022-05-05T12:01:47.955Z"
   },
   {
    "duration": 152,
    "start_time": "2022-05-05T12:05:47.460Z"
   },
   {
    "duration": 142,
    "start_time": "2022-05-05T12:05:53.684Z"
   },
   {
    "duration": 4,
    "start_time": "2022-05-05T12:06:12.006Z"
   },
   {
    "duration": 4,
    "start_time": "2022-05-05T12:06:16.736Z"
   },
   {
    "duration": 4,
    "start_time": "2022-05-05T12:06:22.336Z"
   },
   {
    "duration": 5,
    "start_time": "2022-05-05T12:06:46.591Z"
   },
   {
    "duration": 5,
    "start_time": "2022-05-05T12:07:00.336Z"
   },
   {
    "duration": 5,
    "start_time": "2022-05-05T12:07:23.021Z"
   },
   {
    "duration": 5,
    "start_time": "2022-05-05T12:08:50.127Z"
   },
   {
    "duration": 6,
    "start_time": "2022-05-05T12:09:51.296Z"
   },
   {
    "duration": 5,
    "start_time": "2022-05-05T12:10:11.163Z"
   },
   {
    "duration": 4,
    "start_time": "2022-05-05T12:10:24.174Z"
   },
   {
    "duration": 159,
    "start_time": "2022-05-05T12:12:38.006Z"
   },
   {
    "duration": 8,
    "start_time": "2022-05-05T12:12:45.472Z"
   },
   {
    "duration": 12,
    "start_time": "2022-05-05T12:18:05.134Z"
   },
   {
    "duration": 181,
    "start_time": "2022-05-05T12:19:50.404Z"
   },
   {
    "duration": 177,
    "start_time": "2022-05-05T12:19:54.544Z"
   },
   {
    "duration": 191,
    "start_time": "2022-05-05T12:21:05.438Z"
   },
   {
    "duration": 287,
    "start_time": "2022-05-05T12:21:25.828Z"
   },
   {
    "duration": 184,
    "start_time": "2022-05-05T12:21:39.301Z"
   },
   {
    "duration": 201,
    "start_time": "2022-05-05T12:21:47.925Z"
   },
   {
    "duration": 211,
    "start_time": "2022-05-05T12:22:56.956Z"
   },
   {
    "duration": 185,
    "start_time": "2022-05-05T12:23:03.392Z"
   },
   {
    "duration": 175,
    "start_time": "2022-05-05T12:24:14.905Z"
   },
   {
    "duration": 184,
    "start_time": "2022-05-05T12:24:21.217Z"
   },
   {
    "duration": 208,
    "start_time": "2022-05-05T12:24:26.739Z"
   },
   {
    "duration": 174,
    "start_time": "2022-05-05T12:24:35.896Z"
   },
   {
    "duration": 198,
    "start_time": "2022-05-05T12:24:43.271Z"
   },
   {
    "duration": 195,
    "start_time": "2022-05-05T12:24:46.847Z"
   },
   {
    "duration": 235,
    "start_time": "2022-05-05T12:25:08.353Z"
   },
   {
    "duration": 200,
    "start_time": "2022-05-05T12:25:16.287Z"
   },
   {
    "duration": 196,
    "start_time": "2022-05-05T12:25:24.093Z"
   },
   {
    "duration": 195,
    "start_time": "2022-05-05T12:25:50.041Z"
   },
   {
    "duration": 197,
    "start_time": "2022-05-05T12:25:54.463Z"
   },
   {
    "duration": 235,
    "start_time": "2022-05-05T12:26:07.541Z"
   },
   {
    "duration": 339,
    "start_time": "2022-05-05T12:26:17.697Z"
   },
   {
    "duration": 4,
    "start_time": "2022-05-05T12:27:03.554Z"
   },
   {
    "duration": 194,
    "start_time": "2022-05-05T12:27:12.842Z"
   },
   {
    "duration": 188,
    "start_time": "2022-05-05T12:27:24.829Z"
   },
   {
    "duration": 203,
    "start_time": "2022-05-05T12:27:55.641Z"
   },
   {
    "duration": 200,
    "start_time": "2022-05-05T12:28:01.331Z"
   },
   {
    "duration": 189,
    "start_time": "2022-05-05T12:28:24.022Z"
   },
   {
    "duration": 206,
    "start_time": "2022-05-05T12:30:03.067Z"
   },
   {
    "duration": 204,
    "start_time": "2022-05-05T12:30:17.979Z"
   },
   {
    "duration": 214,
    "start_time": "2022-05-05T12:30:25.180Z"
   },
   {
    "duration": 12,
    "start_time": "2022-05-05T12:31:11.325Z"
   },
   {
    "duration": 13,
    "start_time": "2022-05-05T12:32:23.239Z"
   },
   {
    "duration": 12,
    "start_time": "2022-05-05T12:32:44.221Z"
   },
   {
    "duration": 8,
    "start_time": "2022-05-05T12:32:47.583Z"
   },
   {
    "duration": 19,
    "start_time": "2022-05-05T12:32:50.662Z"
   },
   {
    "duration": 15,
    "start_time": "2022-05-05T12:32:56.844Z"
   },
   {
    "duration": 13,
    "start_time": "2022-05-05T12:33:02.583Z"
   },
   {
    "duration": 7,
    "start_time": "2022-05-05T12:33:26.698Z"
   },
   {
    "duration": 9,
    "start_time": "2022-05-05T12:33:43.440Z"
   },
   {
    "duration": 10,
    "start_time": "2022-05-05T12:34:06.850Z"
   },
   {
    "duration": 14,
    "start_time": "2022-05-05T12:35:22.820Z"
   },
   {
    "duration": 17,
    "start_time": "2022-05-05T12:35:46.048Z"
   },
   {
    "duration": 14,
    "start_time": "2022-05-05T12:35:54.689Z"
   },
   {
    "duration": 14,
    "start_time": "2022-05-05T12:36:22.579Z"
   },
   {
    "duration": 13,
    "start_time": "2022-05-05T12:36:32.184Z"
   },
   {
    "duration": 13,
    "start_time": "2022-05-05T12:36:38.839Z"
   },
   {
    "duration": 16,
    "start_time": "2022-05-05T12:37:30.889Z"
   },
   {
    "duration": 12,
    "start_time": "2022-05-05T12:42:45.701Z"
   },
   {
    "duration": 5,
    "start_time": "2022-05-05T12:45:51.692Z"
   },
   {
    "duration": 205,
    "start_time": "2022-05-05T12:47:03.621Z"
   },
   {
    "duration": 217,
    "start_time": "2022-05-05T12:47:10.893Z"
   },
   {
    "duration": 215,
    "start_time": "2022-05-05T12:47:14.424Z"
   },
   {
    "duration": 212,
    "start_time": "2022-05-05T12:47:17.681Z"
   },
   {
    "duration": 209,
    "start_time": "2022-05-05T12:47:25.926Z"
   },
   {
    "duration": 209,
    "start_time": "2022-05-05T12:47:37.084Z"
   },
   {
    "duration": 4,
    "start_time": "2022-05-05T12:49:21.898Z"
   },
   {
    "duration": 5,
    "start_time": "2022-05-05T12:49:39.425Z"
   },
   {
    "duration": 323,
    "start_time": "2022-05-05T12:49:53.659Z"
   },
   {
    "duration": 215,
    "start_time": "2022-05-05T12:49:59.114Z"
   },
   {
    "duration": 4,
    "start_time": "2022-05-05T12:50:19.236Z"
   },
   {
    "duration": 4,
    "start_time": "2022-05-05T12:50:53.827Z"
   },
   {
    "duration": 5,
    "start_time": "2022-05-05T12:51:25.353Z"
   },
   {
    "duration": 4,
    "start_time": "2022-05-05T13:07:07.929Z"
   },
   {
    "duration": 5,
    "start_time": "2022-05-05T13:07:36.706Z"
   },
   {
    "duration": 5,
    "start_time": "2022-05-05T13:09:15.184Z"
   },
   {
    "duration": 6,
    "start_time": "2022-05-05T13:09:28.197Z"
   },
   {
    "duration": 194,
    "start_time": "2022-05-05T13:13:26.560Z"
   },
   {
    "duration": 194,
    "start_time": "2022-05-05T13:13:38.020Z"
   },
   {
    "duration": 6,
    "start_time": "2022-05-05T13:17:33.535Z"
   },
   {
    "duration": 5,
    "start_time": "2022-05-05T13:18:04.327Z"
   },
   {
    "duration": 5,
    "start_time": "2022-05-05T13:18:15.216Z"
   },
   {
    "duration": 5,
    "start_time": "2022-05-05T13:18:19.845Z"
   },
   {
    "duration": 5,
    "start_time": "2022-05-05T13:18:53.892Z"
   },
   {
    "duration": 186,
    "start_time": "2022-05-05T13:19:51.773Z"
   },
   {
    "duration": 341,
    "start_time": "2022-05-05T13:20:01.491Z"
   },
   {
    "duration": 5,
    "start_time": "2022-05-05T13:20:22.418Z"
   },
   {
    "duration": 524,
    "start_time": "2022-05-05T13:20:26.975Z"
   },
   {
    "duration": 543,
    "start_time": "2022-05-05T13:20:34.809Z"
   },
   {
    "duration": 6,
    "start_time": "2022-05-05T13:20:37.290Z"
   },
   {
    "duration": 5,
    "start_time": "2022-05-05T13:20:39.773Z"
   },
   {
    "duration": 10,
    "start_time": "2022-05-05T13:21:38.204Z"
   },
   {
    "duration": 14,
    "start_time": "2022-05-05T13:23:54.524Z"
   },
   {
    "duration": 9,
    "start_time": "2022-05-05T13:24:04.060Z"
   },
   {
    "duration": 11,
    "start_time": "2022-05-05T13:28:18.172Z"
   },
   {
    "duration": 18,
    "start_time": "2022-05-05T13:28:28.055Z"
   },
   {
    "duration": 23,
    "start_time": "2022-05-05T13:30:05.325Z"
   },
   {
    "duration": 24,
    "start_time": "2022-05-05T13:30:24.018Z"
   },
   {
    "duration": 23,
    "start_time": "2022-05-05T13:30:35.012Z"
   },
   {
    "duration": 24,
    "start_time": "2022-05-05T13:30:37.653Z"
   },
   {
    "duration": 23,
    "start_time": "2022-05-05T13:30:41.730Z"
   },
   {
    "duration": 25,
    "start_time": "2022-05-05T13:36:09.972Z"
   },
   {
    "duration": 29,
    "start_time": "2022-05-05T13:36:18.145Z"
   },
   {
    "duration": 19,
    "start_time": "2022-05-05T13:40:08.996Z"
   },
   {
    "duration": 6,
    "start_time": "2022-05-05T13:46:44.399Z"
   },
   {
    "duration": 7,
    "start_time": "2022-05-05T13:46:53.458Z"
   },
   {
    "duration": 5,
    "start_time": "2022-05-05T13:46:57.964Z"
   },
   {
    "duration": 7,
    "start_time": "2022-05-05T13:46:59.143Z"
   },
   {
    "duration": 10,
    "start_time": "2022-05-05T13:48:01.501Z"
   },
   {
    "duration": 21,
    "start_time": "2022-05-05T13:48:11.447Z"
   },
   {
    "duration": 15,
    "start_time": "2022-05-05T13:49:56.570Z"
   },
   {
    "duration": 11,
    "start_time": "2022-05-05T13:50:00.844Z"
   },
   {
    "duration": 12,
    "start_time": "2022-05-05T14:02:09.782Z"
   },
   {
    "duration": 17,
    "start_time": "2022-05-05T14:03:11.874Z"
   },
   {
    "duration": 16,
    "start_time": "2022-05-05T14:03:41.932Z"
   },
   {
    "duration": 14,
    "start_time": "2022-05-05T14:04:06.213Z"
   },
   {
    "duration": 7,
    "start_time": "2022-05-05T14:16:16.491Z"
   },
   {
    "duration": 6,
    "start_time": "2022-05-05T14:16:27.513Z"
   },
   {
    "duration": 6,
    "start_time": "2022-05-05T14:16:34.593Z"
   },
   {
    "duration": 8,
    "start_time": "2022-05-05T14:17:08.768Z"
   },
   {
    "duration": 6,
    "start_time": "2022-05-05T14:17:52.020Z"
   },
   {
    "duration": 2092,
    "start_time": "2022-05-05T14:18:36.319Z"
   },
   {
    "duration": 6,
    "start_time": "2022-05-05T14:18:47.470Z"
   },
   {
    "duration": 21,
    "start_time": "2022-05-05T14:20:01.006Z"
   },
   {
    "duration": 5,
    "start_time": "2022-05-05T14:20:04.204Z"
   },
   {
    "duration": 28,
    "start_time": "2022-05-05T14:20:41.332Z"
   },
   {
    "duration": 30,
    "start_time": "2022-05-05T14:20:46.480Z"
   },
   {
    "duration": 32,
    "start_time": "2022-05-05T14:21:01.668Z"
   },
   {
    "duration": 36,
    "start_time": "2022-05-05T14:21:49.591Z"
   },
   {
    "duration": 42,
    "start_time": "2022-05-05T14:22:43.672Z"
   },
   {
    "duration": 41,
    "start_time": "2022-05-05T14:22:48.471Z"
   },
   {
    "duration": 6,
    "start_time": "2022-05-05T14:22:57.754Z"
   },
   {
    "duration": 8,
    "start_time": "2022-05-05T14:22:59.196Z"
   },
   {
    "duration": 5,
    "start_time": "2022-05-05T14:23:01.491Z"
   },
   {
    "duration": 5,
    "start_time": "2022-05-05T14:23:03.312Z"
   },
   {
    "duration": 45,
    "start_time": "2022-05-05T14:23:05.136Z"
   },
   {
    "duration": 47,
    "start_time": "2022-05-05T14:23:06.740Z"
   },
   {
    "duration": 14,
    "start_time": "2022-05-05T14:23:26.594Z"
   },
   {
    "duration": 13,
    "start_time": "2022-05-05T14:23:28.411Z"
   },
   {
    "duration": 12,
    "start_time": "2022-05-05T14:23:28.637Z"
   },
   {
    "duration": 12,
    "start_time": "2022-05-05T14:23:28.821Z"
   },
   {
    "duration": 14,
    "start_time": "2022-05-05T14:25:29.854Z"
   },
   {
    "duration": 12,
    "start_time": "2022-05-05T14:25:37.107Z"
   },
   {
    "duration": 7,
    "start_time": "2022-05-05T14:26:12.977Z"
   },
   {
    "duration": 6,
    "start_time": "2022-05-05T14:29:42.005Z"
   },
   {
    "duration": 18,
    "start_time": "2022-05-05T14:35:33.307Z"
   },
   {
    "duration": 6,
    "start_time": "2022-05-05T14:35:42.740Z"
   },
   {
    "duration": 11,
    "start_time": "2022-05-05T14:35:55.947Z"
   },
   {
    "duration": 4,
    "start_time": "2022-05-05T14:35:59.496Z"
   },
   {
    "duration": 9,
    "start_time": "2022-05-05T14:36:45.483Z"
   },
   {
    "duration": 199,
    "start_time": "2022-05-05T14:39:06.788Z"
   },
   {
    "duration": 16,
    "start_time": "2022-05-05T14:39:09.933Z"
   },
   {
    "duration": 6,
    "start_time": "2022-05-05T14:44:25.795Z"
   },
   {
    "duration": 6,
    "start_time": "2022-05-05T14:44:31.002Z"
   },
   {
    "duration": 6,
    "start_time": "2022-05-05T14:44:47.436Z"
   },
   {
    "duration": 5,
    "start_time": "2022-05-05T14:44:56.172Z"
   },
   {
    "duration": 7,
    "start_time": "2022-05-05T14:45:01.668Z"
   },
   {
    "duration": 32,
    "start_time": "2022-05-05T18:18:53.554Z"
   },
   {
    "duration": 28,
    "start_time": "2022-05-05T18:19:01.228Z"
   },
   {
    "duration": 21,
    "start_time": "2022-05-05T18:19:26.462Z"
   },
   {
    "duration": 65,
    "start_time": "2022-05-05T18:19:34.930Z"
   },
   {
    "duration": 58,
    "start_time": "2022-05-05T18:19:45.321Z"
   },
   {
    "duration": 7,
    "start_time": "2022-05-05T18:20:51.928Z"
   },
   {
    "duration": 6,
    "start_time": "2022-05-05T18:21:47.608Z"
   },
   {
    "duration": 7,
    "start_time": "2022-05-05T18:22:02.501Z"
   },
   {
    "duration": 7,
    "start_time": "2022-05-05T18:22:25.958Z"
   },
   {
    "duration": 8,
    "start_time": "2022-05-05T18:22:47.333Z"
   },
   {
    "duration": 4,
    "start_time": "2022-05-05T18:22:54.771Z"
   },
   {
    "duration": 86,
    "start_time": "2022-05-05T18:30:12.508Z"
   },
   {
    "duration": 13,
    "start_time": "2022-05-05T18:31:51.350Z"
   },
   {
    "duration": 15,
    "start_time": "2022-05-05T18:31:57.553Z"
   },
   {
    "duration": 5,
    "start_time": "2022-05-05T18:32:25.443Z"
   },
   {
    "duration": 4,
    "start_time": "2022-05-05T18:33:51.590Z"
   },
   {
    "duration": 15,
    "start_time": "2022-05-05T18:34:11.456Z"
   },
   {
    "duration": 18,
    "start_time": "2022-05-05T18:34:18.882Z"
   },
   {
    "duration": 12,
    "start_time": "2022-05-05T18:34:32.420Z"
   },
   {
    "duration": 6,
    "start_time": "2022-05-05T18:35:28.618Z"
   },
   {
    "duration": 5,
    "start_time": "2022-05-05T18:35:36.696Z"
   },
   {
    "duration": 150,
    "start_time": "2022-05-05T18:36:53.124Z"
   },
   {
    "duration": 6,
    "start_time": "2022-05-05T18:37:01.034Z"
   },
   {
    "duration": 14,
    "start_time": "2022-05-05T18:37:17.059Z"
   },
   {
    "duration": 5,
    "start_time": "2022-05-05T18:38:15.994Z"
   },
   {
    "duration": 11,
    "start_time": "2022-05-05T18:38:29.842Z"
   },
   {
    "duration": 14,
    "start_time": "2022-05-05T18:38:34.792Z"
   },
   {
    "duration": 12,
    "start_time": "2022-05-05T18:38:54.105Z"
   },
   {
    "duration": 19,
    "start_time": "2022-05-05T18:39:03.063Z"
   },
   {
    "duration": 26,
    "start_time": "2022-05-05T18:39:13.798Z"
   },
   {
    "duration": 33,
    "start_time": "2022-05-05T18:39:23.089Z"
   },
   {
    "duration": 26,
    "start_time": "2022-05-05T18:39:36.395Z"
   },
   {
    "duration": 171,
    "start_time": "2022-05-05T18:39:51.918Z"
   },
   {
    "duration": 18,
    "start_time": "2022-05-05T18:39:55.291Z"
   },
   {
    "duration": 17,
    "start_time": "2022-05-05T18:43:12.050Z"
   },
   {
    "duration": 16,
    "start_time": "2022-05-05T18:43:40.642Z"
   },
   {
    "duration": 24,
    "start_time": "2022-05-05T18:43:53.206Z"
   },
   {
    "duration": 21,
    "start_time": "2022-05-05T18:47:15.115Z"
   },
   {
    "duration": 42,
    "start_time": "2022-05-05T18:47:21.556Z"
   },
   {
    "duration": 41,
    "start_time": "2022-05-05T18:48:14.906Z"
   },
   {
    "duration": 41,
    "start_time": "2022-05-05T18:48:15.710Z"
   },
   {
    "duration": 43,
    "start_time": "2022-05-05T18:48:20.015Z"
   },
   {
    "duration": 41,
    "start_time": "2022-05-05T18:48:35.016Z"
   },
   {
    "duration": 49,
    "start_time": "2022-05-05T18:48:37.910Z"
   },
   {
    "duration": 42,
    "start_time": "2022-05-05T18:48:46.903Z"
   },
   {
    "duration": 40,
    "start_time": "2022-05-05T18:48:54.840Z"
   },
   {
    "duration": 55,
    "start_time": "2022-05-05T18:52:28.390Z"
   },
   {
    "duration": 80,
    "start_time": "2022-05-05T18:52:36.714Z"
   },
   {
    "duration": 51,
    "start_time": "2022-05-05T18:53:23.845Z"
   },
   {
    "duration": 14,
    "start_time": "2022-05-05T18:56:09.419Z"
   },
   {
    "duration": 11,
    "start_time": "2022-05-05T18:57:27.114Z"
   },
   {
    "duration": 12,
    "start_time": "2022-05-05T18:57:33.776Z"
   },
   {
    "duration": 17,
    "start_time": "2022-05-05T18:57:49.290Z"
   },
   {
    "duration": 19,
    "start_time": "2022-05-05T18:58:07.686Z"
   },
   {
    "duration": 16,
    "start_time": "2022-05-05T18:58:12.951Z"
   },
   {
    "duration": 12,
    "start_time": "2022-05-05T18:58:29.359Z"
   },
   {
    "duration": 3,
    "start_time": "2022-05-05T19:02:22.403Z"
   },
   {
    "duration": 48,
    "start_time": "2022-05-05T19:04:33.085Z"
   },
   {
    "duration": 55,
    "start_time": "2022-05-05T19:05:26.198Z"
   },
   {
    "duration": 54,
    "start_time": "2022-05-05T19:06:49.384Z"
   },
   {
    "duration": 1281,
    "start_time": "2022-05-05T19:06:57.209Z"
   },
   {
    "duration": 63,
    "start_time": "2022-05-05T19:06:58.492Z"
   },
   {
    "duration": 7,
    "start_time": "2022-05-05T19:06:58.556Z"
   },
   {
    "duration": 89,
    "start_time": "2022-05-05T19:06:58.565Z"
   },
   {
    "duration": 63,
    "start_time": "2022-05-05T19:06:58.656Z"
   },
   {
    "duration": 66,
    "start_time": "2022-05-05T19:06:58.721Z"
   },
   {
    "duration": 71,
    "start_time": "2022-05-05T19:06:58.788Z"
   },
   {
    "duration": 26,
    "start_time": "2022-05-05T19:06:58.861Z"
   },
   {
    "duration": 8,
    "start_time": "2022-05-05T19:06:58.889Z"
   },
   {
    "duration": 13,
    "start_time": "2022-05-05T19:06:58.899Z"
   },
   {
    "duration": 11,
    "start_time": "2022-05-05T19:06:58.914Z"
   },
   {
    "duration": 319,
    "start_time": "2022-05-05T19:06:58.926Z"
   },
   {
    "duration": 622,
    "start_time": "2022-05-05T19:06:59.247Z"
   },
   {
    "duration": 274,
    "start_time": "2022-05-05T19:06:59.871Z"
   },
   {
    "duration": 366,
    "start_time": "2022-05-05T19:07:00.146Z"
   },
   {
    "duration": 318,
    "start_time": "2022-05-05T19:07:00.513Z"
   },
   {
    "duration": 539,
    "start_time": "2022-05-05T19:07:00.833Z"
   },
   {
    "duration": 200,
    "start_time": "2022-05-05T19:07:01.374Z"
   },
   {
    "duration": 6,
    "start_time": "2022-05-05T19:07:01.576Z"
   },
   {
    "duration": 218,
    "start_time": "2022-05-05T19:07:01.584Z"
   },
   {
    "duration": 6,
    "start_time": "2022-05-05T19:07:01.804Z"
   },
   {
    "duration": 144,
    "start_time": "2022-05-05T19:07:01.812Z"
   },
   {
    "duration": 13,
    "start_time": "2022-05-05T19:07:01.959Z"
   },
   {
    "duration": 17,
    "start_time": "2022-05-05T19:07:01.974Z"
   },
   {
    "duration": 19,
    "start_time": "2022-05-05T19:07:01.992Z"
   },
   {
    "duration": 2392,
    "start_time": "2022-05-05T19:10:24.127Z"
   },
   {
    "duration": 0,
    "start_time": "2022-05-05T19:10:43.464Z"
   },
   {
    "duration": 2442,
    "start_time": "2022-05-05T19:10:48.507Z"
   },
   {
    "duration": 11,
    "start_time": "2022-05-05T19:10:56.660Z"
   },
   {
    "duration": 2379,
    "start_time": "2022-05-05T19:11:53.166Z"
   },
   {
    "duration": 18,
    "start_time": "2022-05-05T19:12:14.509Z"
   },
   {
    "duration": 28,
    "start_time": "2022-05-05T19:12:25.866Z"
   },
   {
    "duration": 29,
    "start_time": "2022-05-05T19:12:37.740Z"
   },
   {
    "duration": 19,
    "start_time": "2022-05-05T19:13:46.367Z"
   },
   {
    "duration": 2266,
    "start_time": "2022-05-05T19:13:50.775Z"
   },
   {
    "duration": 14,
    "start_time": "2022-05-05T19:14:18.817Z"
   },
   {
    "duration": 144,
    "start_time": "2022-05-05T19:25:47.963Z"
   },
   {
    "duration": 146,
    "start_time": "2022-05-05T19:36:44.148Z"
   },
   {
    "duration": 177,
    "start_time": "2022-05-07T06:16:43.698Z"
   },
   {
    "duration": 5,
    "start_time": "2022-05-08T05:35:45.378Z"
   },
   {
    "duration": 66,
    "start_time": "2022-05-08T05:55:16.415Z"
   },
   {
    "duration": 1799,
    "start_time": "2022-05-08T05:55:24.599Z"
   },
   {
    "duration": 74,
    "start_time": "2022-05-08T05:55:26.401Z"
   },
   {
    "duration": 8,
    "start_time": "2022-05-08T05:55:26.478Z"
   },
   {
    "duration": 129,
    "start_time": "2022-05-08T05:55:26.488Z"
   },
   {
    "duration": 116,
    "start_time": "2022-05-08T05:55:26.619Z"
   },
   {
    "duration": 94,
    "start_time": "2022-05-08T05:55:26.737Z"
   },
   {
    "duration": 73,
    "start_time": "2022-05-08T05:55:26.833Z"
   },
   {
    "duration": 35,
    "start_time": "2022-05-08T05:55:26.908Z"
   },
   {
    "duration": 13,
    "start_time": "2022-05-08T05:55:26.946Z"
   },
   {
    "duration": 45,
    "start_time": "2022-05-08T05:55:26.964Z"
   },
   {
    "duration": 24,
    "start_time": "2022-05-08T05:55:27.011Z"
   },
   {
    "duration": 21,
    "start_time": "2022-05-08T05:55:27.037Z"
   },
   {
    "duration": 551,
    "start_time": "2022-05-08T05:55:27.060Z"
   },
   {
    "duration": 1545,
    "start_time": "2022-05-08T05:55:27.614Z"
   },
   {
    "duration": 470,
    "start_time": "2022-05-08T05:55:29.162Z"
   },
   {
    "duration": 623,
    "start_time": "2022-05-08T05:55:29.634Z"
   },
   {
    "duration": 566,
    "start_time": "2022-05-08T05:55:30.260Z"
   },
   {
    "duration": 665,
    "start_time": "2022-05-08T05:55:30.828Z"
   },
   {
    "duration": 358,
    "start_time": "2022-05-08T05:55:31.496Z"
   },
   {
    "duration": 7,
    "start_time": "2022-05-08T05:55:31.856Z"
   },
   {
    "duration": 371,
    "start_time": "2022-05-08T05:55:31.865Z"
   },
   {
    "duration": 7,
    "start_time": "2022-05-08T05:55:32.238Z"
   },
   {
    "duration": 111,
    "start_time": "2022-05-08T05:55:32.249Z"
   },
   {
    "duration": 19,
    "start_time": "2022-05-08T05:55:32.363Z"
   },
   {
    "duration": 23,
    "start_time": "2022-05-08T05:55:32.385Z"
   },
   {
    "duration": 8,
    "start_time": "2022-05-08T05:55:32.413Z"
   },
   {
    "duration": 13,
    "start_time": "2022-05-08T05:55:32.423Z"
   },
   {
    "duration": 73,
    "start_time": "2022-05-08T05:55:32.441Z"
   },
   {
    "duration": 21,
    "start_time": "2022-05-08T05:55:32.516Z"
   },
   {
    "duration": 12,
    "start_time": "2022-05-08T05:58:14.094Z"
   },
   {
    "duration": 9,
    "start_time": "2022-05-08T05:58:19.301Z"
   },
   {
    "duration": 432,
    "start_time": "2022-05-08T05:58:26.250Z"
   },
   {
    "duration": 7,
    "start_time": "2022-05-08T05:58:51.701Z"
   },
   {
    "duration": 7,
    "start_time": "2022-05-08T05:58:57.186Z"
   },
   {
    "duration": 9,
    "start_time": "2022-05-08T06:00:45.027Z"
   },
   {
    "duration": 224,
    "start_time": "2022-05-08T06:00:46.282Z"
   },
   {
    "duration": 440,
    "start_time": "2022-05-08T06:01:02.853Z"
   },
   {
    "duration": 25,
    "start_time": "2022-05-08T06:01:14.967Z"
   },
   {
    "duration": 21,
    "start_time": "2022-05-08T06:01:38.319Z"
   },
   {
    "duration": 559,
    "start_time": "2022-05-08T06:01:42.670Z"
   },
   {
    "duration": 592,
    "start_time": "2022-05-08T06:03:13.709Z"
   },
   {
    "duration": 616,
    "start_time": "2022-05-08T06:03:23.416Z"
   },
   {
    "duration": 337,
    "start_time": "2022-05-08T06:04:15.199Z"
   },
   {
    "duration": 348,
    "start_time": "2022-05-08T06:04:25.907Z"
   },
   {
    "duration": 377,
    "start_time": "2022-05-08T06:05:13.148Z"
   },
   {
    "duration": 397,
    "start_time": "2022-05-08T06:05:20.245Z"
   },
   {
    "duration": 482,
    "start_time": "2022-05-08T06:08:27.230Z"
   },
   {
    "duration": 7,
    "start_time": "2022-05-08T06:12:15.225Z"
   },
   {
    "duration": 7,
    "start_time": "2022-05-08T06:12:21.763Z"
   },
   {
    "duration": 17,
    "start_time": "2022-05-08T06:13:23.776Z"
   },
   {
    "duration": 15,
    "start_time": "2022-05-08T06:14:03.527Z"
   },
   {
    "duration": 13,
    "start_time": "2022-05-08T06:14:13.774Z"
   },
   {
    "duration": 13,
    "start_time": "2022-05-08T06:14:48.264Z"
   },
   {
    "duration": 16,
    "start_time": "2022-05-08T06:16:33.747Z"
   },
   {
    "duration": 13,
    "start_time": "2022-05-08T06:17:12.656Z"
   },
   {
    "duration": 7,
    "start_time": "2022-05-08T06:17:14.331Z"
   },
   {
    "duration": 31,
    "start_time": "2022-05-08T06:17:26.009Z"
   },
   {
    "duration": 16,
    "start_time": "2022-05-08T06:17:31.140Z"
   },
   {
    "duration": 19,
    "start_time": "2022-05-08T06:17:49.728Z"
   },
   {
    "duration": 19,
    "start_time": "2022-05-08T06:18:02.907Z"
   },
   {
    "duration": 15,
    "start_time": "2022-05-08T06:18:27.251Z"
   },
   {
    "duration": 29,
    "start_time": "2022-05-08T06:19:58.045Z"
   },
   {
    "duration": 3,
    "start_time": "2022-05-08T06:20:15.661Z"
   },
   {
    "duration": 30,
    "start_time": "2022-05-08T06:25:06.151Z"
   },
   {
    "duration": 262,
    "start_time": "2022-05-08T06:27:24.345Z"
   },
   {
    "duration": 278,
    "start_time": "2022-05-08T06:27:33.662Z"
   },
   {
    "duration": 43,
    "start_time": "2022-05-08T06:32:17.459Z"
   },
   {
    "duration": 19,
    "start_time": "2022-05-08T06:37:19.743Z"
   },
   {
    "duration": 12,
    "start_time": "2022-05-08T06:37:31.258Z"
   },
   {
    "duration": 10,
    "start_time": "2022-05-08T06:38:34.594Z"
   },
   {
    "duration": 23,
    "start_time": "2022-05-08T06:39:09.333Z"
   },
   {
    "duration": 21,
    "start_time": "2022-05-08T06:39:27.025Z"
   },
   {
    "duration": 22,
    "start_time": "2022-05-08T06:39:40.808Z"
   },
   {
    "duration": 25,
    "start_time": "2022-05-08T06:39:49.054Z"
   },
   {
    "duration": 251,
    "start_time": "2022-05-08T06:44:01.413Z"
   },
   {
    "duration": 15,
    "start_time": "2022-05-08T06:44:05.091Z"
   },
   {
    "duration": 6,
    "start_time": "2022-05-08T06:44:12.949Z"
   },
   {
    "duration": 253,
    "start_time": "2022-05-08T06:44:33.927Z"
   },
   {
    "duration": 24,
    "start_time": "2022-05-08T06:44:36.729Z"
   },
   {
    "duration": 17,
    "start_time": "2022-05-08T06:46:10.563Z"
   },
   {
    "duration": 17,
    "start_time": "2022-05-08T06:46:22.906Z"
   },
   {
    "duration": 18,
    "start_time": "2022-05-08T06:46:38.833Z"
   },
   {
    "duration": 14,
    "start_time": "2022-05-08T06:46:51.007Z"
   },
   {
    "duration": 18,
    "start_time": "2022-05-08T06:46:52.487Z"
   },
   {
    "duration": 23,
    "start_time": "2022-05-08T06:46:57.371Z"
   },
   {
    "duration": 31,
    "start_time": "2022-05-08T06:47:16.988Z"
   },
   {
    "duration": 28,
    "start_time": "2022-05-08T06:49:12.984Z"
   },
   {
    "duration": 193,
    "start_time": "2022-05-08T06:49:44.032Z"
   },
   {
    "duration": 22,
    "start_time": "2022-05-08T06:50:01.534Z"
   },
   {
    "duration": 14,
    "start_time": "2022-05-08T06:50:16.990Z"
   },
   {
    "duration": 25,
    "start_time": "2022-05-08T06:50:18.954Z"
   },
   {
    "duration": 19,
    "start_time": "2022-05-08T06:51:12.228Z"
   },
   {
    "duration": 33,
    "start_time": "2022-05-08T06:51:15.463Z"
   },
   {
    "duration": 53,
    "start_time": "2022-05-08T06:51:42.137Z"
   },
   {
    "duration": 204,
    "start_time": "2022-05-08T06:51:55.817Z"
   },
   {
    "duration": 13,
    "start_time": "2022-05-08T06:51:59.274Z"
   },
   {
    "duration": 18,
    "start_time": "2022-05-08T06:52:06.991Z"
   },
   {
    "duration": 39,
    "start_time": "2022-05-08T06:52:14.513Z"
   },
   {
    "duration": 36,
    "start_time": "2022-05-08T06:53:03.734Z"
   },
   {
    "duration": 36,
    "start_time": "2022-05-08T06:53:12.506Z"
   },
   {
    "duration": 26,
    "start_time": "2022-05-08T06:55:44.638Z"
   },
   {
    "duration": 21,
    "start_time": "2022-05-08T06:55:48.737Z"
   },
   {
    "duration": 6,
    "start_time": "2022-05-08T06:57:47.374Z"
   },
   {
    "duration": 3,
    "start_time": "2022-05-08T06:58:06.032Z"
   },
   {
    "duration": 3,
    "start_time": "2022-05-08T06:58:06.500Z"
   },
   {
    "duration": 4,
    "start_time": "2022-05-08T06:58:08.434Z"
   },
   {
    "duration": 13,
    "start_time": "2022-05-08T06:58:09.038Z"
   },
   {
    "duration": 42,
    "start_time": "2022-05-08T06:58:16.903Z"
   },
   {
    "duration": 19,
    "start_time": "2022-05-08T06:58:22.804Z"
   },
   {
    "duration": 210,
    "start_time": "2022-05-08T06:59:31.156Z"
   },
   {
    "duration": 230,
    "start_time": "2022-05-08T06:59:38.252Z"
   },
   {
    "duration": 20,
    "start_time": "2022-05-08T06:59:44.519Z"
   },
   {
    "duration": 20,
    "start_time": "2022-05-08T07:00:20.019Z"
   },
   {
    "duration": 20,
    "start_time": "2022-05-08T07:02:19.708Z"
   },
   {
    "duration": 19,
    "start_time": "2022-05-08T07:02:35.761Z"
   },
   {
    "duration": 16,
    "start_time": "2022-05-08T07:02:39.743Z"
   },
   {
    "duration": 20,
    "start_time": "2022-05-08T07:02:42.857Z"
   },
   {
    "duration": 188,
    "start_time": "2022-05-08T07:03:33.214Z"
   },
   {
    "duration": 212,
    "start_time": "2022-05-08T07:04:07.499Z"
   },
   {
    "duration": 19,
    "start_time": "2022-05-08T07:05:20.923Z"
   },
   {
    "duration": 18,
    "start_time": "2022-05-08T07:06:55.311Z"
   },
   {
    "duration": 205,
    "start_time": "2022-05-08T07:07:04.904Z"
   },
   {
    "duration": 184,
    "start_time": "2022-05-08T07:07:17.758Z"
   },
   {
    "duration": 29,
    "start_time": "2022-05-08T07:07:26.222Z"
   },
   {
    "duration": 30,
    "start_time": "2022-05-08T07:08:29.484Z"
   },
   {
    "duration": 22,
    "start_time": "2022-05-08T07:08:40.556Z"
   },
   {
    "duration": 7,
    "start_time": "2022-05-08T07:10:08.693Z"
   },
   {
    "duration": 34,
    "start_time": "2022-05-08T07:10:21.299Z"
   },
   {
    "duration": 27,
    "start_time": "2022-05-08T07:11:07.578Z"
   },
   {
    "duration": 30,
    "start_time": "2022-05-08T07:11:13.807Z"
   },
   {
    "duration": 26,
    "start_time": "2022-05-08T07:12:21.169Z"
   },
   {
    "duration": 25,
    "start_time": "2022-05-08T07:13:04.001Z"
   },
   {
    "duration": 30,
    "start_time": "2022-05-08T07:14:10.514Z"
   },
   {
    "duration": 32,
    "start_time": "2022-05-08T07:14:28.318Z"
   },
   {
    "duration": 34,
    "start_time": "2022-05-08T07:14:41.935Z"
   },
   {
    "duration": 25,
    "start_time": "2022-05-08T07:14:45.581Z"
   },
   {
    "duration": 33,
    "start_time": "2022-05-08T07:15:50.998Z"
   },
   {
    "duration": 26,
    "start_time": "2022-05-08T07:15:54.654Z"
   },
   {
    "duration": 24,
    "start_time": "2022-05-08T07:16:26.466Z"
   },
   {
    "duration": 25,
    "start_time": "2022-05-08T07:16:30.094Z"
   },
   {
    "duration": 32,
    "start_time": "2022-05-08T07:16:39.149Z"
   },
   {
    "duration": 26,
    "start_time": "2022-05-08T07:16:42.798Z"
   },
   {
    "duration": 26,
    "start_time": "2022-05-08T07:17:20.842Z"
   },
   {
    "duration": 248,
    "start_time": "2022-05-08T07:17:33.366Z"
   },
   {
    "duration": 26,
    "start_time": "2022-05-08T07:17:36.525Z"
   },
   {
    "duration": 26,
    "start_time": "2022-05-08T07:17:46.412Z"
   },
   {
    "duration": 31,
    "start_time": "2022-05-08T07:18:17.537Z"
   },
   {
    "duration": 27,
    "start_time": "2022-05-08T07:18:25.083Z"
   },
   {
    "duration": 25,
    "start_time": "2022-05-08T07:18:37.298Z"
   },
   {
    "duration": 26,
    "start_time": "2022-05-08T07:18:55.078Z"
   },
   {
    "duration": 27,
    "start_time": "2022-05-08T07:19:28.479Z"
   },
   {
    "duration": 35,
    "start_time": "2022-05-08T07:19:35.408Z"
   },
   {
    "duration": 35,
    "start_time": "2022-05-08T07:19:38.489Z"
   },
   {
    "duration": 35,
    "start_time": "2022-05-08T07:19:41.524Z"
   },
   {
    "duration": 27,
    "start_time": "2022-05-08T07:19:44.359Z"
   },
   {
    "duration": 26,
    "start_time": "2022-05-08T07:19:53.392Z"
   },
   {
    "duration": 404,
    "start_time": "2022-05-08T07:23:22.430Z"
   },
   {
    "duration": 4,
    "start_time": "2022-05-08T07:23:35.493Z"
   },
   {
    "duration": 1606,
    "start_time": "2022-05-08T07:38:34.743Z"
   },
   {
    "duration": 86,
    "start_time": "2022-05-08T07:38:36.351Z"
   },
   {
    "duration": 8,
    "start_time": "2022-05-08T07:38:36.439Z"
   },
   {
    "duration": 109,
    "start_time": "2022-05-08T07:38:36.449Z"
   },
   {
    "duration": 109,
    "start_time": "2022-05-08T07:38:36.560Z"
   },
   {
    "duration": 27,
    "start_time": "2022-05-08T07:38:36.692Z"
   },
   {
    "duration": 102,
    "start_time": "2022-05-08T07:38:36.722Z"
   },
   {
    "duration": 79,
    "start_time": "2022-05-08T07:38:36.827Z"
   },
   {
    "duration": 32,
    "start_time": "2022-05-08T07:38:36.908Z"
   },
   {
    "duration": 11,
    "start_time": "2022-05-08T07:38:36.943Z"
   },
   {
    "duration": 54,
    "start_time": "2022-05-08T07:38:36.956Z"
   },
   {
    "duration": 15,
    "start_time": "2022-05-08T07:38:37.012Z"
   },
   {
    "duration": 16,
    "start_time": "2022-05-08T07:38:37.029Z"
   },
   {
    "duration": 19,
    "start_time": "2022-05-08T07:38:37.047Z"
   },
   {
    "duration": 9,
    "start_time": "2022-05-08T07:38:37.094Z"
   },
   {
    "duration": 521,
    "start_time": "2022-05-08T07:38:37.106Z"
   },
   {
    "duration": 6,
    "start_time": "2022-05-08T07:38:37.629Z"
   },
   {
    "duration": 8,
    "start_time": "2022-05-08T07:38:37.637Z"
   },
   {
    "duration": 11,
    "start_time": "2022-05-08T07:38:37.647Z"
   },
   {
    "duration": 473,
    "start_time": "2022-05-08T07:38:37.660Z"
   },
   {
    "duration": 20,
    "start_time": "2022-05-08T07:38:38.135Z"
   },
   {
    "duration": 756,
    "start_time": "2022-05-08T07:38:38.157Z"
   },
   {
    "duration": 531,
    "start_time": "2022-05-08T07:38:38.916Z"
   },
   {
    "duration": 672,
    "start_time": "2022-05-08T07:38:39.450Z"
   },
   {
    "duration": 553,
    "start_time": "2022-05-08T07:38:40.124Z"
   },
   {
    "duration": 690,
    "start_time": "2022-05-08T07:38:40.680Z"
   },
   {
    "duration": 403,
    "start_time": "2022-05-08T07:38:41.373Z"
   },
   {
    "duration": 11,
    "start_time": "2022-05-08T07:38:41.782Z"
   },
   {
    "duration": 402,
    "start_time": "2022-05-08T07:38:41.796Z"
   },
   {
    "duration": 411,
    "start_time": "2022-05-08T07:38:42.201Z"
   },
   {
    "duration": 7,
    "start_time": "2022-05-08T07:38:42.614Z"
   },
   {
    "duration": 27,
    "start_time": "2022-05-08T07:38:42.623Z"
   },
   {
    "duration": 12,
    "start_time": "2022-05-08T07:38:42.652Z"
   },
   {
    "duration": 38,
    "start_time": "2022-05-08T07:38:42.666Z"
   },
   {
    "duration": 34,
    "start_time": "2022-05-08T07:38:42.708Z"
   },
   {
    "duration": 33,
    "start_time": "2022-05-08T07:38:42.744Z"
   },
   {
    "duration": 26,
    "start_time": "2022-05-08T07:38:42.794Z"
   },
   {
    "duration": 18,
    "start_time": "2022-05-08T07:38:42.822Z"
   },
   {
    "duration": 4,
    "start_time": "2022-05-08T07:38:42.842Z"
   },
   {
    "duration": 56,
    "start_time": "2022-05-08T07:38:42.850Z"
   },
   {
    "duration": 40,
    "start_time": "2022-05-08T07:38:42.909Z"
   },
   {
    "duration": 44,
    "start_time": "2022-05-08T07:38:42.952Z"
   }
  ],
  "hide_input": false,
  "kernelspec": {
   "display_name": "Python 3 (ipykernel)",
   "language": "python",
   "name": "python3"
  },
  "language_info": {
   "codemirror_mode": {
    "name": "ipython",
    "version": 3
   },
   "file_extension": ".py",
   "mimetype": "text/x-python",
   "name": "python",
   "nbconvert_exporter": "python",
   "pygments_lexer": "ipython3",
   "version": "3.9.7"
  },
  "toc": {
   "base_numbering": 1,
   "nav_menu": {},
   "number_sections": true,
   "sideBar": true,
   "skip_h1_title": true,
   "title_cell": "Table of Contents",
   "title_sidebar": "Contents",
   "toc_cell": false,
   "toc_position": {
    "height": "calc(100% - 180px)",
    "left": "10px",
    "top": "150px",
    "width": "286.344px"
   },
   "toc_section_display": true,
   "toc_window_display": true
  }
 },
 "nbformat": 4,
 "nbformat_minor": 2
}
