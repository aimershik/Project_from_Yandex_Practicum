{
 "cells": [
  {
   "cell_type": "markdown",
   "metadata": {},
   "source": [
    "# Исследование поведения пользователей приложения по продаже продуктов питания (стартап) и влияния на них изменения шрифтов в приложении"
   ]
  },
  {
   "cell_type": "markdown",
   "metadata": {},
   "source": [
    "<font color='green'><b>ОПИСАНИЕ ПРОЕКТА</b></font>\n",
    "\n",
    "Мы работаем в стартапе, который продаёт продукты питания. Нужно разобраться, как ведут себя пользователи вашего мобильного приложения.\n",
    "\n",
    "\n",
    "Изучим воронку продаж. Узнайте, как пользователи доходят до покупки. Сколько пользователей доходит до покупки, а сколько — «застревает» на предыдущих шагах? На каких именно?\n",
    "\n",
    "\n",
    "После этого исследуем результаты A/A/B-эксперимента. Дизайнеры захотели поменять шрифты во всём приложении, а менеджеры испугались, что пользователям будет непривычно. Договорились принять решение по результатам A/A/B-теста. Пользователей разбили на 3 группы: 2 контрольные со старыми шрифтами и одну экспериментальную — с новыми. Выясните, какой шрифт лучше.\n",
    "\n",
    "\n",
    "Создание двух групп A вместо одной имеет определённые преимущества. Если две контрольные группы окажутся равны, вы можете быть уверены в точности проведенного тестирования. Если же между значениями A и A будут существенные различия, это поможет обнаружить факторы, которые привели к искажению результатов. Сравнение контрольных групп также помогает понять, сколько времени и данных потребуется для дальнейших тестов.\n",
    "\n",
    "\n",
    "В случае общей аналитики и A/A/B-эксперимента работайте с одними и теми же данными. В реальных проектах всегда идут эксперименты. Аналитики исследуют качество работы приложения по общим данным, не учитывая принадлежность пользователей к экспериментам.\n",
    "__________________________________________________________________________\n",
    "_______________________\n",
    "<font color='green'><b>**ЦЕЛЬ:**</b></font>\n",
    "\n",
    "- Изучить воронку продаж и поведение пользователей.\n",
    "- Провести A/A/B тест о влиянии изменения шрифтов на поведение пользователей приложения.\n",
    "__________________________________________________________________________\n",
    "_______________________\n",
    "<font color='green'><b>**ОПИСАНИЕ ДАННЫХ:**</b></font>\n",
    "\n",
    "- Каждая запись в логе — это действие пользователя, или событие.\n",
    "- EventName — название события;\n",
    "- DeviceIDHash — уникальный идентификатор пользователя;\n",
    "- EventTimestamp — время события;\n",
    "- ExpId — номер эксперимента: 246 и 247 — контрольные группы, а 248 — экспериментальная."
   ]
  },
  {
   "cell_type": "code",
   "execution_count": 1,
   "metadata": {},
   "outputs": [],
   "source": [
    "#!pip install -U seaborn # установка seaborn\n",
    "\n",
    "import pandas as pd \n",
    "import numpy as np\n",
    "import matplotlib.pyplot as plt\n",
    "import seaborn as sns\n",
    "import math as mth\n",
    "\n",
    "import plotly.express as px\n",
    "import plotly.graph_objs as go\n",
    "import plotly as py\n",
    "pyplt=py.offline.plot\n",
    "from scipy import stats as st\n",
    "from datetime import datetime, timedelta\n",
    "# сброс ограничений на число столбцов выводимой таблицы\n",
    "pd.set_option('display.max_columns', None)\n",
    "# сброс ограничений на количество символов в записи\n",
    "pd.set_option('display.max_colwidth', None)\n",
    "# установка параметров отображения для графиков\n",
    "custom_params = {'axes.spines.right': False, 'axes.spines.top': False}\n",
    "sns.set_theme(style='whitegrid', rc=custom_params)\n",
    "\n",
    "# Графики высокого разрешения\n",
    "%config InlineBackend.figure_format='retina' \n",
    "%matplotlib inline \n",
    "#убрать уведомления об ошибках\n",
    "import warnings\n",
    "warnings.simplefilter('ignore')\n",
    "import os.path"
   ]
  },
  {
   "cell_type": "markdown",
   "metadata": {},
   "source": [
    "##  Загруим данные и подготовим их к анализу"
   ]
  },
  {
   "cell_type": "markdown",
   "metadata": {},
   "source": [
    "### Загрузим данные"
   ]
  },
  {
   "cell_type": "code",
   "execution_count": 2,
   "metadata": {},
   "outputs": [
    {
     "data": {
      "text/html": [
       "<div>\n",
       "<style scoped>\n",
       "    .dataframe tbody tr th:only-of-type {\n",
       "        vertical-align: middle;\n",
       "    }\n",
       "\n",
       "    .dataframe tbody tr th {\n",
       "        vertical-align: top;\n",
       "    }\n",
       "\n",
       "    .dataframe thead th {\n",
       "        text-align: right;\n",
       "    }\n",
       "</style>\n",
       "<table border=\"1\" class=\"dataframe\">\n",
       "  <thead>\n",
       "    <tr style=\"text-align: right;\">\n",
       "      <th></th>\n",
       "      <th>EventName</th>\n",
       "      <th>DeviceIDHash</th>\n",
       "      <th>EventTimestamp</th>\n",
       "      <th>ExpId</th>\n",
       "    </tr>\n",
       "  </thead>\n",
       "  <tbody>\n",
       "    <tr>\n",
       "      <th>0</th>\n",
       "      <td>MainScreenAppear</td>\n",
       "      <td>4575588528974610257</td>\n",
       "      <td>1564029816</td>\n",
       "      <td>246</td>\n",
       "    </tr>\n",
       "    <tr>\n",
       "      <th>1</th>\n",
       "      <td>MainScreenAppear</td>\n",
       "      <td>7416695313311560658</td>\n",
       "      <td>1564053102</td>\n",
       "      <td>246</td>\n",
       "    </tr>\n",
       "    <tr>\n",
       "      <th>2</th>\n",
       "      <td>PaymentScreenSuccessful</td>\n",
       "      <td>3518123091307005509</td>\n",
       "      <td>1564054127</td>\n",
       "      <td>248</td>\n",
       "    </tr>\n",
       "    <tr>\n",
       "      <th>3</th>\n",
       "      <td>CartScreenAppear</td>\n",
       "      <td>3518123091307005509</td>\n",
       "      <td>1564054127</td>\n",
       "      <td>248</td>\n",
       "    </tr>\n",
       "    <tr>\n",
       "      <th>4</th>\n",
       "      <td>PaymentScreenSuccessful</td>\n",
       "      <td>6217807653094995999</td>\n",
       "      <td>1564055322</td>\n",
       "      <td>248</td>\n",
       "    </tr>\n",
       "  </tbody>\n",
       "</table>\n",
       "</div>"
      ],
      "text/plain": [
       "                 EventName         DeviceIDHash  EventTimestamp  ExpId\n",
       "0         MainScreenAppear  4575588528974610257      1564029816    246\n",
       "1         MainScreenAppear  7416695313311560658      1564053102    246\n",
       "2  PaymentScreenSuccessful  3518123091307005509      1564054127    248\n",
       "3         CartScreenAppear  3518123091307005509      1564054127    248\n",
       "4  PaymentScreenSuccessful  6217807653094995999      1564055322    248"
      ]
     },
     "metadata": {},
     "output_type": "display_data"
    }
   ],
   "source": [
    "# загрузим датафрэйм\n",
    "path1 = \"/datasets/logs_exp.csv\"\n",
    "path2 = \"C:\\\\Users\\\\dell\\\\Desktop\\\\УЧЕБА\\\\СБОРНЫЙ ПРОЕКТ №2\\\\logs_exp.csv\"\n",
    "if os.path.isfile(path1):\n",
    "    df = pd.read_csv(path1, sep=\"\\t\")\n",
    "elif os.path.isfile(path2):\n",
    "    df = pd.read_csv(path2, sep=\"\\t\")\n",
    "else:\n",
    "    print(\"ФАЙЛ ОТСУТСТВУЕТ, УКАЖИТЕ КОРРЕКТНЫЙ ПУТЬ К ФАЙЛУ\")\n",
    "display(df.head())"
   ]
  },
  {
   "cell_type": "markdown",
   "metadata": {},
   "source": [
    "#### Изучим данные"
   ]
  },
  {
   "cell_type": "code",
   "execution_count": 3,
   "metadata": {},
   "outputs": [],
   "source": [
    "# напишем функцию \n",
    "def get_info_about_df(data):\n",
    "    \"\"\"\n",
    "    Приводит наименование столцов к нижнему регстру и убирает пробелы заменяя их на \"_\"\n",
    "    выводит по DF:\n",
    "    - количество строк-дупликатов ;\n",
    "    - 5 рандомных строк;\n",
    "    - Основные статистические данные;\n",
    "    - Типы данных и наличеие нулевых значений.\n",
    "    выводит по каждому столбцу DF:\n",
    "    - Количество Null и Na;\n",
    "    - Количество уникальных значений;\n",
    "    - Список уникальных значений;\n",
    "    - Количетсво повторений по каждому уникальному значению;\n",
    "    - Статистические сведения.\n",
    "    \"\"\"\n",
    "    data.columns = data.columns.str.lower()\n",
    "    data.columns = data.columns.str.replace(' ','_')\n",
    "    print(f'\\033[1mDATAFRAME INFO:\\033[0m\\n')\n",
    "    print(f'DUPLICATE ROWS COUNT = {data.duplicated().sum()}\\n')\n",
    "    print('\\033[1mRANDOM FIVE ROWS\\033[0m')\n",
    "    display(data.sample(5))\n",
    "    print('*'*70)\n",
    "    print('\\033[1mSTATISTIC INFO\\033[0m')\n",
    "    display(data.describe())\n",
    "    print('*'*70)\n",
    "    print('\\033[1mINFO ABOUT DATA TYPES AND PRESENCE NULL \\033[0m')\n",
    "    display(data.info())\n",
    "    print('*'*70)\n",
    "    for col in data.columns:\n",
    "        column=data[col]\n",
    "        print(f'\\033[1mCOLUMN - {col}\\033[0m')\n",
    "        print(f'Null, Na in {col}: {column.isna().sum()}')\n",
    "        print(f'Unique values: {column.nunique()}')\n",
    "        print(f'List for unique values and it amount :\\n{column.unique()}')\n",
    "        print(column.value_counts())\n",
    "        print(f'Statistic info:\\n{column.describe()}')\n",
    "        print('*'*70)"
   ]
  },
  {
   "cell_type": "code",
   "execution_count": 4,
   "metadata": {
    "scrolled": true
   },
   "outputs": [
    {
     "name": "stdout",
     "output_type": "stream",
     "text": [
      "\u001b[1mDATAFRAME INFO:\u001b[0m\n",
      "\n",
      "DUPLICATE ROWS COUNT = 413\n",
      "\n",
      "\u001b[1mRANDOM FIVE ROWS\u001b[0m\n"
     ]
    },
    {
     "data": {
      "text/html": [
       "<div>\n",
       "<style scoped>\n",
       "    .dataframe tbody tr th:only-of-type {\n",
       "        vertical-align: middle;\n",
       "    }\n",
       "\n",
       "    .dataframe tbody tr th {\n",
       "        vertical-align: top;\n",
       "    }\n",
       "\n",
       "    .dataframe thead th {\n",
       "        text-align: right;\n",
       "    }\n",
       "</style>\n",
       "<table border=\"1\" class=\"dataframe\">\n",
       "  <thead>\n",
       "    <tr style=\"text-align: right;\">\n",
       "      <th></th>\n",
       "      <th>eventname</th>\n",
       "      <th>deviceidhash</th>\n",
       "      <th>eventtimestamp</th>\n",
       "      <th>expid</th>\n",
       "    </tr>\n",
       "  </thead>\n",
       "  <tbody>\n",
       "    <tr>\n",
       "      <th>240594</th>\n",
       "      <td>MainScreenAppear</td>\n",
       "      <td>6227650665836877938</td>\n",
       "      <td>1565202560</td>\n",
       "      <td>248</td>\n",
       "    </tr>\n",
       "    <tr>\n",
       "      <th>235209</th>\n",
       "      <td>OffersScreenAppear</td>\n",
       "      <td>7501414109395320406</td>\n",
       "      <td>1565193088</td>\n",
       "      <td>248</td>\n",
       "    </tr>\n",
       "    <tr>\n",
       "      <th>11019</th>\n",
       "      <td>MainScreenAppear</td>\n",
       "      <td>2998678160372635997</td>\n",
       "      <td>1564649522</td>\n",
       "      <td>246</td>\n",
       "    </tr>\n",
       "    <tr>\n",
       "      <th>92229</th>\n",
       "      <td>PaymentScreenSuccessful</td>\n",
       "      <td>4623191541214045580</td>\n",
       "      <td>1564837428</td>\n",
       "      <td>247</td>\n",
       "    </tr>\n",
       "    <tr>\n",
       "      <th>150710</th>\n",
       "      <td>MainScreenAppear</td>\n",
       "      <td>533356125006419558</td>\n",
       "      <td>1564998101</td>\n",
       "      <td>246</td>\n",
       "    </tr>\n",
       "  </tbody>\n",
       "</table>\n",
       "</div>"
      ],
      "text/plain": [
       "                      eventname         deviceidhash  eventtimestamp  expid\n",
       "240594         MainScreenAppear  6227650665836877938      1565202560    248\n",
       "235209       OffersScreenAppear  7501414109395320406      1565193088    248\n",
       "11019          MainScreenAppear  2998678160372635997      1564649522    246\n",
       "92229   PaymentScreenSuccessful  4623191541214045580      1564837428    247\n",
       "150710         MainScreenAppear   533356125006419558      1564998101    246"
      ]
     },
     "metadata": {},
     "output_type": "display_data"
    },
    {
     "name": "stdout",
     "output_type": "stream",
     "text": [
      "**********************************************************************\n",
      "\u001b[1mSTATISTIC INFO\u001b[0m\n"
     ]
    },
    {
     "data": {
      "text/html": [
       "<div>\n",
       "<style scoped>\n",
       "    .dataframe tbody tr th:only-of-type {\n",
       "        vertical-align: middle;\n",
       "    }\n",
       "\n",
       "    .dataframe tbody tr th {\n",
       "        vertical-align: top;\n",
       "    }\n",
       "\n",
       "    .dataframe thead th {\n",
       "        text-align: right;\n",
       "    }\n",
       "</style>\n",
       "<table border=\"1\" class=\"dataframe\">\n",
       "  <thead>\n",
       "    <tr style=\"text-align: right;\">\n",
       "      <th></th>\n",
       "      <th>deviceidhash</th>\n",
       "      <th>eventtimestamp</th>\n",
       "      <th>expid</th>\n",
       "    </tr>\n",
       "  </thead>\n",
       "  <tbody>\n",
       "    <tr>\n",
       "      <th>count</th>\n",
       "      <td>2.441260e+05</td>\n",
       "      <td>2.441260e+05</td>\n",
       "      <td>244126.000000</td>\n",
       "    </tr>\n",
       "    <tr>\n",
       "      <th>mean</th>\n",
       "      <td>4.627568e+18</td>\n",
       "      <td>1.564914e+09</td>\n",
       "      <td>247.022296</td>\n",
       "    </tr>\n",
       "    <tr>\n",
       "      <th>std</th>\n",
       "      <td>2.642425e+18</td>\n",
       "      <td>1.771343e+05</td>\n",
       "      <td>0.824434</td>\n",
       "    </tr>\n",
       "    <tr>\n",
       "      <th>min</th>\n",
       "      <td>6.888747e+15</td>\n",
       "      <td>1.564030e+09</td>\n",
       "      <td>246.000000</td>\n",
       "    </tr>\n",
       "    <tr>\n",
       "      <th>25%</th>\n",
       "      <td>2.372212e+18</td>\n",
       "      <td>1.564757e+09</td>\n",
       "      <td>246.000000</td>\n",
       "    </tr>\n",
       "    <tr>\n",
       "      <th>50%</th>\n",
       "      <td>4.623192e+18</td>\n",
       "      <td>1.564919e+09</td>\n",
       "      <td>247.000000</td>\n",
       "    </tr>\n",
       "    <tr>\n",
       "      <th>75%</th>\n",
       "      <td>6.932517e+18</td>\n",
       "      <td>1.565075e+09</td>\n",
       "      <td>248.000000</td>\n",
       "    </tr>\n",
       "    <tr>\n",
       "      <th>max</th>\n",
       "      <td>9.222603e+18</td>\n",
       "      <td>1.565213e+09</td>\n",
       "      <td>248.000000</td>\n",
       "    </tr>\n",
       "  </tbody>\n",
       "</table>\n",
       "</div>"
      ],
      "text/plain": [
       "       deviceidhash  eventtimestamp          expid\n",
       "count  2.441260e+05    2.441260e+05  244126.000000\n",
       "mean   4.627568e+18    1.564914e+09     247.022296\n",
       "std    2.642425e+18    1.771343e+05       0.824434\n",
       "min    6.888747e+15    1.564030e+09     246.000000\n",
       "25%    2.372212e+18    1.564757e+09     246.000000\n",
       "50%    4.623192e+18    1.564919e+09     247.000000\n",
       "75%    6.932517e+18    1.565075e+09     248.000000\n",
       "max    9.222603e+18    1.565213e+09     248.000000"
      ]
     },
     "metadata": {},
     "output_type": "display_data"
    },
    {
     "name": "stdout",
     "output_type": "stream",
     "text": [
      "**********************************************************************\n",
      "\u001b[1mINFO ABOUT DATA TYPES AND PRESENCE NULL \u001b[0m\n",
      "<class 'pandas.core.frame.DataFrame'>\n",
      "RangeIndex: 244126 entries, 0 to 244125\n",
      "Data columns (total 4 columns):\n",
      " #   Column          Non-Null Count   Dtype \n",
      "---  ------          --------------   ----- \n",
      " 0   eventname       244126 non-null  object\n",
      " 1   deviceidhash    244126 non-null  int64 \n",
      " 2   eventtimestamp  244126 non-null  int64 \n",
      " 3   expid           244126 non-null  int64 \n",
      "dtypes: int64(3), object(1)\n",
      "memory usage: 7.5+ MB\n"
     ]
    },
    {
     "data": {
      "text/plain": [
       "None"
      ]
     },
     "metadata": {},
     "output_type": "display_data"
    },
    {
     "name": "stdout",
     "output_type": "stream",
     "text": [
      "**********************************************************************\n",
      "\u001b[1mCOLUMN - eventname\u001b[0m\n",
      "Null, Na in eventname: 0\n",
      "Unique values: 5\n",
      "List for unique values and it amount :\n",
      "['MainScreenAppear' 'PaymentScreenSuccessful' 'CartScreenAppear'\n",
      " 'OffersScreenAppear' 'Tutorial']\n",
      "MainScreenAppear           119205\n",
      "OffersScreenAppear          46825\n",
      "CartScreenAppear            42731\n",
      "PaymentScreenSuccessful     34313\n",
      "Tutorial                     1052\n",
      "Name: eventname, dtype: int64\n",
      "Statistic info:\n",
      "count               244126\n",
      "unique                   5\n",
      "top       MainScreenAppear\n",
      "freq                119205\n",
      "Name: eventname, dtype: object\n",
      "**********************************************************************\n",
      "\u001b[1mCOLUMN - deviceidhash\u001b[0m\n",
      "Null, Na in deviceidhash: 0\n",
      "Unique values: 7551\n",
      "List for unique values and it amount :\n",
      "[4575588528974610257 7416695313311560658 3518123091307005509 ...\n",
      " 6660805781687343085 7823752606740475984 3454683894921357834]\n",
      "6304868067479728361    2308\n",
      "197027893265565660     2003\n",
      "4623191541214045580    1771\n",
      "6932517045703054087    1448\n",
      "1754140665440434215    1222\n",
      "                       ... \n",
      "1473604074272762258       1\n",
      "4038665841336196550       1\n",
      "6471198426894625455       1\n",
      "8306004969579731119       1\n",
      "1083512226259476085       1\n",
      "Name: deviceidhash, Length: 7551, dtype: int64\n",
      "Statistic info:\n",
      "count    2.441260e+05\n",
      "mean     4.627568e+18\n",
      "std      2.642425e+18\n",
      "min      6.888747e+15\n",
      "25%      2.372212e+18\n",
      "50%      4.623192e+18\n",
      "75%      6.932517e+18\n",
      "max      9.222603e+18\n",
      "Name: deviceidhash, dtype: float64\n",
      "**********************************************************************\n",
      "\u001b[1mCOLUMN - eventtimestamp\u001b[0m\n",
      "Null, Na in eventtimestamp: 0\n",
      "Unique values: 176654\n",
      "List for unique values and it amount :\n",
      "[1564029816 1564053102 1564054127 ... 1565212483 1565212498 1565212517]\n",
      "1564670435    9\n",
      "1564935799    9\n",
      "1565017227    8\n",
      "1565176721    8\n",
      "1564911846    8\n",
      "             ..\n",
      "1564837824    1\n",
      "1564837843    1\n",
      "1564837844    1\n",
      "1564837845    1\n",
      "1565212517    1\n",
      "Name: eventtimestamp, Length: 176654, dtype: int64\n",
      "Statistic info:\n",
      "count    2.441260e+05\n",
      "mean     1.564914e+09\n",
      "std      1.771343e+05\n",
      "min      1.564030e+09\n",
      "25%      1.564757e+09\n",
      "50%      1.564919e+09\n",
      "75%      1.565075e+09\n",
      "max      1.565213e+09\n",
      "Name: eventtimestamp, dtype: float64\n",
      "**********************************************************************\n",
      "\u001b[1mCOLUMN - expid\u001b[0m\n",
      "Null, Na in expid: 0\n",
      "Unique values: 3\n",
      "List for unique values and it amount :\n",
      "[246 248 247]\n",
      "248    85747\n",
      "246    80304\n",
      "247    78075\n",
      "Name: expid, dtype: int64\n",
      "Statistic info:\n",
      "count    244126.000000\n",
      "mean        247.022296\n",
      "std           0.824434\n",
      "min         246.000000\n",
      "25%         246.000000\n",
      "50%         247.000000\n",
      "75%         248.000000\n",
      "max         248.000000\n",
      "Name: expid, dtype: float64\n",
      "**********************************************************************\n"
     ]
    }
   ],
   "source": [
    "get_info_about_df(df)"
   ]
  },
  {
   "cell_type": "markdown",
   "metadata": {},
   "source": [
    "Промежуточные выводы о данных:\n",
    " - наименование series имеют длинные название, заменим их на более короткие и понятные;\n",
    " - найдены дубликаты строк, нужно изучить их более детально и определить дальнейшие дествия с ними;\n",
    " - series EventTimestamp имеет неверный тип данных - необходимо привести их к формату даты, а так же дополнительно сделать столбец с датой без времени;\n",
    " - пропусков нет;\n",
    " - один и тот же пользовотель может сделать несколько действий;"
   ]
  },
  {
   "cell_type": "code",
   "execution_count": 5,
   "metadata": {},
   "outputs": [
    {
     "data": {
      "text/plain": [
       "eventname         object\n",
       "deviceidhash       int64\n",
       "eventtimestamp     int64\n",
       "expid              int64\n",
       "dtype: object"
      ]
     },
     "execution_count": 5,
     "metadata": {},
     "output_type": "execute_result"
    }
   ],
   "source": [
    "df.dtypes"
   ]
  },
  {
   "cell_type": "markdown",
   "metadata": {},
   "source": [
    "### Проведем предобработку данных"
   ]
  },
  {
   "cell_type": "code",
   "execution_count": 6,
   "metadata": {},
   "outputs": [
    {
     "name": "stdout",
     "output_type": "stream",
     "text": [
      "Строк дубликатов 413 шт.\n",
      "Строк всего 244126 шт.\n",
      "Строк дубликатов после удаления 0 шт.\n",
      "Строк всего 243713 шт.\n"
     ]
    }
   ],
   "source": [
    "# Проверим еще раз на дубликаты\n",
    "print('Строк дубликатов {} шт.\\nСтрок всего {} шт.'\n",
    "      .format(df.duplicated().sum(), \n",
    "              len(df)))\n",
    "# удалим дубликаты оставим только последнюю строку\n",
    "df = df.drop_duplicates()\n",
    "print('Строк дубликатов после удаления {} шт.\\nСтрок всего {} шт.'\n",
    "      .format(df.duplicated().sum()\n",
    "              ,len(df)))"
   ]
  },
  {
   "cell_type": "code",
   "execution_count": 7,
   "metadata": {},
   "outputs": [],
   "source": [
    "# Переименнуем столбцы\n",
    "df.columns = ['event','user_id','dtt','group']"
   ]
  },
  {
   "cell_type": "code",
   "execution_count": 8,
   "metadata": {},
   "outputs": [
    {
     "name": "stdout",
     "output_type": "stream",
     "text": [
      "\u001b[34m\u001b[1m    Общая информация по датафрейму    \u001b[0m\n",
      "<class 'pandas.core.frame.DataFrame'>\n",
      "Int64Index: 243713 entries, 0 to 244125\n",
      "Data columns (total 5 columns):\n",
      " #   Column   Non-Null Count   Dtype         \n",
      "---  ------   --------------   -----         \n",
      " 0   event    243713 non-null  object        \n",
      " 1   user_id  243713 non-null  int64         \n",
      " 2   dtt      243713 non-null  datetime64[ns]\n",
      " 3   group    243713 non-null  int64         \n",
      " 4   dt       243713 non-null  object        \n",
      "dtypes: datetime64[ns](1), int64(2), object(2)\n",
      "memory usage: 11.2+ MB\n"
     ]
    },
    {
     "data": {
      "text/html": [
       "<div>\n",
       "<style scoped>\n",
       "    .dataframe tbody tr th:only-of-type {\n",
       "        vertical-align: middle;\n",
       "    }\n",
       "\n",
       "    .dataframe tbody tr th {\n",
       "        vertical-align: top;\n",
       "    }\n",
       "\n",
       "    .dataframe thead th {\n",
       "        text-align: right;\n",
       "    }\n",
       "</style>\n",
       "<table border=\"1\" class=\"dataframe\">\n",
       "  <thead>\n",
       "    <tr style=\"text-align: right;\">\n",
       "      <th></th>\n",
       "      <th>event</th>\n",
       "      <th>user_id</th>\n",
       "      <th>dtt</th>\n",
       "      <th>group</th>\n",
       "      <th>dt</th>\n",
       "    </tr>\n",
       "  </thead>\n",
       "  <tbody>\n",
       "    <tr>\n",
       "      <th>0</th>\n",
       "      <td>MainScreenAppear</td>\n",
       "      <td>4575588528974610257</td>\n",
       "      <td>2019-07-25 04:43:36</td>\n",
       "      <td>246</td>\n",
       "      <td>2019-07-25</td>\n",
       "    </tr>\n",
       "    <tr>\n",
       "      <th>1</th>\n",
       "      <td>MainScreenAppear</td>\n",
       "      <td>7416695313311560658</td>\n",
       "      <td>2019-07-25 11:11:42</td>\n",
       "      <td>246</td>\n",
       "      <td>2019-07-25</td>\n",
       "    </tr>\n",
       "    <tr>\n",
       "      <th>2</th>\n",
       "      <td>PaymentScreenSuccessful</td>\n",
       "      <td>3518123091307005509</td>\n",
       "      <td>2019-07-25 11:28:47</td>\n",
       "      <td>248</td>\n",
       "      <td>2019-07-25</td>\n",
       "    </tr>\n",
       "    <tr>\n",
       "      <th>3</th>\n",
       "      <td>CartScreenAppear</td>\n",
       "      <td>3518123091307005509</td>\n",
       "      <td>2019-07-25 11:28:47</td>\n",
       "      <td>248</td>\n",
       "      <td>2019-07-25</td>\n",
       "    </tr>\n",
       "    <tr>\n",
       "      <th>4</th>\n",
       "      <td>PaymentScreenSuccessful</td>\n",
       "      <td>6217807653094995999</td>\n",
       "      <td>2019-07-25 11:48:42</td>\n",
       "      <td>248</td>\n",
       "      <td>2019-07-25</td>\n",
       "    </tr>\n",
       "  </tbody>\n",
       "</table>\n",
       "</div>"
      ],
      "text/plain": [
       "                     event              user_id                 dtt  group  \\\n",
       "0         MainScreenAppear  4575588528974610257 2019-07-25 04:43:36    246   \n",
       "1         MainScreenAppear  7416695313311560658 2019-07-25 11:11:42    246   \n",
       "2  PaymentScreenSuccessful  3518123091307005509 2019-07-25 11:28:47    248   \n",
       "3         CartScreenAppear  3518123091307005509 2019-07-25 11:28:47    248   \n",
       "4  PaymentScreenSuccessful  6217807653094995999 2019-07-25 11:48:42    248   \n",
       "\n",
       "           dt  \n",
       "0  2019-07-25  \n",
       "1  2019-07-25  \n",
       "2  2019-07-25  \n",
       "3  2019-07-25  \n",
       "4  2019-07-25  "
      ]
     },
     "metadata": {},
     "output_type": "display_data"
    }
   ],
   "source": [
    "# преобразуем дату события в нужный нам формат\n",
    "df['dtt'] = pd.to_datetime(df['dtt'], unit='s')\n",
    "# добавим новый series где будет только дата без времени\n",
    "df['dt'] = pd.to_datetime(df['dtt'], format='%Y-%m-%d').dt.date\n",
    "# df['dt'] =df['dtt'].dt.floor('D')\n",
    "# посмотрим еще раз на данные и типы\n",
    "print(\"\\033[34m\\033[1m{}\\033[0m\".format(\"    Общая информация по датафрейму    \"))\n",
    "df.info()\n",
    "display(df.head())"
   ]
  },
  {
   "cell_type": "code",
   "execution_count": 9,
   "metadata": {},
   "outputs": [
    {
     "name": "stdout",
     "output_type": "stream",
     "text": [
      "Количество пользователей находящихся сразу в нескольких группах: 0\n"
     ]
    }
   ],
   "source": [
    "# проверим наличие одного и того же пользователя сразу в нескольких группах\n",
    "t=df.groupby('user_id').agg({'group':'nunique'}).query('group > 1')['group'].count()\n",
    "print('Количество пользователей находящихся сразу в нескольких группах: {}'.format(t))"
   ]
  },
  {
   "cell_type": "markdown",
   "metadata": {},
   "source": [
    "Данные проверены, предбработаны и готовы к анализу."
   ]
  },
  {
   "cell_type": "markdown",
   "metadata": {},
   "source": [
    "## Анализ данных"
   ]
  },
  {
   "cell_type": "markdown",
   "metadata": {},
   "source": [
    "### Определим сколько всего событий и уникальных пользователей в логе, а так же среднее и медианное количество собитий на 1-го пользователя приложения. "
   ]
  },
  {
   "cell_type": "code",
   "execution_count": 9,
   "metadata": {},
   "outputs": [
    {
     "name": "stdout",
     "output_type": "stream",
     "text": [
      "\n",
      "Количество событий:\n",
      "всего 243713 шт.\n",
      "уникальных 5 шт.:\n",
      "      \n",
      " -  MainScreenAppear\n",
      " -  PaymentScreenSuccessful\n",
      " -  CartScreenAppear\n",
      " -  OffersScreenAppear\n",
      " -  Tutorial\n",
      "\n",
      "Всего уникальных пользователей: 7551 шт.\n",
      "Количество событий на 1-го пользователя:\n",
      "- cреднее 32 шт.\n",
      "- медианное 20 шт.\n",
      "\n",
      "Количество уникальных событий на 1-го пользователя:\n",
      "- среднее: 2.67 шт.\n",
      "- медианное: 3.00 шт.\n"
     ]
    }
   ],
   "source": [
    "print(\"\"\"\n",
    "Количество событий:\n",
    "всего {} шт.\n",
    "уникальных {} шт.:\n",
    "      \"\"\".format(df['event'].count()\n",
    "                ,df['event'].nunique()))\n",
    "for i in range(df['event'].nunique()):\n",
    "    print(' - ',df['event'].unique()[i])\n",
    "\n",
    "print(\"\"\"\n",
    "Всего уникальных пользователей: {} шт.\n",
    "Количество событий на 1-го пользователя:\n",
    "- cреднее {} шт.\n",
    "- медианное {} шт.\n",
    "\"\"\"\n",
    "      .format(df['user_id'].nunique()\n",
    "              ,int(df.groupby('user_id').agg({'event':'count'}).mean())\n",
    "              ,int(df.groupby('user_id').agg({'event':'count'}).median())))\n",
    "t=df.groupby('user_id').agg({'event':'nunique'})\n",
    "print(\"\"\"Количество уникальных событий на 1-го пользователя:\n",
    "- среднее: {:.2f} шт.\n",
    "- медианное: {:.2f} шт.\"\"\"\n",
    "      .format(t['event'].mean(),t['event'].median()))"
   ]
  },
  {
   "cell_type": "code",
   "execution_count": 10,
   "metadata": {},
   "outputs": [
    {
     "data": {
      "image/png": "[encoded data removed]",
      "text/plain": [
       "<Figure size 1152x504 with 1 Axes>"
      ]
     },
     "metadata": {
      "image/png": {
       "height": 445,
       "width": 956
      },
      "needs_background": "light"
     },
     "output_type": "display_data"
    }
   ],
   "source": [
    "df_events_per_user = (\n",
    "    df.groupby('user_id')\n",
    "      .agg({'event': 'count'})\n",
    "      .sort_values(by='event', ascending=False)\n",
    ")\n",
    "\n",
    "plt.figure(figsize=(16,7))\n",
    "plt.plot([df_events_per_user.event.mean(), df_events_per_user.event.mean()], [0, 1000]\n",
    "         , linewidth=1\n",
    "         , color='red'\n",
    "         , label='Среднее значение')\n",
    "plt.plot([df_events_per_user.event.median(), df_events_per_user.event.median()], [0, 1000]\n",
    "         , linewidth=1\n",
    "         , color='blue'\n",
    "         , label='Медианное значение')\n",
    "plt.legend()\n",
    "\n",
    "sns.histplot(x='event', data=df_events_per_user, bins=600, color = 'black').set_xlim(0,df_events_per_user.event.max())\n",
    "plt.xlabel('Количество событий', color='black', size=12)\n",
    "plt.ylabel('Число пользователей', color='black', size=12)\n",
    "\n",
    "# plt.xticks(date_range, rotation=25)\n",
    "plt.title('Распределение количества событий по пользователям', color='black', size=14)\n",
    "plt.show()"
   ]
  },
  {
   "cell_type": "code",
   "execution_count": 11,
   "metadata": {},
   "outputs": [
    {
     "data": {
      "text/plain": [
       "Text(0.5, 1.0, 'Распределение количества событий по пользователям')"
      ]
     },
     "execution_count": 11,
     "metadata": {},
     "output_type": "execute_result"
    },
    {
     "data": {
      "image/png": "[encoded data removed]",
      "text/plain": [
       "<Figure size 1152x504 with 1 Axes>"
      ]
     },
     "metadata": {
      "image/png": {
       "height": 445,
       "width": 965
      },
      "needs_background": "light"
     },
     "output_type": "display_data"
    }
   ],
   "source": [
    "# посмотрим на распределение без аномально больших значений\n",
    "df_events_per_user = (\n",
    "    df.groupby('user_id')\n",
    "      .agg({'event': 'count'})\n",
    "      .sort_values(by='event', ascending=False)\n",
    ")\n",
    "\n",
    "plt.figure(figsize=(16,7))\n",
    "plt.plot([df_events_per_user.event.mean(), df_events_per_user.event.mean()], [0, 1000]\n",
    "         , linewidth=1\n",
    "         , color='red'\n",
    "         , label='Cреднее значение')\n",
    "plt.plot([df_events_per_user.event.median(), df_events_per_user.event.median()], [0, 1000]\n",
    "         , linewidth=1\n",
    "         , color='blue'\n",
    "         , label='Медианное значение')\n",
    "plt.legend()\n",
    "sns.histplot(x='event', data=df_events_per_user, bins=600, color = 'black').set_xlim(0,250)\n",
    "plt.xlabel('Количество событий', color='black', size=12)\n",
    "plt.ylabel('Число пользователей', color='black', size=12)\n",
    "\n",
    "\n",
    "plt.title('Распределение количества событий по пользователям', color='black', size=14)"
   ]
  },
  {
   "cell_type": "markdown",
   "metadata": {},
   "source": [
    "### Определим период за который отражены данные в логе"
   ]
  },
  {
   "cell_type": "code",
   "execution_count": 12,
   "metadata": {
    "scrolled": true
   },
   "outputs": [
    {
     "name": "stdout",
     "output_type": "stream",
     "text": [
      "\u001b[34m\u001b[1m   Таблица min и max дат    \n",
      "   данных в разрезе групп   \u001b[0m\n"
     ]
    },
    {
     "data": {
      "text/html": [
       "<div>\n",
       "<style scoped>\n",
       "    .dataframe tbody tr th:only-of-type {\n",
       "        vertical-align: middle;\n",
       "    }\n",
       "\n",
       "    .dataframe tbody tr th {\n",
       "        vertical-align: top;\n",
       "    }\n",
       "\n",
       "    .dataframe thead th {\n",
       "        text-align: right;\n",
       "    }\n",
       "</style>\n",
       "<table border=\"1\" class=\"dataframe\">\n",
       "  <thead>\n",
       "    <tr style=\"text-align: right;\">\n",
       "      <th></th>\n",
       "      <th>group</th>\n",
       "      <th>min</th>\n",
       "      <th>max</th>\n",
       "    </tr>\n",
       "  </thead>\n",
       "  <tbody>\n",
       "    <tr>\n",
       "      <th>0</th>\n",
       "      <td>246</td>\n",
       "      <td>2019-07-25</td>\n",
       "      <td>2019-08-07</td>\n",
       "    </tr>\n",
       "    <tr>\n",
       "      <th>1</th>\n",
       "      <td>247</td>\n",
       "      <td>2019-07-25</td>\n",
       "      <td>2019-08-07</td>\n",
       "    </tr>\n",
       "    <tr>\n",
       "      <th>2</th>\n",
       "      <td>248</td>\n",
       "      <td>2019-07-25</td>\n",
       "      <td>2019-08-07</td>\n",
       "    </tr>\n",
       "  </tbody>\n",
       "</table>\n",
       "</div>"
      ],
      "text/plain": [
       "   group         min         max\n",
       "0    246  2019-07-25  2019-08-07\n",
       "1    247  2019-07-25  2019-08-07\n",
       "2    248  2019-07-25  2019-08-07"
      ]
     },
     "metadata": {},
     "output_type": "display_data"
    },
    {
     "name": "stdout",
     "output_type": "stream",
     "text": [
      "Данные в логе отражены за период с 2019-07-25 по 2019-08-07\n",
      "\n",
      "В группах данные представлены:\n",
      "\n",
      "В 246 группе за период с 2019-07-25 по 2019-08-07.\n",
      "В 247 группе за период с 2019-07-25 по 2019-08-07.\n",
      "В 248 группе за период с 2019-07-25 по 2019-08-07.\n"
     ]
    }
   ],
   "source": [
    "# получим сводную по группам с мин, макс и разницей в днях столбцами\n",
    "tab = df.groupby('group').agg({'dt':'min'}).reset_index().merge(df.groupby('group').agg({'dt':'max'}).reset_index()\n",
    "    ,left_on=['group'], right_on=['group'])\n",
    "tab.columns = ['group', 'min', 'max']\n",
    "print(\"\\033[34m\\033[1m{}\\033[0m\"\n",
    "      .format(\n",
    "          \"\"\"   Таблица min и max дат    \n",
    "   данных в разрезе групп   \"\"\"))\n",
    "display(tab)\n",
    "print(\"\"\"Данные в логе отражены за период с {} по {}\n",
    "\n",
    "В группах данные представлены:\n",
    "\"\"\"\n",
    "      .format(df['dt'].min()\n",
    "              ,df['dt'].max()))\n",
    "\n",
    "for i in range(len(tab)):\n",
    "    print('В {} группе за период с {} по {}.'\n",
    "      .format(tab.iloc[i,0]\n",
    "          ,tab.iloc[i,1]\n",
    "          ,tab.iloc[i,2]))"
   ]
  },
  {
   "cell_type": "code",
   "execution_count": 13,
   "metadata": {},
   "outputs": [
    {
     "name": "stdout",
     "output_type": "stream",
     "text": [
      "\u001b[34m\u001b[1m    Таблица распределения    \n",
      "событий по датам и их доля   \u001b[0m\n"
     ]
    },
    {
     "data": {
      "text/html": [
       "<div>\n",
       "<style scoped>\n",
       "    .dataframe tbody tr th:only-of-type {\n",
       "        vertical-align: middle;\n",
       "    }\n",
       "\n",
       "    .dataframe tbody tr th {\n",
       "        vertical-align: top;\n",
       "    }\n",
       "\n",
       "    .dataframe thead th {\n",
       "        text-align: right;\n",
       "    }\n",
       "</style>\n",
       "<table border=\"1\" class=\"dataframe\">\n",
       "  <thead>\n",
       "    <tr style=\"text-align: right;\">\n",
       "      <th></th>\n",
       "      <th>dt</th>\n",
       "      <th>user_id</th>\n",
       "      <th>share</th>\n",
       "    </tr>\n",
       "  </thead>\n",
       "  <tbody>\n",
       "    <tr>\n",
       "      <th>0</th>\n",
       "      <td>2019-07-25</td>\n",
       "      <td>9</td>\n",
       "      <td>0.003693</td>\n",
       "    </tr>\n",
       "    <tr>\n",
       "      <th>1</th>\n",
       "      <td>2019-07-26</td>\n",
       "      <td>31</td>\n",
       "      <td>0.012720</td>\n",
       "    </tr>\n",
       "    <tr>\n",
       "      <th>2</th>\n",
       "      <td>2019-07-27</td>\n",
       "      <td>55</td>\n",
       "      <td>0.022568</td>\n",
       "    </tr>\n",
       "    <tr>\n",
       "      <th>3</th>\n",
       "      <td>2019-07-28</td>\n",
       "      <td>105</td>\n",
       "      <td>0.043083</td>\n",
       "    </tr>\n",
       "    <tr>\n",
       "      <th>4</th>\n",
       "      <td>2019-07-29</td>\n",
       "      <td>184</td>\n",
       "      <td>0.075499</td>\n",
       "    </tr>\n",
       "    <tr>\n",
       "      <th>5</th>\n",
       "      <td>2019-07-30</td>\n",
       "      <td>412</td>\n",
       "      <td>0.169051</td>\n",
       "    </tr>\n",
       "    <tr>\n",
       "      <th>6</th>\n",
       "      <td>2019-07-31</td>\n",
       "      <td>2030</td>\n",
       "      <td>0.832947</td>\n",
       "    </tr>\n",
       "    <tr>\n",
       "      <th>7</th>\n",
       "      <td>2019-08-01</td>\n",
       "      <td>36141</td>\n",
       "      <td>14.829328</td>\n",
       "    </tr>\n",
       "    <tr>\n",
       "      <th>8</th>\n",
       "      <td>2019-08-02</td>\n",
       "      <td>35554</td>\n",
       "      <td>14.588471</td>\n",
       "    </tr>\n",
       "    <tr>\n",
       "      <th>9</th>\n",
       "      <td>2019-08-03</td>\n",
       "      <td>33282</td>\n",
       "      <td>13.656227</td>\n",
       "    </tr>\n",
       "    <tr>\n",
       "      <th>10</th>\n",
       "      <td>2019-08-04</td>\n",
       "      <td>32968</td>\n",
       "      <td>13.527387</td>\n",
       "    </tr>\n",
       "    <tr>\n",
       "      <th>11</th>\n",
       "      <td>2019-08-05</td>\n",
       "      <td>36058</td>\n",
       "      <td>14.795271</td>\n",
       "    </tr>\n",
       "    <tr>\n",
       "      <th>12</th>\n",
       "      <td>2019-08-06</td>\n",
       "      <td>35788</td>\n",
       "      <td>14.684485</td>\n",
       "    </tr>\n",
       "    <tr>\n",
       "      <th>13</th>\n",
       "      <td>2019-08-07</td>\n",
       "      <td>31096</td>\n",
       "      <td>12.759270</td>\n",
       "    </tr>\n",
       "  </tbody>\n",
       "</table>\n",
       "</div>"
      ],
      "text/plain": [
       "            dt  user_id      share\n",
       "0   2019-07-25        9   0.003693\n",
       "1   2019-07-26       31   0.012720\n",
       "2   2019-07-27       55   0.022568\n",
       "3   2019-07-28      105   0.043083\n",
       "4   2019-07-29      184   0.075499\n",
       "5   2019-07-30      412   0.169051\n",
       "6   2019-07-31     2030   0.832947\n",
       "7   2019-08-01    36141  14.829328\n",
       "8   2019-08-02    35554  14.588471\n",
       "9   2019-08-03    33282  13.656227\n",
       "10  2019-08-04    32968  13.527387\n",
       "11  2019-08-05    36058  14.795271\n",
       "12  2019-08-06    35788  14.684485\n",
       "13  2019-08-07    31096  12.759270"
      ]
     },
     "metadata": {},
     "output_type": "display_data"
    }
   ],
   "source": [
    "t = df.groupby('dt').agg({'user_id':'count'}).reset_index().sort_values('dt',ascending=True)\n",
    "t['share'] = t['user_id']/t['user_id'].sum()*100\n",
    "print(\"\\033[34m\\033[1m{}\\033[0m\"\n",
    "      .format(\"\"\"    Таблица распределения    \n",
    "событий по датам и их доля   \"\"\"))\n",
    "display(t)"
   ]
  },
  {
   "cell_type": "code",
   "execution_count": 15,
   "metadata": {},
   "outputs": [
    {
     "data": {
      "text/plain": [
       "Text(0.5, 1.0, 'Распределение количества событий по по часам')"
      ]
     },
     "execution_count": 15,
     "metadata": {},
     "output_type": "execute_result"
    },
    {
     "data": {
      "image/png": "[encoded data removed]",
      "text/plain": [
       "<Figure size 1152x504 with 1 Axes>"
      ]
     },
     "metadata": {
      "image/png": {
       "height": 468,
       "width": 956
      },
      "needs_background": "light"
     },
     "output_type": "display_data"
    }
   ],
   "source": [
    "plt.figure(figsize=(16,7))\n",
    "date_from = pd.to_datetime(df.dt).dt.date.min()\n",
    "date_to = pd.to_datetime(df.dt).dt.date.max()\n",
    "date_range = pd.date_range(date_from, date_to, freq=\"D\")\n",
    "sns.histplot(x='dtt', data=df, bins=24//3*14, color = 'black')\n",
    "plt.xlabel('Дата/Время события ', color='black', size=12)\n",
    "plt.ylabel('Количество событий', color='black', size=12)\n",
    "plt.xticks(date_range, rotation=25)\n",
    "plt.title('Распределение количества событий по по часам', color='black', size=14)"
   ]
  },
  {
   "cell_type": "markdown",
   "metadata": {},
   "source": [
    "Данные предоставленные в логах за период с 2019-07-25 по 2019-07-31.\n",
    "В этот период имеют очень низкие показатели активности пользователей т.е. количество событий, что может говорить нам о том, что данные по некоторым пользователям в указанный период «доезжают» из прошлого. \n",
    "Так же заметны пики наибольшего количества событий и в основной массе они происходят с 9:00 до 21:00.\n",
    "Есть пользователи с аномально большим количеством событий так по 46 пользователям зафиксимровано более 250 событий из которых 9 более 800, а максимальное количество событий по пользователю 6304868067479728361 - 2307 событий.\n",
    "\n",
    "Можно определить, что данные в логах предоставлены за период с 2019-08-01 по с 2019-08-01 и для того что-бы анализ был корректный, необходимо сделать срез данных без учетам данных за период с 2019-07-25 по 2019-07-31, а пользователей с большим количством событий примим как данность."
   ]
  },
  {
   "cell_type": "code",
   "execution_count": 16,
   "metadata": {},
   "outputs": [
    {
     "name": "stdout",
     "output_type": "stream",
     "text": [
      "\n",
      "Общее количество:\n",
      "- событий до удаления 243713 шт.\n",
      "- уникальных пользователей до удаления 7551 шт.\n",
      "\n",
      "Необходимо удалить:\n",
      "- событий 2826 шт. т.е. 1.16%\n",
      "- уникальных пользователя 17 т.е. 0.23%\n",
      "\n",
      "После удаление количество:\n",
      "- событий 240887 шт.\n",
      "- уникальных пользователей 7534 шт.\n",
      "      \n",
      "\u001b[34m\u001b[1m\n",
      "     Таблица распределения по группам       \n",
      "     уникальных пользователей и их доля\u001b[0m\n"
     ]
    },
    {
     "data": {
      "text/html": [
       "<style type=\"text/css\">\n",
       "</style>\n",
       "<table id=\"T_84e4e_\">\n",
       "  <thead>\n",
       "    <tr>\n",
       "      <th class=\"blank level0\" >&nbsp;</th>\n",
       "      <th class=\"col_heading level0 col0\" >group</th>\n",
       "      <th class=\"col_heading level0 col1\" >uniq_id</th>\n",
       "      <th class=\"col_heading level0 col2\" >events</th>\n",
       "      <th class=\"col_heading level0 col3\" >share_uniq_id</th>\n",
       "      <th class=\"col_heading level0 col4\" >share_event</th>\n",
       "    </tr>\n",
       "  </thead>\n",
       "  <tbody>\n",
       "    <tr>\n",
       "      <th id=\"T_84e4e_level0_row0\" class=\"row_heading level0 row0\" >0</th>\n",
       "      <td id=\"T_84e4e_row0_col0\" class=\"data row0 col0\" >246</td>\n",
       "      <td id=\"T_84e4e_row0_col1\" class=\"data row0 col1\" >2484</td>\n",
       "      <td id=\"T_84e4e_row0_col2\" class=\"data row0 col2\" >79302</td>\n",
       "      <td id=\"T_84e4e_row0_col3\" class=\"data row0 col3\" >33%</td>\n",
       "      <td id=\"T_84e4e_row0_col4\" class=\"data row0 col4\" >33%</td>\n",
       "    </tr>\n",
       "    <tr>\n",
       "      <th id=\"T_84e4e_level0_row1\" class=\"row_heading level0 row1\" >1</th>\n",
       "      <td id=\"T_84e4e_row1_col0\" class=\"data row1 col0\" >247</td>\n",
       "      <td id=\"T_84e4e_row1_col1\" class=\"data row1 col1\" >2513</td>\n",
       "      <td id=\"T_84e4e_row1_col2\" class=\"data row1 col2\" >77022</td>\n",
       "      <td id=\"T_84e4e_row1_col3\" class=\"data row1 col3\" >33%</td>\n",
       "      <td id=\"T_84e4e_row1_col4\" class=\"data row1 col4\" >32%</td>\n",
       "    </tr>\n",
       "    <tr>\n",
       "      <th id=\"T_84e4e_level0_row2\" class=\"row_heading level0 row2\" >2</th>\n",
       "      <td id=\"T_84e4e_row2_col0\" class=\"data row2 col0\" >248</td>\n",
       "      <td id=\"T_84e4e_row2_col1\" class=\"data row2 col1\" >2537</td>\n",
       "      <td id=\"T_84e4e_row2_col2\" class=\"data row2 col2\" >84563</td>\n",
       "      <td id=\"T_84e4e_row2_col3\" class=\"data row2 col3\" >34%</td>\n",
       "      <td id=\"T_84e4e_row2_col4\" class=\"data row2 col4\" >35%</td>\n",
       "    </tr>\n",
       "  </tbody>\n",
       "</table>\n"
      ],
      "text/plain": [
       "<pandas.io.formats.style.Styler at 0x1251c287310>"
      ]
     },
     "metadata": {},
     "output_type": "display_data"
    },
    {
     "name": "stdout",
     "output_type": "stream",
     "text": [
      "В группе:\n",
      "246: 2484 уникальных пользователя (33%) и 79302 события (33%).\n",
      "247: 2513 уникальных пользователя (33%) и 77022 события (32%).\n",
      "248: 2537 уникальных пользователя (34%) и 84563 события (35%).\n"
     ]
    }
   ],
   "source": [
    "# создадим новый датафрейм без учета периода 2019-07-25 - 2019-07-31 \n",
    "dff=df.query('dtt >= \"2019-08-01\"')\n",
    "# сравним данные до и после среза по дате\n",
    "print(\"\"\"\n",
    "Общее количество:\n",
    "- событий до удаления {} шт.\n",
    "- уникальных пользователей до удаления {} шт.\\n\n",
    "Необходимо удалить:\n",
    "- событий {} шт. т.е. {:.2%}\n",
    "- уникальных пользователя {} т.е. {:.2%}\\n\n",
    "После удаление количество:\n",
    "- событий {} шт.\n",
    "- уникальных пользователей {} шт.\n",
    "      \"\"\".format(len(df)\n",
    "              ,df['user_id'].nunique()\n",
    "              ,len(df.query('dtt < \"2019-08-01\"'))\n",
    "              ,len(df.query('dtt < \"2019-08-01\"'))/len(df)\n",
    "              ,(df['user_id'].nunique() - dff['user_id'].nunique())\n",
    "              ,(df['user_id'].nunique() - dff['user_id'].nunique())/df['user_id'].nunique()\n",
    "              ,len(dff)\n",
    "              ,dff['user_id'].nunique()))\n",
    "\n",
    "\n",
    "# провеверим, что в трех группах А/А/В есть пользователи\n",
    "tab = dff.groupby('group').agg({'user_id':'nunique'}).reset_index().merge(\n",
    "dff.groupby('group').agg({'user_id':'count'}).reset_index(),left_on=['group'], right_on=['group'])\n",
    "tab.columns = ['group','uniq_id','events']\n",
    "tab['share_uniq_id'] = tab['uniq_id']/tab['uniq_id'].sum()\n",
    "tab['share_event'] = tab['events']/tab['events'].sum()\n",
    "print(\"\\033[34m\\033[1m{}\\033[0m\".format(\"\"\"\n",
    "     Таблица распределения по группам       \n",
    "     уникальных пользователей и их доля\"\"\"))\n",
    "display(tab.style.format({'share_uniq_id': '{:.0%}','share_event': '{:.0%}'}))\n",
    "\n",
    "print('В группе:')\n",
    "for i in range(len(tab)):\n",
    "    print(\"\"\"{}: {} уникальных пользователя ({:.0%}) и {} события ({:.0%}).\"\"\"\n",
    "          .format(tab.iloc[i,0]\n",
    "                  ,tab.iloc[i,1]\n",
    "                  ,tab.iloc[i,3]\n",
    "                  ,tab.iloc[i,2]\n",
    "                  ,tab.iloc[i,4]))"
   ]
  },
  {
   "cell_type": "markdown",
   "metadata": {},
   "source": [
    "После удаления данных ранее даты 2019-08-01, во всех 3-х группах есть пользователи. \n",
    "\n",
    "Уникальное количество пользователей в группах и совершенные ими действия соизмеримы.\n",
    "\n",
    "Так же для информации:\n",
    "- есть пользователи которые выполняли очень большое количество действий при этом пропускали многие другие действия, которые по логике должны идти друг за другом\n",
    "- выявлены пользователи которые делали всего 1 действие, например прочитав/изучив tutorial больше не выполняли никаких действий;\n",
    "- выявлены пользователи разные события по которым совершались в одно время вплоть до секунды, так же нужно выяснить этот факт.\n",
    "\n",
    "\n",
    "Поэтому нужно уточниться у ответвественных за данные, может ли быть такое или нет;"
   ]
  },
  {
   "cell_type": "markdown",
   "metadata": {},
   "source": [
    "## Воронка событий"
   ]
  },
  {
   "cell_type": "markdown",
   "metadata": {},
   "source": [
    "### Изучим, какие события есть в логах, как часто они встречаются."
   ]
  },
  {
   "cell_type": "code",
   "execution_count": 17,
   "metadata": {},
   "outputs": [
    {
     "name": "stdout",
     "output_type": "stream",
     "text": [
      "\u001b[34m\u001b[1m    \n",
      "      Таблица частосты событий     \u001b[0m\n"
     ]
    },
    {
     "data": {
      "text/html": [
       "<style type=\"text/css\">\n",
       "</style>\n",
       "<table id=\"T_1d767_\">\n",
       "  <thead>\n",
       "    <tr>\n",
       "      <th class=\"blank level0\" >&nbsp;</th>\n",
       "      <th class=\"col_heading level0 col0\" >event</th>\n",
       "      <th class=\"col_heading level0 col1\" >freq</th>\n",
       "      <th class=\"col_heading level0 col2\" >share</th>\n",
       "    </tr>\n",
       "  </thead>\n",
       "  <tbody>\n",
       "    <tr>\n",
       "      <th id=\"T_1d767_level0_row0\" class=\"row_heading level0 row0\" >1</th>\n",
       "      <td id=\"T_1d767_row0_col0\" class=\"data row0 col0\" >MainScreenAppear</td>\n",
       "      <td id=\"T_1d767_row0_col1\" class=\"data row0 col1\" >117328</td>\n",
       "      <td id=\"T_1d767_row0_col2\" class=\"data row0 col2\" >48.7%</td>\n",
       "    </tr>\n",
       "    <tr>\n",
       "      <th id=\"T_1d767_level0_row1\" class=\"row_heading level0 row1\" >2</th>\n",
       "      <td id=\"T_1d767_row1_col0\" class=\"data row1 col0\" >OffersScreenAppear</td>\n",
       "      <td id=\"T_1d767_row1_col1\" class=\"data row1 col1\" >46333</td>\n",
       "      <td id=\"T_1d767_row1_col2\" class=\"data row1 col2\" >19.2%</td>\n",
       "    </tr>\n",
       "    <tr>\n",
       "      <th id=\"T_1d767_level0_row2\" class=\"row_heading level0 row2\" >0</th>\n",
       "      <td id=\"T_1d767_row2_col0\" class=\"data row2 col0\" >CartScreenAppear</td>\n",
       "      <td id=\"T_1d767_row2_col1\" class=\"data row2 col1\" >42303</td>\n",
       "      <td id=\"T_1d767_row2_col2\" class=\"data row2 col2\" >17.6%</td>\n",
       "    </tr>\n",
       "    <tr>\n",
       "      <th id=\"T_1d767_level0_row3\" class=\"row_heading level0 row3\" >3</th>\n",
       "      <td id=\"T_1d767_row3_col0\" class=\"data row3 col0\" >PaymentScreenSuccessful</td>\n",
       "      <td id=\"T_1d767_row3_col1\" class=\"data row3 col1\" >33918</td>\n",
       "      <td id=\"T_1d767_row3_col2\" class=\"data row3 col2\" >14.1%</td>\n",
       "    </tr>\n",
       "    <tr>\n",
       "      <th id=\"T_1d767_level0_row4\" class=\"row_heading level0 row4\" >4</th>\n",
       "      <td id=\"T_1d767_row4_col0\" class=\"data row4 col0\" >Tutorial</td>\n",
       "      <td id=\"T_1d767_row4_col1\" class=\"data row4 col1\" >1005</td>\n",
       "      <td id=\"T_1d767_row4_col2\" class=\"data row4 col2\" >0.4%</td>\n",
       "    </tr>\n",
       "  </tbody>\n",
       "</table>\n"
      ],
      "text/plain": [
       "<pandas.io.formats.style.Styler at 0x1251c0b8520>"
      ]
     },
     "metadata": {},
     "output_type": "display_data"
    }
   ],
   "source": [
    "events = dff.groupby('event').agg({'user_id':'count'}).reset_index().sort_values('user_id', ascending=False)\n",
    "events.columns = ['event','freq']\n",
    "events['share'] = events['freq']/events['freq'].sum()\n",
    "\n",
    "print(\"\\033[34m\\033[1m{}\\033[0m\".format(\"\"\"    \n",
    "      Таблица частосты событий     \"\"\"))\n",
    "display(events.style.format({'share': '{:.1%}'}))"
   ]
  },
  {
   "cell_type": "code",
   "execution_count": 18,
   "metadata": {},
   "outputs": [
    {
     "data": {
      "image/png": "[encoded data removed]",
      "text/plain": [
       "<Figure size 1152x504 with 1 Axes>"
      ]
     },
     "metadata": {
      "image/png": {
       "height": 426,
       "width": 1070
      },
      "needs_background": "light"
     },
     "output_type": "display_data"
    }
   ],
   "source": [
    "plt.figure(figsize=(16,7))\n",
    "sns.barplot(\n",
    "    y='event',\n",
    "    x='freq',\n",
    "    data=events,\n",
    "    orient='h',\n",
    "    color='black')\n",
    "plt.xlabel('Событие', color='black', size=12)\n",
    "plt.ylabel('Частота', color='black', size=12)\n",
    "plt.xticks([])\n",
    "plt.title('Распеределение событий по их виду', color='black', size=14)\n",
    "\n",
    "for y,x in enumerate(events['freq']):\n",
    "    label = format(x)\n",
    "    plt.annotate(label, # текст метки\n",
    "                 (x,y), # координаты метки\n",
    "                 textcoords=\"offset points\", # позиция текста метки\n",
    "                 xytext=(10,0), # расстояние между текстом и точкой координат метки\n",
    "                 va='center', color ='black', size=12) # выравнивание метки\n",
    "plt.show()"
   ]
  },
  {
   "cell_type": "markdown",
   "metadata": {},
   "source": [
    "- Самым популярным событием является появление главного экран (MainScreenAppear) - 48%, оно и логично, что практически все пользователи при входе в приложение попадают на главный экран.\n",
    "- далее идут события такие как:\n",
    "    - появление экрана предложения 19% (OffersScreenAppear);\n",
    "    - появление экрана корзины 17% (CartScreenAppear);\n",
    "    - появление экрана \"оплата выполнеена успешно\" 14% (PaymentScreenSuccessful)\n",
    "данные события являются приблизительно одинаковыми по количеству.\n",
    "- наименее популярным явлвяется событие \"Руководство\" менее 1% (Tutorial) т.е. практически никто не изучает так сказать техническую документацию и возможно данное событие можно исключить из расчета."
   ]
  },
  {
   "cell_type": "markdown",
   "metadata": {},
   "source": [
    "### Посчитаем, сколько пользователей совершали каждое событие и определим долю пользователей, которые хоть раз совершали событие."
   ]
  },
  {
   "cell_type": "code",
   "execution_count": 19,
   "metadata": {},
   "outputs": [
    {
     "name": "stdout",
     "output_type": "stream",
     "text": [
      "\u001b[34m\u001b[1m\n",
      "Таблица кол-ва пользователей по событиям и их доля\n",
      "   к общему кол-ву совершивших хоть 1 событие\n",
      "\n",
      "* количество уникальных пользователей для расчета 7534\u001b[0m\n"
     ]
    },
    {
     "data": {
      "text/html": [
       "<style type=\"text/css\">\n",
       "</style>\n",
       "<table id=\"T_5bb38_\">\n",
       "  <thead>\n",
       "    <tr>\n",
       "      <th class=\"blank level0\" >&nbsp;</th>\n",
       "      <th class=\"col_heading level0 col0\" >event</th>\n",
       "      <th class=\"col_heading level0 col1\" >cnt_unique_id</th>\n",
       "      <th class=\"col_heading level0 col2\" >share_for_one_event</th>\n",
       "    </tr>\n",
       "  </thead>\n",
       "  <tbody>\n",
       "    <tr>\n",
       "      <th id=\"T_5bb38_level0_row0\" class=\"row_heading level0 row0\" >1</th>\n",
       "      <td id=\"T_5bb38_row0_col0\" class=\"data row0 col0\" >MainScreenAppear</td>\n",
       "      <td id=\"T_5bb38_row0_col1\" class=\"data row0 col1\" >7419</td>\n",
       "      <td id=\"T_5bb38_row0_col2\" class=\"data row0 col2\" >98.5%</td>\n",
       "    </tr>\n",
       "    <tr>\n",
       "      <th id=\"T_5bb38_level0_row1\" class=\"row_heading level0 row1\" >2</th>\n",
       "      <td id=\"T_5bb38_row1_col0\" class=\"data row1 col0\" >OffersScreenAppear</td>\n",
       "      <td id=\"T_5bb38_row1_col1\" class=\"data row1 col1\" >4593</td>\n",
       "      <td id=\"T_5bb38_row1_col2\" class=\"data row1 col2\" >61.0%</td>\n",
       "    </tr>\n",
       "    <tr>\n",
       "      <th id=\"T_5bb38_level0_row2\" class=\"row_heading level0 row2\" >0</th>\n",
       "      <td id=\"T_5bb38_row2_col0\" class=\"data row2 col0\" >CartScreenAppear</td>\n",
       "      <td id=\"T_5bb38_row2_col1\" class=\"data row2 col1\" >3734</td>\n",
       "      <td id=\"T_5bb38_row2_col2\" class=\"data row2 col2\" >49.6%</td>\n",
       "    </tr>\n",
       "    <tr>\n",
       "      <th id=\"T_5bb38_level0_row3\" class=\"row_heading level0 row3\" >3</th>\n",
       "      <td id=\"T_5bb38_row3_col0\" class=\"data row3 col0\" >PaymentScreenSuccessful</td>\n",
       "      <td id=\"T_5bb38_row3_col1\" class=\"data row3 col1\" >3539</td>\n",
       "      <td id=\"T_5bb38_row3_col2\" class=\"data row3 col2\" >47.0%</td>\n",
       "    </tr>\n",
       "    <tr>\n",
       "      <th id=\"T_5bb38_level0_row4\" class=\"row_heading level0 row4\" >4</th>\n",
       "      <td id=\"T_5bb38_row4_col0\" class=\"data row4 col0\" >Tutorial</td>\n",
       "      <td id=\"T_5bb38_row4_col1\" class=\"data row4 col1\" >840</td>\n",
       "      <td id=\"T_5bb38_row4_col2\" class=\"data row4 col2\" >11.1%</td>\n",
       "    </tr>\n",
       "  </tbody>\n",
       "</table>\n"
      ],
      "text/plain": [
       "<pandas.io.formats.style.Styler at 0x1251cf3ac40>"
      ]
     },
     "metadata": {},
     "output_type": "display_data"
    }
   ],
   "source": [
    "events = dff.groupby('event').agg({'user_id':'nunique'}).reset_index().sort_values('user_id', ascending=False)\n",
    "events.columns = ['event','cnt_unique_id']\n",
    "events['share_for_one_event'] = events['cnt_unique_id']/dff['user_id'].nunique()\n",
    "\n",
    "print(\"\\033[34m\\033[1m{}\\033[0m\".format(\"\"\"\n",
    "Таблица кол-ва пользователей по событиям и их доля\n",
    "   к общему кол-ву совершивших хоть 1 событие\\n\n",
    "* количество уникальных пользователей для расчета {}\"\"\".format(dff['user_id'].nunique())))\n",
    "display(events.style.format({'share_for_one_event': '{:.1%}'}))"
   ]
  },
  {
   "cell_type": "markdown",
   "metadata": {},
   "source": [
    "Как и ранее наибольшее кол-во пользователей попадают на главный экран, но не 100% т.е. есть такие пользователи которые миновали это событие, что снова может говорить нам о том, что не все события выполняются поэтапно, возможно переход по прямым ссылкам в корзину или сразу к оплате, данный факт нужно уточнять и ответственных лиц за выгрузку и отслеживания событий."
   ]
  },
  {
   "cell_type": "markdown",
   "metadata": {},
   "source": [
    "### Посчитаем и изучим  воронку"
   ]
  },
  {
   "cell_type": "markdown",
   "metadata": {},
   "source": [
    "Предположим что порядок событий именно такой:\n",
    "- MainScreenAppear\t\n",
    "- OffersScreenAppear\t\n",
    "- CartScreenAppear\n",
    "- PaymentScreenSuccessful\t\n",
    "а события с типом tutorial т.е. если мы правильно понимаем это событие является руководством по использованию приложения и думаю оно должно стоять как минимум 2-ым после появления главного экрана или 1-ым при скачивании приложения, но количество говорит нам об обратном, поэтому исключим данные по этим событиям для изучения воронки.\n",
    "\n",
    "\n",
    "Так как мы не владеем информацией о ТОЧНОМ порядке событий в приложении, а так же возможностью пропускать события или выполнять их через одно и уточнить не предоставляется возможным, то можно сделать несколько вариантов расчета воронки событий, но впри этом Событие которое объеденяет является Main Screen Appear:\n",
    "1. \"Жесткий\" - все пользователи текущего события должны обязательно быть в предыдущем, при таком подходе мы отсечем всех пользователей который могли получить прямые ссылки на оплату, ранее отлодженых товаров или которые увидили спецпредложение где есть кнопка купить в один клие ии т.д.\n",
    "2. \"Мягкий\" - все пользователи могут начинать с любого события, но обязательно должны иметь событие MainScreenAppear.\n",
    "\n",
    "Далее мы будем расчитвыть воронку событий для варианта 2 \"Мягкий\", когда все пользователи начинают свой путь с Main Screen Appear и далее могут пропускать некоторые события."
   ]
  },
  {
   "cell_type": "code",
   "execution_count": 21,
   "metadata": {
    "scrolled": false
   },
   "outputs": [
    {
     "name": "stdout",
     "output_type": "stream",
     "text": [
      "\u001b[34m\u001b[1m\n",
      "                     Таблица расчета воронки \u001b[0m\n"
     ]
    },
    {
     "data": {
      "text/html": [
       "<style type=\"text/css\">\n",
       "</style>\n",
       "<table id=\"T_b4159_\">\n",
       "  <thead>\n",
       "    <tr>\n",
       "      <th class=\"blank level0\" >&nbsp;</th>\n",
       "      <th class=\"col_heading level0 col0\" >event</th>\n",
       "      <th class=\"col_heading level0 col1\" >uniq_user</th>\n",
       "      <th class=\"col_heading level0 col2\" >conversion_for_step</th>\n",
       "      <th class=\"col_heading level0 col3\" >conversion_for_first_step</th>\n",
       "    </tr>\n",
       "  </thead>\n",
       "  <tbody>\n",
       "    <tr>\n",
       "      <th id=\"T_b4159_level0_row0\" class=\"row_heading level0 row0\" >1</th>\n",
       "      <td id=\"T_b4159_row0_col0\" class=\"data row0 col0\" >MainScreenAppear</td>\n",
       "      <td id=\"T_b4159_row0_col1\" class=\"data row0 col1\" >7419</td>\n",
       "      <td id=\"T_b4159_row0_col2\" class=\"data row0 col2\" >100.0%</td>\n",
       "      <td id=\"T_b4159_row0_col3\" class=\"data row0 col3\" >100.0%</td>\n",
       "    </tr>\n",
       "    <tr>\n",
       "      <th id=\"T_b4159_level0_row1\" class=\"row_heading level0 row1\" >2</th>\n",
       "      <td id=\"T_b4159_row1_col0\" class=\"data row1 col0\" >OffersScreenAppear</td>\n",
       "      <td id=\"T_b4159_row1_col1\" class=\"data row1 col1\" >4593</td>\n",
       "      <td id=\"T_b4159_row1_col2\" class=\"data row1 col2\" >61.9%</td>\n",
       "      <td id=\"T_b4159_row1_col3\" class=\"data row1 col3\" >61.9%</td>\n",
       "    </tr>\n",
       "    <tr>\n",
       "      <th id=\"T_b4159_level0_row2\" class=\"row_heading level0 row2\" >0</th>\n",
       "      <td id=\"T_b4159_row2_col0\" class=\"data row2 col0\" >CartScreenAppear</td>\n",
       "      <td id=\"T_b4159_row2_col1\" class=\"data row2 col1\" >3734</td>\n",
       "      <td id=\"T_b4159_row2_col2\" class=\"data row2 col2\" >81.3%</td>\n",
       "      <td id=\"T_b4159_row2_col3\" class=\"data row2 col3\" >50.3%</td>\n",
       "    </tr>\n",
       "    <tr>\n",
       "      <th id=\"T_b4159_level0_row3\" class=\"row_heading level0 row3\" >3</th>\n",
       "      <td id=\"T_b4159_row3_col0\" class=\"data row3 col0\" >PaymentScreenSuccessful</td>\n",
       "      <td id=\"T_b4159_row3_col1\" class=\"data row3 col1\" >3539</td>\n",
       "      <td id=\"T_b4159_row3_col2\" class=\"data row3 col2\" >94.8%</td>\n",
       "      <td id=\"T_b4159_row3_col3\" class=\"data row3 col3\" >47.7%</td>\n",
       "    </tr>\n",
       "  </tbody>\n",
       "</table>\n"
      ],
      "text/plain": [
       "<pandas.io.formats.style.Styler at 0x1251a683b80>"
      ]
     },
     "metadata": {},
     "output_type": "display_data"
    },
    {
     "data": {
      "application/vnd.plotly.v1+json": {
       "config": {
        "plotlyServerURL": "https://plot.ly"
       },
       "data": [
        {
         "marker": {
          "color": "black"
         },
         "name": "от текущего события к предыдущему",
         "orientation": "h",
         "textinfo": "value+percent previous",
         "textposition": "inside",
         "type": "funnel",
         "x": [
          7419,
          4593,
          3734,
          3539
         ],
         "y": [
          "MainScreenAppear",
          "OffersScreenAppear",
          "CartScreenAppear",
          "PaymentScreenSuccessful"
         ]
        },
        {
         "marker": {
          "color": "green"
         },
         "name": "текущее событие к MainScreenAppear",
         "orientation": "h",
         "textinfo": "value+percent initial",
         "textposition": "inside",
         "type": "funnel",
         "x": [
          7419,
          4593,
          3734,
          3539
         ],
         "y": [
          "MainScreenAppear",
          "OffersScreenAppear",
          "CartScreenAppear",
          "PaymentScreenSuccessful"
         ]
        }
       ],
       "layout": {
        "height": 600,
        "plot_bgcolor": "rgba(0,0,0,0)",
        "template": {
         "data": {
          "bar": [
           {
            "error_x": {
             "color": "#2a3f5f"
            },
            "error_y": {
             "color": "#2a3f5f"
            },
            "marker": {
             "line": {
              "color": "#E5ECF6",
              "width": 0.5
             },
             "pattern": {
              "fillmode": "overlay",
              "size": 10,
              "solidity": 0.2
             }
            },
            "type": "bar"
           }
          ],
          "barpolar": [
           {
            "marker": {
             "line": {
              "color": "#E5ECF6",
              "width": 0.5
             },
             "pattern": {
              "fillmode": "overlay",
              "size": 10,
              "solidity": 0.2
             }
            },
            "type": "barpolar"
           }
          ],
          "carpet": [
           {
            "aaxis": {
             "endlinecolor": "#2a3f5f",
             "gridcolor": "white",
             "linecolor": "white",
             "minorgridcolor": "white",
             "startlinecolor": "#2a3f5f"
            },
            "baxis": {
             "endlinecolor": "#2a3f5f",
             "gridcolor": "white",
             "linecolor": "white",
             "minorgridcolor": "white",
             "startlinecolor": "#2a3f5f"
            },
            "type": "carpet"
           }
          ],
          "choropleth": [
           {
            "colorbar": {
             "outlinewidth": 0,
             "ticks": ""
            },
            "type": "choropleth"
           }
          ],
          "contour": [
           {
            "colorbar": {
             "outlinewidth": 0,
             "ticks": ""
            },
            "colorscale": [
             [
              0,
              "#0d0887"
             ],
             [
              0.1111111111111111,
              "#46039f"
             ],
             [
              0.2222222222222222,
              "#7201a8"
             ],
             [
              0.3333333333333333,
              "#9c179e"
             ],
             [
              0.4444444444444444,
              "#bd3786"
             ],
             [
              0.5555555555555556,
              "#d8576b"
             ],
             [
              0.6666666666666666,
              "#ed7953"
             ],
             [
              0.7777777777777778,
              "#fb9f3a"
             ],
             [
              0.8888888888888888,
              "#fdca26"
             ],
             [
              1,
              "#f0f921"
             ]
            ],
            "type": "contour"
           }
          ],
          "contourcarpet": [
           {
            "colorbar": {
             "outlinewidth": 0,
             "ticks": ""
            },
            "type": "contourcarpet"
           }
          ],
          "heatmap": [
           {
            "colorbar": {
             "outlinewidth": 0,
             "ticks": ""
            },
            "colorscale": [
             [
              0,
              "#0d0887"
             ],
             [
              0.1111111111111111,
              "#46039f"
             ],
             [
              0.2222222222222222,
              "#7201a8"
             ],
             [
              0.3333333333333333,
              "#9c179e"
             ],
             [
              0.4444444444444444,
              "#bd3786"
             ],
             [
              0.5555555555555556,
              "#d8576b"
             ],
             [
              0.6666666666666666,
              "#ed7953"
             ],
             [
              0.7777777777777778,
              "#fb9f3a"
             ],
             [
              0.8888888888888888,
              "#fdca26"
             ],
             [
              1,
              "#f0f921"
             ]
            ],
            "type": "heatmap"
           }
          ],
          "heatmapgl": [
           {
            "colorbar": {
             "outlinewidth": 0,
             "ticks": ""
            },
            "colorscale": [
             [
              0,
              "#0d0887"
             ],
             [
              0.1111111111111111,
              "#46039f"
             ],
             [
              0.2222222222222222,
              "#7201a8"
             ],
             [
              0.3333333333333333,
              "#9c179e"
             ],
             [
              0.4444444444444444,
              "#bd3786"
             ],
             [
              0.5555555555555556,
              "#d8576b"
             ],
             [
              0.6666666666666666,
              "#ed7953"
             ],
             [
              0.7777777777777778,
              "#fb9f3a"
             ],
             [
              0.8888888888888888,
              "#fdca26"
             ],
             [
              1,
              "#f0f921"
             ]
            ],
            "type": "heatmapgl"
           }
          ],
          "histogram": [
           {
            "marker": {
             "pattern": {
              "fillmode": "overlay",
              "size": 10,
              "solidity": 0.2
             }
            },
            "type": "histogram"
           }
          ],
          "histogram2d": [
           {
            "colorbar": {
             "outlinewidth": 0,
             "ticks": ""
            },
            "colorscale": [
             [
              0,
              "#0d0887"
             ],
             [
              0.1111111111111111,
              "#46039f"
             ],
             [
              0.2222222222222222,
              "#7201a8"
             ],
             [
              0.3333333333333333,
              "#9c179e"
             ],
             [
              0.4444444444444444,
              "#bd3786"
             ],
             [
              0.5555555555555556,
              "#d8576b"
             ],
             [
              0.6666666666666666,
              "#ed7953"
             ],
             [
              0.7777777777777778,
              "#fb9f3a"
             ],
             [
              0.8888888888888888,
              "#fdca26"
             ],
             [
              1,
              "#f0f921"
             ]
            ],
            "type": "histogram2d"
           }
          ],
          "histogram2dcontour": [
           {
            "colorbar": {
             "outlinewidth": 0,
             "ticks": ""
            },
            "colorscale": [
             [
              0,
              "#0d0887"
             ],
             [
              0.1111111111111111,
              "#46039f"
             ],
             [
              0.2222222222222222,
              "#7201a8"
             ],
             [
              0.3333333333333333,
              "#9c179e"
             ],
             [
              0.4444444444444444,
              "#bd3786"
             ],
             [
              0.5555555555555556,
              "#d8576b"
             ],
             [
              0.6666666666666666,
              "#ed7953"
             ],
             [
              0.7777777777777778,
              "#fb9f3a"
             ],
             [
              0.8888888888888888,
              "#fdca26"
             ],
             [
              1,
              "#f0f921"
             ]
            ],
            "type": "histogram2dcontour"
           }
          ],
          "mesh3d": [
           {
            "colorbar": {
             "outlinewidth": 0,
             "ticks": ""
            },
            "type": "mesh3d"
           }
          ],
          "parcoords": [
           {
            "line": {
             "colorbar": {
              "outlinewidth": 0,
              "ticks": ""
             }
            },
            "type": "parcoords"
           }
          ],
          "pie": [
           {
            "automargin": true,
            "type": "pie"
           }
          ],
          "scatter": [
           {
            "fillpattern": {
             "fillmode": "overlay",
             "size": 10,
             "solidity": 0.2
            },
            "type": "scatter"
           }
          ],
          "scatter3d": [
           {
            "line": {
             "colorbar": {
              "outlinewidth": 0,
              "ticks": ""
             }
            },
            "marker": {
             "colorbar": {
              "outlinewidth": 0,
              "ticks": ""
             }
            },
            "type": "scatter3d"
           }
          ],
          "scattercarpet": [
           {
            "marker": {
             "colorbar": {
              "outlinewidth": 0,
              "ticks": ""
             }
            },
            "type": "scattercarpet"
           }
          ],
          "scattergeo": [
           {
            "marker": {
             "colorbar": {
              "outlinewidth": 0,
              "ticks": ""
             }
            },
            "type": "scattergeo"
           }
          ],
          "scattergl": [
           {
            "marker": {
             "colorbar": {
              "outlinewidth": 0,
              "ticks": ""
             }
            },
            "type": "scattergl"
           }
          ],
          "scattermapbox": [
           {
            "marker": {
             "colorbar": {
              "outlinewidth": 0,
              "ticks": ""
             }
            },
            "type": "scattermapbox"
           }
          ],
          "scatterpolar": [
           {
            "marker": {
             "colorbar": {
              "outlinewidth": 0,
              "ticks": ""
             }
            },
            "type": "scatterpolar"
           }
          ],
          "scatterpolargl": [
           {
            "marker": {
             "colorbar": {
              "outlinewidth": 0,
              "ticks": ""
             }
            },
            "type": "scatterpolargl"
           }
          ],
          "scatterternary": [
           {
            "marker": {
             "colorbar": {
              "outlinewidth": 0,
              "ticks": ""
             }
            },
            "type": "scatterternary"
           }
          ],
          "surface": [
           {
            "colorbar": {
             "outlinewidth": 0,
             "ticks": ""
            },
            "colorscale": [
             [
              0,
              "#0d0887"
             ],
             [
              0.1111111111111111,
              "#46039f"
             ],
             [
              0.2222222222222222,
              "#7201a8"
             ],
             [
              0.3333333333333333,
              "#9c179e"
             ],
             [
              0.4444444444444444,
              "#bd3786"
             ],
             [
              0.5555555555555556,
              "#d8576b"
             ],
             [
              0.6666666666666666,
              "#ed7953"
             ],
             [
              0.7777777777777778,
              "#fb9f3a"
             ],
             [
              0.8888888888888888,
              "#fdca26"
             ],
             [
              1,
              "#f0f921"
             ]
            ],
            "type": "surface"
           }
          ],
          "table": [
           {
            "cells": {
             "fill": {
              "color": "#EBF0F8"
             },
             "line": {
              "color": "white"
             }
            },
            "header": {
             "fill": {
              "color": "#C8D4E3"
             },
             "line": {
              "color": "white"
             }
            },
            "type": "table"
           }
          ]
         },
         "layout": {
          "annotationdefaults": {
           "arrowcolor": "#2a3f5f",
           "arrowhead": 0,
           "arrowwidth": 1
          },
          "autotypenumbers": "strict",
          "coloraxis": {
           "colorbar": {
            "outlinewidth": 0,
            "ticks": ""
           }
          },
          "colorscale": {
           "diverging": [
            [
             0,
             "#8e0152"
            ],
            [
             0.1,
             "#c51b7d"
            ],
            [
             0.2,
             "#de77ae"
            ],
            [
             0.3,
             "#f1b6da"
            ],
            [
             0.4,
             "#fde0ef"
            ],
            [
             0.5,
             "#f7f7f7"
            ],
            [
             0.6,
             "#e6f5d0"
            ],
            [
             0.7,
             "#b8e186"
            ],
            [
             0.8,
             "#7fbc41"
            ],
            [
             0.9,
             "#4d9221"
            ],
            [
             1,
             "#276419"
            ]
           ],
           "sequential": [
            [
             0,
             "#0d0887"
            ],
            [
             0.1111111111111111,
             "#46039f"
            ],
            [
             0.2222222222222222,
             "#7201a8"
            ],
            [
             0.3333333333333333,
             "#9c179e"
            ],
            [
             0.4444444444444444,
             "#bd3786"
            ],
            [
             0.5555555555555556,
             "#d8576b"
            ],
            [
             0.6666666666666666,
             "#ed7953"
            ],
            [
             0.7777777777777778,
             "#fb9f3a"
            ],
            [
             0.8888888888888888,
             "#fdca26"
            ],
            [
             1,
             "#f0f921"
            ]
           ],
           "sequentialminus": [
            [
             0,
             "#0d0887"
            ],
            [
             0.1111111111111111,
             "#46039f"
            ],
            [
             0.2222222222222222,
             "#7201a8"
            ],
            [
             0.3333333333333333,
             "#9c179e"
            ],
            [
             0.4444444444444444,
             "#bd3786"
            ],
            [
             0.5555555555555556,
             "#d8576b"
            ],
            [
             0.6666666666666666,
             "#ed7953"
            ],
            [
             0.7777777777777778,
             "#fb9f3a"
            ],
            [
             0.8888888888888888,
             "#fdca26"
            ],
            [
             1,
             "#f0f921"
            ]
           ]
          },
          "colorway": [
           "#636efa",
           "#EF553B",
           "#00cc96",
           "#ab63fa",
           "#FFA15A",
           "#19d3f3",
           "#FF6692",
           "#B6E880",
           "#FF97FF",
           "#FECB52"
          ],
          "font": {
           "color": "#2a3f5f"
          },
          "geo": {
           "bgcolor": "white",
           "lakecolor": "white",
           "landcolor": "#E5ECF6",
           "showlakes": true,
           "showland": true,
           "subunitcolor": "white"
          },
          "hoverlabel": {
           "align": "left"
          },
          "hovermode": "closest",
          "mapbox": {
           "style": "light"
          },
          "paper_bgcolor": "white",
          "plot_bgcolor": "#E5ECF6",
          "polar": {
           "angularaxis": {
            "gridcolor": "white",
            "linecolor": "white",
            "ticks": ""
           },
           "bgcolor": "#E5ECF6",
           "radialaxis": {
            "gridcolor": "white",
            "linecolor": "white",
            "ticks": ""
           }
          },
          "scene": {
           "xaxis": {
            "backgroundcolor": "#E5ECF6",
            "gridcolor": "white",
            "gridwidth": 2,
            "linecolor": "white",
            "showbackground": true,
            "ticks": "",
            "zerolinecolor": "white"
           },
           "yaxis": {
            "backgroundcolor": "#E5ECF6",
            "gridcolor": "white",
            "gridwidth": 2,
            "linecolor": "white",
            "showbackground": true,
            "ticks": "",
            "zerolinecolor": "white"
           },
           "zaxis": {
            "backgroundcolor": "#E5ECF6",
            "gridcolor": "white",
            "gridwidth": 2,
            "linecolor": "white",
            "showbackground": true,
            "ticks": "",
            "zerolinecolor": "white"
           }
          },
          "shapedefaults": {
           "line": {
            "color": "#2a3f5f"
           }
          },
          "ternary": {
           "aaxis": {
            "gridcolor": "white",
            "linecolor": "white",
            "ticks": ""
           },
           "baxis": {
            "gridcolor": "white",
            "linecolor": "white",
            "ticks": ""
           },
           "bgcolor": "#E5ECF6",
           "caxis": {
            "gridcolor": "white",
            "linecolor": "white",
            "ticks": ""
           }
          },
          "title": {
           "x": 0.05
          },
          "xaxis": {
           "automargin": true,
           "gridcolor": "white",
           "linecolor": "white",
           "ticks": "",
           "title": {
            "standoff": 15
           },
           "zerolinecolor": "white",
           "zerolinewidth": 2
          },
          "yaxis": {
           "automargin": true,
           "gridcolor": "white",
           "linecolor": "white",
           "ticks": "",
           "title": {
            "standoff": 15
           },
           "zerolinecolor": "white",
           "zerolinewidth": 2
          }
         }
        },
        "title": {
         "text": "Воронка событий"
        },
        "width": 900,
        "xaxis": {
         "title": {
          "text": ""
         }
        },
        "yaxis": {
         "title": {
          "text": ""
         }
        }
       }
      },
      "text/html": [
       "<div>                            <div id=\"e59e7791-ac30-492c-a791-e8d87467e734\" class=\"plotly-graph-div\" style=\"height:600px; width:900px;\"></div>            <script type=\"text/javascript\">                require([\"plotly\"], function(Plotly) {                    window.PLOTLYENV=window.PLOTLYENV || {};                                    if (document.getElementById(\"e59e7791-ac30-492c-a791-e8d87467e734\")) {                    Plotly.newPlot(                        \"e59e7791-ac30-492c-a791-e8d87467e734\",                        [{\"name\":\"\\u043e\\u0442 \\u0442\\u0435\\u043a\\u0443\\u0449\\u0435\\u0433\\u043e \\u0441\\u043e\\u0431\\u044b\\u0442\\u0438\\u044f \\u043a \\u043f\\u0440\\u0435\\u0434\\u044b\\u0434\\u0443\\u0449\\u0435\\u043c\\u0443\",\"orientation\":\"h\",\"textinfo\":\"value+percent previous\",\"textposition\":\"inside\",\"x\":[7419,4593,3734,3539],\"y\":[\"MainScreenAppear\",\"OffersScreenAppear\",\"CartScreenAppear\",\"PaymentScreenSuccessful\"],\"type\":\"funnel\",\"marker\":{\"color\":\"black\"}},{\"name\":\"\\u0442\\u0435\\u043a\\u0443\\u0449\\u0435\\u0435 \\u0441\\u043e\\u0431\\u044b\\u0442\\u0438\\u0435 \\u043a MainScreenAppear\",\"orientation\":\"h\",\"textinfo\":\"value+percent initial\",\"textposition\":\"inside\",\"x\":[7419,4593,3734,3539],\"y\":[\"MainScreenAppear\",\"OffersScreenAppear\",\"CartScreenAppear\",\"PaymentScreenSuccessful\"],\"type\":\"funnel\",\"marker\":{\"color\":\"green\"}}],                        {\"template\":{\"data\":{\"histogram2dcontour\":[{\"type\":\"histogram2dcontour\",\"colorbar\":{\"outlinewidth\":0,\"ticks\":\"\"},\"colorscale\":[[0.0,\"#0d0887\"],[0.1111111111111111,\"#46039f\"],[0.2222222222222222,\"#7201a8\"],[0.3333333333333333,\"#9c179e\"],[0.4444444444444444,\"#bd3786\"],[0.5555555555555556,\"#d8576b\"],[0.6666666666666666,\"#ed7953\"],[0.7777777777777778,\"#fb9f3a\"],[0.8888888888888888,\"#fdca26\"],[1.0,\"#f0f921\"]]}],\"choropleth\":[{\"type\":\"choropleth\",\"colorbar\":{\"outlinewidth\":0,\"ticks\":\"\"}}],\"histogram2d\":[{\"type\":\"histogram2d\",\"colorbar\":{\"outlinewidth\":0,\"ticks\":\"\"},\"colorscale\":[[0.0,\"#0d0887\"],[0.1111111111111111,\"#46039f\"],[0.2222222222222222,\"#7201a8\"],[0.3333333333333333,\"#9c179e\"],[0.4444444444444444,\"#bd3786\"],[0.5555555555555556,\"#d8576b\"],[0.6666666666666666,\"#ed7953\"],[0.7777777777777778,\"#fb9f3a\"],[0.8888888888888888,\"#fdca26\"],[1.0,\"#f0f921\"]]}],\"heatmap\":[{\"type\":\"heatmap\",\"colorbar\":{\"outlinewidth\":0,\"ticks\":\"\"},\"colorscale\":[[0.0,\"#0d0887\"],[0.1111111111111111,\"#46039f\"],[0.2222222222222222,\"#7201a8\"],[0.3333333333333333,\"#9c179e\"],[0.4444444444444444,\"#bd3786\"],[0.5555555555555556,\"#d8576b\"],[0.6666666666666666,\"#ed7953\"],[0.7777777777777778,\"#fb9f3a\"],[0.8888888888888888,\"#fdca26\"],[1.0,\"#f0f921\"]]}],\"heatmapgl\":[{\"type\":\"heatmapgl\",\"colorbar\":{\"outlinewidth\":0,\"ticks\":\"\"},\"colorscale\":[[0.0,\"#0d0887\"],[0.1111111111111111,\"#46039f\"],[0.2222222222222222,\"#7201a8\"],[0.3333333333333333,\"#9c179e\"],[0.4444444444444444,\"#bd3786\"],[0.5555555555555556,\"#d8576b\"],[0.6666666666666666,\"#ed7953\"],[0.7777777777777778,\"#fb9f3a\"],[0.8888888888888888,\"#fdca26\"],[1.0,\"#f0f921\"]]}],\"contourcarpet\":[{\"type\":\"contourcarpet\",\"colorbar\":{\"outlinewidth\":0,\"ticks\":\"\"}}],\"contour\":[{\"type\":\"contour\",\"colorbar\":{\"outlinewidth\":0,\"ticks\":\"\"},\"colorscale\":[[0.0,\"#0d0887\"],[0.1111111111111111,\"#46039f\"],[0.2222222222222222,\"#7201a8\"],[0.3333333333333333,\"#9c179e\"],[0.4444444444444444,\"#bd3786\"],[0.5555555555555556,\"#d8576b\"],[0.6666666666666666,\"#ed7953\"],[0.7777777777777778,\"#fb9f3a\"],[0.8888888888888888,\"#fdca26\"],[1.0,\"#f0f921\"]]}],\"surface\":[{\"type\":\"surface\",\"colorbar\":{\"outlinewidth\":0,\"ticks\":\"\"},\"colorscale\":[[0.0,\"#0d0887\"],[0.1111111111111111,\"#46039f\"],[0.2222222222222222,\"#7201a8\"],[0.3333333333333333,\"#9c179e\"],[0.4444444444444444,\"#bd3786\"],[0.5555555555555556,\"#d8576b\"],[0.6666666666666666,\"#ed7953\"],[0.7777777777777778,\"#fb9f3a\"],[0.8888888888888888,\"#fdca26\"],[1.0,\"#f0f921\"]]}],\"mesh3d\":[{\"type\":\"mesh3d\",\"colorbar\":{\"outlinewidth\":0,\"ticks\":\"\"}}],\"scatter\":[{\"fillpattern\":{\"fillmode\":\"overlay\",\"size\":10,\"solidity\":0.2},\"type\":\"scatter\"}],\"parcoords\":[{\"type\":\"parcoords\",\"line\":{\"colorbar\":{\"outlinewidth\":0,\"ticks\":\"\"}}}],\"scatterpolargl\":[{\"type\":\"scatterpolargl\",\"marker\":{\"colorbar\":{\"outlinewidth\":0,\"ticks\":\"\"}}}],\"bar\":[{\"error_x\":{\"color\":\"#2a3f5f\"},\"error_y\":{\"color\":\"#2a3f5f\"},\"marker\":{\"line\":{\"color\":\"#E5ECF6\",\"width\":0.5},\"pattern\":{\"fillmode\":\"overlay\",\"size\":10,\"solidity\":0.2}},\"type\":\"bar\"}],\"scattergeo\":[{\"type\":\"scattergeo\",\"marker\":{\"colorbar\":{\"outlinewidth\":0,\"ticks\":\"\"}}}],\"scatterpolar\":[{\"type\":\"scatterpolar\",\"marker\":{\"colorbar\":{\"outlinewidth\":0,\"ticks\":\"\"}}}],\"histogram\":[{\"marker\":{\"pattern\":{\"fillmode\":\"overlay\",\"size\":10,\"solidity\":0.2}},\"type\":\"histogram\"}],\"scattergl\":[{\"type\":\"scattergl\",\"marker\":{\"colorbar\":{\"outlinewidth\":0,\"ticks\":\"\"}}}],\"scatter3d\":[{\"type\":\"scatter3d\",\"line\":{\"colorbar\":{\"outlinewidth\":0,\"ticks\":\"\"}},\"marker\":{\"colorbar\":{\"outlinewidth\":0,\"ticks\":\"\"}}}],\"scattermapbox\":[{\"type\":\"scattermapbox\",\"marker\":{\"colorbar\":{\"outlinewidth\":0,\"ticks\":\"\"}}}],\"scatterternary\":[{\"type\":\"scatterternary\",\"marker\":{\"colorbar\":{\"outlinewidth\":0,\"ticks\":\"\"}}}],\"scattercarpet\":[{\"type\":\"scattercarpet\",\"marker\":{\"colorbar\":{\"outlinewidth\":0,\"ticks\":\"\"}}}],\"carpet\":[{\"aaxis\":{\"endlinecolor\":\"#2a3f5f\",\"gridcolor\":\"white\",\"linecolor\":\"white\",\"minorgridcolor\":\"white\",\"startlinecolor\":\"#2a3f5f\"},\"baxis\":{\"endlinecolor\":\"#2a3f5f\",\"gridcolor\":\"white\",\"linecolor\":\"white\",\"minorgridcolor\":\"white\",\"startlinecolor\":\"#2a3f5f\"},\"type\":\"carpet\"}],\"table\":[{\"cells\":{\"fill\":{\"color\":\"#EBF0F8\"},\"line\":{\"color\":\"white\"}},\"header\":{\"fill\":{\"color\":\"#C8D4E3\"},\"line\":{\"color\":\"white\"}},\"type\":\"table\"}],\"barpolar\":[{\"marker\":{\"line\":{\"color\":\"#E5ECF6\",\"width\":0.5},\"pattern\":{\"fillmode\":\"overlay\",\"size\":10,\"solidity\":0.2}},\"type\":\"barpolar\"}],\"pie\":[{\"automargin\":true,\"type\":\"pie\"}]},\"layout\":{\"autotypenumbers\":\"strict\",\"colorway\":[\"#636efa\",\"#EF553B\",\"#00cc96\",\"#ab63fa\",\"#FFA15A\",\"#19d3f3\",\"#FF6692\",\"#B6E880\",\"#FF97FF\",\"#FECB52\"],\"font\":{\"color\":\"#2a3f5f\"},\"hovermode\":\"closest\",\"hoverlabel\":{\"align\":\"left\"},\"paper_bgcolor\":\"white\",\"plot_bgcolor\":\"#E5ECF6\",\"polar\":{\"bgcolor\":\"#E5ECF6\",\"angularaxis\":{\"gridcolor\":\"white\",\"linecolor\":\"white\",\"ticks\":\"\"},\"radialaxis\":{\"gridcolor\":\"white\",\"linecolor\":\"white\",\"ticks\":\"\"}},\"ternary\":{\"bgcolor\":\"#E5ECF6\",\"aaxis\":{\"gridcolor\":\"white\",\"linecolor\":\"white\",\"ticks\":\"\"},\"baxis\":{\"gridcolor\":\"white\",\"linecolor\":\"white\",\"ticks\":\"\"},\"caxis\":{\"gridcolor\":\"white\",\"linecolor\":\"white\",\"ticks\":\"\"}},\"coloraxis\":{\"colorbar\":{\"outlinewidth\":0,\"ticks\":\"\"}},\"colorscale\":{\"sequential\":[[0.0,\"#0d0887\"],[0.1111111111111111,\"#46039f\"],[0.2222222222222222,\"#7201a8\"],[0.3333333333333333,\"#9c179e\"],[0.4444444444444444,\"#bd3786\"],[0.5555555555555556,\"#d8576b\"],[0.6666666666666666,\"#ed7953\"],[0.7777777777777778,\"#fb9f3a\"],[0.8888888888888888,\"#fdca26\"],[1.0,\"#f0f921\"]],\"sequentialminus\":[[0.0,\"#0d0887\"],[0.1111111111111111,\"#46039f\"],[0.2222222222222222,\"#7201a8\"],[0.3333333333333333,\"#9c179e\"],[0.4444444444444444,\"#bd3786\"],[0.5555555555555556,\"#d8576b\"],[0.6666666666666666,\"#ed7953\"],[0.7777777777777778,\"#fb9f3a\"],[0.8888888888888888,\"#fdca26\"],[1.0,\"#f0f921\"]],\"diverging\":[[0,\"#8e0152\"],[0.1,\"#c51b7d\"],[0.2,\"#de77ae\"],[0.3,\"#f1b6da\"],[0.4,\"#fde0ef\"],[0.5,\"#f7f7f7\"],[0.6,\"#e6f5d0\"],[0.7,\"#b8e186\"],[0.8,\"#7fbc41\"],[0.9,\"#4d9221\"],[1,\"#276419\"]]},\"xaxis\":{\"gridcolor\":\"white\",\"linecolor\":\"white\",\"ticks\":\"\",\"title\":{\"standoff\":15},\"zerolinecolor\":\"white\",\"automargin\":true,\"zerolinewidth\":2},\"yaxis\":{\"gridcolor\":\"white\",\"linecolor\":\"white\",\"ticks\":\"\",\"title\":{\"standoff\":15},\"zerolinecolor\":\"white\",\"automargin\":true,\"zerolinewidth\":2},\"scene\":{\"xaxis\":{\"backgroundcolor\":\"#E5ECF6\",\"gridcolor\":\"white\",\"linecolor\":\"white\",\"showbackground\":true,\"ticks\":\"\",\"zerolinecolor\":\"white\",\"gridwidth\":2},\"yaxis\":{\"backgroundcolor\":\"#E5ECF6\",\"gridcolor\":\"white\",\"linecolor\":\"white\",\"showbackground\":true,\"ticks\":\"\",\"zerolinecolor\":\"white\",\"gridwidth\":2},\"zaxis\":{\"backgroundcolor\":\"#E5ECF6\",\"gridcolor\":\"white\",\"linecolor\":\"white\",\"showbackground\":true,\"ticks\":\"\",\"zerolinecolor\":\"white\",\"gridwidth\":2}},\"shapedefaults\":{\"line\":{\"color\":\"#2a3f5f\"}},\"annotationdefaults\":{\"arrowcolor\":\"#2a3f5f\",\"arrowhead\":0,\"arrowwidth\":1},\"geo\":{\"bgcolor\":\"white\",\"landcolor\":\"#E5ECF6\",\"subunitcolor\":\"white\",\"showland\":true,\"showlakes\":true,\"lakecolor\":\"white\"},\"title\":{\"x\":0.05},\"mapbox\":{\"style\":\"light\"}}},\"title\":{\"text\":\"\\u0412\\u043e\\u0440\\u043e\\u043d\\u043a\\u0430 \\u0441\\u043e\\u0431\\u044b\\u0442\\u0438\\u0439\"},\"yaxis\":{\"title\":{\"text\":\"\"}},\"xaxis\":{\"title\":{\"text\":\"\"}},\"height\":600,\"width\":900,\"plot_bgcolor\":\"rgba(0,0,0,0)\"},                        {\"responsive\": true}                    ).then(function(){\n",
       "                            \n",
       "var gd = document.getElementById('e59e7791-ac30-492c-a791-e8d87467e734');\n",
       "var x = new MutationObserver(function (mutations, observer) {{\n",
       "        var display = window.getComputedStyle(gd).display;\n",
       "        if (!display || display === 'none') {{\n",
       "            console.log([gd, 'removed!']);\n",
       "            Plotly.purge(gd);\n",
       "            observer.disconnect();\n",
       "        }}\n",
       "}});\n",
       "\n",
       "// Listen for the removal of the full notebook cells\n",
       "var notebookContainer = gd.closest('#notebook-container');\n",
       "if (notebookContainer) {{\n",
       "    x.observe(notebookContainer, {childList: true});\n",
       "}}\n",
       "\n",
       "// Listen for the clearing of the current output cell\n",
       "var outputEl = gd.closest('.output');\n",
       "if (outputEl) {{\n",
       "    x.observe(outputEl, {childList: true});\n",
       "}}\n",
       "\n",
       "                        })                };                });            </script>        </div>"
      ]
     },
     "metadata": {},
     "output_type": "display_data"
    }
   ],
   "source": [
    "# создадим таблицу \n",
    "# users_list = dff.query('event == \"MainScreenAppear\"')['user_id'].unique()\n",
    "tab = dff.query('event != \"Tutorial\"') #user_id in @users_list and \n",
    "tabl = tab.groupby('event').agg({'user_id':'nunique'}).reset_index().sort_values('user_id', ascending=False)\n",
    "\n",
    "tabl.columns = ['event','uniq_user']\n",
    "tabl['conversion_for_step'] = tabl['uniq_user']/tabl['uniq_user'].shift(1, fill_value=tabl.uniq_user.max())\n",
    "tabl['conversion_for_first_step'] = tabl['uniq_user']/tabl['uniq_user'].max()\n",
    "print(\"\\033[34m\\033[1m{}\\033[0m\".format(\"\"\"\n",
    "                     Таблица расчета воронки \"\"\"))\n",
    "display(tabl.style.format({'conversion_for_step': '{:.1%}', 'conversion_for_first_step': '{:.1%}'}))\n",
    "\n",
    "#построим график\n",
    "arr =  [\"от текущего события к предыдущему\", \n",
    "       \"value+percent previous\",\n",
    "       \"текущее событие к MainScreenAppear\",\n",
    "       \"value+percent initial\"]\n",
    "fig = go.Figure()\n",
    "fig.add_trace(go.Funnel(\n",
    "    orientation = \"h\",\n",
    "    name = arr[0],\n",
    "    y = tabl['event'],\n",
    "    x = tabl['uniq_user'],\n",
    "    textposition = \"inside\",\n",
    "    textinfo = arr[1]))\n",
    "fig.add_trace(go.Funnel(\n",
    "    orientation = \"h\",\n",
    "    name = arr[2],\n",
    "    y = tabl['event'],\n",
    "    x = tabl['uniq_user'],\n",
    "    textposition = \"inside\",\n",
    "    textinfo = arr[3]))  \n",
    "fig.update_layout(title='Воронка событий',\n",
    "                  yaxis_title= \"\",\n",
    "                  xaxis_title='',height=600, width=900,plot_bgcolor='rgba(0,0,0,0)') \n",
    "fig.update_yaxes()\n",
    "fig.data[0].marker.color = 'black'\n",
    "fig.data[1].marker.color = 'green'\n",
    "fig.show()"
   ]
  },
  {
   "cell_type": "markdown",
   "metadata": {},
   "source": [
    "Как видно по данным воронок:\n",
    "- околок 38% пользователей не доходят даже до экрана предложений, т.е. это может говорить нам о том, что есть какие-то пробелмы и возможно технические, можно предположить что новые шрифты некорректно отражаются у пользоватлей и они просто не могут пользоваться приложением и примерно такое количество пользователей 35% у нас попало в эксперементальную группу где используются новые шрифты(далее проверим коверсии по события в разрезе каждой из групп).\n",
    "- около 20% пользователей отсекается после шага показа экрана предложения и перехода в корзину или 50% если брать от показа главного экрана, но опять же это может быть связано как с тех.проблемой так и с тем что пользователь может пропустить одно из событий.\n",
    "- около 95% увидивших корзину переходят и оплачивают и 48% если брать от показа главного экрана.\n",
    "\n",
    "Можно сказать что есть проблема с конверсией от показа главного экрана как минимум там мы теряем почти 40% потенциальных пользователей которые могут совершить покупку, нужно разобратсья с тем, что видят пользователи эксперементальной группы, а так же выяснить нет ли технических проблем, так же можно обратить внимание на конверсию от экрана с предложением и переходом в корзину там теряется около 19% (12%)"
   ]
  },
  {
   "cell_type": "code",
   "execution_count": 22,
   "metadata": {},
   "outputs": [
    {
     "data": {
      "application/vnd.plotly.v1+json": {
       "config": {
        "plotlyServerURL": "https://plot.ly"
       },
       "data": [
        {
         "marker": {
          "color": "black"
         },
         "name": "246 группа",
         "orientation": "h",
         "textinfo": "value+percent initial+percent previous",
         "textposition": "inside",
         "type": "funnel",
         "x": [
          2450,
          1542,
          1266,
          1200
         ],
         "y": [
          "MainScreenAppear",
          "OffersScreenAppear",
          "CartScreenAppear",
          "PaymentScreenSuccessful"
         ]
        },
        {
         "marker": {
          "color": "green"
         },
         "name": "247 группа",
         "orientation": "h",
         "textinfo": "value+percent initial+percent previous",
         "textposition": "inside",
         "type": "funnel",
         "x": [
          2476,
          1520,
          1238,
          1158
         ],
         "y": [
          "MainScreenAppear",
          "OffersScreenAppear",
          "CartScreenAppear",
          "PaymentScreenSuccessful"
         ]
        },
        {
         "marker": {
          "color": "blue"
         },
         "name": "248 группа",
         "orientation": "h",
         "textinfo": "value+percent initial+percent previous",
         "textposition": "inside",
         "type": "funnel",
         "x": [
          2493,
          1531,
          1230,
          1181
         ],
         "y": [
          "MainScreenAppear",
          "OffersScreenAppear",
          "CartScreenAppear",
          "PaymentScreenSuccessful"
         ]
        }
       ],
       "layout": {
        "height": 600,
        "plot_bgcolor": "rgba(0,0,0,0)",
        "template": {
         "data": {
          "bar": [
           {
            "error_x": {
             "color": "#2a3f5f"
            },
            "error_y": {
             "color": "#2a3f5f"
            },
            "marker": {
             "line": {
              "color": "#E5ECF6",
              "width": 0.5
             },
             "pattern": {
              "fillmode": "overlay",
              "size": 10,
              "solidity": 0.2
             }
            },
            "type": "bar"
           }
          ],
          "barpolar": [
           {
            "marker": {
             "line": {
              "color": "#E5ECF6",
              "width": 0.5
             },
             "pattern": {
              "fillmode": "overlay",
              "size": 10,
              "solidity": 0.2
             }
            },
            "type": "barpolar"
           }
          ],
          "carpet": [
           {
            "aaxis": {
             "endlinecolor": "#2a3f5f",
             "gridcolor": "white",
             "linecolor": "white",
             "minorgridcolor": "white",
             "startlinecolor": "#2a3f5f"
            },
            "baxis": {
             "endlinecolor": "#2a3f5f",
             "gridcolor": "white",
             "linecolor": "white",
             "minorgridcolor": "white",
             "startlinecolor": "#2a3f5f"
            },
            "type": "carpet"
           }
          ],
          "choropleth": [
           {
            "colorbar": {
             "outlinewidth": 0,
             "ticks": ""
            },
            "type": "choropleth"
           }
          ],
          "contour": [
           {
            "colorbar": {
             "outlinewidth": 0,
             "ticks": ""
            },
            "colorscale": [
             [
              0,
              "#0d0887"
             ],
             [
              0.1111111111111111,
              "#46039f"
             ],
             [
              0.2222222222222222,
              "#7201a8"
             ],
             [
              0.3333333333333333,
              "#9c179e"
             ],
             [
              0.4444444444444444,
              "#bd3786"
             ],
             [
              0.5555555555555556,
              "#d8576b"
             ],
             [
              0.6666666666666666,
              "#ed7953"
             ],
             [
              0.7777777777777778,
              "#fb9f3a"
             ],
             [
              0.8888888888888888,
              "#fdca26"
             ],
             [
              1,
              "#f0f921"
             ]
            ],
            "type": "contour"
           }
          ],
          "contourcarpet": [
           {
            "colorbar": {
             "outlinewidth": 0,
             "ticks": ""
            },
            "type": "contourcarpet"
           }
          ],
          "heatmap": [
           {
            "colorbar": {
             "outlinewidth": 0,
             "ticks": ""
            },
            "colorscale": [
             [
              0,
              "#0d0887"
             ],
             [
              0.1111111111111111,
              "#46039f"
             ],
             [
              0.2222222222222222,
              "#7201a8"
             ],
             [
              0.3333333333333333,
              "#9c179e"
             ],
             [
              0.4444444444444444,
              "#bd3786"
             ],
             [
              0.5555555555555556,
              "#d8576b"
             ],
             [
              0.6666666666666666,
              "#ed7953"
             ],
             [
              0.7777777777777778,
              "#fb9f3a"
             ],
             [
              0.8888888888888888,
              "#fdca26"
             ],
             [
              1,
              "#f0f921"
             ]
            ],
            "type": "heatmap"
           }
          ],
          "heatmapgl": [
           {
            "colorbar": {
             "outlinewidth": 0,
             "ticks": ""
            },
            "colorscale": [
             [
              0,
              "#0d0887"
             ],
             [
              0.1111111111111111,
              "#46039f"
             ],
             [
              0.2222222222222222,
              "#7201a8"
             ],
             [
              0.3333333333333333,
              "#9c179e"
             ],
             [
              0.4444444444444444,
              "#bd3786"
             ],
             [
              0.5555555555555556,
              "#d8576b"
             ],
             [
              0.6666666666666666,
              "#ed7953"
             ],
             [
              0.7777777777777778,
              "#fb9f3a"
             ],
             [
              0.8888888888888888,
              "#fdca26"
             ],
             [
              1,
              "#f0f921"
             ]
            ],
            "type": "heatmapgl"
           }
          ],
          "histogram": [
           {
            "marker": {
             "pattern": {
              "fillmode": "overlay",
              "size": 10,
              "solidity": 0.2
             }
            },
            "type": "histogram"
           }
          ],
          "histogram2d": [
           {
            "colorbar": {
             "outlinewidth": 0,
             "ticks": ""
            },
            "colorscale": [
             [
              0,
              "#0d0887"
             ],
             [
              0.1111111111111111,
              "#46039f"
             ],
             [
              0.2222222222222222,
              "#7201a8"
             ],
             [
              0.3333333333333333,
              "#9c179e"
             ],
             [
              0.4444444444444444,
              "#bd3786"
             ],
             [
              0.5555555555555556,
              "#d8576b"
             ],
             [
              0.6666666666666666,
              "#ed7953"
             ],
             [
              0.7777777777777778,
              "#fb9f3a"
             ],
             [
              0.8888888888888888,
              "#fdca26"
             ],
             [
              1,
              "#f0f921"
             ]
            ],
            "type": "histogram2d"
           }
          ],
          "histogram2dcontour": [
           {
            "colorbar": {
             "outlinewidth": 0,
             "ticks": ""
            },
            "colorscale": [
             [
              0,
              "#0d0887"
             ],
             [
              0.1111111111111111,
              "#46039f"
             ],
             [
              0.2222222222222222,
              "#7201a8"
             ],
             [
              0.3333333333333333,
              "#9c179e"
             ],
             [
              0.4444444444444444,
              "#bd3786"
             ],
             [
              0.5555555555555556,
              "#d8576b"
             ],
             [
              0.6666666666666666,
              "#ed7953"
             ],
             [
              0.7777777777777778,
              "#fb9f3a"
             ],
             [
              0.8888888888888888,
              "#fdca26"
             ],
             [
              1,
              "#f0f921"
             ]
            ],
            "type": "histogram2dcontour"
           }
          ],
          "mesh3d": [
           {
            "colorbar": {
             "outlinewidth": 0,
             "ticks": ""
            },
            "type": "mesh3d"
           }
          ],
          "parcoords": [
           {
            "line": {
             "colorbar": {
              "outlinewidth": 0,
              "ticks": ""
             }
            },
            "type": "parcoords"
           }
          ],
          "pie": [
           {
            "automargin": true,
            "type": "pie"
           }
          ],
          "scatter": [
           {
            "fillpattern": {
             "fillmode": "overlay",
             "size": 10,
             "solidity": 0.2
            },
            "type": "scatter"
           }
          ],
          "scatter3d": [
           {
            "line": {
             "colorbar": {
              "outlinewidth": 0,
              "ticks": ""
             }
            },
            "marker": {
             "colorbar": {
              "outlinewidth": 0,
              "ticks": ""
             }
            },
            "type": "scatter3d"
           }
          ],
          "scattercarpet": [
           {
            "marker": {
             "colorbar": {
              "outlinewidth": 0,
              "ticks": ""
             }
            },
            "type": "scattercarpet"
           }
          ],
          "scattergeo": [
           {
            "marker": {
             "colorbar": {
              "outlinewidth": 0,
              "ticks": ""
             }
            },
            "type": "scattergeo"
           }
          ],
          "scattergl": [
           {
            "marker": {
             "colorbar": {
              "outlinewidth": 0,
              "ticks": ""
             }
            },
            "type": "scattergl"
           }
          ],
          "scattermapbox": [
           {
            "marker": {
             "colorbar": {
              "outlinewidth": 0,
              "ticks": ""
             }
            },
            "type": "scattermapbox"
           }
          ],
          "scatterpolar": [
           {
            "marker": {
             "colorbar": {
              "outlinewidth": 0,
              "ticks": ""
             }
            },
            "type": "scatterpolar"
           }
          ],
          "scatterpolargl": [
           {
            "marker": {
             "colorbar": {
              "outlinewidth": 0,
              "ticks": ""
             }
            },
            "type": "scatterpolargl"
           }
          ],
          "scatterternary": [
           {
            "marker": {
             "colorbar": {
              "outlinewidth": 0,
              "ticks": ""
             }
            },
            "type": "scatterternary"
           }
          ],
          "surface": [
           {
            "colorbar": {
             "outlinewidth": 0,
             "ticks": ""
            },
            "colorscale": [
             [
              0,
              "#0d0887"
             ],
             [
              0.1111111111111111,
              "#46039f"
             ],
             [
              0.2222222222222222,
              "#7201a8"
             ],
             [
              0.3333333333333333,
              "#9c179e"
             ],
             [
              0.4444444444444444,
              "#bd3786"
             ],
             [
              0.5555555555555556,
              "#d8576b"
             ],
             [
              0.6666666666666666,
              "#ed7953"
             ],
             [
              0.7777777777777778,
              "#fb9f3a"
             ],
             [
              0.8888888888888888,
              "#fdca26"
             ],
             [
              1,
              "#f0f921"
             ]
            ],
            "type": "surface"
           }
          ],
          "table": [
           {
            "cells": {
             "fill": {
              "color": "#EBF0F8"
             },
             "line": {
              "color": "white"
             }
            },
            "header": {
             "fill": {
              "color": "#C8D4E3"
             },
             "line": {
              "color": "white"
             }
            },
            "type": "table"
           }
          ]
         },
         "layout": {
          "annotationdefaults": {
           "arrowcolor": "#2a3f5f",
           "arrowhead": 0,
           "arrowwidth": 1
          },
          "autotypenumbers": "strict",
          "coloraxis": {
           "colorbar": {
            "outlinewidth": 0,
            "ticks": ""
           }
          },
          "colorscale": {
           "diverging": [
            [
             0,
             "#8e0152"
            ],
            [
             0.1,
             "#c51b7d"
            ],
            [
             0.2,
             "#de77ae"
            ],
            [
             0.3,
             "#f1b6da"
            ],
            [
             0.4,
             "#fde0ef"
            ],
            [
             0.5,
             "#f7f7f7"
            ],
            [
             0.6,
             "#e6f5d0"
            ],
            [
             0.7,
             "#b8e186"
            ],
            [
             0.8,
             "#7fbc41"
            ],
            [
             0.9,
             "#4d9221"
            ],
            [
             1,
             "#276419"
            ]
           ],
           "sequential": [
            [
             0,
             "#0d0887"
            ],
            [
             0.1111111111111111,
             "#46039f"
            ],
            [
             0.2222222222222222,
             "#7201a8"
            ],
            [
             0.3333333333333333,
             "#9c179e"
            ],
            [
             0.4444444444444444,
             "#bd3786"
            ],
            [
             0.5555555555555556,
             "#d8576b"
            ],
            [
             0.6666666666666666,
             "#ed7953"
            ],
            [
             0.7777777777777778,
             "#fb9f3a"
            ],
            [
             0.8888888888888888,
             "#fdca26"
            ],
            [
             1,
             "#f0f921"
            ]
           ],
           "sequentialminus": [
            [
             0,
             "#0d0887"
            ],
            [
             0.1111111111111111,
             "#46039f"
            ],
            [
             0.2222222222222222,
             "#7201a8"
            ],
            [
             0.3333333333333333,
             "#9c179e"
            ],
            [
             0.4444444444444444,
             "#bd3786"
            ],
            [
             0.5555555555555556,
             "#d8576b"
            ],
            [
             0.6666666666666666,
             "#ed7953"
            ],
            [
             0.7777777777777778,
             "#fb9f3a"
            ],
            [
             0.8888888888888888,
             "#fdca26"
            ],
            [
             1,
             "#f0f921"
            ]
           ]
          },
          "colorway": [
           "#636efa",
           "#EF553B",
           "#00cc96",
           "#ab63fa",
           "#FFA15A",
           "#19d3f3",
           "#FF6692",
           "#B6E880",
           "#FF97FF",
           "#FECB52"
          ],
          "font": {
           "color": "#2a3f5f"
          },
          "geo": {
           "bgcolor": "white",
           "lakecolor": "white",
           "landcolor": "#E5ECF6",
           "showlakes": true,
           "showland": true,
           "subunitcolor": "white"
          },
          "hoverlabel": {
           "align": "left"
          },
          "hovermode": "closest",
          "mapbox": {
           "style": "light"
          },
          "paper_bgcolor": "white",
          "plot_bgcolor": "#E5ECF6",
          "polar": {
           "angularaxis": {
            "gridcolor": "white",
            "linecolor": "white",
            "ticks": ""
           },
           "bgcolor": "#E5ECF6",
           "radialaxis": {
            "gridcolor": "white",
            "linecolor": "white",
            "ticks": ""
           }
          },
          "scene": {
           "xaxis": {
            "backgroundcolor": "#E5ECF6",
            "gridcolor": "white",
            "gridwidth": 2,
            "linecolor": "white",
            "showbackground": true,
            "ticks": "",
            "zerolinecolor": "white"
           },
           "yaxis": {
            "backgroundcolor": "#E5ECF6",
            "gridcolor": "white",
            "gridwidth": 2,
            "linecolor": "white",
            "showbackground": true,
            "ticks": "",
            "zerolinecolor": "white"
           },
           "zaxis": {
            "backgroundcolor": "#E5ECF6",
            "gridcolor": "white",
            "gridwidth": 2,
            "linecolor": "white",
            "showbackground": true,
            "ticks": "",
            "zerolinecolor": "white"
           }
          },
          "shapedefaults": {
           "line": {
            "color": "#2a3f5f"
           }
          },
          "ternary": {
           "aaxis": {
            "gridcolor": "white",
            "linecolor": "white",
            "ticks": ""
           },
           "baxis": {
            "gridcolor": "white",
            "linecolor": "white",
            "ticks": ""
           },
           "bgcolor": "#E5ECF6",
           "caxis": {
            "gridcolor": "white",
            "linecolor": "white",
            "ticks": ""
           }
          },
          "title": {
           "x": 0.05
          },
          "xaxis": {
           "automargin": true,
           "gridcolor": "white",
           "linecolor": "white",
           "ticks": "",
           "title": {
            "standoff": 15
           },
           "zerolinecolor": "white",
           "zerolinewidth": 2
          },
          "yaxis": {
           "automargin": true,
           "gridcolor": "white",
           "linecolor": "white",
           "ticks": "",
           "title": {
            "standoff": 15
           },
           "zerolinecolor": "white",
           "zerolinewidth": 2
          }
         }
        },
        "title": {
         "text": "Воронка событий по группам (процент конверсии от текущего события к предыдущему)"
        },
        "width": 900,
        "xaxis": {
         "title": {
          "text": ""
         }
        },
        "yaxis": {
         "title": {
          "text": ""
         }
        }
       }
      },
      "text/html": [
       "<div>                            <div id=\"9279bf26-9aa1-4134-8667-b2616933bb58\" class=\"plotly-graph-div\" style=\"height:600px; width:900px;\"></div>            <script type=\"text/javascript\">                require([\"plotly\"], function(Plotly) {                    window.PLOTLYENV=window.PLOTLYENV || {};                                    if (document.getElementById(\"9279bf26-9aa1-4134-8667-b2616933bb58\")) {                    Plotly.newPlot(                        \"9279bf26-9aa1-4134-8667-b2616933bb58\",                        [{\"name\":\"246 \\u0433\\u0440\\u0443\\u043f\\u043f\\u0430\",\"orientation\":\"h\",\"textinfo\":\"value+percent initial+percent previous\",\"textposition\":\"inside\",\"x\":[2450,1542,1266,1200],\"y\":[\"MainScreenAppear\",\"OffersScreenAppear\",\"CartScreenAppear\",\"PaymentScreenSuccessful\"],\"type\":\"funnel\",\"marker\":{\"color\":\"black\"}},{\"name\":\"247 \\u0433\\u0440\\u0443\\u043f\\u043f\\u0430\",\"orientation\":\"h\",\"textinfo\":\"value+percent initial+percent previous\",\"textposition\":\"inside\",\"x\":[2476,1520,1238,1158],\"y\":[\"MainScreenAppear\",\"OffersScreenAppear\",\"CartScreenAppear\",\"PaymentScreenSuccessful\"],\"type\":\"funnel\",\"marker\":{\"color\":\"green\"}},{\"name\":\"248 \\u0433\\u0440\\u0443\\u043f\\u043f\\u0430\",\"orientation\":\"h\",\"textinfo\":\"value+percent initial+percent previous\",\"textposition\":\"inside\",\"x\":[2493,1531,1230,1181],\"y\":[\"MainScreenAppear\",\"OffersScreenAppear\",\"CartScreenAppear\",\"PaymentScreenSuccessful\"],\"type\":\"funnel\",\"marker\":{\"color\":\"blue\"}}],                        {\"template\":{\"data\":{\"histogram2dcontour\":[{\"type\":\"histogram2dcontour\",\"colorbar\":{\"outlinewidth\":0,\"ticks\":\"\"},\"colorscale\":[[0.0,\"#0d0887\"],[0.1111111111111111,\"#46039f\"],[0.2222222222222222,\"#7201a8\"],[0.3333333333333333,\"#9c179e\"],[0.4444444444444444,\"#bd3786\"],[0.5555555555555556,\"#d8576b\"],[0.6666666666666666,\"#ed7953\"],[0.7777777777777778,\"#fb9f3a\"],[0.8888888888888888,\"#fdca26\"],[1.0,\"#f0f921\"]]}],\"choropleth\":[{\"type\":\"choropleth\",\"colorbar\":{\"outlinewidth\":0,\"ticks\":\"\"}}],\"histogram2d\":[{\"type\":\"histogram2d\",\"colorbar\":{\"outlinewidth\":0,\"ticks\":\"\"},\"colorscale\":[[0.0,\"#0d0887\"],[0.1111111111111111,\"#46039f\"],[0.2222222222222222,\"#7201a8\"],[0.3333333333333333,\"#9c179e\"],[0.4444444444444444,\"#bd3786\"],[0.5555555555555556,\"#d8576b\"],[0.6666666666666666,\"#ed7953\"],[0.7777777777777778,\"#fb9f3a\"],[0.8888888888888888,\"#fdca26\"],[1.0,\"#f0f921\"]]}],\"heatmap\":[{\"type\":\"heatmap\",\"colorbar\":{\"outlinewidth\":0,\"ticks\":\"\"},\"colorscale\":[[0.0,\"#0d0887\"],[0.1111111111111111,\"#46039f\"],[0.2222222222222222,\"#7201a8\"],[0.3333333333333333,\"#9c179e\"],[0.4444444444444444,\"#bd3786\"],[0.5555555555555556,\"#d8576b\"],[0.6666666666666666,\"#ed7953\"],[0.7777777777777778,\"#fb9f3a\"],[0.8888888888888888,\"#fdca26\"],[1.0,\"#f0f921\"]]}],\"heatmapgl\":[{\"type\":\"heatmapgl\",\"colorbar\":{\"outlinewidth\":0,\"ticks\":\"\"},\"colorscale\":[[0.0,\"#0d0887\"],[0.1111111111111111,\"#46039f\"],[0.2222222222222222,\"#7201a8\"],[0.3333333333333333,\"#9c179e\"],[0.4444444444444444,\"#bd3786\"],[0.5555555555555556,\"#d8576b\"],[0.6666666666666666,\"#ed7953\"],[0.7777777777777778,\"#fb9f3a\"],[0.8888888888888888,\"#fdca26\"],[1.0,\"#f0f921\"]]}],\"contourcarpet\":[{\"type\":\"contourcarpet\",\"colorbar\":{\"outlinewidth\":0,\"ticks\":\"\"}}],\"contour\":[{\"type\":\"contour\",\"colorbar\":{\"outlinewidth\":0,\"ticks\":\"\"},\"colorscale\":[[0.0,\"#0d0887\"],[0.1111111111111111,\"#46039f\"],[0.2222222222222222,\"#7201a8\"],[0.3333333333333333,\"#9c179e\"],[0.4444444444444444,\"#bd3786\"],[0.5555555555555556,\"#d8576b\"],[0.6666666666666666,\"#ed7953\"],[0.7777777777777778,\"#fb9f3a\"],[0.8888888888888888,\"#fdca26\"],[1.0,\"#f0f921\"]]}],\"surface\":[{\"type\":\"surface\",\"colorbar\":{\"outlinewidth\":0,\"ticks\":\"\"},\"colorscale\":[[0.0,\"#0d0887\"],[0.1111111111111111,\"#46039f\"],[0.2222222222222222,\"#7201a8\"],[0.3333333333333333,\"#9c179e\"],[0.4444444444444444,\"#bd3786\"],[0.5555555555555556,\"#d8576b\"],[0.6666666666666666,\"#ed7953\"],[0.7777777777777778,\"#fb9f3a\"],[0.8888888888888888,\"#fdca26\"],[1.0,\"#f0f921\"]]}],\"mesh3d\":[{\"type\":\"mesh3d\",\"colorbar\":{\"outlinewidth\":0,\"ticks\":\"\"}}],\"scatter\":[{\"fillpattern\":{\"fillmode\":\"overlay\",\"size\":10,\"solidity\":0.2},\"type\":\"scatter\"}],\"parcoords\":[{\"type\":\"parcoords\",\"line\":{\"colorbar\":{\"outlinewidth\":0,\"ticks\":\"\"}}}],\"scatterpolargl\":[{\"type\":\"scatterpolargl\",\"marker\":{\"colorbar\":{\"outlinewidth\":0,\"ticks\":\"\"}}}],\"bar\":[{\"error_x\":{\"color\":\"#2a3f5f\"},\"error_y\":{\"color\":\"#2a3f5f\"},\"marker\":{\"line\":{\"color\":\"#E5ECF6\",\"width\":0.5},\"pattern\":{\"fillmode\":\"overlay\",\"size\":10,\"solidity\":0.2}},\"type\":\"bar\"}],\"scattergeo\":[{\"type\":\"scattergeo\",\"marker\":{\"colorbar\":{\"outlinewidth\":0,\"ticks\":\"\"}}}],\"scatterpolar\":[{\"type\":\"scatterpolar\",\"marker\":{\"colorbar\":{\"outlinewidth\":0,\"ticks\":\"\"}}}],\"histogram\":[{\"marker\":{\"pattern\":{\"fillmode\":\"overlay\",\"size\":10,\"solidity\":0.2}},\"type\":\"histogram\"}],\"scattergl\":[{\"type\":\"scattergl\",\"marker\":{\"colorbar\":{\"outlinewidth\":0,\"ticks\":\"\"}}}],\"scatter3d\":[{\"type\":\"scatter3d\",\"line\":{\"colorbar\":{\"outlinewidth\":0,\"ticks\":\"\"}},\"marker\":{\"colorbar\":{\"outlinewidth\":0,\"ticks\":\"\"}}}],\"scattermapbox\":[{\"type\":\"scattermapbox\",\"marker\":{\"colorbar\":{\"outlinewidth\":0,\"ticks\":\"\"}}}],\"scatterternary\":[{\"type\":\"scatterternary\",\"marker\":{\"colorbar\":{\"outlinewidth\":0,\"ticks\":\"\"}}}],\"scattercarpet\":[{\"type\":\"scattercarpet\",\"marker\":{\"colorbar\":{\"outlinewidth\":0,\"ticks\":\"\"}}}],\"carpet\":[{\"aaxis\":{\"endlinecolor\":\"#2a3f5f\",\"gridcolor\":\"white\",\"linecolor\":\"white\",\"minorgridcolor\":\"white\",\"startlinecolor\":\"#2a3f5f\"},\"baxis\":{\"endlinecolor\":\"#2a3f5f\",\"gridcolor\":\"white\",\"linecolor\":\"white\",\"minorgridcolor\":\"white\",\"startlinecolor\":\"#2a3f5f\"},\"type\":\"carpet\"}],\"table\":[{\"cells\":{\"fill\":{\"color\":\"#EBF0F8\"},\"line\":{\"color\":\"white\"}},\"header\":{\"fill\":{\"color\":\"#C8D4E3\"},\"line\":{\"color\":\"white\"}},\"type\":\"table\"}],\"barpolar\":[{\"marker\":{\"line\":{\"color\":\"#E5ECF6\",\"width\":0.5},\"pattern\":{\"fillmode\":\"overlay\",\"size\":10,\"solidity\":0.2}},\"type\":\"barpolar\"}],\"pie\":[{\"automargin\":true,\"type\":\"pie\"}]},\"layout\":{\"autotypenumbers\":\"strict\",\"colorway\":[\"#636efa\",\"#EF553B\",\"#00cc96\",\"#ab63fa\",\"#FFA15A\",\"#19d3f3\",\"#FF6692\",\"#B6E880\",\"#FF97FF\",\"#FECB52\"],\"font\":{\"color\":\"#2a3f5f\"},\"hovermode\":\"closest\",\"hoverlabel\":{\"align\":\"left\"},\"paper_bgcolor\":\"white\",\"plot_bgcolor\":\"#E5ECF6\",\"polar\":{\"bgcolor\":\"#E5ECF6\",\"angularaxis\":{\"gridcolor\":\"white\",\"linecolor\":\"white\",\"ticks\":\"\"},\"radialaxis\":{\"gridcolor\":\"white\",\"linecolor\":\"white\",\"ticks\":\"\"}},\"ternary\":{\"bgcolor\":\"#E5ECF6\",\"aaxis\":{\"gridcolor\":\"white\",\"linecolor\":\"white\",\"ticks\":\"\"},\"baxis\":{\"gridcolor\":\"white\",\"linecolor\":\"white\",\"ticks\":\"\"},\"caxis\":{\"gridcolor\":\"white\",\"linecolor\":\"white\",\"ticks\":\"\"}},\"coloraxis\":{\"colorbar\":{\"outlinewidth\":0,\"ticks\":\"\"}},\"colorscale\":{\"sequential\":[[0.0,\"#0d0887\"],[0.1111111111111111,\"#46039f\"],[0.2222222222222222,\"#7201a8\"],[0.3333333333333333,\"#9c179e\"],[0.4444444444444444,\"#bd3786\"],[0.5555555555555556,\"#d8576b\"],[0.6666666666666666,\"#ed7953\"],[0.7777777777777778,\"#fb9f3a\"],[0.8888888888888888,\"#fdca26\"],[1.0,\"#f0f921\"]],\"sequentialminus\":[[0.0,\"#0d0887\"],[0.1111111111111111,\"#46039f\"],[0.2222222222222222,\"#7201a8\"],[0.3333333333333333,\"#9c179e\"],[0.4444444444444444,\"#bd3786\"],[0.5555555555555556,\"#d8576b\"],[0.6666666666666666,\"#ed7953\"],[0.7777777777777778,\"#fb9f3a\"],[0.8888888888888888,\"#fdca26\"],[1.0,\"#f0f921\"]],\"diverging\":[[0,\"#8e0152\"],[0.1,\"#c51b7d\"],[0.2,\"#de77ae\"],[0.3,\"#f1b6da\"],[0.4,\"#fde0ef\"],[0.5,\"#f7f7f7\"],[0.6,\"#e6f5d0\"],[0.7,\"#b8e186\"],[0.8,\"#7fbc41\"],[0.9,\"#4d9221\"],[1,\"#276419\"]]},\"xaxis\":{\"gridcolor\":\"white\",\"linecolor\":\"white\",\"ticks\":\"\",\"title\":{\"standoff\":15},\"zerolinecolor\":\"white\",\"automargin\":true,\"zerolinewidth\":2},\"yaxis\":{\"gridcolor\":\"white\",\"linecolor\":\"white\",\"ticks\":\"\",\"title\":{\"standoff\":15},\"zerolinecolor\":\"white\",\"automargin\":true,\"zerolinewidth\":2},\"scene\":{\"xaxis\":{\"backgroundcolor\":\"#E5ECF6\",\"gridcolor\":\"white\",\"linecolor\":\"white\",\"showbackground\":true,\"ticks\":\"\",\"zerolinecolor\":\"white\",\"gridwidth\":2},\"yaxis\":{\"backgroundcolor\":\"#E5ECF6\",\"gridcolor\":\"white\",\"linecolor\":\"white\",\"showbackground\":true,\"ticks\":\"\",\"zerolinecolor\":\"white\",\"gridwidth\":2},\"zaxis\":{\"backgroundcolor\":\"#E5ECF6\",\"gridcolor\":\"white\",\"linecolor\":\"white\",\"showbackground\":true,\"ticks\":\"\",\"zerolinecolor\":\"white\",\"gridwidth\":2}},\"shapedefaults\":{\"line\":{\"color\":\"#2a3f5f\"}},\"annotationdefaults\":{\"arrowcolor\":\"#2a3f5f\",\"arrowhead\":0,\"arrowwidth\":1},\"geo\":{\"bgcolor\":\"white\",\"landcolor\":\"#E5ECF6\",\"subunitcolor\":\"white\",\"showland\":true,\"showlakes\":true,\"lakecolor\":\"white\"},\"title\":{\"x\":0.05},\"mapbox\":{\"style\":\"light\"}}},\"title\":{\"text\":\"\\u0412\\u043e\\u0440\\u043e\\u043d\\u043a\\u0430 \\u0441\\u043e\\u0431\\u044b\\u0442\\u0438\\u0439 \\u043f\\u043e \\u0433\\u0440\\u0443\\u043f\\u043f\\u0430\\u043c (\\u043f\\u0440\\u043e\\u0446\\u0435\\u043d\\u0442 \\u043a\\u043e\\u043d\\u0432\\u0435\\u0440\\u0441\\u0438\\u0438 \\u043e\\u0442 \\u0442\\u0435\\u043a\\u0443\\u0449\\u0435\\u0433\\u043e \\u0441\\u043e\\u0431\\u044b\\u0442\\u0438\\u044f \\u043a \\u043f\\u0440\\u0435\\u0434\\u044b\\u0434\\u0443\\u0449\\u0435\\u043c\\u0443)\"},\"yaxis\":{\"title\":{\"text\":\"\"}},\"xaxis\":{\"title\":{\"text\":\"\"}},\"height\":600,\"width\":900,\"plot_bgcolor\":\"rgba(0,0,0,0)\"},                        {\"responsive\": true}                    ).then(function(){\n",
       "                            \n",
       "var gd = document.getElementById('9279bf26-9aa1-4134-8667-b2616933bb58');\n",
       "var x = new MutationObserver(function (mutations, observer) {{\n",
       "        var display = window.getComputedStyle(gd).display;\n",
       "        if (!display || display === 'none') {{\n",
       "            console.log([gd, 'removed!']);\n",
       "            Plotly.purge(gd);\n",
       "            observer.disconnect();\n",
       "        }}\n",
       "}});\n",
       "\n",
       "// Listen for the removal of the full notebook cells\n",
       "var notebookContainer = gd.closest('#notebook-container');\n",
       "if (notebookContainer) {{\n",
       "    x.observe(notebookContainer, {childList: true});\n",
       "}}\n",
       "\n",
       "// Listen for the clearing of the current output cell\n",
       "var outputEl = gd.closest('.output');\n",
       "if (outputEl) {{\n",
       "    x.observe(outputEl, {childList: true});\n",
       "}}\n",
       "\n",
       "                        })                };                });            </script>        </div>"
      ]
     },
     "metadata": {},
     "output_type": "display_data"
    }
   ],
   "source": [
    "# создадми таблицу с событиями и количеством уникальных юзеров совершивших его\n",
    "users_list = dff.query('event == \"MainScreenAppear\"')['user_id'].unique()\n",
    "\n",
    "t_246 = dff.query('event != \"Tutorial\"').query('group == 246').groupby(['event']).agg({'user_id':'nunique'}).reset_index().sort_values('user_id', ascending=False)\n",
    "t_247 = dff.query('event != \"Tutorial\"').query('group == 247').groupby(['event']).agg({'user_id':'nunique'}).reset_index().sort_values('user_id', ascending=False)\n",
    "t_248 = dff.query('event != \"Tutorial\"').query('group == 248').groupby(['event']).agg({'user_id':'nunique'}).reset_index().sort_values('user_id', ascending=False)\n",
    "t = t_246.merge(t_247,left_on='event',right_on='event').merge(t_248,left_on='event',right_on='event')\n",
    "t.columns = ['event','246_users','247_users','248_users']\n",
    "\n",
    "# построим график\n",
    "fig = go.Figure()\n",
    "fig.add_trace(go.Funnel(\n",
    "    orientation = \"h\",\n",
    "    name = '246 группа',\n",
    "    y = t['event'],\n",
    "    x = t['246_users'],\n",
    "    textposition = \"inside\",\n",
    "    textinfo = 'value+percent initial+percent previous'))\n",
    "fig.add_trace(go.Funnel(\n",
    "    orientation = \"h\",\n",
    "    name = '247 группа',\n",
    "    y = t['event'],\n",
    "    x = t['247_users'],\n",
    "    textposition = \"inside\",\n",
    "    textinfo = 'value+percent initial+percent previous'))\n",
    "fig.add_trace(go.Funnel(\n",
    "    orientation = \"h\",\n",
    "    name = '248 группа',\n",
    "    y = t['event'],\n",
    "    x = t['248_users'],\n",
    "    textposition = \"inside\",\n",
    "    textinfo = 'value+percent initial+percent previous'))  \n",
    "fig.update_layout(title='Воронка событий по группам (процент конверсии от текущего события к предыдущему)',\n",
    "                  yaxis_title= \"\",\n",
    "                  xaxis_title='',height=600, width=900,plot_bgcolor='rgba(0,0,0,0)') \n",
    "fig.update_yaxes()\n",
    "fig.data[0].marker.color = 'black'\n",
    "fig.data[1].marker.color = 'green'\n",
    "fig.data[2].marker.color = 'blue'\n",
    "fig.show()\n"
   ]
  },
  {
   "cell_type": "markdown",
   "metadata": {},
   "source": [
    "Как мы видим данные воронок по группам так же примерно одинаковы и причина отсутствия коверсии из показа главного экрана к предложениям остается открытой, при этом если предположить, что экран с предложением можно пропускать, тогда так же нужно разобраться с проблемами экрана предложений и конверсией главного экрана к показу к корзине, так как порядка 95% и 45% пользователей совершают покупку после того как произойдет появление экрана корзины.\n",
    "\n",
    "Около 46% пользователей проходят от первого до последнего события."
   ]
  },
  {
   "cell_type": "markdown",
   "metadata": {},
   "source": [
    "## Проверка результатов экспиримента (А/А/В экспиримент)"
   ]
  },
  {
   "cell_type": "markdown",
   "metadata": {},
   "source": [
    "### Расчитаем количество пользователей в каждой экспериментальной группе в разрезе каждого события"
   ]
  },
  {
   "cell_type": "code",
   "execution_count": 23,
   "metadata": {
    "scrolled": true
   },
   "outputs": [
    {
     "name": "stdout",
     "output_type": "stream",
     "text": [
      "\u001b[34m\u001b[1m    \n",
      "                  Таблица количества уникальных пользователей \n",
      "                     по группам в разрезе каждого событиям\u001b[0m\n"
     ]
    },
    {
     "data": {
      "text/html": [
       "<div>\n",
       "<style scoped>\n",
       "    .dataframe tbody tr th:only-of-type {\n",
       "        vertical-align: middle;\n",
       "    }\n",
       "\n",
       "    .dataframe tbody tr th {\n",
       "        vertical-align: top;\n",
       "    }\n",
       "\n",
       "    .dataframe thead th {\n",
       "        text-align: right;\n",
       "    }\n",
       "</style>\n",
       "<table border=\"1\" class=\"dataframe\">\n",
       "  <thead>\n",
       "    <tr style=\"text-align: right;\">\n",
       "      <th></th>\n",
       "      <th>CartScreenAppear</th>\n",
       "      <th>MainScreenAppear</th>\n",
       "      <th>OffersScreenAppear</th>\n",
       "      <th>PaymentScreenSuccessful</th>\n",
       "      <th>Tutorial</th>\n",
       "      <th>total</th>\n",
       "    </tr>\n",
       "    <tr>\n",
       "      <th>group</th>\n",
       "      <th></th>\n",
       "      <th></th>\n",
       "      <th></th>\n",
       "      <th></th>\n",
       "      <th></th>\n",
       "      <th></th>\n",
       "    </tr>\n",
       "  </thead>\n",
       "  <tbody>\n",
       "    <tr>\n",
       "      <th>246</th>\n",
       "      <td>1266</td>\n",
       "      <td>2450</td>\n",
       "      <td>1542</td>\n",
       "      <td>1200</td>\n",
       "      <td>278</td>\n",
       "      <td>2484</td>\n",
       "    </tr>\n",
       "    <tr>\n",
       "      <th>247</th>\n",
       "      <td>1238</td>\n",
       "      <td>2476</td>\n",
       "      <td>1520</td>\n",
       "      <td>1158</td>\n",
       "      <td>283</td>\n",
       "      <td>2513</td>\n",
       "    </tr>\n",
       "    <tr>\n",
       "      <th>248</th>\n",
       "      <td>1230</td>\n",
       "      <td>2493</td>\n",
       "      <td>1531</td>\n",
       "      <td>1181</td>\n",
       "      <td>279</td>\n",
       "      <td>2537</td>\n",
       "    </tr>\n",
       "    <tr>\n",
       "      <th>246+247</th>\n",
       "      <td>2504</td>\n",
       "      <td>4926</td>\n",
       "      <td>3062</td>\n",
       "      <td>2358</td>\n",
       "      <td>561</td>\n",
       "      <td>4997</td>\n",
       "    </tr>\n",
       "  </tbody>\n",
       "</table>\n",
       "</div>"
      ],
      "text/plain": [
       "         CartScreenAppear  MainScreenAppear  OffersScreenAppear  \\\n",
       "group                                                             \n",
       "246                  1266              2450                1542   \n",
       "247                  1238              2476                1520   \n",
       "248                  1230              2493                1531   \n",
       "246+247              2504              4926                3062   \n",
       "\n",
       "         PaymentScreenSuccessful  Tutorial  total  \n",
       "group                                              \n",
       "246                         1200       278   2484  \n",
       "247                         1158       283   2513  \n",
       "248                         1181       279   2537  \n",
       "246+247                     2358       561   4997  "
      ]
     },
     "metadata": {},
     "output_type": "display_data"
    },
    {
     "name": "stdout",
     "output_type": "stream",
     "text": [
      "Уникальных пользователей в экспериментальной группе:\n",
      "№ 246 - 2484 шт.\n",
      "№ 247 - 2513 шт.\n",
      "№ 248 - 2537 шт.\n",
      "№ 246+247 - 4997 шт.\n"
     ]
    }
   ],
   "source": [
    "pt = pd.pivot_table(dff,index='group', values='user_id',columns='event', aggfunc='nunique').reset_index().sort_values('group')\n",
    "pt = pt.merge(pd.pivot_table(dff,index='group', values='user_id', aggfunc='nunique').reset_index().sort_values('group').rename(columns={'user_id':'total'})\n",
    "              ,left_on = 'group'\n",
    "              ,right_on ='group')\n",
    "\n",
    "row_246_247= {'group':'246+247'\n",
    "              , 'CartScreenAppear':pt.iloc[0,1]+pt.iloc[1,1]\n",
    "              ,'MainScreenAppear':pt.iloc[0,2]+pt.iloc[1,2]\n",
    "              ,'OffersScreenAppear':pt.iloc[0,3]+pt.iloc[1,3]\n",
    "              ,'PaymentScreenSuccessful':pt.iloc[0,4]+pt.iloc[1,4]\n",
    "              ,'Tutorial':pt.iloc[0,5]+pt.iloc[1,5]\n",
    "              ,'total':pt.iloc[0,6]+pt.iloc[1,6]}\n",
    "pt = pt.append(row_246_247,ignore_index=True)\n",
    "pt = pt.set_index([\"group\"], drop=True)\n",
    "print(\"\\033[34m\\033[1m{}\\033[0m\".format(\"\"\"    \n",
    "                  Таблица количества уникальных пользователей \n",
    "                     по группам в разрезе каждого событиям\"\"\"))\n",
    "display(pt)\n",
    "\n",
    "print('Уникальных пользователей в экспериментальной группе:')\n",
    "for i in pt.index:\n",
    "\n",
    "    print('№ {} - {} шт.'.format(i,pt.loc[i][\"total\"], pt.loc[i][\"total\"]))"
   ]
  },
  {
   "cell_type": "markdown",
   "metadata": {},
   "source": [
    "Из полученных данных видно, что количество пользователей прмерно одинаково как в общем по группе так и в разрезе каждого события."
   ]
  },
  {
   "cell_type": "markdown",
   "metadata": {},
   "source": [
    "###  Проверим, находят ли статистические критерии разницу между выборками 246 и 247. (А/А тест)"
   ]
  },
  {
   "cell_type": "code",
   "execution_count": 24,
   "metadata": {
    "scrolled": false
   },
   "outputs": [],
   "source": [
    "# Для проверки гипотезы о равенстве долей \n",
    "# напишем функцию, которая определит есть статически значимые различаи между долям выборок\n",
    "def st_test(test0, test1, total0, total1):\n",
    "    alpha = 0.05 # задаем уровень статистической значимости\n",
    "    p1 = test0 / total0 # считаем пропорцию успехов в первой группе\n",
    "    p2 = test1 / total1 # считаем пропорцию успехов во второй группе\n",
    "    p_combined = (test0 + test1) / (total0 + total1) # считаем пропорция успехов в комбинированном датасете\n",
    "    difference = p1 - p2 # считаем разницу пропорций в датасетах\n",
    "    z_value = difference / mth.sqrt(p_combined * (1 - p_combined) * (1/total0 + 1/total1)) # считаем статистику в стандартных отклонениях стандартного нормального распределения\n",
    "    distr = st.norm(0, 1) # задаем стандартное нормальное распределение (среднее 0, ста.отклонение 1)\n",
    "    p_value = (1 - distr.cdf(abs(z_value))) * 2\n",
    "    return  alpha, round(p_value,5)"
   ]
  },
  {
   "cell_type": "markdown",
   "metadata": {},
   "source": [
    "Что бы снизить групповую вероятность ошибки первого рода при множественном тестировании гипотез, применим Метод Шидака корректировки уровня значимости для ее уменьшения.\n",
    "\n",
    "Скорректированное значение требуемого уровня значимости рассчитывается по формуле:\n",
    "\n",
    "$$ alpha_{1}=alpha_{2}=...=alpha_{m}=1-(1-alpha) ^ 1_{m} $$"
   ]
  },
  {
   "cell_type": "code",
   "execution_count": 25,
   "metadata": {},
   "outputs": [
    {
     "name": "stdout",
     "output_type": "stream",
     "text": [
      "\n",
      "Проверим есть ли между контрольными группами 246 и 247 \n",
      "статически значимые различия между долями пользователей совершивших событие:\n",
      "\n",
      "******************************************************************************************\n",
      "------------------------------------------------------------------------------------------\n",
      "    \u001b[34m1. MainScreenAppear\u001b[0m\n",
      "\n",
      "    Формулировка гипотезы:\n",
      "    H0:  Между долями пользователей совершивших событие MainScreenAppear разницы нет.\n",
      "    H1:  Между долями пользователей совершивших событие MainScreenAppear разница есть.\n",
      "\n",
      "    p_value: 0.75706\n",
      "    alpha: 0.05\n",
      "    alpha_shidaka: 0.05\n",
      "\u001b[32mРезультат: Не получилось отвергнуть нулевую гипотезу, нет оснований считать доли разными.\u001b[0m\n",
      "\n",
      "------------------------------------------------------------------------------------------\n",
      "    \u001b[34m2. OffersScreenAppear\u001b[0m\n",
      "\n",
      "    Формулировка гипотезы:\n",
      "    H0:  Между долями пользователей совершивших событие OffersScreenAppear разницы нет.\n",
      "    H1:  Между долями пользователей совершивших событие OffersScreenAppear разница есть.\n",
      "\n",
      "    p_value: 0.2481\n",
      "    alpha: 0.05\n",
      "    alpha_shidaka: 0.02532\n",
      "\u001b[32mРезультат: Не получилось отвергнуть нулевую гипотезу, нет оснований считать доли разными.\u001b[0m\n",
      "\n",
      "------------------------------------------------------------------------------------------\n",
      "    \u001b[34m3. CartScreenAppear\u001b[0m\n",
      "\n",
      "    Формулировка гипотезы:\n",
      "    H0:  Между долями пользователей совершивших событие CartScreenAppear разницы нет.\n",
      "    H1:  Между долями пользователей совершивших событие CartScreenAppear разница есть.\n",
      "\n",
      "    p_value: 0.22883\n",
      "    alpha: 0.05\n",
      "    alpha_shidaka: 0.01695\n",
      "\u001b[32mРезультат: Не получилось отвергнуть нулевую гипотезу, нет оснований считать доли разными.\u001b[0m\n",
      "\n",
      "------------------------------------------------------------------------------------------\n",
      "    \u001b[34m4. PaymentScreenSuccessful\u001b[0m\n",
      "\n",
      "    Формулировка гипотезы:\n",
      "    H0:  Между долями пользователей совершивших событие PaymentScreenSuccessful разницы нет.\n",
      "    H1:  Между долями пользователей совершивших событие PaymentScreenSuccessful разница есть.\n",
      "\n",
      "    p_value: 0.11457\n",
      "    alpha: 0.05\n",
      "    alpha_shidaka: 0.01274\n",
      "\u001b[32mРезультат: Не получилось отвергнуть нулевую гипотезу, нет оснований считать доли разными.\u001b[0m\n",
      "\n"
     ]
    }
   ],
   "source": [
    "k=0\n",
    "print(\"\"\"\n",
    "Проверим есть ли между контрольными группами 246 и 247 \n",
    "статически значимые различия между долями пользователей совершивших событие:\\n\"\"\")\n",
    "print(\"*\"*90)\n",
    "for col in ['MainScreenAppear'\n",
    "            , 'OffersScreenAppear'\n",
    "            , 'CartScreenAppear'\n",
    "            , 'PaymentScreenSuccessful']:\n",
    "    k+=1\n",
    "    alpha, p_value = st_test(pt.loc[246][col]\n",
    "                        ,pt.loc[247][col]\n",
    "                        ,pt.loc[246]['total']\n",
    "                        ,pt.loc[247]['total'])\n",
    "    print(\"-\"*90)\n",
    "    alpha_shidaka = round(1-(1-alpha)**(1/k),5)\n",
    "    print(\"\"\"    \\033[34m{}. {}\\033[0m\"\"\".format(k,col))\n",
    "    print(\"\"\"\n",
    "    Формулировка гипотезы:\n",
    "    H0:  Между долями пользователей совершивших событие {} разницы нет.\n",
    "    H1:  Между долями пользователей совершивших событие {} разница есть.\"\"\".format(col,col))\n",
    "    print(\"\"\"\n",
    "    p_value: {}\n",
    "    alpha: {}\n",
    "    alpha_shidaka: {}\"\"\".format(p_value, alpha,alpha_shidaka))\n",
    "    if p_value < alpha:\n",
    "        print(\"\"\"\\033[31mРезультат: Отвергаем нулевую гипотезу: между долями есть значимая разница.\\033[0m\\n\"\"\")\n",
    "    else:\n",
    "        print(\"\"\"\\033[32mРезультат: Не получилось отвергнуть нулевую гипотезу, нет оснований считать доли разными.\\033[0m\\n\"\"\")"
   ]
  },
  {
   "cell_type": "markdown",
   "metadata": {},
   "source": [
    "По всем события А/А тест показал нам, что разницы между двумя контрольными выборками нет, а значит разбиние на группы работает корректно."
   ]
  },
  {
   "cell_type": "markdown",
   "metadata": {},
   "source": [
    "###  Проверим, находят ли статистические критерии разницу между экспирементальныой выборкой и контрольными (А/А/A+B/В тест)"
   ]
  },
  {
   "cell_type": "code",
   "execution_count": 25,
   "metadata": {
    "scrolled": false
   },
   "outputs": [
    {
     "name": "stdout",
     "output_type": "stream",
     "text": [
      "\n",
      "    Проверим есть ли между контрольной группой 246 и экспирементальной - 248 статически\n",
      "значимые различия между долями пользователей совершивших событие:\n",
      "\n",
      "******************************************************************************************\n",
      "------------------------------------------------------------------------------------------\n",
      "    \u001b[34m1. MainScreenAppear\u001b[0m\n",
      "\n",
      "    Формулировка гипотезы:\n",
      "    H0:  Между долями пользователей совершивших событие MainScreenAppear разницы нет.\n",
      "    H1:  Между долями пользователей совершивших событие MainScreenAppear разница есть.\n",
      "\n",
      "    p_value: 0.29497\n",
      "    alpha: 0.05\n",
      "    alpha_shidaka: 0.05\n",
      "        \n",
      "\u001b[32mРезультат: Не получилось отвергнуть нулевую гипотезу, нет оснований считать доли разными.\u001b[0m\n",
      "\n",
      "------------------------------------------------------------------------------------------\n",
      "    \u001b[34m2. OffersScreenAppear\u001b[0m\n",
      "\n",
      "    Формулировка гипотезы:\n",
      "    H0:  Между долями пользователей совершивших событие OffersScreenAppear разницы нет.\n",
      "    H1:  Между долями пользователей совершивших событие OffersScreenAppear разница есть.\n",
      "\n",
      "    p_value: 0.20836\n",
      "    alpha: 0.05\n",
      "    alpha_shidaka: 0.02532\n",
      "        \n",
      "\u001b[32mРезультат: Не получилось отвергнуть нулевую гипотезу, нет оснований считать доли разными.\u001b[0m\n",
      "\n",
      "------------------------------------------------------------------------------------------\n",
      "    \u001b[34m3. CartScreenAppear\u001b[0m\n",
      "\n",
      "    Формулировка гипотезы:\n",
      "    H0:  Между долями пользователей совершивших событие CartScreenAppear разницы нет.\n",
      "    H1:  Между долями пользователей совершивших событие CartScreenAppear разница есть.\n",
      "\n",
      "    p_value: 0.07843\n",
      "    alpha: 0.05\n",
      "    alpha_shidaka: 0.01695\n",
      "        \n",
      "\u001b[32mРезультат: Не получилось отвергнуть нулевую гипотезу, нет оснований считать доли разными.\u001b[0m\n",
      "\n",
      "------------------------------------------------------------------------------------------\n",
      "    \u001b[34m4. PaymentScreenSuccessful\u001b[0m\n",
      "\n",
      "    Формулировка гипотезы:\n",
      "    H0:  Между долями пользователей совершивших событие PaymentScreenSuccessful разницы нет.\n",
      "    H1:  Между долями пользователей совершивших событие PaymentScreenSuccessful разница есть.\n",
      "\n",
      "    p_value: 0.21226\n",
      "    alpha: 0.05\n",
      "    alpha_shidaka: 0.01274\n",
      "        \n",
      "\u001b[32mРезультат: Не получилось отвергнуть нулевую гипотезу, нет оснований считать доли разными.\u001b[0m\n",
      "\n",
      "\n",
      "    Проверим есть ли между контрольной группой 247 и экспирементальной - 248 статически\n",
      "значимые различия между долями пользователей совершивших событие:\n",
      "\n",
      "******************************************************************************************\n",
      "------------------------------------------------------------------------------------------\n",
      "    \u001b[34m1. MainScreenAppear\u001b[0m\n",
      "\n",
      "    Формулировка гипотезы:\n",
      "    H0:  Между долями пользователей совершивших событие MainScreenAppear разницы нет.\n",
      "    H1:  Между долями пользователей совершивших событие MainScreenAppear разница есть.\n",
      "\n",
      "    p_value: 0.45871\n",
      "    alpha: 0.05\n",
      "    alpha_shidaka: 0.05\n",
      "        \n",
      "\u001b[32mРезультат: Не получилось отвергнуть нулевую гипотезу, нет оснований считать доли разными.\u001b[0m\n",
      "\n",
      "------------------------------------------------------------------------------------------\n",
      "    \u001b[34m2. OffersScreenAppear\u001b[0m\n",
      "\n",
      "    Формулировка гипотезы:\n",
      "    H0:  Между долями пользователей совершивших событие OffersScreenAppear разницы нет.\n",
      "    H1:  Между долями пользователей совершивших событие OffersScreenAppear разница есть.\n",
      "\n",
      "    p_value: 0.91978\n",
      "    alpha: 0.05\n",
      "    alpha_shidaka: 0.02532\n",
      "        \n",
      "\u001b[32mРезультат: Не получилось отвергнуть нулевую гипотезу, нет оснований считать доли разными.\u001b[0m\n",
      "\n",
      "------------------------------------------------------------------------------------------\n",
      "    \u001b[34m3. CartScreenAppear\u001b[0m\n",
      "\n",
      "    Формулировка гипотезы:\n",
      "    H0:  Между долями пользователей совершивших событие CartScreenAppear разницы нет.\n",
      "    H1:  Между долями пользователей совершивших событие CartScreenAppear разница есть.\n",
      "\n",
      "    p_value: 0.57862\n",
      "    alpha: 0.05\n",
      "    alpha_shidaka: 0.01695\n",
      "        \n",
      "\u001b[32mРезультат: Не получилось отвергнуть нулевую гипотезу, нет оснований считать доли разными.\u001b[0m\n",
      "\n",
      "------------------------------------------------------------------------------------------\n",
      "    \u001b[34m4. PaymentScreenSuccessful\u001b[0m\n",
      "\n",
      "    Формулировка гипотезы:\n",
      "    H0:  Между долями пользователей совершивших событие PaymentScreenSuccessful разницы нет.\n",
      "    H1:  Между долями пользователей совершивших событие PaymentScreenSuccessful разница есть.\n",
      "\n",
      "    p_value: 0.73734\n",
      "    alpha: 0.05\n",
      "    alpha_shidaka: 0.01274\n",
      "        \n",
      "\u001b[32mРезультат: Не получилось отвергнуть нулевую гипотезу, нет оснований считать доли разными.\u001b[0m\n",
      "\n",
      "\n",
      "    Проверим есть ли между контрольной группой 246+247 и экспирементальной - 248 статически\n",
      "значимые различия между долями пользователей совершивших событие:\n",
      "\n",
      "******************************************************************************************\n",
      "------------------------------------------------------------------------------------------\n",
      "    \u001b[34m1. MainScreenAppear\u001b[0m\n",
      "\n",
      "    Формулировка гипотезы:\n",
      "    H0:  Между долями пользователей совершивших событие MainScreenAppear разницы нет.\n",
      "    H1:  Между долями пользователей совершивших событие MainScreenAppear разница есть.\n",
      "\n",
      "    p_value: 0.29425\n",
      "    alpha: 0.05\n",
      "    alpha_shidaka: 0.05\n",
      "        \n",
      "\u001b[32mРезультат: Не получилось отвергнуть нулевую гипотезу, нет оснований считать доли разными.\u001b[0m\n",
      "\n",
      "------------------------------------------------------------------------------------------\n",
      "    \u001b[34m2. OffersScreenAppear\u001b[0m\n",
      "\n",
      "    Формулировка гипотезы:\n",
      "    H0:  Между долями пользователей совершивших событие OffersScreenAppear разницы нет.\n",
      "    H1:  Между долями пользователей совершивших событие OffersScreenAppear разница есть.\n",
      "\n",
      "    p_value: 0.43426\n",
      "    alpha: 0.05\n",
      "    alpha_shidaka: 0.02532\n",
      "        \n",
      "\u001b[32mРезультат: Не получилось отвергнуть нулевую гипотезу, нет оснований считать доли разными.\u001b[0m\n",
      "\n",
      "------------------------------------------------------------------------------------------\n",
      "    \u001b[34m3. CartScreenAppear\u001b[0m\n",
      "\n",
      "    Формулировка гипотезы:\n",
      "    H0:  Между долями пользователей совершивших событие CartScreenAppear разницы нет.\n",
      "    H1:  Между долями пользователей совершивших событие CartScreenAppear разница есть.\n",
      "\n",
      "    p_value: 0.18176\n",
      "    alpha: 0.05\n",
      "    alpha_shidaka: 0.01695\n",
      "        \n",
      "\u001b[32mРезультат: Не получилось отвергнуть нулевую гипотезу, нет оснований считать доли разными.\u001b[0m\n",
      "\n",
      "------------------------------------------------------------------------------------------\n",
      "    \u001b[34m4. PaymentScreenSuccessful\u001b[0m\n",
      "\n",
      "    Формулировка гипотезы:\n",
      "    H0:  Между долями пользователей совершивших событие PaymentScreenSuccessful разницы нет.\n",
      "    H1:  Между долями пользователей совершивших событие PaymentScreenSuccessful разница есть.\n",
      "\n",
      "    p_value: 0.60043\n",
      "    alpha: 0.05\n",
      "    alpha_shidaka: 0.01274\n",
      "        \n",
      "\u001b[32mРезультат: Не получилось отвергнуть нулевую гипотезу, нет оснований считать доли разными.\u001b[0m\n",
      "\n"
     ]
    }
   ],
   "source": [
    "for i in [246,247,'246+247']:\n",
    "    \n",
    "    k=0\n",
    "    print(\"\"\"\n",
    "    Проверим есть ли между контрольной группой {} и экспирементальной - {} статически\n",
    "значимые различия между долями пользователей совершивших событие:\\n\"\"\".format(i,248))\n",
    "    print(\"*\"*90)\n",
    "    for col in ['MainScreenAppear'\n",
    "                , 'OffersScreenAppear'\n",
    "                , 'CartScreenAppear'\n",
    "                , 'PaymentScreenSuccessful']:\n",
    "        k+=1\n",
    "        alpha, p_value = st_test(pt.loc[i][col]\n",
    "                            ,pt.loc[248][col]\n",
    "                            ,pt.loc[i]['total']\n",
    "                            ,pt.loc[248]['total'])\n",
    "        print(\"-\"*90)\n",
    "        alpha_shidaka = round(1-(1-alpha)**(1/k),5)\n",
    "        print(\"\"\"    \\033[34m{}. {}\\033[0m\"\"\".format(k,col))\n",
    "        print(\"\"\"\n",
    "    Формулировка гипотезы:\n",
    "    H0:  Между долями пользователей совершивших событие {} разницы нет.\n",
    "    H1:  Между долями пользователей совершивших событие {} разница есть.\"\"\".format(col,col))\n",
    "        print(\"\"\"\n",
    "    p_value: {}\n",
    "    alpha: {}\n",
    "    alpha_shidaka: {}\n",
    "        \"\"\".format(p_value, alpha,alpha_shidaka))\n",
    "        \n",
    "        if p_value < alpha:\n",
    "            print(\"\"\"\\033[31mРезультат: Отвергаем нулевую гипотезу: между долями есть значимая разница.\\033[0m\\n\"\"\")\n",
    "        else:\n",
    "            print(\"\"\"\\033[32mРезультат: Не получилось отвергнуть нулевую гипотезу, нет оснований считать доли разными.\\033[0m\\n\"\"\")"
   ]
  },
  {
   "cell_type": "markdown",
   "metadata": {},
   "source": [
    "### Выводы:\n",
    "\n",
    "В результате проверки гипотез был выбран уровень значимости alpha = 5%.\n",
    "Было проведено 16 проверок статистических гипотез из которых 4 А/А тест В результате которых экспиремнатальная группа не показала разницу в поведении потребителей.\n",
    "\n",
    "Полученые результаты позволяют нам сказать о том, что переживания менеджеров были напрасны и\n",
    "решение дизайнеров о замене шрифтов можно запускать на всех пользователей.\n",
    "\n",
    "Так же стоит обратить внимание что мы теряем около:\n",
    "-  40% потенциальных пользователей которые после просмотра главного экрана не попадают на экран с предложением и соответсвенно не совершают покупок.\n",
    "-  так же есть вероятность проблем с переходом с с экрана предложения в корзину там около 12 %, когда как те пользователи коотрые попали в корзину с 95% совершают платеж.\n",
    "\n"
   ]
  },
  {
   "cell_type": "code",
   "execution_count": null,
   "metadata": {},
   "outputs": [],
   "source": []
  }
 ],
 "metadata": {
  "ExecuteTimeLog": [
   {
    "duration": 46,
    "start_time": "2022-05-30T07:08:49.806Z"
   },
   {
    "duration": 1691,
    "start_time": "2022-05-30T07:17:25.410Z"
   },
   {
    "duration": 99,
    "start_time": "2022-05-30T07:20:24.313Z"
   },
   {
    "duration": 13,
    "start_time": "2022-05-30T07:20:28.293Z"
   },
   {
    "duration": 37,
    "start_time": "2022-05-30T07:20:29.785Z"
   },
   {
    "duration": 826,
    "start_time": "2022-05-30T07:21:02.086Z"
   },
   {
    "duration": 2,
    "start_time": "2022-05-30T07:24:33.238Z"
   },
   {
    "duration": 6,
    "start_time": "2022-05-30T07:24:44.704Z"
   },
   {
    "duration": 1443,
    "start_time": "2022-05-30T07:25:17.574Z"
   },
   {
    "duration": 3,
    "start_time": "2022-05-30T07:26:04.231Z"
   },
   {
    "duration": 41,
    "start_time": "2022-05-30T07:28:51.892Z"
   },
   {
    "duration": 24,
    "start_time": "2022-05-30T07:28:57.598Z"
   },
   {
    "duration": 30,
    "start_time": "2022-05-30T07:29:01.618Z"
   },
   {
    "duration": 28,
    "start_time": "2022-05-30T07:29:13.388Z"
   },
   {
    "duration": 34,
    "start_time": "2022-05-30T07:29:43.513Z"
   },
   {
    "duration": 46,
    "start_time": "2022-05-30T07:29:55.897Z"
   },
   {
    "duration": 299,
    "start_time": "2022-05-30T07:30:00.057Z"
   },
   {
    "duration": 5,
    "start_time": "2022-05-30T07:30:01.558Z"
   },
   {
    "duration": 1056,
    "start_time": "2022-05-30T07:30:04.389Z"
   },
   {
    "duration": 275,
    "start_time": "2022-05-30T07:30:16.681Z"
   },
   {
    "duration": 5,
    "start_time": "2022-05-30T07:30:18.043Z"
   },
   {
    "duration": 1107,
    "start_time": "2022-05-30T07:30:20.740Z"
   },
   {
    "duration": 27,
    "start_time": "2022-05-30T07:30:40.597Z"
   },
   {
    "duration": 277,
    "start_time": "2022-05-30T07:33:41.621Z"
   },
   {
    "duration": 274,
    "start_time": "2022-05-30T07:33:58.144Z"
   },
   {
    "duration": 263,
    "start_time": "2022-05-30T07:34:05.232Z"
   },
   {
    "duration": 163,
    "start_time": "2022-05-30T07:34:58.508Z"
   },
   {
    "duration": 5,
    "start_time": "2022-05-30T07:35:20.394Z"
   },
   {
    "duration": 403,
    "start_time": "2022-05-30T07:35:22.794Z"
   },
   {
    "duration": 1257,
    "start_time": "2022-05-30T07:36:35.851Z"
   },
   {
    "duration": 237,
    "start_time": "2022-05-30T07:36:37.109Z"
   },
   {
    "duration": 6,
    "start_time": "2022-05-30T07:36:37.347Z"
   },
   {
    "duration": 362,
    "start_time": "2022-05-30T07:36:37.355Z"
   },
   {
    "duration": 108,
    "start_time": "2022-05-30T08:06:54.784Z"
   },
   {
    "duration": 13,
    "start_time": "2022-05-30T08:06:57.552Z"
   },
   {
    "duration": 8,
    "start_time": "2022-05-30T08:08:12.450Z"
   },
   {
    "duration": 3,
    "start_time": "2022-05-30T08:08:27.082Z"
   },
   {
    "duration": 10,
    "start_time": "2022-05-30T08:08:29.314Z"
   },
   {
    "duration": 3,
    "start_time": "2022-05-30T08:10:58.017Z"
   },
   {
    "duration": 9,
    "start_time": "2022-05-30T08:11:07.427Z"
   },
   {
    "duration": 13,
    "start_time": "2022-05-30T08:11:42.168Z"
   },
   {
    "duration": 32,
    "start_time": "2022-05-30T08:15:53.830Z"
   },
   {
    "duration": 10,
    "start_time": "2022-05-30T08:16:33.457Z"
   },
   {
    "duration": 12,
    "start_time": "2022-05-30T08:16:34.744Z"
   },
   {
    "duration": 4,
    "start_time": "2022-05-30T08:17:23.612Z"
   },
   {
    "duration": 4,
    "start_time": "2022-05-30T08:17:25.906Z"
   },
   {
    "duration": 12,
    "start_time": "2022-05-30T08:17:27.041Z"
   },
   {
    "duration": 5,
    "start_time": "2022-05-30T08:17:30.153Z"
   },
   {
    "duration": 11,
    "start_time": "2022-05-30T08:17:31.416Z"
   },
   {
    "duration": 24,
    "start_time": "2022-05-30T08:17:40.736Z"
   },
   {
    "duration": 14,
    "start_time": "2022-05-30T08:17:42.822Z"
   },
   {
    "duration": 14,
    "start_time": "2022-05-30T08:18:30.476Z"
   },
   {
    "duration": 12,
    "start_time": "2022-05-30T08:18:32.236Z"
   },
   {
    "duration": 1169,
    "start_time": "2022-05-30T08:18:40.618Z"
   },
   {
    "duration": 239,
    "start_time": "2022-05-30T08:18:41.789Z"
   },
   {
    "duration": 6,
    "start_time": "2022-05-30T08:18:42.032Z"
   },
   {
    "duration": 359,
    "start_time": "2022-05-30T08:18:42.039Z"
   },
   {
    "duration": 2,
    "start_time": "2022-05-30T08:18:42.400Z"
   },
   {
    "duration": 139,
    "start_time": "2022-05-30T08:18:42.404Z"
   },
   {
    "duration": 0,
    "start_time": "2022-05-30T08:18:42.544Z"
   },
   {
    "duration": 9,
    "start_time": "2022-05-30T08:18:57.543Z"
   },
   {
    "duration": 8,
    "start_time": "2022-05-30T08:19:03.130Z"
   },
   {
    "duration": 590,
    "start_time": "2022-05-30T08:20:22.026Z"
   },
   {
    "duration": 11,
    "start_time": "2022-05-30T08:20:34.952Z"
   },
   {
    "duration": 18,
    "start_time": "2022-05-30T08:20:57.844Z"
   },
   {
    "duration": 33,
    "start_time": "2022-05-30T08:21:02.910Z"
   },
   {
    "duration": 13,
    "start_time": "2022-05-30T08:21:10.176Z"
   },
   {
    "duration": 18,
    "start_time": "2022-05-30T08:21:15.474Z"
   },
   {
    "duration": 15,
    "start_time": "2022-05-30T08:21:19.753Z"
   },
   {
    "duration": 17,
    "start_time": "2022-05-30T08:21:22.847Z"
   },
   {
    "duration": 13,
    "start_time": "2022-05-30T08:21:25.626Z"
   },
   {
    "duration": 53,
    "start_time": "2022-05-30T08:24:43.244Z"
   },
   {
    "duration": 22,
    "start_time": "2022-05-30T08:24:47.931Z"
   },
   {
    "duration": 1104,
    "start_time": "2022-05-30T08:24:58.629Z"
   },
   {
    "duration": 52,
    "start_time": "2022-05-30T08:32:28.899Z"
   },
   {
    "duration": 1293,
    "start_time": "2022-05-30T08:32:37.031Z"
   },
   {
    "duration": 243,
    "start_time": "2022-05-30T08:32:38.327Z"
   },
   {
    "duration": 10,
    "start_time": "2022-05-30T08:32:38.574Z"
   },
   {
    "duration": 345,
    "start_time": "2022-05-30T08:32:38.586Z"
   },
   {
    "duration": 3,
    "start_time": "2022-05-30T08:32:38.932Z"
   },
   {
    "duration": 329,
    "start_time": "2022-05-30T08:32:38.937Z"
   },
   {
    "duration": 0,
    "start_time": "2022-05-30T08:32:39.268Z"
   },
   {
    "duration": 188,
    "start_time": "2022-05-30T08:33:21.250Z"
   },
   {
    "duration": 45,
    "start_time": "2022-05-30T08:33:27.925Z"
   },
   {
    "duration": 34,
    "start_time": "2022-05-30T08:33:59.486Z"
   },
   {
    "duration": 38,
    "start_time": "2022-05-30T08:34:05.920Z"
   },
   {
    "duration": 26,
    "start_time": "2022-05-30T08:34:11.028Z"
   },
   {
    "duration": 16,
    "start_time": "2022-05-30T08:34:20.597Z"
   },
   {
    "duration": 11,
    "start_time": "2022-05-30T08:34:47.460Z"
   },
   {
    "duration": 8,
    "start_time": "2022-05-30T08:42:02.294Z"
   },
   {
    "duration": 36,
    "start_time": "2022-05-30T08:42:12.449Z"
   },
   {
    "duration": 9,
    "start_time": "2022-05-30T08:42:18.430Z"
   },
   {
    "duration": 14,
    "start_time": "2022-05-30T08:43:52.826Z"
   },
   {
    "duration": 4,
    "start_time": "2022-05-30T08:44:38.203Z"
   },
   {
    "duration": 10,
    "start_time": "2022-05-30T08:44:41.330Z"
   },
   {
    "duration": 13,
    "start_time": "2022-05-30T08:44:59.084Z"
   },
   {
    "duration": 33,
    "start_time": "2022-05-30T08:46:36.000Z"
   },
   {
    "duration": 769,
    "start_time": "2022-05-30T08:46:50.212Z"
   },
   {
    "duration": 1229,
    "start_time": "2022-05-30T08:47:06.584Z"
   },
   {
    "duration": 16,
    "start_time": "2022-05-30T08:48:46.313Z"
   },
   {
    "duration": 14,
    "start_time": "2022-05-30T08:48:47.880Z"
   },
   {
    "duration": 16,
    "start_time": "2022-05-30T08:48:48.073Z"
   },
   {
    "duration": 824,
    "start_time": "2022-05-30T08:48:57.705Z"
   },
   {
    "duration": 4,
    "start_time": "2022-05-30T08:49:03.092Z"
   },
   {
    "duration": 17,
    "start_time": "2022-05-30T08:49:05.321Z"
   },
   {
    "duration": 1075,
    "start_time": "2022-05-30T08:49:10.912Z"
   },
   {
    "duration": 215,
    "start_time": "2022-05-30T08:49:11.988Z"
   },
   {
    "duration": 6,
    "start_time": "2022-05-30T08:49:12.205Z"
   },
   {
    "duration": 328,
    "start_time": "2022-05-30T08:49:12.213Z"
   },
   {
    "duration": 3,
    "start_time": "2022-05-30T08:49:12.542Z"
   },
   {
    "duration": 8,
    "start_time": "2022-05-30T08:49:12.546Z"
   },
   {
    "duration": 29,
    "start_time": "2022-05-30T08:49:12.555Z"
   },
   {
    "duration": 11,
    "start_time": "2022-05-30T08:49:12.585Z"
   },
   {
    "duration": 113,
    "start_time": "2022-05-30T08:51:31.977Z"
   },
   {
    "duration": 4,
    "start_time": "2022-05-30T08:51:36.409Z"
   },
   {
    "duration": 1239,
    "start_time": "2022-05-30T08:51:52.437Z"
   },
   {
    "duration": 227,
    "start_time": "2022-05-30T08:51:53.678Z"
   },
   {
    "duration": 5,
    "start_time": "2022-05-30T08:51:53.906Z"
   },
   {
    "duration": 334,
    "start_time": "2022-05-30T08:51:53.913Z"
   },
   {
    "duration": 4,
    "start_time": "2022-05-30T08:51:54.248Z"
   },
   {
    "duration": 22,
    "start_time": "2022-05-30T08:51:54.253Z"
   },
   {
    "duration": 4,
    "start_time": "2022-05-30T08:51:54.276Z"
   },
   {
    "duration": 5,
    "start_time": "2022-05-30T08:51:54.281Z"
   },
   {
    "duration": 0,
    "start_time": "2022-05-30T08:51:54.287Z"
   },
   {
    "duration": 0,
    "start_time": "2022-05-30T08:51:54.289Z"
   },
   {
    "duration": 4,
    "start_time": "2022-05-30T08:52:26.109Z"
   },
   {
    "duration": 4,
    "start_time": "2022-05-30T08:52:33.097Z"
   },
   {
    "duration": 43,
    "start_time": "2022-05-30T08:56:15.226Z"
   },
   {
    "duration": 114,
    "start_time": "2022-05-30T08:56:21.545Z"
   },
   {
    "duration": 1237,
    "start_time": "2022-05-30T08:56:43.468Z"
   },
   {
    "duration": 234,
    "start_time": "2022-05-30T08:56:44.706Z"
   },
   {
    "duration": 8,
    "start_time": "2022-05-30T08:56:44.944Z"
   },
   {
    "duration": 336,
    "start_time": "2022-05-30T08:56:44.954Z"
   },
   {
    "duration": 3,
    "start_time": "2022-05-30T08:56:45.292Z"
   },
   {
    "duration": 7,
    "start_time": "2022-05-30T08:56:45.296Z"
   },
   {
    "duration": 7,
    "start_time": "2022-05-30T08:56:45.305Z"
   },
   {
    "duration": 5,
    "start_time": "2022-05-30T08:56:45.314Z"
   },
   {
    "duration": 5,
    "start_time": "2022-05-30T08:56:45.320Z"
   },
   {
    "duration": 0,
    "start_time": "2022-05-30T08:56:45.327Z"
   },
   {
    "duration": 0,
    "start_time": "2022-05-30T08:56:45.328Z"
   },
   {
    "duration": 4,
    "start_time": "2022-05-30T08:57:18.869Z"
   },
   {
    "duration": 4,
    "start_time": "2022-05-30T08:57:22.627Z"
   },
   {
    "duration": 5,
    "start_time": "2022-05-30T08:57:27.855Z"
   },
   {
    "duration": 1273,
    "start_time": "2022-05-30T08:57:31.811Z"
   },
   {
    "duration": 227,
    "start_time": "2022-05-30T08:57:33.086Z"
   },
   {
    "duration": 5,
    "start_time": "2022-05-30T08:57:33.317Z"
   },
   {
    "duration": 327,
    "start_time": "2022-05-30T08:57:33.324Z"
   },
   {
    "duration": 3,
    "start_time": "2022-05-30T08:57:33.652Z"
   },
   {
    "duration": 20,
    "start_time": "2022-05-30T08:57:33.656Z"
   },
   {
    "duration": 9,
    "start_time": "2022-05-30T08:57:33.677Z"
   },
   {
    "duration": 5,
    "start_time": "2022-05-30T08:57:33.687Z"
   },
   {
    "duration": 8,
    "start_time": "2022-05-30T08:57:33.693Z"
   },
   {
    "duration": 0,
    "start_time": "2022-05-30T08:57:33.702Z"
   },
   {
    "duration": 0,
    "start_time": "2022-05-30T08:57:33.703Z"
   },
   {
    "duration": 1195,
    "start_time": "2022-05-30T08:57:42.301Z"
   },
   {
    "duration": 226,
    "start_time": "2022-05-30T08:57:43.498Z"
   },
   {
    "duration": 5,
    "start_time": "2022-05-30T08:57:43.725Z"
   },
   {
    "duration": 323,
    "start_time": "2022-05-30T08:57:43.732Z"
   },
   {
    "duration": 3,
    "start_time": "2022-05-30T08:57:44.057Z"
   },
   {
    "duration": 14,
    "start_time": "2022-05-30T08:57:44.061Z"
   },
   {
    "duration": 28,
    "start_time": "2022-05-30T08:57:44.077Z"
   },
   {
    "duration": 23,
    "start_time": "2022-05-30T08:57:44.106Z"
   },
   {
    "duration": 34,
    "start_time": "2022-05-30T08:57:44.131Z"
   },
   {
    "duration": 0,
    "start_time": "2022-05-30T08:57:44.166Z"
   },
   {
    "duration": 0,
    "start_time": "2022-05-30T08:57:44.167Z"
   },
   {
    "duration": 4,
    "start_time": "2022-05-30T08:58:49.293Z"
   },
   {
    "duration": 4,
    "start_time": "2022-05-30T08:59:15.530Z"
   },
   {
    "duration": 5,
    "start_time": "2022-05-30T08:59:18.073Z"
   },
   {
    "duration": 4,
    "start_time": "2022-05-30T08:59:21.864Z"
   },
   {
    "duration": 4,
    "start_time": "2022-05-30T08:59:41.072Z"
   },
   {
    "duration": 4,
    "start_time": "2022-05-30T09:01:12.430Z"
   },
   {
    "duration": 4,
    "start_time": "2022-05-30T09:01:50.011Z"
   },
   {
    "duration": 5,
    "start_time": "2022-05-30T09:02:01.593Z"
   },
   {
    "duration": 4,
    "start_time": "2022-05-30T09:03:36.896Z"
   },
   {
    "duration": 4,
    "start_time": "2022-05-30T09:03:42.460Z"
   },
   {
    "duration": 113,
    "start_time": "2022-05-30T09:04:26.736Z"
   },
   {
    "duration": 36,
    "start_time": "2022-05-30T09:05:33.222Z"
   },
   {
    "duration": 319,
    "start_time": "2022-05-30T09:05:36.244Z"
   },
   {
    "duration": 165,
    "start_time": "2022-05-30T09:05:42.424Z"
   },
   {
    "duration": 1172,
    "start_time": "2022-05-30T09:05:50.946Z"
   },
   {
    "duration": 235,
    "start_time": "2022-05-30T09:05:52.119Z"
   },
   {
    "duration": 6,
    "start_time": "2022-05-30T09:05:52.356Z"
   },
   {
    "duration": 335,
    "start_time": "2022-05-30T09:05:52.363Z"
   },
   {
    "duration": 3,
    "start_time": "2022-05-30T09:05:52.700Z"
   },
   {
    "duration": 7,
    "start_time": "2022-05-30T09:05:52.705Z"
   },
   {
    "duration": 8,
    "start_time": "2022-05-30T09:05:52.713Z"
   },
   {
    "duration": 391,
    "start_time": "2022-05-30T09:05:52.723Z"
   },
   {
    "duration": 4,
    "start_time": "2022-05-30T09:05:53.116Z"
   },
   {
    "duration": 0,
    "start_time": "2022-05-30T09:05:53.121Z"
   },
   {
    "duration": 0,
    "start_time": "2022-05-30T09:05:53.122Z"
   },
   {
    "duration": 8,
    "start_time": "2022-05-30T09:06:39.171Z"
   },
   {
    "duration": 9,
    "start_time": "2022-05-30T09:06:53.320Z"
   },
   {
    "duration": 7,
    "start_time": "2022-05-30T09:06:59.758Z"
   },
   {
    "duration": 100,
    "start_time": "2022-05-30T09:09:36.396Z"
   },
   {
    "duration": 27,
    "start_time": "2022-05-30T09:09:58.044Z"
   },
   {
    "duration": 604,
    "start_time": "2022-05-30T09:10:17.065Z"
   },
   {
    "duration": 1166,
    "start_time": "2022-05-30T09:10:21.858Z"
   },
   {
    "duration": 222,
    "start_time": "2022-05-30T09:10:23.025Z"
   },
   {
    "duration": 5,
    "start_time": "2022-05-30T09:10:23.249Z"
   },
   {
    "duration": 302,
    "start_time": "2022-05-30T09:10:23.256Z"
   },
   {
    "duration": 15,
    "start_time": "2022-05-30T09:10:23.560Z"
   },
   {
    "duration": 474,
    "start_time": "2022-05-30T09:10:23.577Z"
   },
   {
    "duration": 0,
    "start_time": "2022-05-30T09:10:24.053Z"
   },
   {
    "duration": 0,
    "start_time": "2022-05-30T09:10:24.054Z"
   },
   {
    "duration": 0,
    "start_time": "2022-05-30T09:10:24.055Z"
   },
   {
    "duration": 341,
    "start_time": "2022-05-30T09:11:49.207Z"
   },
   {
    "duration": 1089,
    "start_time": "2022-05-30T09:11:55.306Z"
   },
   {
    "duration": 220,
    "start_time": "2022-05-30T09:11:56.397Z"
   },
   {
    "duration": 5,
    "start_time": "2022-05-30T09:11:56.618Z"
   },
   {
    "duration": 321,
    "start_time": "2022-05-30T09:11:56.624Z"
   },
   {
    "duration": 3,
    "start_time": "2022-05-30T09:11:56.946Z"
   },
   {
    "duration": 25,
    "start_time": "2022-05-30T09:11:56.950Z"
   },
   {
    "duration": 756,
    "start_time": "2022-05-30T09:11:56.976Z"
   },
   {
    "duration": 0,
    "start_time": "2022-05-30T09:11:57.733Z"
   },
   {
    "duration": 0,
    "start_time": "2022-05-30T09:11:57.734Z"
   },
   {
    "duration": 0,
    "start_time": "2022-05-30T09:11:57.735Z"
   },
   {
    "duration": 8,
    "start_time": "2022-05-30T09:12:05.468Z"
   },
   {
    "duration": 8,
    "start_time": "2022-05-30T09:12:12.311Z"
   },
   {
    "duration": 19,
    "start_time": "2022-05-30T09:12:14.565Z"
   },
   {
    "duration": 9,
    "start_time": "2022-05-30T09:12:24.564Z"
   },
   {
    "duration": 10,
    "start_time": "2022-05-30T09:12:57.114Z"
   },
   {
    "duration": 8,
    "start_time": "2022-05-30T09:12:58.929Z"
   },
   {
    "duration": 15,
    "start_time": "2022-05-30T09:13:02.554Z"
   },
   {
    "duration": 13,
    "start_time": "2022-05-30T09:13:17.937Z"
   },
   {
    "duration": 18,
    "start_time": "2022-05-30T09:13:26.129Z"
   },
   {
    "duration": 116,
    "start_time": "2022-05-30T09:13:28.613Z"
   },
   {
    "duration": 11,
    "start_time": "2022-05-30T09:14:08.967Z"
   },
   {
    "duration": 24,
    "start_time": "2022-05-30T09:14:27.464Z"
   },
   {
    "duration": 41,
    "start_time": "2022-05-30T09:14:52.832Z"
   },
   {
    "duration": 43,
    "start_time": "2022-05-30T09:15:32.738Z"
   },
   {
    "duration": 42,
    "start_time": "2022-05-30T09:15:48.715Z"
   },
   {
    "duration": 42,
    "start_time": "2022-05-30T09:17:03.628Z"
   },
   {
    "duration": 17,
    "start_time": "2022-05-30T11:18:01.036Z"
   },
   {
    "duration": 46,
    "start_time": "2022-05-30T11:19:12.943Z"
   },
   {
    "duration": 3,
    "start_time": "2022-05-30T11:19:30.362Z"
   },
   {
    "duration": 39,
    "start_time": "2022-05-30T11:19:37.164Z"
   },
   {
    "duration": 34,
    "start_time": "2022-05-30T11:19:39.363Z"
   },
   {
    "duration": 37,
    "start_time": "2022-05-30T11:19:59.872Z"
   },
   {
    "duration": 71,
    "start_time": "2022-05-30T11:20:36.072Z"
   },
   {
    "duration": 43,
    "start_time": "2022-05-30T11:20:38.677Z"
   },
   {
    "duration": 38,
    "start_time": "2022-05-30T11:20:48.883Z"
   },
   {
    "duration": 34,
    "start_time": "2022-05-30T11:20:52.153Z"
   },
   {
    "duration": 34,
    "start_time": "2022-05-30T11:22:17.435Z"
   },
   {
    "duration": 33,
    "start_time": "2022-05-30T11:23:46.350Z"
   },
   {
    "duration": 34,
    "start_time": "2022-05-30T11:23:59.445Z"
   },
   {
    "duration": 49,
    "start_time": "2022-05-30T11:24:11.994Z"
   },
   {
    "duration": 34,
    "start_time": "2022-05-30T11:24:18.814Z"
   },
   {
    "duration": 34,
    "start_time": "2022-05-30T11:24:31.152Z"
   },
   {
    "duration": 38,
    "start_time": "2022-05-30T11:29:28.189Z"
   },
   {
    "duration": 15,
    "start_time": "2022-05-30T11:30:45.257Z"
   },
   {
    "duration": 3,
    "start_time": "2022-05-30T11:35:00.754Z"
   },
   {
    "duration": 10,
    "start_time": "2022-05-30T11:35:12.818Z"
   },
   {
    "duration": 654,
    "start_time": "2022-05-30T11:35:17.850Z"
   },
   {
    "duration": 123,
    "start_time": "2022-05-30T11:35:37.182Z"
   },
   {
    "duration": 5,
    "start_time": "2022-05-30T11:35:50.081Z"
   },
   {
    "duration": 34,
    "start_time": "2022-05-30T11:37:59.549Z"
   },
   {
    "duration": 30,
    "start_time": "2022-05-30T11:38:04.192Z"
   },
   {
    "duration": 1267,
    "start_time": "2022-05-30T11:38:30.357Z"
   },
   {
    "duration": 47,
    "start_time": "2022-05-30T11:38:52.754Z"
   },
   {
    "duration": 15,
    "start_time": "2022-05-30T11:38:55.350Z"
   },
   {
    "duration": 1125,
    "start_time": "2022-05-30T11:39:10.094Z"
   },
   {
    "duration": 37,
    "start_time": "2022-05-30T11:39:15.925Z"
   },
   {
    "duration": 46,
    "start_time": "2022-05-30T11:39:18.764Z"
   },
   {
    "duration": 16,
    "start_time": "2022-05-30T11:39:21.765Z"
   },
   {
    "duration": 31,
    "start_time": "2022-05-30T11:39:32.958Z"
   },
   {
    "duration": 32,
    "start_time": "2022-05-30T11:39:44.792Z"
   },
   {
    "duration": 31,
    "start_time": "2022-05-30T11:43:19.651Z"
   },
   {
    "duration": 36,
    "start_time": "2022-05-30T11:43:24.193Z"
   },
   {
    "duration": 46,
    "start_time": "2022-05-30T11:43:35.354Z"
   },
   {
    "duration": 29,
    "start_time": "2022-05-30T11:43:46.592Z"
   },
   {
    "duration": 28,
    "start_time": "2022-05-30T11:43:58.526Z"
   },
   {
    "duration": 29,
    "start_time": "2022-05-30T11:44:05.155Z"
   },
   {
    "duration": 34,
    "start_time": "2022-05-30T11:44:22.144Z"
   },
   {
    "duration": 29,
    "start_time": "2022-05-30T11:44:30.123Z"
   },
   {
    "duration": 63,
    "start_time": "2022-05-30T11:44:34.202Z"
   },
   {
    "duration": 1233,
    "start_time": "2022-05-30T11:44:53.916Z"
   },
   {
    "duration": 36,
    "start_time": "2022-05-30T11:45:05.154Z"
   },
   {
    "duration": 40,
    "start_time": "2022-05-30T11:45:07.720Z"
   },
   {
    "duration": 7,
    "start_time": "2022-05-30T11:45:09.578Z"
   },
   {
    "duration": 39,
    "start_time": "2022-05-30T11:45:27.379Z"
   },
   {
    "duration": 33,
    "start_time": "2022-05-30T11:45:29.252Z"
   },
   {
    "duration": 6,
    "start_time": "2022-05-30T11:45:31.119Z"
   },
   {
    "duration": 5,
    "start_time": "2022-05-30T11:46:22.761Z"
   },
   {
    "duration": 5,
    "start_time": "2022-05-30T11:46:33.166Z"
   },
   {
    "duration": 53,
    "start_time": "2022-05-30T11:48:09.569Z"
   },
   {
    "duration": 33,
    "start_time": "2022-05-30T11:48:12.324Z"
   },
   {
    "duration": 7,
    "start_time": "2022-05-30T11:48:14.086Z"
   },
   {
    "duration": 6,
    "start_time": "2022-05-30T11:48:16.293Z"
   },
   {
    "duration": 52,
    "start_time": "2022-05-30T11:48:18.893Z"
   },
   {
    "duration": 50,
    "start_time": "2022-05-30T11:48:31.418Z"
   },
   {
    "duration": 6,
    "start_time": "2022-05-30T11:48:35.283Z"
   },
   {
    "duration": 37,
    "start_time": "2022-05-30T11:48:36.890Z"
   },
   {
    "duration": 50,
    "start_time": "2022-05-30T11:48:45.860Z"
   },
   {
    "duration": 36,
    "start_time": "2022-05-30T11:48:50.110Z"
   },
   {
    "duration": 8,
    "start_time": "2022-05-30T11:48:52.813Z"
   },
   {
    "duration": 61,
    "start_time": "2022-05-30T11:50:04.455Z"
   },
   {
    "duration": 51,
    "start_time": "2022-05-30T11:50:08.804Z"
   },
   {
    "duration": 42,
    "start_time": "2022-05-30T11:50:11.380Z"
   },
   {
    "duration": 8,
    "start_time": "2022-05-30T11:50:13.118Z"
   },
   {
    "duration": 144,
    "start_time": "2022-05-30T11:50:17.069Z"
   },
   {
    "duration": 50,
    "start_time": "2022-05-30T11:50:50.607Z"
   },
   {
    "duration": 33,
    "start_time": "2022-05-30T11:50:53.165Z"
   },
   {
    "duration": 6,
    "start_time": "2022-05-30T11:50:54.659Z"
   },
   {
    "duration": 5,
    "start_time": "2022-05-30T11:50:56.509Z"
   },
   {
    "duration": 13,
    "start_time": "2022-05-30T11:51:33.959Z"
   },
   {
    "duration": 10,
    "start_time": "2022-05-30T11:51:40.915Z"
   },
   {
    "duration": 6,
    "start_time": "2022-05-30T11:51:49.622Z"
   },
   {
    "duration": 35,
    "start_time": "2022-05-30T11:51:54.902Z"
   },
   {
    "duration": 6,
    "start_time": "2022-05-30T11:52:00.057Z"
   },
   {
    "duration": 6,
    "start_time": "2022-05-30T11:52:07.021Z"
   },
   {
    "duration": 8,
    "start_time": "2022-05-30T11:52:11.516Z"
   },
   {
    "duration": 9,
    "start_time": "2022-05-30T11:53:42.770Z"
   },
   {
    "duration": 41,
    "start_time": "2022-05-30T11:53:52.371Z"
   },
   {
    "duration": 33,
    "start_time": "2022-05-30T11:53:54.414Z"
   },
   {
    "duration": 7,
    "start_time": "2022-05-30T11:53:55.998Z"
   },
   {
    "duration": 592,
    "start_time": "2022-05-30T11:54:15.322Z"
   },
   {
    "duration": 34,
    "start_time": "2022-05-30T11:54:18.359Z"
   },
   {
    "duration": 627,
    "start_time": "2022-05-30T11:54:23.282Z"
   },
   {
    "duration": 51,
    "start_time": "2022-05-30T11:54:32.454Z"
   },
   {
    "duration": 35,
    "start_time": "2022-05-30T11:54:49.979Z"
   },
   {
    "duration": 7,
    "start_time": "2022-05-30T11:54:50.833Z"
   },
   {
    "duration": 7,
    "start_time": "2022-05-30T11:54:52.596Z"
   },
   {
    "duration": 117,
    "start_time": "2022-05-30T11:56:04.581Z"
   },
   {
    "duration": 35,
    "start_time": "2022-05-30T11:56:07.378Z"
   },
   {
    "duration": 50,
    "start_time": "2022-05-30T11:56:08.862Z"
   },
   {
    "duration": 28,
    "start_time": "2022-05-30T11:56:10.995Z"
   },
   {
    "duration": 48,
    "start_time": "2022-05-30T11:56:16.331Z"
   },
   {
    "duration": 49,
    "start_time": "2022-05-30T11:56:35.468Z"
   },
   {
    "duration": 208,
    "start_time": "2022-05-30T11:57:06.489Z"
   },
   {
    "duration": 53,
    "start_time": "2022-05-30T11:57:11.704Z"
   },
   {
    "duration": 36,
    "start_time": "2022-05-30T11:57:13.756Z"
   },
   {
    "duration": 12,
    "start_time": "2022-05-30T11:57:25.390Z"
   },
   {
    "duration": 7,
    "start_time": "2022-05-30T11:57:29.421Z"
   },
   {
    "duration": 36,
    "start_time": "2022-05-30T11:57:45.103Z"
   },
   {
    "duration": 7,
    "start_time": "2022-05-30T11:57:46.856Z"
   },
   {
    "duration": 117,
    "start_time": "2022-05-30T11:58:04.664Z"
   },
   {
    "duration": 62,
    "start_time": "2022-05-30T11:58:13.030Z"
   },
   {
    "duration": 129,
    "start_time": "2022-05-30T11:58:31.412Z"
   },
   {
    "duration": 34,
    "start_time": "2022-05-30T11:58:34.456Z"
   },
   {
    "duration": 52,
    "start_time": "2022-05-30T11:58:40.852Z"
   },
   {
    "duration": 35,
    "start_time": "2022-05-30T11:58:43.128Z"
   },
   {
    "duration": 7,
    "start_time": "2022-05-30T11:58:43.860Z"
   },
   {
    "duration": 7,
    "start_time": "2022-05-30T11:58:44.583Z"
   },
   {
    "duration": 49,
    "start_time": "2022-05-30T11:58:49.261Z"
   },
   {
    "duration": 7,
    "start_time": "2022-05-30T11:58:51.771Z"
   },
   {
    "duration": 54,
    "start_time": "2022-05-30T11:58:55.832Z"
   },
   {
    "duration": 7,
    "start_time": "2022-05-30T11:58:59.662Z"
   },
   {
    "duration": 51,
    "start_time": "2022-05-30T12:00:30.115Z"
   },
   {
    "duration": 36,
    "start_time": "2022-05-30T12:00:32.695Z"
   },
   {
    "duration": 7,
    "start_time": "2022-05-30T12:00:34.128Z"
   },
   {
    "duration": 38,
    "start_time": "2022-05-30T12:00:40.569Z"
   },
   {
    "duration": 7,
    "start_time": "2022-05-30T12:00:43.803Z"
   },
   {
    "duration": 9,
    "start_time": "2022-05-30T12:00:59.821Z"
   },
   {
    "duration": 126,
    "start_time": "2022-05-30T12:01:14.962Z"
   },
   {
    "duration": 7,
    "start_time": "2022-05-30T12:01:17.086Z"
   },
   {
    "duration": 6,
    "start_time": "2022-05-30T12:01:18.782Z"
   },
   {
    "duration": 19,
    "start_time": "2022-05-30T12:01:54.671Z"
   },
   {
    "duration": 22,
    "start_time": "2022-05-30T12:02:04.866Z"
   },
   {
    "duration": 876,
    "start_time": "2022-05-30T12:02:12.863Z"
   },
   {
    "duration": 35,
    "start_time": "2022-05-30T12:02:16.498Z"
   },
   {
    "duration": 59,
    "start_time": "2022-05-30T12:02:18.155Z"
   },
   {
    "duration": 861,
    "start_time": "2022-05-30T12:02:28.217Z"
   },
   {
    "duration": 34,
    "start_time": "2022-05-30T12:02:31.418Z"
   },
   {
    "duration": 83,
    "start_time": "2022-05-30T12:02:32.729Z"
   },
   {
    "duration": 63,
    "start_time": "2022-05-30T12:02:35.347Z"
   },
   {
    "duration": 33,
    "start_time": "2022-05-30T12:02:37.133Z"
   },
   {
    "duration": 33,
    "start_time": "2022-05-30T12:02:39.717Z"
   },
   {
    "duration": 23,
    "start_time": "2022-05-30T12:03:10.716Z"
   },
   {
    "duration": 848,
    "start_time": "2022-05-30T12:03:14.955Z"
   },
   {
    "duration": 18,
    "start_time": "2022-05-30T12:03:38.606Z"
   },
   {
    "duration": 18,
    "start_time": "2022-05-30T12:03:41.388Z"
   },
   {
    "duration": 125,
    "start_time": "2022-05-30T12:03:54.200Z"
   },
   {
    "duration": 38,
    "start_time": "2022-05-30T12:03:57.110Z"
   },
   {
    "duration": 6,
    "start_time": "2022-05-30T12:03:58.912Z"
   },
   {
    "duration": 5,
    "start_time": "2022-05-30T12:04:01.452Z"
   },
   {
    "duration": 48,
    "start_time": "2022-05-30T12:04:31.489Z"
   },
   {
    "duration": 38,
    "start_time": "2022-05-30T12:04:32.624Z"
   },
   {
    "duration": 37,
    "start_time": "2022-05-30T12:04:36.581Z"
   },
   {
    "duration": 127,
    "start_time": "2022-05-30T12:04:44.855Z"
   },
   {
    "duration": 190,
    "start_time": "2022-05-30T12:08:52.570Z"
   },
   {
    "duration": 83,
    "start_time": "2022-05-30T12:09:05.997Z"
   },
   {
    "duration": 882,
    "start_time": "2022-05-30T12:09:13.268Z"
   },
   {
    "duration": 938,
    "start_time": "2022-05-30T12:12:51.061Z"
   },
   {
    "duration": 910,
    "start_time": "2022-05-30T12:12:56.751Z"
   },
   {
    "duration": 913,
    "start_time": "2022-05-30T12:13:04.143Z"
   },
   {
    "duration": 37,
    "start_time": "2022-05-30T12:13:21.153Z"
   },
   {
    "duration": 61,
    "start_time": "2022-05-30T12:13:22.314Z"
   },
   {
    "duration": 172,
    "start_time": "2022-05-30T12:13:36.695Z"
   },
   {
    "duration": 100,
    "start_time": "2022-05-30T12:13:44.792Z"
   },
   {
    "duration": 130,
    "start_time": "2022-05-30T12:13:48.705Z"
   },
   {
    "duration": 36,
    "start_time": "2022-05-30T12:13:50.813Z"
   },
   {
    "duration": 48,
    "start_time": "2022-05-30T12:13:51.584Z"
   },
   {
    "duration": 27,
    "start_time": "2022-05-30T12:13:53.062Z"
   },
   {
    "duration": 48,
    "start_time": "2022-05-30T12:14:02.401Z"
   },
   {
    "duration": 83,
    "start_time": "2022-05-30T12:14:49.958Z"
   },
   {
    "duration": 214,
    "start_time": "2022-05-30T12:14:55.847Z"
   },
   {
    "duration": 34,
    "start_time": "2022-05-30T12:14:58.266Z"
   },
   {
    "duration": 51,
    "start_time": "2022-05-30T12:14:59.588Z"
   },
   {
    "duration": 2,
    "start_time": "2022-05-30T12:15:44.124Z"
   },
   {
    "duration": 14,
    "start_time": "2022-05-30T12:16:08.547Z"
   },
   {
    "duration": 25,
    "start_time": "2022-05-30T12:17:51.088Z"
   },
   {
    "duration": 36,
    "start_time": "2022-05-30T12:18:13.883Z"
   },
   {
    "duration": 37,
    "start_time": "2022-05-30T12:18:17.812Z"
   },
   {
    "duration": 41,
    "start_time": "2022-05-30T12:18:23.684Z"
   },
   {
    "duration": 51,
    "start_time": "2022-05-30T12:19:34.451Z"
   },
   {
    "duration": 58,
    "start_time": "2022-05-30T12:20:36.188Z"
   },
   {
    "duration": 9,
    "start_time": "2022-05-30T12:21:32.664Z"
   },
   {
    "duration": 70,
    "start_time": "2022-05-30T12:21:38.921Z"
   },
   {
    "duration": 75,
    "start_time": "2022-05-30T12:21:42.706Z"
   },
   {
    "duration": 64,
    "start_time": "2022-05-30T12:22:01.000Z"
   },
   {
    "duration": 65,
    "start_time": "2022-05-30T12:22:59.522Z"
   },
   {
    "duration": 81,
    "start_time": "2022-05-30T12:23:02.155Z"
   },
   {
    "duration": 68,
    "start_time": "2022-05-30T12:23:23.465Z"
   },
   {
    "duration": 76,
    "start_time": "2022-05-30T12:23:29.923Z"
   },
   {
    "duration": 1123,
    "start_time": "2022-05-30T12:23:48.286Z"
   },
   {
    "duration": 214,
    "start_time": "2022-05-30T12:23:49.410Z"
   },
   {
    "duration": 4,
    "start_time": "2022-05-30T12:23:49.626Z"
   },
   {
    "duration": 311,
    "start_time": "2022-05-30T12:23:49.632Z"
   },
   {
    "duration": 78,
    "start_time": "2022-05-30T12:23:49.944Z"
   },
   {
    "duration": 116,
    "start_time": "2022-05-30T12:23:50.024Z"
   },
   {
    "duration": 0,
    "start_time": "2022-05-30T12:23:50.141Z"
   },
   {
    "duration": 0,
    "start_time": "2022-05-30T12:23:50.142Z"
   },
   {
    "duration": 0,
    "start_time": "2022-05-30T12:23:50.143Z"
   },
   {
    "duration": 0,
    "start_time": "2022-05-30T12:23:50.144Z"
   },
   {
    "duration": 14,
    "start_time": "2022-05-30T12:24:27.563Z"
   },
   {
    "duration": 74,
    "start_time": "2022-05-30T12:25:05.157Z"
   },
   {
    "duration": 1049,
    "start_time": "2022-05-30T12:25:11.516Z"
   },
   {
    "duration": 228,
    "start_time": "2022-05-30T12:25:12.567Z"
   },
   {
    "duration": 7,
    "start_time": "2022-05-30T12:25:12.800Z"
   },
   {
    "duration": 335,
    "start_time": "2022-05-30T12:25:12.808Z"
   },
   {
    "duration": 2,
    "start_time": "2022-05-30T12:25:13.145Z"
   },
   {
    "duration": 164,
    "start_time": "2022-05-30T12:25:13.148Z"
   },
   {
    "duration": 0,
    "start_time": "2022-05-30T12:25:13.314Z"
   },
   {
    "duration": 0,
    "start_time": "2022-05-30T12:25:13.315Z"
   },
   {
    "duration": 0,
    "start_time": "2022-05-30T12:25:13.316Z"
   },
   {
    "duration": 0,
    "start_time": "2022-05-30T12:25:13.317Z"
   },
   {
    "duration": 64,
    "start_time": "2022-05-30T12:25:21.357Z"
   },
   {
    "duration": 73,
    "start_time": "2022-05-30T12:25:31.410Z"
   },
   {
    "duration": 71,
    "start_time": "2022-05-30T12:25:45.014Z"
   },
   {
    "duration": 68,
    "start_time": "2022-05-30T12:25:50.132Z"
   },
   {
    "duration": 65,
    "start_time": "2022-05-30T12:26:11.368Z"
   },
   {
    "duration": 66,
    "start_time": "2022-05-30T12:26:17.703Z"
   },
   {
    "duration": 69,
    "start_time": "2022-05-30T12:26:22.260Z"
   },
   {
    "duration": 66,
    "start_time": "2022-05-30T12:26:40.560Z"
   },
   {
    "duration": 70,
    "start_time": "2022-05-30T12:26:43.768Z"
   },
   {
    "duration": 67,
    "start_time": "2022-05-30T12:26:50.958Z"
   },
   {
    "duration": 76,
    "start_time": "2022-05-30T12:26:58.594Z"
   },
   {
    "duration": 67,
    "start_time": "2022-05-30T12:27:07.760Z"
   },
   {
    "duration": 63,
    "start_time": "2022-05-30T12:30:35.110Z"
   },
   {
    "duration": 86,
    "start_time": "2022-05-30T12:31:41.142Z"
   },
   {
    "duration": 67,
    "start_time": "2022-05-30T12:31:45.767Z"
   },
   {
    "duration": 54,
    "start_time": "2022-05-30T12:37:25.160Z"
   },
   {
    "duration": 55,
    "start_time": "2022-05-30T12:37:32.261Z"
   },
   {
    "duration": 115,
    "start_time": "2022-05-30T12:38:46.148Z"
   },
   {
    "duration": 110,
    "start_time": "2022-05-30T12:39:12.989Z"
   },
   {
    "duration": 103,
    "start_time": "2022-05-30T12:39:22.061Z"
   },
   {
    "duration": 100,
    "start_time": "2022-05-30T12:39:30.957Z"
   },
   {
    "duration": 183,
    "start_time": "2022-05-30T12:40:40.264Z"
   },
   {
    "duration": 1199,
    "start_time": "2022-05-30T12:41:02.948Z"
   },
   {
    "duration": 239,
    "start_time": "2022-05-30T12:41:04.149Z"
   },
   {
    "duration": 9,
    "start_time": "2022-05-30T12:41:04.390Z"
   },
   {
    "duration": 341,
    "start_time": "2022-05-30T12:41:04.400Z"
   },
   {
    "duration": 180,
    "start_time": "2022-05-30T12:41:04.742Z"
   },
   {
    "duration": 3,
    "start_time": "2022-05-30T12:41:04.924Z"
   },
   {
    "duration": 84,
    "start_time": "2022-05-30T12:41:04.929Z"
   },
   {
    "duration": 146,
    "start_time": "2022-05-30T12:41:05.015Z"
   },
   {
    "duration": 50,
    "start_time": "2022-05-30T12:41:05.162Z"
   },
   {
    "duration": 64,
    "start_time": "2022-05-30T12:41:05.214Z"
   },
   {
    "duration": 69,
    "start_time": "2022-05-30T12:41:05.280Z"
   },
   {
    "duration": 4,
    "start_time": "2022-05-30T12:41:31.579Z"
   },
   {
    "duration": 37,
    "start_time": "2022-05-30T12:41:36.549Z"
   },
   {
    "duration": 36,
    "start_time": "2022-05-30T12:41:45.588Z"
   },
   {
    "duration": 33,
    "start_time": "2022-05-30T12:44:09.771Z"
   },
   {
    "duration": 46,
    "start_time": "2022-05-30T12:44:11.535Z"
   },
   {
    "duration": 47,
    "start_time": "2022-05-30T12:44:36.158Z"
   },
   {
    "duration": 2,
    "start_time": "2022-05-30T12:47:30.971Z"
   },
   {
    "duration": 37,
    "start_time": "2022-05-30T12:49:00.119Z"
   },
   {
    "duration": 9,
    "start_time": "2022-05-30T12:52:54.353Z"
   },
   {
    "duration": 3,
    "start_time": "2022-05-30T12:54:01.815Z"
   },
   {
    "duration": 118,
    "start_time": "2022-05-30T12:55:41.694Z"
   },
   {
    "duration": 11,
    "start_time": "2022-05-30T12:55:43.795Z"
   },
   {
    "duration": 130,
    "start_time": "2022-05-30T12:55:53.221Z"
   },
   {
    "duration": 38,
    "start_time": "2022-05-30T12:56:06.180Z"
   },
   {
    "duration": 30,
    "start_time": "2022-05-30T12:56:55.243Z"
   },
   {
    "duration": 33,
    "start_time": "2022-05-30T12:57:18.488Z"
   },
   {
    "duration": 36,
    "start_time": "2022-05-30T12:57:21.853Z"
   },
   {
    "duration": 41,
    "start_time": "2022-05-30T12:57:47.822Z"
   },
   {
    "duration": 39,
    "start_time": "2022-05-30T12:58:17.196Z"
   },
   {
    "duration": 107,
    "start_time": "2022-05-30T13:00:51.719Z"
   },
   {
    "duration": 113,
    "start_time": "2022-05-30T13:00:58.810Z"
   },
   {
    "duration": 113,
    "start_time": "2022-05-30T13:01:01.418Z"
   },
   {
    "duration": 103,
    "start_time": "2022-05-30T13:01:06.168Z"
   },
   {
    "duration": 161,
    "start_time": "2022-05-30T13:01:09.452Z"
   },
   {
    "duration": 39,
    "start_time": "2022-05-30T13:02:22.166Z"
   },
   {
    "duration": 47,
    "start_time": "2022-05-30T13:07:22.121Z"
   },
   {
    "duration": 34,
    "start_time": "2022-05-30T13:07:24.480Z"
   },
   {
    "duration": 43,
    "start_time": "2022-05-30T13:07:47.646Z"
   },
   {
    "duration": 29,
    "start_time": "2022-05-30T13:07:51.158Z"
   },
   {
    "duration": 67,
    "start_time": "2022-05-30T13:08:17.803Z"
   },
   {
    "duration": 41,
    "start_time": "2022-05-30T13:08:19.656Z"
   },
   {
    "duration": 39,
    "start_time": "2022-05-30T13:08:26.986Z"
   },
   {
    "duration": 38,
    "start_time": "2022-05-30T13:08:32.930Z"
   },
   {
    "duration": 2,
    "start_time": "2022-05-30T13:08:42.719Z"
   },
   {
    "duration": 25,
    "start_time": "2022-05-30T13:08:47.714Z"
   },
   {
    "duration": 45,
    "start_time": "2022-05-30T13:08:51.210Z"
   },
   {
    "duration": 26,
    "start_time": "2022-05-30T13:08:54.598Z"
   },
   {
    "duration": 55,
    "start_time": "2022-05-30T13:09:06.653Z"
   },
   {
    "duration": 11,
    "start_time": "2022-05-30T13:09:18.062Z"
   },
   {
    "duration": 4,
    "start_time": "2022-05-30T13:09:27.985Z"
   },
   {
    "duration": 6,
    "start_time": "2022-05-30T13:09:31.142Z"
   },
   {
    "duration": 8,
    "start_time": "2022-05-30T13:09:41.324Z"
   },
   {
    "duration": 71,
    "start_time": "2022-05-30T17:59:18.653Z"
   },
   {
    "duration": 1539,
    "start_time": "2022-05-30T17:59:25.179Z"
   },
   {
    "duration": 554,
    "start_time": "2022-05-30T17:59:26.720Z"
   },
   {
    "duration": 6,
    "start_time": "2022-05-30T17:59:27.275Z"
   },
   {
    "duration": 339,
    "start_time": "2022-05-30T17:59:27.283Z"
   },
   {
    "duration": 191,
    "start_time": "2022-05-30T17:59:27.624Z"
   },
   {
    "duration": 3,
    "start_time": "2022-05-30T17:59:27.816Z"
   },
   {
    "duration": 224,
    "start_time": "2022-05-30T17:59:27.821Z"
   },
   {
    "duration": 0,
    "start_time": "2022-05-30T17:59:28.047Z"
   },
   {
    "duration": 0,
    "start_time": "2022-05-30T17:59:28.049Z"
   },
   {
    "duration": 0,
    "start_time": "2022-05-30T17:59:28.050Z"
   },
   {
    "duration": 0,
    "start_time": "2022-05-30T17:59:28.052Z"
   },
   {
    "duration": 0,
    "start_time": "2022-05-30T17:59:28.053Z"
   },
   {
    "duration": 0,
    "start_time": "2022-05-30T17:59:28.055Z"
   },
   {
    "duration": 19,
    "start_time": "2022-05-30T18:00:12.520Z"
   },
   {
    "duration": 137,
    "start_time": "2022-05-30T18:00:18.065Z"
   },
   {
    "duration": 1207,
    "start_time": "2022-05-30T18:00:25.199Z"
   },
   {
    "duration": 241,
    "start_time": "2022-05-30T18:00:26.407Z"
   },
   {
    "duration": 5,
    "start_time": "2022-05-30T18:00:26.650Z"
   },
   {
    "duration": 341,
    "start_time": "2022-05-30T18:00:26.657Z"
   },
   {
    "duration": 192,
    "start_time": "2022-05-30T18:00:26.999Z"
   },
   {
    "duration": 3,
    "start_time": "2022-05-30T18:00:27.193Z"
   },
   {
    "duration": 171,
    "start_time": "2022-05-30T18:00:27.197Z"
   },
   {
    "duration": 0,
    "start_time": "2022-05-30T18:00:27.370Z"
   },
   {
    "duration": 0,
    "start_time": "2022-05-30T18:00:27.371Z"
   },
   {
    "duration": 0,
    "start_time": "2022-05-30T18:00:27.373Z"
   },
   {
    "duration": 0,
    "start_time": "2022-05-30T18:00:27.374Z"
   },
   {
    "duration": 0,
    "start_time": "2022-05-30T18:00:27.375Z"
   },
   {
    "duration": 0,
    "start_time": "2022-05-30T18:00:27.376Z"
   },
   {
    "duration": 40,
    "start_time": "2022-05-30T18:00:34.811Z"
   },
   {
    "duration": 94,
    "start_time": "2022-05-30T18:00:55.928Z"
   },
   {
    "duration": 1511,
    "start_time": "2022-05-30T18:01:01.681Z"
   },
   {
    "duration": 247,
    "start_time": "2022-05-30T18:01:03.194Z"
   },
   {
    "duration": 6,
    "start_time": "2022-05-30T18:01:03.443Z"
   },
   {
    "duration": 372,
    "start_time": "2022-05-30T18:01:03.451Z"
   },
   {
    "duration": 197,
    "start_time": "2022-05-30T18:01:03.825Z"
   },
   {
    "duration": 2,
    "start_time": "2022-05-30T18:01:04.024Z"
   },
   {
    "duration": 227,
    "start_time": "2022-05-30T18:01:04.029Z"
   },
   {
    "duration": 0,
    "start_time": "2022-05-30T18:01:04.258Z"
   },
   {
    "duration": 0,
    "start_time": "2022-05-30T18:01:04.259Z"
   },
   {
    "duration": 0,
    "start_time": "2022-05-30T18:01:04.261Z"
   },
   {
    "duration": 0,
    "start_time": "2022-05-30T18:01:04.262Z"
   },
   {
    "duration": 0,
    "start_time": "2022-05-30T18:01:04.264Z"
   },
   {
    "duration": 0,
    "start_time": "2022-05-30T18:01:04.266Z"
   },
   {
    "duration": 117,
    "start_time": "2022-05-30T18:01:12.379Z"
   },
   {
    "duration": 62,
    "start_time": "2022-05-30T18:01:17.881Z"
   },
   {
    "duration": 42,
    "start_time": "2022-05-30T18:01:19.952Z"
   },
   {
    "duration": 57,
    "start_time": "2022-05-30T18:03:45.860Z"
   },
   {
    "duration": 69,
    "start_time": "2022-05-30T18:03:54.153Z"
   },
   {
    "duration": 10,
    "start_time": "2022-05-30T18:05:15.363Z"
   },
   {
    "duration": 77,
    "start_time": "2022-05-30T18:06:02.481Z"
   },
   {
    "duration": 42,
    "start_time": "2022-05-30T18:06:32.000Z"
   },
   {
    "duration": 47,
    "start_time": "2022-05-30T18:06:39.120Z"
   },
   {
    "duration": 60,
    "start_time": "2022-05-30T18:06:50.363Z"
   },
   {
    "duration": 28,
    "start_time": "2022-05-30T18:06:55.286Z"
   },
   {
    "duration": 28,
    "start_time": "2022-05-30T18:06:55.380Z"
   },
   {
    "duration": 46,
    "start_time": "2022-05-30T18:07:01.652Z"
   },
   {
    "duration": 11,
    "start_time": "2022-05-30T18:07:08.659Z"
   },
   {
    "duration": 50,
    "start_time": "2022-05-30T18:07:20.556Z"
   },
   {
    "duration": 14,
    "start_time": "2022-05-30T18:07:33.770Z"
   },
   {
    "duration": 51,
    "start_time": "2022-05-30T18:07:50.972Z"
   },
   {
    "duration": 46,
    "start_time": "2022-05-30T18:07:56.624Z"
   },
   {
    "duration": 37,
    "start_time": "2022-05-30T18:08:11.861Z"
   },
   {
    "duration": 11,
    "start_time": "2022-05-30T18:08:22.696Z"
   },
   {
    "duration": 4,
    "start_time": "2022-05-30T18:08:30.270Z"
   },
   {
    "duration": 39,
    "start_time": "2022-05-30T18:08:40.803Z"
   },
   {
    "duration": 38,
    "start_time": "2022-05-30T18:09:10.991Z"
   },
   {
    "duration": 160,
    "start_time": "2022-05-30T18:09:59.002Z"
   },
   {
    "duration": 147,
    "start_time": "2022-05-30T18:10:10.675Z"
   },
   {
    "duration": 147,
    "start_time": "2022-05-30T18:10:38.120Z"
   },
   {
    "duration": 36,
    "start_time": "2022-05-30T18:11:11.779Z"
   },
   {
    "duration": 156,
    "start_time": "2022-05-30T18:12:29.075Z"
   },
   {
    "duration": 152,
    "start_time": "2022-05-30T18:12:45.671Z"
   },
   {
    "duration": 448,
    "start_time": "2022-05-30T18:16:05.123Z"
   },
   {
    "duration": 488,
    "start_time": "2022-05-30T18:16:12.776Z"
   },
   {
    "duration": 132,
    "start_time": "2022-05-30T18:16:19.345Z"
   },
   {
    "duration": 42,
    "start_time": "2022-05-30T18:16:22.594Z"
   },
   {
    "duration": 38,
    "start_time": "2022-05-30T18:16:24.696Z"
   },
   {
    "duration": 132,
    "start_time": "2022-05-30T18:16:26.474Z"
   },
   {
    "duration": 7,
    "start_time": "2022-05-30T18:16:28.883Z"
   },
   {
    "duration": 60,
    "start_time": "2022-05-30T18:31:58.380Z"
   },
   {
    "duration": 23,
    "start_time": "2022-05-30T18:32:55.967Z"
   },
   {
    "duration": 60,
    "start_time": "2022-05-30T18:33:00.374Z"
   },
   {
    "duration": 63,
    "start_time": "2022-05-30T18:34:07.864Z"
   },
   {
    "duration": 23,
    "start_time": "2022-05-30T18:36:09.560Z"
   },
   {
    "duration": 65,
    "start_time": "2022-05-30T18:36:13.256Z"
   },
   {
    "duration": 58,
    "start_time": "2022-05-30T18:36:29.408Z"
   },
   {
    "duration": 56,
    "start_time": "2022-05-30T18:36:33.716Z"
   },
   {
    "duration": 68,
    "start_time": "2022-05-30T18:36:49.096Z"
   },
   {
    "duration": 187,
    "start_time": "2022-05-30T18:36:59.306Z"
   },
   {
    "duration": 202,
    "start_time": "2022-05-30T18:37:15.256Z"
   },
   {
    "duration": 223,
    "start_time": "2022-05-30T18:37:47.203Z"
   },
   {
    "duration": 178,
    "start_time": "2022-05-30T18:38:07.688Z"
   },
   {
    "duration": 28,
    "start_time": "2022-05-30T18:38:43.702Z"
   },
   {
    "duration": 8,
    "start_time": "2022-05-30T18:45:45.665Z"
   },
   {
    "duration": 29,
    "start_time": "2022-05-30T18:45:51.631Z"
   },
   {
    "duration": 212,
    "start_time": "2022-05-30T18:47:27.219Z"
   },
   {
    "duration": 221,
    "start_time": "2022-05-30T18:47:31.081Z"
   },
   {
    "duration": 222,
    "start_time": "2022-05-30T18:51:02.241Z"
   },
   {
    "duration": 7,
    "start_time": "2022-05-30T18:55:00.411Z"
   },
   {
    "duration": 8,
    "start_time": "2022-05-30T18:55:26.190Z"
   },
   {
    "duration": 8,
    "start_time": "2022-05-30T18:55:35.491Z"
   },
   {
    "duration": 7,
    "start_time": "2022-05-30T18:55:38.733Z"
   },
   {
    "duration": 31,
    "start_time": "2022-05-30T18:55:47.510Z"
   },
   {
    "duration": 22,
    "start_time": "2022-05-30T18:56:19.730Z"
   },
   {
    "duration": 45,
    "start_time": "2022-05-30T18:56:23.600Z"
   },
   {
    "duration": 28,
    "start_time": "2022-05-30T18:56:28.038Z"
   },
   {
    "duration": 30,
    "start_time": "2022-05-30T18:56:42.546Z"
   },
   {
    "duration": 30,
    "start_time": "2022-05-30T18:59:30.369Z"
   },
   {
    "duration": 29,
    "start_time": "2022-05-30T18:59:34.914Z"
   },
   {
    "duration": 30,
    "start_time": "2022-05-30T18:59:40.781Z"
   },
   {
    "duration": 30,
    "start_time": "2022-05-30T18:59:47.421Z"
   },
   {
    "duration": 41,
    "start_time": "2022-05-30T18:59:50.456Z"
   },
   {
    "duration": 32,
    "start_time": "2022-05-30T18:59:59.312Z"
   },
   {
    "duration": 32,
    "start_time": "2022-05-30T19:00:04.195Z"
   },
   {
    "duration": 30,
    "start_time": "2022-05-30T19:01:19.261Z"
   },
   {
    "duration": 29,
    "start_time": "2022-05-30T19:01:24.957Z"
   },
   {
    "duration": 36,
    "start_time": "2022-05-30T19:01:28.882Z"
   },
   {
    "duration": 30,
    "start_time": "2022-05-30T19:01:33.057Z"
   },
   {
    "duration": 36,
    "start_time": "2022-05-30T19:01:50.953Z"
   },
   {
    "duration": 184,
    "start_time": "2022-05-30T19:02:15.764Z"
   },
   {
    "duration": 38,
    "start_time": "2022-05-30T19:02:18.916Z"
   },
   {
    "duration": 171,
    "start_time": "2022-05-30T19:02:20.521Z"
   },
   {
    "duration": 33,
    "start_time": "2022-05-30T19:02:21.677Z"
   },
   {
    "duration": 30,
    "start_time": "2022-05-30T19:02:25.662Z"
   },
   {
    "duration": 31,
    "start_time": "2022-05-30T19:02:29.591Z"
   },
   {
    "duration": 268,
    "start_time": "2022-05-30T19:02:37.345Z"
   },
   {
    "duration": 121,
    "start_time": "2022-05-30T19:02:41.245Z"
   },
   {
    "duration": 39,
    "start_time": "2022-05-30T19:02:43.935Z"
   },
   {
    "duration": 37,
    "start_time": "2022-05-30T19:02:44.057Z"
   },
   {
    "duration": 173,
    "start_time": "2022-05-30T19:02:46.219Z"
   },
   {
    "duration": 211,
    "start_time": "2022-05-30T19:02:48.987Z"
   },
   {
    "duration": 34,
    "start_time": "2022-05-30T19:02:49.775Z"
   },
   {
    "duration": 10,
    "start_time": "2022-05-30T19:03:15.817Z"
   },
   {
    "duration": 12,
    "start_time": "2022-05-30T19:03:18.875Z"
   },
   {
    "duration": 7,
    "start_time": "2022-05-30T19:03:23.029Z"
   },
   {
    "duration": 20,
    "start_time": "2022-05-30T19:03:37.931Z"
   },
   {
    "duration": 12,
    "start_time": "2022-05-30T19:03:40.188Z"
   },
   {
    "duration": 11,
    "start_time": "2022-05-30T19:03:54.278Z"
   },
   {
    "duration": 16,
    "start_time": "2022-05-30T19:03:59.727Z"
   },
   {
    "duration": 14,
    "start_time": "2022-05-30T19:04:06.486Z"
   },
   {
    "duration": 11,
    "start_time": "2022-05-30T19:04:09.679Z"
   },
   {
    "duration": 11,
    "start_time": "2022-05-30T19:04:18.276Z"
   },
   {
    "duration": 29,
    "start_time": "2022-05-30T19:05:10.492Z"
   },
   {
    "duration": 33,
    "start_time": "2022-05-30T19:05:18.814Z"
   },
   {
    "duration": 30,
    "start_time": "2022-05-30T19:05:21.780Z"
   },
   {
    "duration": 31,
    "start_time": "2022-05-30T19:05:45.761Z"
   },
   {
    "duration": 28,
    "start_time": "2022-05-30T19:05:56.558Z"
   },
   {
    "duration": 30,
    "start_time": "2022-05-30T19:06:15.498Z"
   },
   {
    "duration": 678,
    "start_time": "2022-05-30T19:07:19.558Z"
   },
   {
    "duration": 21,
    "start_time": "2022-05-30T19:09:01.796Z"
   },
   {
    "duration": 16,
    "start_time": "2022-05-30T19:09:09.657Z"
   },
   {
    "duration": 45,
    "start_time": "2022-05-30T19:09:28.116Z"
   },
   {
    "duration": 42,
    "start_time": "2022-05-30T19:09:39.796Z"
   },
   {
    "duration": 410,
    "start_time": "2022-05-30T19:11:40.572Z"
   },
   {
    "duration": 550,
    "start_time": "2022-05-30T19:15:48.362Z"
   },
   {
    "duration": 73,
    "start_time": "2022-05-30T19:17:02.322Z"
   },
   {
    "duration": 651,
    "start_time": "2022-05-30T19:20:42.131Z"
   },
   {
    "duration": 500,
    "start_time": "2022-05-30T19:20:50.861Z"
   },
   {
    "duration": 19,
    "start_time": "2022-05-30T19:21:39.011Z"
   },
   {
    "duration": 443,
    "start_time": "2022-05-30T19:21:43.826Z"
   },
   {
    "duration": 525,
    "start_time": "2022-05-30T19:22:00.283Z"
   },
   {
    "duration": 459,
    "start_time": "2022-05-30T19:22:55.807Z"
   },
   {
    "duration": 564,
    "start_time": "2022-05-30T19:23:16.701Z"
   },
   {
    "duration": 476,
    "start_time": "2022-05-30T19:23:31.257Z"
   },
   {
    "duration": 449,
    "start_time": "2022-05-30T19:23:39.761Z"
   },
   {
    "duration": 515,
    "start_time": "2022-05-30T19:23:45.476Z"
   },
   {
    "duration": 58,
    "start_time": "2022-05-31T05:54:35.143Z"
   },
   {
    "duration": 1398,
    "start_time": "2022-05-31T05:54:40.390Z"
   },
   {
    "duration": 628,
    "start_time": "2022-05-31T05:54:41.790Z"
   },
   {
    "duration": 6,
    "start_time": "2022-05-31T05:54:42.422Z"
   },
   {
    "duration": 358,
    "start_time": "2022-05-31T05:54:42.431Z"
   },
   {
    "duration": 180,
    "start_time": "2022-05-31T05:54:42.791Z"
   },
   {
    "duration": 4,
    "start_time": "2022-05-31T05:54:42.973Z"
   },
   {
    "duration": 142,
    "start_time": "2022-05-31T05:54:42.978Z"
   },
   {
    "duration": 45,
    "start_time": "2022-05-31T05:54:43.122Z"
   },
   {
    "duration": 197,
    "start_time": "2022-05-31T05:54:43.171Z"
   },
   {
    "duration": 30,
    "start_time": "2022-05-31T05:54:43.370Z"
   },
   {
    "duration": 12,
    "start_time": "2022-05-31T05:54:43.401Z"
   },
   {
    "duration": 409,
    "start_time": "2022-05-31T05:54:43.414Z"
   },
   {
    "duration": 542,
    "start_time": "2022-05-31T05:54:43.825Z"
   },
   {
    "duration": 0,
    "start_time": "2022-05-31T05:54:44.368Z"
   },
   {
    "duration": 0,
    "start_time": "2022-05-31T05:54:44.369Z"
   },
   {
    "duration": 12,
    "start_time": "2022-05-31T05:55:22.040Z"
   },
   {
    "duration": 23,
    "start_time": "2022-05-31T05:56:42.375Z"
   },
   {
    "duration": 4,
    "start_time": "2022-05-31T05:56:59.661Z"
   },
   {
    "duration": 19,
    "start_time": "2022-05-31T05:57:14.040Z"
   },
   {
    "duration": 421,
    "start_time": "2022-05-31T05:57:32.165Z"
   },
   {
    "duration": 31,
    "start_time": "2022-05-31T05:57:59.831Z"
   },
   {
    "duration": 14,
    "start_time": "2022-05-31T05:58:06.319Z"
   },
   {
    "duration": 343,
    "start_time": "2022-05-31T05:58:08.842Z"
   },
   {
    "duration": 15,
    "start_time": "2022-05-31T05:58:35.740Z"
   },
   {
    "duration": 13,
    "start_time": "2022-05-31T05:58:39.010Z"
   },
   {
    "duration": 325,
    "start_time": "2022-05-31T05:58:40.710Z"
   },
   {
    "duration": 15,
    "start_time": "2022-05-31T06:00:38.742Z"
   },
   {
    "duration": 12,
    "start_time": "2022-05-31T06:00:44.269Z"
   },
   {
    "duration": 266,
    "start_time": "2022-05-31T06:00:56.803Z"
   },
   {
    "duration": 376,
    "start_time": "2022-05-31T06:01:03.581Z"
   },
   {
    "duration": 324,
    "start_time": "2022-05-31T06:01:13.214Z"
   },
   {
    "duration": 106,
    "start_time": "2022-05-31T06:03:33.808Z"
   },
   {
    "duration": 109,
    "start_time": "2022-05-31T06:03:36.583Z"
   },
   {
    "duration": 38,
    "start_time": "2022-05-31T06:03:36.693Z"
   },
   {
    "duration": 173,
    "start_time": "2022-05-31T06:03:39.540Z"
   },
   {
    "duration": 115,
    "start_time": "2022-05-31T06:03:41.582Z"
   },
   {
    "duration": 29,
    "start_time": "2022-05-31T06:03:43.382Z"
   },
   {
    "duration": 308,
    "start_time": "2022-05-31T06:03:44.459Z"
   },
   {
    "duration": 287,
    "start_time": "2022-05-31T06:04:12.788Z"
   },
   {
    "duration": 283,
    "start_time": "2022-05-31T06:04:20.220Z"
   },
   {
    "duration": 278,
    "start_time": "2022-05-31T06:04:24.711Z"
   },
   {
    "duration": 19,
    "start_time": "2022-05-31T06:04:34.885Z"
   },
   {
    "duration": 383,
    "start_time": "2022-05-31T06:04:51.340Z"
   },
   {
    "duration": 290,
    "start_time": "2022-05-31T06:05:47.240Z"
   },
   {
    "duration": 284,
    "start_time": "2022-05-31T06:05:55.663Z"
   },
   {
    "duration": 272,
    "start_time": "2022-05-31T06:06:54.864Z"
   },
   {
    "duration": 292,
    "start_time": "2022-05-31T06:06:59.860Z"
   },
   {
    "duration": 117,
    "start_time": "2022-05-31T06:07:51.180Z"
   },
   {
    "duration": 76,
    "start_time": "2022-05-31T06:07:54.240Z"
   },
   {
    "duration": 270,
    "start_time": "2022-05-31T06:07:57.094Z"
   },
   {
    "duration": 277,
    "start_time": "2022-05-31T06:08:14.539Z"
   },
   {
    "duration": 274,
    "start_time": "2022-05-31T06:09:00.300Z"
   },
   {
    "duration": 266,
    "start_time": "2022-05-31T06:09:18.761Z"
   },
   {
    "duration": 370,
    "start_time": "2022-05-31T06:09:35.861Z"
   },
   {
    "duration": 280,
    "start_time": "2022-05-31T06:09:56.464Z"
   },
   {
    "duration": 288,
    "start_time": "2022-05-31T06:10:04.599Z"
   },
   {
    "duration": 423,
    "start_time": "2022-05-31T06:10:22.045Z"
   },
   {
    "duration": 272,
    "start_time": "2022-05-31T06:10:26.262Z"
   },
   {
    "duration": 339,
    "start_time": "2022-05-31T06:11:06.908Z"
   },
   {
    "duration": 315,
    "start_time": "2022-05-31T06:11:17.441Z"
   },
   {
    "duration": 354,
    "start_time": "2022-05-31T06:11:32.385Z"
   },
   {
    "duration": 301,
    "start_time": "2022-05-31T06:11:37.749Z"
   },
   {
    "duration": 320,
    "start_time": "2022-05-31T06:11:50.316Z"
   },
   {
    "duration": 26,
    "start_time": "2022-05-31T06:12:25.623Z"
   },
   {
    "duration": 318,
    "start_time": "2022-05-31T06:12:28.389Z"
   },
   {
    "duration": 454,
    "start_time": "2022-05-31T06:13:00.906Z"
   },
   {
    "duration": 325,
    "start_time": "2022-05-31T06:13:26.076Z"
   },
   {
    "duration": 327,
    "start_time": "2022-05-31T06:14:18.842Z"
   },
   {
    "duration": 373,
    "start_time": "2022-05-31T06:14:52.142Z"
   },
   {
    "duration": 42,
    "start_time": "2022-05-31T06:15:10.121Z"
   },
   {
    "duration": 5,
    "start_time": "2022-05-31T06:16:06.544Z"
   },
   {
    "duration": 5,
    "start_time": "2022-05-31T06:16:18.064Z"
   },
   {
    "duration": 9,
    "start_time": "2022-05-31T06:16:42.326Z"
   },
   {
    "duration": 5,
    "start_time": "2022-05-31T06:16:47.646Z"
   },
   {
    "duration": 24,
    "start_time": "2022-05-31T06:21:03.401Z"
   },
   {
    "duration": 25,
    "start_time": "2022-05-31T06:21:13.702Z"
   },
   {
    "duration": 25,
    "start_time": "2022-05-31T06:23:56.613Z"
   },
   {
    "duration": 26,
    "start_time": "2022-05-31T06:24:05.654Z"
   },
   {
    "duration": 25,
    "start_time": "2022-05-31T06:24:10.055Z"
   },
   {
    "duration": 332,
    "start_time": "2022-05-31T06:24:29.173Z"
   },
   {
    "duration": 362,
    "start_time": "2022-05-31T06:30:33.473Z"
   },
   {
    "duration": 325,
    "start_time": "2022-05-31T06:30:37.997Z"
   },
   {
    "duration": 322,
    "start_time": "2022-05-31T06:30:46.753Z"
   },
   {
    "duration": 332,
    "start_time": "2022-05-31T06:30:50.172Z"
   },
   {
    "duration": 353,
    "start_time": "2022-05-31T06:30:55.986Z"
   },
   {
    "duration": 345,
    "start_time": "2022-05-31T06:31:19.841Z"
   },
   {
    "duration": 28,
    "start_time": "2022-05-31T06:34:10.193Z"
   },
   {
    "duration": 27,
    "start_time": "2022-05-31T06:34:14.634Z"
   },
   {
    "duration": 92,
    "start_time": "2022-05-31T06:34:37.629Z"
   },
   {
    "duration": 29,
    "start_time": "2022-05-31T06:34:49.114Z"
   },
   {
    "duration": 446,
    "start_time": "2022-05-31T06:34:54.883Z"
   },
   {
    "duration": 354,
    "start_time": "2022-05-31T06:35:04.115Z"
   },
   {
    "duration": 344,
    "start_time": "2022-05-31T06:35:10.238Z"
   },
   {
    "duration": 366,
    "start_time": "2022-05-31T06:35:14.995Z"
   },
   {
    "duration": 375,
    "start_time": "2022-05-31T06:35:30.259Z"
   },
   {
    "duration": 348,
    "start_time": "2022-05-31T06:35:35.957Z"
   },
   {
    "duration": 336,
    "start_time": "2022-05-31T06:35:59.268Z"
   },
   {
    "duration": 395,
    "start_time": "2022-05-31T06:36:31.964Z"
   },
   {
    "duration": 357,
    "start_time": "2022-05-31T06:36:38.427Z"
   },
   {
    "duration": 360,
    "start_time": "2022-05-31T06:36:49.700Z"
   },
   {
    "duration": 333,
    "start_time": "2022-05-31T06:36:53.415Z"
   },
   {
    "duration": 455,
    "start_time": "2022-05-31T06:36:58.098Z"
   },
   {
    "duration": 386,
    "start_time": "2022-05-31T06:37:03.282Z"
   },
   {
    "duration": 369,
    "start_time": "2022-05-31T06:37:23.214Z"
   },
   {
    "duration": 30,
    "start_time": "2022-05-31T06:37:26.359Z"
   },
   {
    "duration": 334,
    "start_time": "2022-05-31T06:37:27.953Z"
   },
   {
    "duration": 332,
    "start_time": "2022-05-31T06:37:39.687Z"
   },
   {
    "duration": 367,
    "start_time": "2022-05-31T06:37:50.252Z"
   },
   {
    "duration": 291,
    "start_time": "2022-05-31T06:38:05.661Z"
   },
   {
    "duration": 354,
    "start_time": "2022-05-31T06:38:14.913Z"
   },
   {
    "duration": 344,
    "start_time": "2022-05-31T06:38:28.102Z"
   },
   {
    "duration": 326,
    "start_time": "2022-05-31T06:39:05.462Z"
   },
   {
    "duration": 128,
    "start_time": "2022-05-31T06:42:44.007Z"
   },
   {
    "duration": 10,
    "start_time": "2022-05-31T06:43:10.831Z"
   },
   {
    "duration": 10,
    "start_time": "2022-05-31T06:43:16.748Z"
   },
   {
    "duration": 123,
    "start_time": "2022-05-31T06:43:38.712Z"
   },
   {
    "duration": 124,
    "start_time": "2022-05-31T06:43:51.434Z"
   },
   {
    "duration": 133,
    "start_time": "2022-05-31T06:44:27.697Z"
   },
   {
    "duration": 143,
    "start_time": "2022-05-31T06:44:37.020Z"
   },
   {
    "duration": 127,
    "start_time": "2022-05-31T06:44:43.552Z"
   },
   {
    "duration": 25,
    "start_time": "2022-05-31T06:46:44.392Z"
   },
   {
    "duration": 264,
    "start_time": "2022-05-31T06:46:56.542Z"
   },
   {
    "duration": 26,
    "start_time": "2022-05-31T06:47:01.794Z"
   },
   {
    "duration": 124,
    "start_time": "2022-05-31T06:47:26.221Z"
   },
   {
    "duration": 14,
    "start_time": "2022-05-31T06:47:34.600Z"
   },
   {
    "duration": 18,
    "start_time": "2022-05-31T06:48:03.223Z"
   },
   {
    "duration": 105,
    "start_time": "2022-05-31T06:48:11.504Z"
   },
   {
    "duration": 17,
    "start_time": "2022-05-31T06:48:23.807Z"
   },
   {
    "duration": 31,
    "start_time": "2022-05-31T06:48:35.386Z"
   },
   {
    "duration": 20,
    "start_time": "2022-05-31T06:48:58.863Z"
   },
   {
    "duration": 29,
    "start_time": "2022-05-31T06:49:36.559Z"
   },
   {
    "duration": 25,
    "start_time": "2022-05-31T06:49:41.545Z"
   },
   {
    "duration": 181,
    "start_time": "2022-05-31T06:49:59.869Z"
   },
   {
    "duration": 158,
    "start_time": "2022-05-31T06:50:29.406Z"
   },
   {
    "duration": 145,
    "start_time": "2022-05-31T06:51:14.542Z"
   },
   {
    "duration": 146,
    "start_time": "2022-05-31T06:51:26.718Z"
   },
   {
    "duration": 144,
    "start_time": "2022-05-31T06:51:35.933Z"
   },
   {
    "duration": 182,
    "start_time": "2022-05-31T06:51:42.076Z"
   },
   {
    "duration": 186,
    "start_time": "2022-05-31T06:52:10.191Z"
   },
   {
    "duration": 155,
    "start_time": "2022-05-31T06:52:14.126Z"
   },
   {
    "duration": 148,
    "start_time": "2022-05-31T06:52:51.503Z"
   },
   {
    "duration": 168,
    "start_time": "2022-05-31T06:53:38.391Z"
   },
   {
    "duration": 153,
    "start_time": "2022-05-31T07:03:56.791Z"
   },
   {
    "duration": 201,
    "start_time": "2022-05-31T07:05:12.181Z"
   },
   {
    "duration": 9,
    "start_time": "2022-05-31T07:05:41.392Z"
   },
   {
    "duration": 156,
    "start_time": "2022-05-31T07:06:12.486Z"
   },
   {
    "duration": 147,
    "start_time": "2022-05-31T07:06:22.658Z"
   },
   {
    "duration": 26,
    "start_time": "2022-05-31T07:10:54.004Z"
   },
   {
    "duration": 28,
    "start_time": "2022-05-31T07:11:20.739Z"
   },
   {
    "duration": 27,
    "start_time": "2022-05-31T07:11:55.338Z"
   },
   {
    "duration": 32,
    "start_time": "2022-05-31T07:12:29.269Z"
   },
   {
    "duration": 32,
    "start_time": "2022-05-31T07:14:18.956Z"
   },
   {
    "duration": 40,
    "start_time": "2022-05-31T07:14:37.382Z"
   },
   {
    "duration": 37,
    "start_time": "2022-05-31T07:14:40.616Z"
   },
   {
    "duration": 39,
    "start_time": "2022-05-31T07:15:02.197Z"
   },
   {
    "duration": 46,
    "start_time": "2022-05-31T07:15:29.268Z"
   },
   {
    "duration": 30,
    "start_time": "2022-05-31T07:15:49.687Z"
   },
   {
    "duration": 30,
    "start_time": "2022-05-31T07:15:56.244Z"
   },
   {
    "duration": 34,
    "start_time": "2022-05-31T07:16:00.346Z"
   },
   {
    "duration": 32,
    "start_time": "2022-05-31T07:16:28.948Z"
   },
   {
    "duration": 34,
    "start_time": "2022-05-31T07:17:20.486Z"
   },
   {
    "duration": 31,
    "start_time": "2022-05-31T07:17:23.646Z"
   },
   {
    "duration": 34,
    "start_time": "2022-05-31T07:17:27.936Z"
   },
   {
    "duration": 31,
    "start_time": "2022-05-31T07:18:08.497Z"
   },
   {
    "duration": 25,
    "start_time": "2022-05-31T07:18:34.311Z"
   },
   {
    "duration": 23,
    "start_time": "2022-05-31T07:18:53.758Z"
   },
   {
    "duration": 24,
    "start_time": "2022-05-31T07:19:29.607Z"
   },
   {
    "duration": 29,
    "start_time": "2022-05-31T07:19:34.605Z"
   },
   {
    "duration": 36,
    "start_time": "2022-05-31T07:20:09.045Z"
   },
   {
    "duration": 34,
    "start_time": "2022-05-31T07:20:17.262Z"
   },
   {
    "duration": 34,
    "start_time": "2022-05-31T07:21:44.550Z"
   },
   {
    "duration": 39,
    "start_time": "2022-05-31T07:22:01.833Z"
   },
   {
    "duration": 43,
    "start_time": "2022-05-31T07:23:03.577Z"
   },
   {
    "duration": 41,
    "start_time": "2022-05-31T07:24:41.919Z"
   },
   {
    "duration": 38,
    "start_time": "2022-05-31T07:24:47.014Z"
   },
   {
    "duration": 38,
    "start_time": "2022-05-31T07:24:53.074Z"
   },
   {
    "duration": 46,
    "start_time": "2022-05-31T07:25:31.055Z"
   },
   {
    "duration": 36,
    "start_time": "2022-05-31T07:25:38.516Z"
   },
   {
    "duration": 37,
    "start_time": "2022-05-31T07:26:10.418Z"
   },
   {
    "duration": 40,
    "start_time": "2022-05-31T07:26:49.940Z"
   },
   {
    "duration": 39,
    "start_time": "2022-05-31T07:27:08.592Z"
   },
   {
    "duration": 36,
    "start_time": "2022-05-31T07:27:26.787Z"
   },
   {
    "duration": 41,
    "start_time": "2022-05-31T07:28:36.546Z"
   },
   {
    "duration": 36,
    "start_time": "2022-05-31T07:29:43.158Z"
   },
   {
    "duration": 4,
    "start_time": "2022-05-31T07:30:52.920Z"
   },
   {
    "duration": 28,
    "start_time": "2022-05-31T07:30:56.744Z"
   },
   {
    "duration": 42,
    "start_time": "2022-05-31T07:31:02.301Z"
   },
   {
    "duration": 35,
    "start_time": "2022-05-31T07:31:12.136Z"
   },
   {
    "duration": 29,
    "start_time": "2022-05-31T07:31:18.689Z"
   },
   {
    "duration": 33,
    "start_time": "2022-05-31T07:31:46.747Z"
   },
   {
    "duration": 26,
    "start_time": "2022-05-31T07:32:59.246Z"
   },
   {
    "duration": 29,
    "start_time": "2022-05-31T07:33:03.236Z"
   },
   {
    "duration": 43,
    "start_time": "2022-05-31T07:34:08.044Z"
   },
   {
    "duration": 31,
    "start_time": "2022-05-31T07:34:30.994Z"
   },
   {
    "duration": 33,
    "start_time": "2022-05-31T07:34:51.068Z"
   },
   {
    "duration": 27,
    "start_time": "2022-05-31T07:35:06.720Z"
   },
   {
    "duration": 28,
    "start_time": "2022-05-31T07:35:18.084Z"
   },
   {
    "duration": 29,
    "start_time": "2022-05-31T07:35:27.368Z"
   },
   {
    "duration": 28,
    "start_time": "2022-05-31T07:35:39.042Z"
   },
   {
    "duration": 35,
    "start_time": "2022-05-31T07:35:55.289Z"
   },
   {
    "duration": 33,
    "start_time": "2022-05-31T07:36:03.297Z"
   },
   {
    "duration": 31,
    "start_time": "2022-05-31T07:36:10.830Z"
   },
   {
    "duration": 228,
    "start_time": "2022-05-31T07:36:40.348Z"
   },
   {
    "duration": 154,
    "start_time": "2022-05-31T07:37:14.379Z"
   },
   {
    "duration": 159,
    "start_time": "2022-05-31T07:37:25.544Z"
   },
   {
    "duration": 148,
    "start_time": "2022-05-31T07:37:40.961Z"
   },
   {
    "duration": 116,
    "start_time": "2022-05-31T07:37:47.631Z"
   },
   {
    "duration": 190,
    "start_time": "2022-05-31T07:38:03.289Z"
   },
   {
    "duration": 110,
    "start_time": "2022-05-31T07:38:31.715Z"
   },
   {
    "duration": 115,
    "start_time": "2022-05-31T07:39:00.137Z"
   },
   {
    "duration": 106,
    "start_time": "2022-05-31T07:39:10.754Z"
   },
   {
    "duration": 182,
    "start_time": "2022-05-31T07:39:35.909Z"
   },
   {
    "duration": 113,
    "start_time": "2022-05-31T07:39:44.560Z"
   },
   {
    "duration": 114,
    "start_time": "2022-05-31T07:39:46.816Z"
   },
   {
    "duration": 31,
    "start_time": "2022-05-31T07:39:54.653Z"
   },
   {
    "duration": 36,
    "start_time": "2022-05-31T07:40:03.255Z"
   },
   {
    "duration": 128,
    "start_time": "2022-05-31T07:40:21.296Z"
   },
   {
    "duration": 114,
    "start_time": "2022-05-31T07:40:26.914Z"
   },
   {
    "duration": 331,
    "start_time": "2022-05-31T07:40:39.525Z"
   },
   {
    "duration": 10,
    "start_time": "2022-05-31T07:43:59.530Z"
   },
   {
    "duration": 3,
    "start_time": "2022-05-31T07:44:07.735Z"
   },
   {
    "duration": 4,
    "start_time": "2022-05-31T07:44:19.221Z"
   },
   {
    "duration": 4,
    "start_time": "2022-05-31T07:44:28.405Z"
   },
   {
    "duration": 38,
    "start_time": "2022-05-31T07:46:37.134Z"
   },
   {
    "duration": 59,
    "start_time": "2022-05-31T07:47:45.137Z"
   },
   {
    "duration": 25,
    "start_time": "2022-05-31T07:47:50.928Z"
   },
   {
    "duration": 23,
    "start_time": "2022-05-31T07:48:38.254Z"
   },
   {
    "duration": 22,
    "start_time": "2022-05-31T07:48:59.311Z"
   },
   {
    "duration": 20,
    "start_time": "2022-05-31T07:49:05.498Z"
   },
   {
    "duration": 26,
    "start_time": "2022-05-31T07:49:08.482Z"
   },
   {
    "duration": 24,
    "start_time": "2022-05-31T07:49:14.694Z"
   },
   {
    "duration": 26,
    "start_time": "2022-05-31T07:50:18.167Z"
   },
   {
    "duration": 26,
    "start_time": "2022-05-31T07:50:31.385Z"
   },
   {
    "duration": 18,
    "start_time": "2022-05-31T07:50:38.637Z"
   },
   {
    "duration": 27,
    "start_time": "2022-05-31T07:50:43.089Z"
   },
   {
    "duration": 20,
    "start_time": "2022-05-31T07:51:09.840Z"
   },
   {
    "duration": 27,
    "start_time": "2022-05-31T07:51:20.844Z"
   },
   {
    "duration": 36,
    "start_time": "2022-05-31T07:52:09.032Z"
   },
   {
    "duration": 105,
    "start_time": "2022-05-31T07:52:16.606Z"
   },
   {
    "duration": 25,
    "start_time": "2022-05-31T07:52:20.502Z"
   },
   {
    "duration": 25,
    "start_time": "2022-05-31T07:52:28.195Z"
   },
   {
    "duration": 25,
    "start_time": "2022-05-31T07:52:39.876Z"
   },
   {
    "duration": 24,
    "start_time": "2022-05-31T07:52:48.609Z"
   },
   {
    "duration": 25,
    "start_time": "2022-05-31T07:52:53.780Z"
   },
   {
    "duration": 28,
    "start_time": "2022-05-31T07:53:22.269Z"
   },
   {
    "duration": 35,
    "start_time": "2022-05-31T07:53:30.563Z"
   },
   {
    "duration": 261,
    "start_time": "2022-05-31T07:59:35.951Z"
   },
   {
    "duration": 1230,
    "start_time": "2022-05-31T07:59:41.551Z"
   },
   {
    "duration": 245,
    "start_time": "2022-05-31T07:59:42.783Z"
   },
   {
    "duration": 6,
    "start_time": "2022-05-31T07:59:43.029Z"
   },
   {
    "duration": 352,
    "start_time": "2022-05-31T07:59:43.037Z"
   },
   {
    "duration": 187,
    "start_time": "2022-05-31T07:59:43.391Z"
   },
   {
    "duration": 3,
    "start_time": "2022-05-31T07:59:43.580Z"
   },
   {
    "duration": 127,
    "start_time": "2022-05-31T07:59:43.584Z"
   },
   {
    "duration": 49,
    "start_time": "2022-05-31T07:59:43.713Z"
   },
   {
    "duration": 185,
    "start_time": "2022-05-31T07:59:43.764Z"
   },
   {
    "duration": 132,
    "start_time": "2022-05-31T07:59:43.950Z"
   },
   {
    "duration": 0,
    "start_time": "2022-05-31T07:59:44.083Z"
   },
   {
    "duration": 0,
    "start_time": "2022-05-31T07:59:44.084Z"
   },
   {
    "duration": 0,
    "start_time": "2022-05-31T07:59:44.086Z"
   },
   {
    "duration": 0,
    "start_time": "2022-05-31T07:59:44.087Z"
   },
   {
    "duration": 0,
    "start_time": "2022-05-31T07:59:44.088Z"
   },
   {
    "duration": 31,
    "start_time": "2022-05-31T08:08:45.497Z"
   },
   {
    "duration": 30,
    "start_time": "2022-05-31T08:08:48.709Z"
   },
   {
    "duration": 23,
    "start_time": "2022-05-31T08:09:21.899Z"
   },
   {
    "duration": 38,
    "start_time": "2022-05-31T08:09:25.355Z"
   },
   {
    "duration": 91,
    "start_time": "2022-05-31T08:09:27.734Z"
   },
   {
    "duration": 277,
    "start_time": "2022-05-31T08:14:08.240Z"
   },
   {
    "duration": 231,
    "start_time": "2022-05-31T08:15:07.057Z"
   },
   {
    "duration": 280,
    "start_time": "2022-05-31T08:15:13.095Z"
   },
   {
    "duration": 215,
    "start_time": "2022-05-31T08:15:38.412Z"
   },
   {
    "duration": 230,
    "start_time": "2022-05-31T08:15:46.230Z"
   },
   {
    "duration": 222,
    "start_time": "2022-05-31T08:15:54.331Z"
   },
   {
    "duration": 23,
    "start_time": "2022-05-31T08:16:50.899Z"
   },
   {
    "duration": 190,
    "start_time": "2022-05-31T08:16:53.978Z"
   },
   {
    "duration": 26,
    "start_time": "2022-05-31T08:17:04.646Z"
   },
   {
    "duration": 184,
    "start_time": "2022-05-31T08:17:40.461Z"
   },
   {
    "duration": 185,
    "start_time": "2022-05-31T08:17:47.475Z"
   },
   {
    "duration": 188,
    "start_time": "2022-05-31T08:17:54.188Z"
   },
   {
    "duration": 176,
    "start_time": "2022-05-31T08:23:19.169Z"
   },
   {
    "duration": 177,
    "start_time": "2022-05-31T08:23:24.475Z"
   },
   {
    "duration": 167,
    "start_time": "2022-05-31T08:25:44.327Z"
   },
   {
    "duration": 176,
    "start_time": "2022-05-31T08:25:53.429Z"
   },
   {
    "duration": 195,
    "start_time": "2022-05-31T08:26:54.476Z"
   },
   {
    "duration": 202,
    "start_time": "2022-05-31T08:27:03.662Z"
   },
   {
    "duration": 186,
    "start_time": "2022-05-31T08:31:15.773Z"
   },
   {
    "duration": 192,
    "start_time": "2022-05-31T08:31:22.622Z"
   },
   {
    "duration": 190,
    "start_time": "2022-05-31T08:31:34.744Z"
   },
   {
    "duration": 15,
    "start_time": "2022-05-31T08:34:26.631Z"
   },
   {
    "duration": 19,
    "start_time": "2022-05-31T08:34:34.401Z"
   },
   {
    "duration": 23,
    "start_time": "2022-05-31T08:34:42.697Z"
   },
   {
    "duration": 25,
    "start_time": "2022-05-31T08:34:52.286Z"
   },
   {
    "duration": 192,
    "start_time": "2022-05-31T08:35:36.058Z"
   },
   {
    "duration": 168,
    "start_time": "2022-05-31T08:35:43.851Z"
   },
   {
    "duration": 39,
    "start_time": "2022-05-31T08:35:57.787Z"
   },
   {
    "duration": 64,
    "start_time": "2022-05-31T08:36:02.495Z"
   },
   {
    "duration": 26,
    "start_time": "2022-05-31T08:36:10.478Z"
   },
   {
    "duration": 30,
    "start_time": "2022-05-31T08:36:13.277Z"
   },
   {
    "duration": 144,
    "start_time": "2022-05-31T08:36:21.229Z"
   },
   {
    "duration": 152,
    "start_time": "2022-05-31T08:36:25.505Z"
   },
   {
    "duration": 193,
    "start_time": "2022-05-31T08:36:31.788Z"
   },
   {
    "duration": 186,
    "start_time": "2022-05-31T08:36:37.597Z"
   },
   {
    "duration": 182,
    "start_time": "2022-05-31T08:36:44.198Z"
   },
   {
    "duration": 6,
    "start_time": "2022-05-31T08:37:04.571Z"
   },
   {
    "duration": 215,
    "start_time": "2022-05-31T08:37:07.747Z"
   },
   {
    "duration": 246,
    "start_time": "2022-05-31T08:37:31.831Z"
   },
   {
    "duration": 218,
    "start_time": "2022-05-31T08:37:46.313Z"
   },
   {
    "duration": 216,
    "start_time": "2022-05-31T08:38:09.448Z"
   },
   {
    "duration": 222,
    "start_time": "2022-05-31T08:38:22.306Z"
   },
   {
    "duration": 211,
    "start_time": "2022-05-31T08:38:28.475Z"
   },
   {
    "duration": 209,
    "start_time": "2022-05-31T08:38:48.202Z"
   },
   {
    "duration": 245,
    "start_time": "2022-05-31T08:38:55.129Z"
   },
   {
    "duration": 171,
    "start_time": "2022-05-31T08:39:10.673Z"
   },
   {
    "duration": 213,
    "start_time": "2022-05-31T08:39:12.910Z"
   },
   {
    "duration": 152,
    "start_time": "2022-05-31T08:39:25.763Z"
   },
   {
    "duration": 222,
    "start_time": "2022-05-31T08:39:29.875Z"
   },
   {
    "duration": 223,
    "start_time": "2022-05-31T08:39:36.846Z"
   },
   {
    "duration": 218,
    "start_time": "2022-05-31T08:39:54.320Z"
   },
   {
    "duration": 226,
    "start_time": "2022-05-31T08:40:01.295Z"
   },
   {
    "duration": 1202,
    "start_time": "2022-05-31T08:40:45.481Z"
   },
   {
    "duration": 242,
    "start_time": "2022-05-31T08:40:46.685Z"
   },
   {
    "duration": 6,
    "start_time": "2022-05-31T08:40:46.928Z"
   },
   {
    "duration": 358,
    "start_time": "2022-05-31T08:40:46.937Z"
   },
   {
    "duration": 194,
    "start_time": "2022-05-31T08:40:47.297Z"
   },
   {
    "duration": 3,
    "start_time": "2022-05-31T08:40:47.493Z"
   },
   {
    "duration": 133,
    "start_time": "2022-05-31T08:40:47.497Z"
   },
   {
    "duration": 49,
    "start_time": "2022-05-31T08:40:47.631Z"
   },
   {
    "duration": 238,
    "start_time": "2022-05-31T08:40:47.681Z"
   },
   {
    "duration": 211,
    "start_time": "2022-05-31T08:40:47.922Z"
   },
   {
    "duration": 116,
    "start_time": "2022-05-31T08:40:48.135Z"
   },
   {
    "duration": 40,
    "start_time": "2022-05-31T08:40:48.253Z"
   },
   {
    "duration": 400,
    "start_time": "2022-05-31T08:40:48.294Z"
   },
   {
    "duration": 46,
    "start_time": "2022-05-31T08:40:48.696Z"
   },
   {
    "duration": 3,
    "start_time": "2022-05-31T08:40:48.744Z"
   },
   {
    "duration": 156,
    "start_time": "2022-05-31T08:43:02.165Z"
   },
   {
    "duration": 107,
    "start_time": "2022-05-31T08:43:19.513Z"
   },
   {
    "duration": 119,
    "start_time": "2022-05-31T08:43:25.728Z"
   },
   {
    "duration": 112,
    "start_time": "2022-05-31T08:43:39.992Z"
   },
   {
    "duration": 117,
    "start_time": "2022-05-31T08:43:59.664Z"
   },
   {
    "duration": 112,
    "start_time": "2022-05-31T08:44:07.157Z"
   },
   {
    "duration": 101,
    "start_time": "2022-05-31T08:44:11.677Z"
   },
   {
    "duration": 138,
    "start_time": "2022-05-31T08:44:46.226Z"
   },
   {
    "duration": 29,
    "start_time": "2022-05-31T08:44:56.643Z"
   },
   {
    "duration": 30,
    "start_time": "2022-05-31T08:45:04.126Z"
   },
   {
    "duration": 28,
    "start_time": "2022-05-31T08:45:09.646Z"
   },
   {
    "duration": 49,
    "start_time": "2022-05-31T08:45:18.602Z"
   },
   {
    "duration": 28,
    "start_time": "2022-05-31T08:45:26.888Z"
   },
   {
    "duration": 31,
    "start_time": "2022-05-31T08:45:29.136Z"
   },
   {
    "duration": 45,
    "start_time": "2022-05-31T08:46:07.854Z"
   },
   {
    "duration": 38,
    "start_time": "2022-05-31T08:46:18.298Z"
   },
   {
    "duration": 41,
    "start_time": "2022-05-31T08:46:30.567Z"
   },
   {
    "duration": 37,
    "start_time": "2022-05-31T08:46:39.204Z"
   },
   {
    "duration": 38,
    "start_time": "2022-05-31T08:46:43.951Z"
   },
   {
    "duration": 38,
    "start_time": "2022-05-31T08:46:51.076Z"
   },
   {
    "duration": 38,
    "start_time": "2022-05-31T08:47:00.625Z"
   },
   {
    "duration": 37,
    "start_time": "2022-05-31T08:47:12.495Z"
   },
   {
    "duration": 37,
    "start_time": "2022-05-31T08:47:20.337Z"
   },
   {
    "duration": 38,
    "start_time": "2022-05-31T08:47:28.400Z"
   },
   {
    "duration": 4,
    "start_time": "2022-05-31T08:47:43.554Z"
   },
   {
    "duration": 238,
    "start_time": "2022-05-31T08:48:16.721Z"
   },
   {
    "duration": 217,
    "start_time": "2022-05-31T08:48:27.289Z"
   },
   {
    "duration": 222,
    "start_time": "2022-05-31T08:49:08.220Z"
   },
   {
    "duration": 3,
    "start_time": "2022-05-31T08:54:45.373Z"
   },
   {
    "duration": 11,
    "start_time": "2022-05-31T08:55:27.384Z"
   },
   {
    "duration": 10,
    "start_time": "2022-05-31T08:55:38.172Z"
   },
   {
    "duration": 11,
    "start_time": "2022-05-31T08:55:48.926Z"
   },
   {
    "duration": 9,
    "start_time": "2022-05-31T08:56:23.700Z"
   },
   {
    "duration": 10,
    "start_time": "2022-05-31T08:57:14.255Z"
   },
   {
    "duration": 13,
    "start_time": "2022-05-31T08:57:22.874Z"
   },
   {
    "duration": 11,
    "start_time": "2022-05-31T08:57:28.900Z"
   },
   {
    "duration": 46,
    "start_time": "2022-05-31T08:57:42.898Z"
   },
   {
    "duration": 5,
    "start_time": "2022-05-31T08:57:50.203Z"
   },
   {
    "duration": 775,
    "start_time": "2022-05-31T08:57:51.871Z"
   },
   {
    "duration": 3,
    "start_time": "2022-05-31T08:58:09.941Z"
   },
   {
    "duration": 5,
    "start_time": "2022-05-31T08:58:18.289Z"
   },
   {
    "duration": 489,
    "start_time": "2022-05-31T08:58:25.852Z"
   },
   {
    "duration": 649,
    "start_time": "2022-05-31T08:58:59.204Z"
   },
   {
    "duration": 3,
    "start_time": "2022-05-31T08:59:15.410Z"
   },
   {
    "duration": 7,
    "start_time": "2022-05-31T08:59:16.263Z"
   },
   {
    "duration": 10,
    "start_time": "2022-05-31T08:59:41.540Z"
   },
   {
    "duration": 410,
    "start_time": "2022-05-31T08:59:51.993Z"
   },
   {
    "duration": 4,
    "start_time": "2022-05-31T09:00:25.424Z"
   },
   {
    "duration": 3,
    "start_time": "2022-05-31T09:01:10.986Z"
   },
   {
    "duration": 569,
    "start_time": "2022-05-31T09:01:18.190Z"
   },
   {
    "duration": 40,
    "start_time": "2022-05-31T09:02:01.771Z"
   },
   {
    "duration": 17,
    "start_time": "2022-05-31T09:02:07.560Z"
   },
   {
    "duration": 15,
    "start_time": "2022-05-31T09:02:28.834Z"
   },
   {
    "duration": 19,
    "start_time": "2022-05-31T09:03:22.402Z"
   },
   {
    "duration": 61,
    "start_time": "2022-05-31T09:04:09.273Z"
   },
   {
    "duration": 14,
    "start_time": "2022-05-31T09:04:16.462Z"
   },
   {
    "duration": 3,
    "start_time": "2022-05-31T09:05:02.473Z"
   },
   {
    "duration": 54,
    "start_time": "2022-05-31T09:06:22.312Z"
   },
   {
    "duration": 37,
    "start_time": "2022-05-31T09:06:34.717Z"
   },
   {
    "duration": 96,
    "start_time": "2022-05-31T09:06:52.817Z"
   },
   {
    "duration": 75,
    "start_time": "2022-05-31T09:06:55.565Z"
   },
   {
    "duration": 39,
    "start_time": "2022-05-31T09:06:58.555Z"
   },
   {
    "duration": 39,
    "start_time": "2022-05-31T09:07:14.046Z"
   },
   {
    "duration": 40,
    "start_time": "2022-05-31T09:07:17.381Z"
   },
   {
    "duration": 50,
    "start_time": "2022-05-31T09:08:47.272Z"
   },
   {
    "duration": 12,
    "start_time": "2022-05-31T09:08:51.200Z"
   },
   {
    "duration": 37,
    "start_time": "2022-05-31T09:08:57.010Z"
   },
   {
    "duration": 46,
    "start_time": "2022-05-31T09:09:03.251Z"
   },
   {
    "duration": 40,
    "start_time": "2022-05-31T09:09:15.147Z"
   },
   {
    "duration": 63,
    "start_time": "2022-05-31T09:10:31.363Z"
   },
   {
    "duration": 83,
    "start_time": "2022-05-31T09:10:35.138Z"
   },
   {
    "duration": 68,
    "start_time": "2022-05-31T09:11:23.498Z"
   },
   {
    "duration": 45,
    "start_time": "2022-05-31T09:11:33.408Z"
   },
   {
    "duration": 32,
    "start_time": "2022-05-31T09:11:48.248Z"
   },
   {
    "duration": 55,
    "start_time": "2022-05-31T09:11:51.325Z"
   },
   {
    "duration": 64,
    "start_time": "2022-05-31T09:11:54.693Z"
   },
   {
    "duration": 35,
    "start_time": "2022-05-31T09:12:28.429Z"
   },
   {
    "duration": 65,
    "start_time": "2022-05-31T09:12:36.397Z"
   },
   {
    "duration": 74,
    "start_time": "2022-05-31T09:14:06.464Z"
   },
   {
    "duration": 69,
    "start_time": "2022-05-31T09:14:20.533Z"
   },
   {
    "duration": 768,
    "start_time": "2022-05-31T09:14:40.620Z"
   },
   {
    "duration": 73,
    "start_time": "2022-05-31T09:14:44.834Z"
   },
   {
    "duration": 23,
    "start_time": "2022-05-31T09:15:20.527Z"
   },
   {
    "duration": 65,
    "start_time": "2022-05-31T09:15:23.040Z"
   },
   {
    "duration": 79,
    "start_time": "2022-05-31T09:16:09.922Z"
   },
   {
    "duration": 77,
    "start_time": "2022-05-31T09:16:12.979Z"
   },
   {
    "duration": 88,
    "start_time": "2022-05-31T09:16:17.334Z"
   },
   {
    "duration": 71,
    "start_time": "2022-05-31T09:16:22.744Z"
   },
   {
    "duration": 76,
    "start_time": "2022-05-31T09:16:25.886Z"
   },
   {
    "duration": 72,
    "start_time": "2022-05-31T09:16:36.781Z"
   },
   {
    "duration": 29,
    "start_time": "2022-05-31T09:18:32.808Z"
   },
   {
    "duration": 10,
    "start_time": "2022-05-31T09:18:36.641Z"
   },
   {
    "duration": 3,
    "start_time": "2022-05-31T09:18:40.958Z"
   },
   {
    "duration": 116,
    "start_time": "2022-05-31T09:19:15.275Z"
   },
   {
    "duration": 51,
    "start_time": "2022-05-31T09:20:10.470Z"
   },
   {
    "duration": 67,
    "start_time": "2022-05-31T09:20:30.264Z"
   },
   {
    "duration": 30,
    "start_time": "2022-05-31T09:20:37.378Z"
   },
   {
    "duration": 4,
    "start_time": "2022-05-31T09:20:41.271Z"
   },
   {
    "duration": 5,
    "start_time": "2022-05-31T09:20:58.249Z"
   },
   {
    "duration": 121,
    "start_time": "2022-05-31T09:21:16.010Z"
   },
   {
    "duration": 113,
    "start_time": "2022-05-31T09:21:33.714Z"
   },
   {
    "duration": 113,
    "start_time": "2022-05-31T09:21:53.712Z"
   },
   {
    "duration": 101,
    "start_time": "2022-05-31T09:22:00.162Z"
   },
   {
    "duration": 95,
    "start_time": "2022-05-31T09:22:08.279Z"
   },
   {
    "duration": 92,
    "start_time": "2022-05-31T09:22:16.161Z"
   },
   {
    "duration": 120,
    "start_time": "2022-05-31T09:22:35.078Z"
   },
   {
    "duration": 110,
    "start_time": "2022-05-31T09:23:42.476Z"
   },
   {
    "duration": 98,
    "start_time": "2022-05-31T09:24:38.760Z"
   },
   {
    "duration": 108,
    "start_time": "2022-05-31T09:24:48.944Z"
   },
   {
    "duration": 108,
    "start_time": "2022-05-31T09:24:59.088Z"
   },
   {
    "duration": 102,
    "start_time": "2022-05-31T09:26:00.755Z"
   },
   {
    "duration": 3,
    "start_time": "2022-05-31T09:27:36.556Z"
   },
   {
    "duration": 3,
    "start_time": "2022-05-31T09:27:45.245Z"
   },
   {
    "duration": 4,
    "start_time": "2022-05-31T09:28:01.789Z"
   },
   {
    "duration": 4,
    "start_time": "2022-05-31T09:28:47.069Z"
   },
   {
    "duration": 577,
    "start_time": "2022-05-31T09:29:03.635Z"
   },
   {
    "duration": 706,
    "start_time": "2022-05-31T09:29:29.822Z"
   },
   {
    "duration": 3,
    "start_time": "2022-05-31T09:29:35.164Z"
   },
   {
    "duration": 479,
    "start_time": "2022-05-31T09:29:38.291Z"
   },
   {
    "duration": 640,
    "start_time": "2022-05-31T09:29:50.782Z"
   },
   {
    "duration": 7,
    "start_time": "2022-05-31T09:30:00.489Z"
   },
   {
    "duration": 14,
    "start_time": "2022-05-31T09:30:05.614Z"
   },
   {
    "duration": 204,
    "start_time": "2022-05-31T09:32:30.759Z"
   },
   {
    "duration": 45,
    "start_time": "2022-05-31T09:32:35.249Z"
   },
   {
    "duration": 30,
    "start_time": "2022-05-31T09:32:39.864Z"
   },
   {
    "duration": 35,
    "start_time": "2022-05-31T09:32:42.017Z"
   },
   {
    "duration": 62,
    "start_time": "2022-05-31T09:32:47.605Z"
   },
   {
    "duration": 17,
    "start_time": "2022-05-31T09:32:56.559Z"
   },
   {
    "duration": 14,
    "start_time": "2022-05-31T09:36:27.619Z"
   },
   {
    "duration": 14,
    "start_time": "2022-05-31T09:36:41.114Z"
   },
   {
    "duration": 15,
    "start_time": "2022-05-31T09:37:12.492Z"
   },
   {
    "duration": 15,
    "start_time": "2022-05-31T09:37:29.395Z"
   },
   {
    "duration": 15,
    "start_time": "2022-05-31T09:38:10.606Z"
   },
   {
    "duration": 13,
    "start_time": "2022-05-31T09:38:38.346Z"
   },
   {
    "duration": 1203,
    "start_time": "2022-05-31T09:39:27.666Z"
   },
   {
    "duration": 143,
    "start_time": "2022-05-31T09:39:59.768Z"
   },
   {
    "duration": 162,
    "start_time": "2022-05-31T09:40:02.779Z"
   },
   {
    "duration": 133,
    "start_time": "2022-05-31T09:40:33.804Z"
   },
   {
    "duration": 136,
    "start_time": "2022-05-31T09:40:39.968Z"
   },
   {
    "duration": 141,
    "start_time": "2022-05-31T09:42:03.704Z"
   },
   {
    "duration": 31,
    "start_time": "2022-05-31T09:42:20.633Z"
   },
   {
    "duration": 133,
    "start_time": "2022-05-31T09:42:25.903Z"
   },
   {
    "duration": 112,
    "start_time": "2022-05-31T09:48:04.990Z"
   },
   {
    "duration": 18,
    "start_time": "2022-05-31T09:48:10.220Z"
   },
   {
    "duration": 1241,
    "start_time": "2022-05-31T09:48:24.267Z"
   },
   {
    "duration": 251,
    "start_time": "2022-05-31T09:48:25.510Z"
   },
   {
    "duration": 7,
    "start_time": "2022-05-31T09:48:25.762Z"
   },
   {
    "duration": 358,
    "start_time": "2022-05-31T09:48:25.771Z"
   },
   {
    "duration": 185,
    "start_time": "2022-05-31T09:48:26.131Z"
   },
   {
    "duration": 3,
    "start_time": "2022-05-31T09:48:26.318Z"
   },
   {
    "duration": 125,
    "start_time": "2022-05-31T09:48:26.322Z"
   },
   {
    "duration": 41,
    "start_time": "2022-05-31T09:48:26.448Z"
   },
   {
    "duration": 233,
    "start_time": "2022-05-31T09:48:26.493Z"
   },
   {
    "duration": 200,
    "start_time": "2022-05-31T09:48:26.729Z"
   },
   {
    "duration": 3,
    "start_time": "2022-05-31T09:48:26.931Z"
   },
   {
    "duration": 243,
    "start_time": "2022-05-31T09:48:26.944Z"
   },
   {
    "duration": 0,
    "start_time": "2022-05-31T09:48:27.189Z"
   },
   {
    "duration": 0,
    "start_time": "2022-05-31T09:48:27.190Z"
   },
   {
    "duration": 0,
    "start_time": "2022-05-31T09:48:27.192Z"
   },
   {
    "duration": 0,
    "start_time": "2022-05-31T09:48:27.193Z"
   },
   {
    "duration": 0,
    "start_time": "2022-05-31T09:48:27.195Z"
   },
   {
    "duration": 137,
    "start_time": "2022-05-31T09:48:59.950Z"
   },
   {
    "duration": 140,
    "start_time": "2022-05-31T09:49:28.975Z"
   },
   {
    "duration": 95,
    "start_time": "2022-05-31T09:49:30.480Z"
   },
   {
    "duration": 34,
    "start_time": "2022-05-31T09:49:31.370Z"
   },
   {
    "duration": 411,
    "start_time": "2022-05-31T09:49:32.303Z"
   },
   {
    "duration": 35,
    "start_time": "2022-05-31T09:49:34.232Z"
   },
   {
    "duration": 4,
    "start_time": "2022-05-31T09:49:35.145Z"
   },
   {
    "duration": 352,
    "start_time": "2022-05-31T09:49:55.192Z"
   },
   {
    "duration": 364,
    "start_time": "2022-05-31T09:50:05.584Z"
   },
   {
    "duration": 3,
    "start_time": "2022-05-31T11:18:53.864Z"
   },
   {
    "duration": 37,
    "start_time": "2022-05-31T11:22:47.067Z"
   },
   {
    "duration": 39,
    "start_time": "2022-05-31T11:23:00.747Z"
   },
   {
    "duration": 40,
    "start_time": "2022-05-31T11:23:19.627Z"
   },
   {
    "duration": 42,
    "start_time": "2022-05-31T11:23:31.453Z"
   },
   {
    "duration": 50,
    "start_time": "2022-05-31T11:23:56.608Z"
   },
   {
    "duration": 33,
    "start_time": "2022-05-31T11:25:50.845Z"
   },
   {
    "duration": 35,
    "start_time": "2022-05-31T11:25:54.125Z"
   },
   {
    "duration": 28,
    "start_time": "2022-05-31T11:26:06.656Z"
   },
   {
    "duration": 35,
    "start_time": "2022-05-31T11:26:10.111Z"
   },
   {
    "duration": 35,
    "start_time": "2022-05-31T11:27:20.533Z"
   },
   {
    "duration": 37,
    "start_time": "2022-05-31T11:27:29.586Z"
   },
   {
    "duration": 525,
    "start_time": "2022-05-31T11:28:03.948Z"
   },
   {
    "duration": 38,
    "start_time": "2022-05-31T11:28:11.974Z"
   },
   {
    "duration": 37,
    "start_time": "2022-05-31T11:28:15.514Z"
   },
   {
    "duration": 35,
    "start_time": "2022-05-31T11:28:20.166Z"
   },
   {
    "duration": 35,
    "start_time": "2022-05-31T11:28:38.896Z"
   },
   {
    "duration": 35,
    "start_time": "2022-05-31T11:28:46.899Z"
   },
   {
    "duration": 35,
    "start_time": "2022-05-31T11:29:46.347Z"
   },
   {
    "duration": 38,
    "start_time": "2022-05-31T11:29:50.278Z"
   },
   {
    "duration": 35,
    "start_time": "2022-05-31T11:29:54.934Z"
   },
   {
    "duration": 37,
    "start_time": "2022-05-31T11:30:03.710Z"
   },
   {
    "duration": 42,
    "start_time": "2022-05-31T11:30:07.880Z"
   },
   {
    "duration": 33,
    "start_time": "2022-05-31T11:31:00.241Z"
   },
   {
    "duration": 4,
    "start_time": "2022-05-31T11:31:06.991Z"
   },
   {
    "duration": 4,
    "start_time": "2022-05-31T11:31:45.982Z"
   },
   {
    "duration": 35,
    "start_time": "2022-05-31T11:32:37.059Z"
   },
   {
    "duration": 36,
    "start_time": "2022-05-31T11:32:53.769Z"
   },
   {
    "duration": 43,
    "start_time": "2022-05-31T11:33:58.863Z"
   },
   {
    "duration": 38,
    "start_time": "2022-05-31T11:34:20.089Z"
   },
   {
    "duration": 36,
    "start_time": "2022-05-31T11:34:28.411Z"
   },
   {
    "duration": 36,
    "start_time": "2022-05-31T11:34:35.227Z"
   },
   {
    "duration": 36,
    "start_time": "2022-05-31T11:34:51.400Z"
   },
   {
    "duration": 41,
    "start_time": "2022-05-31T11:35:10.038Z"
   },
   {
    "duration": 37,
    "start_time": "2022-05-31T11:35:34.372Z"
   },
   {
    "duration": 12,
    "start_time": "2022-05-31T11:36:35.685Z"
   },
   {
    "duration": 21,
    "start_time": "2022-05-31T11:36:52.783Z"
   },
   {
    "duration": 31,
    "start_time": "2022-05-31T11:37:21.706Z"
   },
   {
    "duration": 22,
    "start_time": "2022-05-31T11:37:25.288Z"
   },
   {
    "duration": 41,
    "start_time": "2022-05-31T11:37:37.135Z"
   },
   {
    "duration": 48,
    "start_time": "2022-05-31T11:38:12.322Z"
   },
   {
    "duration": 43,
    "start_time": "2022-05-31T11:38:46.919Z"
   },
   {
    "duration": 524,
    "start_time": "2022-05-31T11:38:55.024Z"
   },
   {
    "duration": 43,
    "start_time": "2022-05-31T11:39:03.594Z"
   },
   {
    "duration": 42,
    "start_time": "2022-05-31T11:39:34.263Z"
   },
   {
    "duration": 56,
    "start_time": "2022-05-31T11:39:52.282Z"
   },
   {
    "duration": 50,
    "start_time": "2022-05-31T11:39:56.647Z"
   },
   {
    "duration": 42,
    "start_time": "2022-05-31T11:40:28.841Z"
   },
   {
    "duration": 46,
    "start_time": "2022-05-31T11:42:10.926Z"
   },
   {
    "duration": 59,
    "start_time": "2022-05-31T11:42:27.279Z"
   },
   {
    "duration": 51,
    "start_time": "2022-05-31T11:42:50.227Z"
   },
   {
    "duration": 65,
    "start_time": "2022-05-31T11:43:02.338Z"
   },
   {
    "duration": 53,
    "start_time": "2022-05-31T11:43:20.176Z"
   },
   {
    "duration": 57,
    "start_time": "2022-05-31T11:44:31.926Z"
   },
   {
    "duration": 54,
    "start_time": "2022-05-31T11:45:02.045Z"
   },
   {
    "duration": 55,
    "start_time": "2022-05-31T11:45:19.277Z"
   },
   {
    "duration": 47,
    "start_time": "2022-05-31T11:46:23.071Z"
   },
   {
    "duration": 48,
    "start_time": "2022-05-31T11:47:42.634Z"
   },
   {
    "duration": 44,
    "start_time": "2022-05-31T11:48:12.557Z"
   },
   {
    "duration": 62,
    "start_time": "2022-05-31T11:50:05.339Z"
   },
   {
    "duration": 74,
    "start_time": "2022-05-31T11:50:36.036Z"
   },
   {
    "duration": 67,
    "start_time": "2022-05-31T11:50:58.533Z"
   },
   {
    "duration": 62,
    "start_time": "2022-05-31T11:51:07.905Z"
   },
   {
    "duration": 72,
    "start_time": "2022-05-31T11:51:23.772Z"
   },
   {
    "duration": 71,
    "start_time": "2022-05-31T11:52:53.889Z"
   },
   {
    "duration": 72,
    "start_time": "2022-05-31T11:52:58.676Z"
   },
   {
    "duration": 69,
    "start_time": "2022-05-31T11:53:11.960Z"
   },
   {
    "duration": 29,
    "start_time": "2022-05-31T11:53:16.850Z"
   },
   {
    "duration": 69,
    "start_time": "2022-05-31T11:53:18.637Z"
   },
   {
    "duration": 72,
    "start_time": "2022-05-31T11:53:25.031Z"
   },
   {
    "duration": 77,
    "start_time": "2022-05-31T11:53:29.175Z"
   },
   {
    "duration": 128,
    "start_time": "2022-05-31T11:54:45.971Z"
   },
   {
    "duration": 128,
    "start_time": "2022-05-31T11:55:50.696Z"
   },
   {
    "duration": 129,
    "start_time": "2022-05-31T11:55:56.980Z"
   },
   {
    "duration": 138,
    "start_time": "2022-05-31T11:56:12.038Z"
   },
   {
    "duration": 140,
    "start_time": "2022-05-31T11:56:39.711Z"
   },
   {
    "duration": 132,
    "start_time": "2022-05-31T11:56:46.870Z"
   },
   {
    "duration": 143,
    "start_time": "2022-05-31T11:57:55.170Z"
   },
   {
    "duration": 128,
    "start_time": "2022-05-31T11:58:06.595Z"
   },
   {
    "duration": 147,
    "start_time": "2022-05-31T11:58:09.303Z"
   },
   {
    "duration": 149,
    "start_time": "2022-05-31T11:58:37.601Z"
   },
   {
    "duration": 126,
    "start_time": "2022-05-31T11:59:06.272Z"
   },
   {
    "duration": 131,
    "start_time": "2022-05-31T11:59:21.898Z"
   },
   {
    "duration": 132,
    "start_time": "2022-05-31T11:59:29.341Z"
   },
   {
    "duration": 146,
    "start_time": "2022-05-31T11:59:33.665Z"
   },
   {
    "duration": 135,
    "start_time": "2022-05-31T11:59:44.605Z"
   },
   {
    "duration": 139,
    "start_time": "2022-05-31T12:00:14.119Z"
   },
   {
    "duration": 139,
    "start_time": "2022-05-31T12:01:26.105Z"
   },
   {
    "duration": 144,
    "start_time": "2022-05-31T12:01:34.556Z"
   },
   {
    "duration": 33,
    "start_time": "2022-05-31T12:03:23.918Z"
   },
   {
    "duration": 32,
    "start_time": "2022-05-31T12:04:11.302Z"
   },
   {
    "duration": 36,
    "start_time": "2022-05-31T12:04:37.293Z"
   },
   {
    "duration": 149,
    "start_time": "2022-05-31T12:05:16.834Z"
   },
   {
    "duration": 52,
    "start_time": "2022-05-31T12:05:46.304Z"
   },
   {
    "duration": 48,
    "start_time": "2022-05-31T12:05:52.859Z"
   },
   {
    "duration": 48,
    "start_time": "2022-05-31T12:06:30.742Z"
   },
   {
    "duration": 29,
    "start_time": "2022-05-31T12:06:38.941Z"
   },
   {
    "duration": 138,
    "start_time": "2022-05-31T12:06:42.229Z"
   },
   {
    "duration": 120,
    "start_time": "2022-05-31T12:06:50.267Z"
   },
   {
    "duration": 112,
    "start_time": "2022-05-31T12:07:23.445Z"
   },
   {
    "duration": 98,
    "start_time": "2022-05-31T12:07:27.656Z"
   },
   {
    "duration": 98,
    "start_time": "2022-05-31T12:07:35.186Z"
   },
   {
    "duration": 102,
    "start_time": "2022-05-31T12:07:38.267Z"
   },
   {
    "duration": 2,
    "start_time": "2022-05-31T12:07:58.269Z"
   },
   {
    "duration": 50,
    "start_time": "2022-05-31T12:09:25.079Z"
   },
   {
    "duration": 46,
    "start_time": "2022-05-31T12:09:31.611Z"
   },
   {
    "duration": 3,
    "start_time": "2022-05-31T12:11:50.704Z"
   },
   {
    "duration": 14,
    "start_time": "2022-05-31T12:15:14.894Z"
   },
   {
    "duration": 35,
    "start_time": "2022-05-31T12:18:42.913Z"
   },
   {
    "duration": 20,
    "start_time": "2022-05-31T12:19:40.302Z"
   },
   {
    "duration": 20,
    "start_time": "2022-05-31T12:20:01.459Z"
   },
   {
    "duration": 33,
    "start_time": "2022-05-31T12:20:07.449Z"
   },
   {
    "duration": 4,
    "start_time": "2022-05-31T12:20:14.186Z"
   },
   {
    "duration": 4,
    "start_time": "2022-05-31T12:20:15.035Z"
   },
   {
    "duration": 31,
    "start_time": "2022-05-31T12:20:34.215Z"
   },
   {
    "duration": 34,
    "start_time": "2022-05-31T12:23:41.297Z"
   },
   {
    "duration": 58,
    "start_time": "2022-05-31T12:23:44.849Z"
   },
   {
    "duration": 31,
    "start_time": "2022-05-31T12:24:39.006Z"
   },
   {
    "duration": 169,
    "start_time": "2022-05-31T12:24:42.559Z"
   },
   {
    "duration": 64,
    "start_time": "2022-05-31T12:24:59.265Z"
   },
   {
    "duration": 40,
    "start_time": "2022-05-31T12:29:32.148Z"
   },
   {
    "duration": 58,
    "start_time": "2022-05-31T12:30:14.004Z"
   },
   {
    "duration": 58,
    "start_time": "2022-05-31T12:31:30.375Z"
   },
   {
    "duration": 62,
    "start_time": "2022-05-31T12:34:52.455Z"
   },
   {
    "duration": 68,
    "start_time": "2022-05-31T12:35:02.668Z"
   },
   {
    "duration": 60,
    "start_time": "2022-05-31T12:35:21.588Z"
   },
   {
    "duration": 55,
    "start_time": "2022-05-31T12:38:14.069Z"
   },
   {
    "duration": 57,
    "start_time": "2022-05-31T12:39:30.806Z"
   },
   {
    "duration": 29,
    "start_time": "2022-05-31T12:41:07.188Z"
   },
   {
    "duration": 27,
    "start_time": "2022-05-31T12:41:17.140Z"
   },
   {
    "duration": 26,
    "start_time": "2022-05-31T12:48:35.434Z"
   },
   {
    "duration": 29,
    "start_time": "2022-05-31T12:48:39.753Z"
   },
   {
    "duration": 31,
    "start_time": "2022-05-31T12:48:45.498Z"
   },
   {
    "duration": 30,
    "start_time": "2022-05-31T12:48:53.184Z"
   },
   {
    "duration": 29,
    "start_time": "2022-05-31T12:48:58.497Z"
   },
   {
    "duration": 29,
    "start_time": "2022-05-31T12:49:03.619Z"
   },
   {
    "duration": 31,
    "start_time": "2022-05-31T12:49:06.007Z"
   },
   {
    "duration": 27,
    "start_time": "2022-05-31T12:49:11.415Z"
   },
   {
    "duration": 27,
    "start_time": "2022-05-31T12:49:20.717Z"
   },
   {
    "duration": 48,
    "start_time": "2022-05-31T12:55:44.087Z"
   },
   {
    "duration": 21,
    "start_time": "2022-05-31T12:55:48.470Z"
   },
   {
    "duration": 27,
    "start_time": "2022-05-31T12:55:58.174Z"
   },
   {
    "duration": 31,
    "start_time": "2022-05-31T12:56:16.989Z"
   },
   {
    "duration": 27,
    "start_time": "2022-05-31T12:58:51.470Z"
   },
   {
    "duration": 30,
    "start_time": "2022-05-31T12:59:02.937Z"
   },
   {
    "duration": 27,
    "start_time": "2022-05-31T12:59:06.316Z"
   },
   {
    "duration": 27,
    "start_time": "2022-05-31T13:01:36.145Z"
   },
   {
    "duration": 27,
    "start_time": "2022-05-31T13:01:42.641Z"
   },
   {
    "duration": 1230,
    "start_time": "2022-05-31T13:01:48.763Z"
   },
   {
    "duration": 329,
    "start_time": "2022-05-31T13:02:08.361Z"
   },
   {
    "duration": 49,
    "start_time": "2022-05-31T13:02:17.115Z"
   },
   {
    "duration": 57,
    "start_time": "2022-05-31T13:02:21.575Z"
   },
   {
    "duration": 28,
    "start_time": "2022-05-31T13:02:25.158Z"
   },
   {
    "duration": 47,
    "start_time": "2022-05-31T13:05:12.031Z"
   },
   {
    "duration": 50,
    "start_time": "2022-05-31T13:05:18.283Z"
   },
   {
    "duration": 46,
    "start_time": "2022-05-31T13:05:21.443Z"
   },
   {
    "duration": 52,
    "start_time": "2022-05-31T13:05:25.396Z"
   },
   {
    "duration": 35,
    "start_time": "2022-05-31T13:05:54.006Z"
   },
   {
    "duration": 30,
    "start_time": "2022-05-31T13:05:57.112Z"
   },
   {
    "duration": 34,
    "start_time": "2022-05-31T13:06:00.638Z"
   },
   {
    "duration": 33,
    "start_time": "2022-05-31T13:06:04.095Z"
   },
   {
    "duration": 30,
    "start_time": "2022-05-31T13:06:07.051Z"
   },
   {
    "duration": 30,
    "start_time": "2022-05-31T13:06:09.443Z"
   },
   {
    "duration": 28,
    "start_time": "2022-05-31T13:06:11.646Z"
   },
   {
    "duration": 28,
    "start_time": "2022-05-31T13:06:14.717Z"
   },
   {
    "duration": 32,
    "start_time": "2022-05-31T13:06:20.580Z"
   },
   {
    "duration": 31,
    "start_time": "2022-05-31T13:06:25.553Z"
   },
   {
    "duration": 29,
    "start_time": "2022-05-31T13:06:29.488Z"
   },
   {
    "duration": 30,
    "start_time": "2022-05-31T13:06:36.338Z"
   },
   {
    "duration": 100,
    "start_time": "2022-05-31T13:07:03.050Z"
   },
   {
    "duration": 110,
    "start_time": "2022-05-31T13:07:12.740Z"
   },
   {
    "duration": 97,
    "start_time": "2022-05-31T13:07:17.266Z"
   },
   {
    "duration": 97,
    "start_time": "2022-05-31T13:07:25.210Z"
   },
   {
    "duration": 89,
    "start_time": "2022-05-31T13:07:28.326Z"
   },
   {
    "duration": 98,
    "start_time": "2022-05-31T13:07:33.503Z"
   },
   {
    "duration": 100,
    "start_time": "2022-05-31T13:07:35.518Z"
   },
   {
    "duration": 211,
    "start_time": "2022-05-31T13:07:55.468Z"
   },
   {
    "duration": 406,
    "start_time": "2022-05-31T13:09:32.263Z"
   },
   {
    "duration": 34,
    "start_time": "2022-05-31T13:10:27.424Z"
   },
   {
    "duration": 19,
    "start_time": "2022-05-31T13:10:30.852Z"
   },
   {
    "duration": 28,
    "start_time": "2022-05-31T13:10:33.397Z"
   },
   {
    "duration": 23,
    "start_time": "2022-05-31T13:10:46.027Z"
   },
   {
    "duration": 25,
    "start_time": "2022-05-31T13:11:13.321Z"
   },
   {
    "duration": 135,
    "start_time": "2022-05-31T13:13:45.898Z"
   },
   {
    "duration": 111,
    "start_time": "2022-05-31T13:13:49.166Z"
   },
   {
    "duration": 10,
    "start_time": "2022-05-31T13:13:55.597Z"
   },
   {
    "duration": 9,
    "start_time": "2022-05-31T13:14:02.264Z"
   },
   {
    "duration": 3,
    "start_time": "2022-05-31T13:14:43.167Z"
   },
   {
    "duration": 4,
    "start_time": "2022-05-31T13:14:46.261Z"
   },
   {
    "duration": 41,
    "start_time": "2022-05-31T13:14:50.181Z"
   },
   {
    "duration": 45,
    "start_time": "2022-05-31T13:15:13.083Z"
   },
   {
    "duration": 47,
    "start_time": "2022-05-31T13:15:13.930Z"
   },
   {
    "duration": 44,
    "start_time": "2022-05-31T13:15:14.122Z"
   },
   {
    "duration": 46,
    "start_time": "2022-05-31T13:15:14.267Z"
   },
   {
    "duration": 29,
    "start_time": "2022-05-31T13:15:22.852Z"
   },
   {
    "duration": 31,
    "start_time": "2022-05-31T13:15:39.316Z"
   },
   {
    "duration": 42,
    "start_time": "2022-05-31T13:16:16.979Z"
   },
   {
    "duration": 38,
    "start_time": "2022-05-31T13:16:19.447Z"
   },
   {
    "duration": 46,
    "start_time": "2022-05-31T13:16:22.483Z"
   },
   {
    "duration": 60,
    "start_time": "2022-05-31T13:16:33.397Z"
   },
   {
    "duration": 107,
    "start_time": "2022-05-31T13:19:00.983Z"
   },
   {
    "duration": 86,
    "start_time": "2022-05-31T13:19:12.478Z"
   },
   {
    "duration": 84,
    "start_time": "2022-05-31T13:19:16.662Z"
   },
   {
    "duration": 106,
    "start_time": "2022-05-31T13:21:00.696Z"
   },
   {
    "duration": 82,
    "start_time": "2022-05-31T13:21:15.342Z"
   },
   {
    "duration": 87,
    "start_time": "2022-05-31T13:24:21.601Z"
   },
   {
    "duration": 10,
    "start_time": "2022-05-31T13:24:55.770Z"
   },
   {
    "duration": 97,
    "start_time": "2022-05-31T13:25:05.435Z"
   },
   {
    "duration": 92,
    "start_time": "2022-05-31T13:25:10.290Z"
   },
   {
    "duration": 85,
    "start_time": "2022-05-31T13:25:13.717Z"
   },
   {
    "duration": 49,
    "start_time": "2022-05-31T13:25:30.268Z"
   },
   {
    "duration": 87,
    "start_time": "2022-05-31T13:26:04.132Z"
   },
   {
    "duration": 84,
    "start_time": "2022-05-31T13:30:14.223Z"
   },
   {
    "duration": 84,
    "start_time": "2022-05-31T13:30:47.110Z"
   },
   {
    "duration": 91,
    "start_time": "2022-05-31T13:30:47.798Z"
   },
   {
    "duration": 84,
    "start_time": "2022-05-31T13:30:53.465Z"
   },
   {
    "duration": 210,
    "start_time": "2022-05-31T13:39:31.503Z"
   },
   {
    "duration": 190,
    "start_time": "2022-05-31T13:39:50.635Z"
   },
   {
    "duration": 186,
    "start_time": "2022-05-31T13:40:18.921Z"
   },
   {
    "duration": 34,
    "start_time": "2022-05-31T13:42:34.231Z"
   },
   {
    "duration": 29,
    "start_time": "2022-05-31T13:42:56.430Z"
   },
   {
    "duration": 29,
    "start_time": "2022-05-31T13:43:05.667Z"
   },
   {
    "duration": 191,
    "start_time": "2022-05-31T13:44:15.740Z"
   },
   {
    "duration": 200,
    "start_time": "2022-05-31T13:44:21.940Z"
   },
   {
    "duration": 90,
    "start_time": "2022-05-31T13:48:24.924Z"
   },
   {
    "duration": 371,
    "start_time": "2022-05-31T13:48:56.139Z"
   },
   {
    "duration": 350,
    "start_time": "2022-05-31T13:49:01.179Z"
   },
   {
    "duration": 351,
    "start_time": "2022-05-31T13:49:09.244Z"
   },
   {
    "duration": 322,
    "start_time": "2022-05-31T13:49:24.596Z"
   },
   {
    "duration": 329,
    "start_time": "2022-05-31T13:49:33.916Z"
   },
   {
    "duration": 315,
    "start_time": "2022-05-31T13:49:41.574Z"
   },
   {
    "duration": 29,
    "start_time": "2022-05-31T13:51:55.224Z"
   },
   {
    "duration": 30,
    "start_time": "2022-05-31T13:52:12.670Z"
   },
   {
    "duration": 33,
    "start_time": "2022-05-31T13:52:22.148Z"
   },
   {
    "duration": 107,
    "start_time": "2022-05-31T13:52:37.917Z"
   },
   {
    "duration": 223,
    "start_time": "2022-05-31T13:52:46.234Z"
   },
   {
    "duration": 240,
    "start_time": "2022-05-31T13:53:23.963Z"
   },
   {
    "duration": 42,
    "start_time": "2022-05-31T13:53:55.937Z"
   },
   {
    "duration": 87,
    "start_time": "2022-05-31T13:54:13.430Z"
   },
   {
    "duration": 29,
    "start_time": "2022-05-31T13:54:28.572Z"
   },
   {
    "duration": 18,
    "start_time": "2022-05-31T14:29:53.988Z"
   },
   {
    "duration": 394,
    "start_time": "2022-05-31T14:30:05.506Z"
   },
   {
    "duration": 376,
    "start_time": "2022-05-31T14:30:46.791Z"
   },
   {
    "duration": 603,
    "start_time": "2022-05-31T14:30:58.203Z"
   },
   {
    "duration": 679,
    "start_time": "2022-05-31T14:31:01.767Z"
   },
   {
    "duration": 236,
    "start_time": "2022-05-31T14:31:25.371Z"
   },
   {
    "duration": 275,
    "start_time": "2022-05-31T14:31:32.183Z"
   },
   {
    "duration": 226,
    "start_time": "2022-05-31T14:31:51.514Z"
   },
   {
    "duration": 224,
    "start_time": "2022-05-31T14:32:15.612Z"
   },
   {
    "duration": 234,
    "start_time": "2022-05-31T14:32:32.303Z"
   },
   {
    "duration": 216,
    "start_time": "2022-05-31T14:32:40.216Z"
   },
   {
    "duration": 210,
    "start_time": "2022-05-31T14:32:44.549Z"
   },
   {
    "duration": 224,
    "start_time": "2022-05-31T14:32:50.884Z"
   },
   {
    "duration": 361,
    "start_time": "2022-05-31T14:33:02.331Z"
   },
   {
    "duration": 241,
    "start_time": "2022-05-31T14:33:08.321Z"
   },
   {
    "duration": 343,
    "start_time": "2022-05-31T14:34:03.482Z"
   },
   {
    "duration": 216,
    "start_time": "2022-05-31T14:34:16.503Z"
   },
   {
    "duration": 244,
    "start_time": "2022-05-31T14:34:28.842Z"
   },
   {
    "duration": 221,
    "start_time": "2022-05-31T14:36:21.768Z"
   },
   {
    "duration": 212,
    "start_time": "2022-05-31T14:36:38.906Z"
   },
   {
    "duration": 233,
    "start_time": "2022-05-31T14:36:52.832Z"
   },
   {
    "duration": 11,
    "start_time": "2022-05-31T18:10:11.372Z"
   },
   {
    "duration": 14,
    "start_time": "2022-05-31T18:10:33.010Z"
   },
   {
    "duration": 219,
    "start_time": "2022-05-31T18:10:56.368Z"
   },
   {
    "duration": 215,
    "start_time": "2022-05-31T18:11:05.033Z"
   },
   {
    "duration": 1042,
    "start_time": "2022-05-31T18:11:13.853Z"
   },
   {
    "duration": 747,
    "start_time": "2022-05-31T18:11:28.045Z"
   },
   {
    "duration": 700,
    "start_time": "2022-05-31T18:13:46.371Z"
   },
   {
    "duration": 701,
    "start_time": "2022-05-31T18:15:08.396Z"
   },
   {
    "duration": 979,
    "start_time": "2022-05-31T18:15:19.965Z"
   },
   {
    "duration": 873,
    "start_time": "2022-05-31T18:15:44.901Z"
   },
   {
    "duration": 752,
    "start_time": "2022-05-31T18:15:57.464Z"
   },
   {
    "duration": 870,
    "start_time": "2022-05-31T18:16:01.953Z"
   },
   {
    "duration": 591,
    "start_time": "2022-05-31T18:16:25.814Z"
   },
   {
    "duration": 816,
    "start_time": "2022-05-31T18:16:30.834Z"
   },
   {
    "duration": 804,
    "start_time": "2022-05-31T18:17:15.255Z"
   },
   {
    "duration": 767,
    "start_time": "2022-05-31T18:17:21.735Z"
   },
   {
    "duration": 777,
    "start_time": "2022-05-31T18:17:27.726Z"
   },
   {
    "duration": 889,
    "start_time": "2022-05-31T18:17:52.621Z"
   },
   {
    "duration": 766,
    "start_time": "2022-05-31T18:18:12.454Z"
   },
   {
    "duration": 1832,
    "start_time": "2022-05-31T18:18:23.786Z"
   },
   {
    "duration": 1036,
    "start_time": "2022-05-31T18:18:32.025Z"
   },
   {
    "duration": 761,
    "start_time": "2022-05-31T18:19:24.274Z"
   },
   {
    "duration": 609,
    "start_time": "2022-05-31T18:19:43.727Z"
   },
   {
    "duration": 791,
    "start_time": "2022-05-31T18:20:00.013Z"
   },
   {
    "duration": 770,
    "start_time": "2022-05-31T18:20:19.870Z"
   },
   {
    "duration": 34,
    "start_time": "2022-05-31T18:21:43.488Z"
   },
   {
    "duration": 23,
    "start_time": "2022-05-31T18:21:54.193Z"
   },
   {
    "duration": 29,
    "start_time": "2022-05-31T18:22:06.537Z"
   },
   {
    "duration": 23,
    "start_time": "2022-05-31T18:22:27.443Z"
   },
   {
    "duration": 24,
    "start_time": "2022-05-31T18:22:41.146Z"
   },
   {
    "duration": 28,
    "start_time": "2022-05-31T18:22:46.219Z"
   },
   {
    "duration": 29,
    "start_time": "2022-05-31T18:22:51.595Z"
   },
   {
    "duration": 6,
    "start_time": "2022-05-31T18:23:10.729Z"
   },
   {
    "duration": 20,
    "start_time": "2022-05-31T18:23:23.304Z"
   },
   {
    "duration": 25,
    "start_time": "2022-05-31T18:23:47.087Z"
   },
   {
    "duration": 26,
    "start_time": "2022-05-31T18:24:33.807Z"
   },
   {
    "duration": 38,
    "start_time": "2022-05-31T18:24:35.059Z"
   },
   {
    "duration": 23,
    "start_time": "2022-05-31T18:24:56.087Z"
   },
   {
    "duration": 30,
    "start_time": "2022-05-31T18:25:22.208Z"
   },
   {
    "duration": 712,
    "start_time": "2022-05-31T18:25:32.124Z"
   },
   {
    "duration": 858,
    "start_time": "2022-05-31T18:26:07.143Z"
   },
   {
    "duration": 736,
    "start_time": "2022-05-31T18:26:39.798Z"
   },
   {
    "duration": 767,
    "start_time": "2022-05-31T18:26:44.352Z"
   },
   {
    "duration": 703,
    "start_time": "2022-05-31T18:28:43.269Z"
   },
   {
    "duration": 755,
    "start_time": "2022-05-31T18:29:06.023Z"
   },
   {
    "duration": 932,
    "start_time": "2022-05-31T18:29:31.138Z"
   },
   {
    "duration": 822,
    "start_time": "2022-05-31T18:29:53.793Z"
   },
   {
    "duration": 1196,
    "start_time": "2022-05-31T18:30:02.125Z"
   },
   {
    "duration": 820,
    "start_time": "2022-05-31T18:30:28.275Z"
   },
   {
    "duration": 1161,
    "start_time": "2022-05-31T18:30:43.145Z"
   },
   {
    "duration": 902,
    "start_time": "2022-05-31T18:31:05.229Z"
   },
   {
    "duration": 1175,
    "start_time": "2022-05-31T18:31:45.185Z"
   },
   {
    "duration": 311,
    "start_time": "2022-05-31T18:32:18.688Z"
   },
   {
    "duration": 1035,
    "start_time": "2022-05-31T18:32:55.417Z"
   },
   {
    "duration": 1277,
    "start_time": "2022-05-31T18:32:58.167Z"
   },
   {
    "duration": 1072,
    "start_time": "2022-05-31T18:33:15.132Z"
   },
   {
    "duration": 1332,
    "start_time": "2022-05-31T18:33:17.523Z"
   },
   {
    "duration": 1119,
    "start_time": "2022-05-31T18:34:26.968Z"
   },
   {
    "duration": 1337,
    "start_time": "2022-05-31T18:35:46.718Z"
   },
   {
    "duration": 1122,
    "start_time": "2022-05-31T18:35:54.429Z"
   },
   {
    "duration": 1102,
    "start_time": "2022-05-31T18:36:04.346Z"
   },
   {
    "duration": 1083,
    "start_time": "2022-05-31T18:37:16.341Z"
   },
   {
    "duration": 823,
    "start_time": "2022-05-31T18:38:00.245Z"
   },
   {
    "duration": 866,
    "start_time": "2022-05-31T18:38:59.037Z"
   },
   {
    "duration": 1127,
    "start_time": "2022-05-31T18:39:34.583Z"
   },
   {
    "duration": 882,
    "start_time": "2022-05-31T18:39:57.393Z"
   },
   {
    "duration": 1440,
    "start_time": "2022-05-31T18:40:35.804Z"
   },
   {
    "duration": 1118,
    "start_time": "2022-05-31T18:42:22.517Z"
   },
   {
    "duration": 831,
    "start_time": "2022-05-31T18:43:34.948Z"
   },
   {
    "duration": 851,
    "start_time": "2022-05-31T18:43:43.393Z"
   },
   {
    "duration": 1200,
    "start_time": "2022-05-31T18:43:49.050Z"
   },
   {
    "duration": 878,
    "start_time": "2022-05-31T18:44:03.994Z"
   },
   {
    "duration": 860,
    "start_time": "2022-05-31T18:44:18.476Z"
   },
   {
    "duration": 359,
    "start_time": "2022-05-31T18:46:43.991Z"
   },
   {
    "duration": 465,
    "start_time": "2022-05-31T18:46:53.159Z"
   },
   {
    "duration": 330,
    "start_time": "2022-05-31T18:47:05.360Z"
   },
   {
    "duration": 57,
    "start_time": "2022-05-31T18:48:55.878Z"
   },
   {
    "duration": 53,
    "start_time": "2022-05-31T18:54:43.962Z"
   },
   {
    "duration": 6,
    "start_time": "2022-05-31T18:58:49.403Z"
   },
   {
    "duration": 8,
    "start_time": "2022-05-31T18:58:55.442Z"
   },
   {
    "duration": 8,
    "start_time": "2022-05-31T18:59:17.966Z"
   },
   {
    "duration": 9,
    "start_time": "2022-05-31T18:59:21.232Z"
   },
   {
    "duration": 10,
    "start_time": "2022-05-31T19:03:52.650Z"
   },
   {
    "duration": 35,
    "start_time": "2022-05-31T19:05:07.091Z"
   },
   {
    "duration": 59,
    "start_time": "2022-05-31T19:09:23.131Z"
   },
   {
    "duration": 96,
    "start_time": "2022-05-31T19:23:30.382Z"
   },
   {
    "duration": 414,
    "start_time": "2022-05-31T19:40:29.516Z"
   },
   {
    "duration": 73,
    "start_time": "2022-05-31T19:40:42.052Z"
   },
   {
    "duration": 40,
    "start_time": "2022-05-31T19:41:04.170Z"
   },
   {
    "duration": 59,
    "start_time": "2022-05-31T19:41:07.127Z"
   },
   {
    "duration": 58,
    "start_time": "2022-05-31T19:41:36.541Z"
   },
   {
    "duration": 57,
    "start_time": "2022-05-31T19:42:32.052Z"
   },
   {
    "duration": 58,
    "start_time": "2022-05-31T19:44:46.298Z"
   },
   {
    "duration": 62,
    "start_time": "2022-05-31T19:45:39.059Z"
   },
   {
    "duration": 59,
    "start_time": "2022-05-31T19:45:56.277Z"
   },
   {
    "duration": 59,
    "start_time": "2022-05-31T19:46:00.582Z"
   },
   {
    "duration": 56,
    "start_time": "2022-05-31T19:49:41.805Z"
   },
   {
    "duration": 60,
    "start_time": "2022-05-31T19:49:47.258Z"
   },
   {
    "duration": 59,
    "start_time": "2022-06-01T06:08:26.961Z"
   },
   {
    "duration": 1343,
    "start_time": "2022-06-01T06:08:33.440Z"
   },
   {
    "duration": 566,
    "start_time": "2022-06-01T06:08:34.785Z"
   },
   {
    "duration": 6,
    "start_time": "2022-06-01T06:08:35.352Z"
   },
   {
    "duration": 373,
    "start_time": "2022-06-01T06:08:35.360Z"
   },
   {
    "duration": 200,
    "start_time": "2022-06-01T06:08:35.735Z"
   },
   {
    "duration": 4,
    "start_time": "2022-06-01T06:08:35.937Z"
   },
   {
    "duration": 125,
    "start_time": "2022-06-01T06:08:35.943Z"
   },
   {
    "duration": 40,
    "start_time": "2022-06-01T06:08:36.070Z"
   },
   {
    "duration": 227,
    "start_time": "2022-06-01T06:08:36.112Z"
   },
   {
    "duration": 196,
    "start_time": "2022-06-01T06:08:36.342Z"
   },
   {
    "duration": 4,
    "start_time": "2022-06-01T06:08:36.540Z"
   },
   {
    "duration": 118,
    "start_time": "2022-06-01T06:08:36.545Z"
   },
   {
    "duration": 0,
    "start_time": "2022-06-01T06:08:36.665Z"
   },
   {
    "duration": 0,
    "start_time": "2022-06-01T06:08:36.666Z"
   },
   {
    "duration": 0,
    "start_time": "2022-06-01T06:08:36.667Z"
   },
   {
    "duration": 0,
    "start_time": "2022-06-01T06:08:36.668Z"
   },
   {
    "duration": 0,
    "start_time": "2022-06-01T06:08:36.670Z"
   },
   {
    "duration": 1,
    "start_time": "2022-06-01T06:08:36.671Z"
   },
   {
    "duration": 0,
    "start_time": "2022-06-01T06:08:36.673Z"
   },
   {
    "duration": 0,
    "start_time": "2022-06-01T06:08:36.674Z"
   },
   {
    "duration": 0,
    "start_time": "2022-06-01T06:08:36.675Z"
   },
   {
    "duration": 0,
    "start_time": "2022-06-01T06:08:36.677Z"
   },
   {
    "duration": 0,
    "start_time": "2022-06-01T06:08:36.678Z"
   },
   {
    "duration": 0,
    "start_time": "2022-06-01T06:08:36.679Z"
   },
   {
    "duration": 0,
    "start_time": "2022-06-01T06:08:36.681Z"
   },
   {
    "duration": 0,
    "start_time": "2022-06-01T06:08:36.682Z"
   },
   {
    "duration": 1232,
    "start_time": "2022-06-01T06:09:01.449Z"
   },
   {
    "duration": 239,
    "start_time": "2022-06-01T06:09:02.683Z"
   },
   {
    "duration": 7,
    "start_time": "2022-06-01T06:09:02.925Z"
   },
   {
    "duration": 332,
    "start_time": "2022-06-01T06:09:02.934Z"
   },
   {
    "duration": 199,
    "start_time": "2022-06-01T06:09:03.268Z"
   },
   {
    "duration": 3,
    "start_time": "2022-06-01T06:09:03.470Z"
   },
   {
    "duration": 117,
    "start_time": "2022-06-01T06:09:03.475Z"
   },
   {
    "duration": 56,
    "start_time": "2022-06-01T06:09:03.594Z"
   },
   {
    "duration": 221,
    "start_time": "2022-06-01T06:09:03.652Z"
   },
   {
    "duration": 207,
    "start_time": "2022-06-01T06:09:03.876Z"
   },
   {
    "duration": 2,
    "start_time": "2022-06-01T06:09:04.085Z"
   },
   {
    "duration": 152,
    "start_time": "2022-06-01T06:09:04.089Z"
   },
   {
    "duration": 104,
    "start_time": "2022-06-01T06:09:04.243Z"
   },
   {
    "duration": 36,
    "start_time": "2022-06-01T06:09:04.348Z"
   },
   {
    "duration": 966,
    "start_time": "2022-06-01T06:09:04.385Z"
   },
   {
    "duration": 405,
    "start_time": "2022-06-01T06:09:05.354Z"
   },
   {
    "duration": 144,
    "start_time": "2022-06-01T06:09:05.761Z"
   },
   {
    "duration": 45,
    "start_time": "2022-06-01T06:09:05.906Z"
   },
   {
    "duration": 316,
    "start_time": "2022-06-01T06:09:05.953Z"
   },
   {
    "duration": 72,
    "start_time": "2022-06-01T06:09:06.271Z"
   },
   {
    "duration": 107,
    "start_time": "2022-06-01T06:09:06.345Z"
   },
   {
    "duration": 18,
    "start_time": "2022-06-01T06:09:06.454Z"
   },
   {
    "duration": 3,
    "start_time": "2022-06-01T06:09:06.474Z"
   },
   {
    "duration": 122,
    "start_time": "2022-06-01T06:09:06.479Z"
   },
   {
    "duration": 0,
    "start_time": "2022-06-01T06:09:06.602Z"
   },
   {
    "duration": 29,
    "start_time": "2022-06-01T06:09:22.662Z"
   },
   {
    "duration": 938,
    "start_time": "2022-06-01T06:09:54.902Z"
   },
   {
    "duration": 93,
    "start_time": "2022-06-01T06:12:08.043Z"
   },
   {
    "duration": 84,
    "start_time": "2022-06-01T06:12:22.580Z"
   },
   {
    "duration": 91,
    "start_time": "2022-06-01T06:12:55.365Z"
   },
   {
    "duration": 95,
    "start_time": "2022-06-01T06:13:07.510Z"
   },
   {
    "duration": 91,
    "start_time": "2022-06-01T06:13:22.488Z"
   },
   {
    "duration": 91,
    "start_time": "2022-06-01T06:13:27.326Z"
   },
   {
    "duration": 91,
    "start_time": "2022-06-01T06:14:07.297Z"
   },
   {
    "duration": 98,
    "start_time": "2022-06-01T06:14:35.540Z"
   },
   {
    "duration": 31,
    "start_time": "2022-06-01T06:15:37.641Z"
   },
   {
    "duration": 78,
    "start_time": "2022-06-01T06:22:45.721Z"
   },
   {
    "duration": 61,
    "start_time": "2022-06-01T06:23:24.380Z"
   },
   {
    "duration": 64,
    "start_time": "2022-06-01T06:23:27.319Z"
   },
   {
    "duration": 68,
    "start_time": "2022-06-01T06:23:31.842Z"
   },
   {
    "duration": 68,
    "start_time": "2022-06-01T06:23:42.659Z"
   },
   {
    "duration": 64,
    "start_time": "2022-06-01T06:24:08.374Z"
   },
   {
    "duration": 64,
    "start_time": "2022-06-01T06:24:13.200Z"
   },
   {
    "duration": 65,
    "start_time": "2022-06-01T06:24:16.217Z"
   },
   {
    "duration": 60,
    "start_time": "2022-06-01T06:24:18.771Z"
   },
   {
    "duration": 9,
    "start_time": "2022-06-01T06:30:13.279Z"
   },
   {
    "duration": 28,
    "start_time": "2022-06-01T06:30:19.140Z"
   },
   {
    "duration": 17,
    "start_time": "2022-06-01T06:30:29.825Z"
   },
   {
    "duration": 23,
    "start_time": "2022-06-01T06:30:38.731Z"
   },
   {
    "duration": 17,
    "start_time": "2022-06-01T06:30:43.892Z"
   },
   {
    "duration": 25,
    "start_time": "2022-06-01T06:31:02.319Z"
   },
   {
    "duration": 17,
    "start_time": "2022-06-01T06:31:09.952Z"
   },
   {
    "duration": 18,
    "start_time": "2022-06-01T06:31:15.904Z"
   },
   {
    "duration": 27,
    "start_time": "2022-06-01T06:31:39.256Z"
   },
   {
    "duration": 33,
    "start_time": "2022-06-01T06:31:45.969Z"
   },
   {
    "duration": 15,
    "start_time": "2022-06-01T06:32:45.567Z"
   },
   {
    "duration": 18,
    "start_time": "2022-06-01T06:32:48.968Z"
   },
   {
    "duration": 33,
    "start_time": "2022-06-01T06:33:06.223Z"
   },
   {
    "duration": 30,
    "start_time": "2022-06-01T06:33:11.576Z"
   },
   {
    "duration": 30,
    "start_time": "2022-06-01T06:33:29.065Z"
   },
   {
    "duration": 25,
    "start_time": "2022-06-01T06:33:38.952Z"
   },
   {
    "duration": 66,
    "start_time": "2022-06-01T06:33:41.625Z"
   },
   {
    "duration": 63,
    "start_time": "2022-06-01T06:33:46.793Z"
   },
   {
    "duration": 69,
    "start_time": "2022-06-01T06:33:49.192Z"
   },
   {
    "duration": 55,
    "start_time": "2022-06-01T06:34:45.946Z"
   },
   {
    "duration": 47,
    "start_time": "2022-06-01T06:34:57.897Z"
   },
   {
    "duration": 53,
    "start_time": "2022-06-01T06:35:01.364Z"
   },
   {
    "duration": 61,
    "start_time": "2022-06-01T06:35:15.557Z"
   },
   {
    "duration": 18,
    "start_time": "2022-06-01T06:36:14.693Z"
   },
   {
    "duration": 37,
    "start_time": "2022-06-01T06:36:38.120Z"
   },
   {
    "duration": 38,
    "start_time": "2022-06-01T06:36:42.805Z"
   },
   {
    "duration": 38,
    "start_time": "2022-06-01T06:36:46.643Z"
   },
   {
    "duration": 38,
    "start_time": "2022-06-01T06:36:53.213Z"
   },
   {
    "duration": 53,
    "start_time": "2022-06-01T06:37:21.469Z"
   },
   {
    "duration": 27,
    "start_time": "2022-06-01T06:37:30.201Z"
   },
   {
    "duration": 33,
    "start_time": "2022-06-01T06:37:46.301Z"
   },
   {
    "duration": 31,
    "start_time": "2022-06-01T06:37:56.388Z"
   },
   {
    "duration": 2,
    "start_time": "2022-06-01T06:42:39.486Z"
   },
   {
    "duration": 2,
    "start_time": "2022-06-01T06:43:51.307Z"
   },
   {
    "duration": 15,
    "start_time": "2022-06-01T06:48:31.941Z"
   },
   {
    "duration": 150,
    "start_time": "2022-06-01T06:49:16.227Z"
   },
   {
    "duration": 58,
    "start_time": "2022-06-01T06:49:25.165Z"
   },
   {
    "duration": 55,
    "start_time": "2022-06-01T06:49:29.571Z"
   },
   {
    "duration": 70,
    "start_time": "2022-06-01T06:49:46.730Z"
   },
   {
    "duration": 65,
    "start_time": "2022-06-01T06:55:51.143Z"
   },
   {
    "duration": 60,
    "start_time": "2022-06-01T06:57:24.170Z"
   },
   {
    "duration": 57,
    "start_time": "2022-06-01T06:57:34.136Z"
   },
   {
    "duration": 58,
    "start_time": "2022-06-01T06:58:03.331Z"
   },
   {
    "duration": 60,
    "start_time": "2022-06-01T06:58:16.664Z"
   },
   {
    "duration": 61,
    "start_time": "2022-06-01T06:58:39.257Z"
   },
   {
    "duration": 57,
    "start_time": "2022-06-01T06:59:20.531Z"
   },
   {
    "duration": 5,
    "start_time": "2022-06-01T06:59:42.875Z"
   },
   {
    "duration": 58,
    "start_time": "2022-06-01T06:59:58.589Z"
   },
   {
    "duration": 43,
    "start_time": "2022-06-01T07:00:11.379Z"
   },
   {
    "duration": 77,
    "start_time": "2022-06-01T07:00:17.162Z"
   },
   {
    "duration": 36,
    "start_time": "2022-06-01T07:07:48.743Z"
   },
   {
    "duration": 74,
    "start_time": "2022-06-01T07:09:30.897Z"
   },
   {
    "duration": 72,
    "start_time": "2022-06-01T07:09:37.904Z"
   },
   {
    "duration": 70,
    "start_time": "2022-06-01T07:09:56.513Z"
   },
   {
    "duration": 87,
    "start_time": "2022-06-01T07:10:02.177Z"
   },
   {
    "duration": 1204,
    "start_time": "2022-06-01T07:29:18.754Z"
   },
   {
    "duration": 18,
    "start_time": "2022-06-01T07:29:52.140Z"
   },
   {
    "duration": 1201,
    "start_time": "2022-06-01T07:30:09.920Z"
   },
   {
    "duration": 460,
    "start_time": "2022-06-01T07:30:12.497Z"
   },
   {
    "duration": 14,
    "start_time": "2022-06-01T07:30:22.708Z"
   },
   {
    "duration": 466,
    "start_time": "2022-06-01T07:32:00.248Z"
   },
   {
    "duration": 376,
    "start_time": "2022-06-01T07:32:12.206Z"
   },
   {
    "duration": 22,
    "start_time": "2022-06-01T07:41:10.160Z"
   },
   {
    "duration": 21,
    "start_time": "2022-06-01T07:41:40.616Z"
   },
   {
    "duration": 849,
    "start_time": "2022-06-01T07:42:05.154Z"
   },
   {
    "duration": 138,
    "start_time": "2022-06-01T07:43:27.753Z"
   },
   {
    "duration": 5,
    "start_time": "2022-06-01T07:43:38.462Z"
   },
   {
    "duration": 4,
    "start_time": "2022-06-01T07:43:58.300Z"
   },
   {
    "duration": 67,
    "start_time": "2022-06-01T07:44:00.777Z"
   },
   {
    "duration": 16,
    "start_time": "2022-06-01T07:45:35.584Z"
   },
   {
    "duration": 18,
    "start_time": "2022-06-01T07:45:40.956Z"
   },
   {
    "duration": 18,
    "start_time": "2022-06-01T07:46:06.962Z"
   },
   {
    "duration": 70,
    "start_time": "2022-06-01T07:49:21.324Z"
   },
   {
    "duration": 60,
    "start_time": "2022-06-01T07:50:04.252Z"
   },
   {
    "duration": 71,
    "start_time": "2022-06-01T07:50:11.556Z"
   },
   {
    "duration": 46,
    "start_time": "2022-06-01T07:50:12.857Z"
   },
   {
    "duration": 67,
    "start_time": "2022-06-01T07:50:17.952Z"
   },
   {
    "duration": 58,
    "start_time": "2022-06-01T07:50:20.501Z"
   },
   {
    "duration": 85,
    "start_time": "2022-06-01T07:50:35.191Z"
   },
   {
    "duration": 80,
    "start_time": "2022-06-01T07:50:38.074Z"
   },
   {
    "duration": 65,
    "start_time": "2022-06-01T08:01:10.569Z"
   },
   {
    "duration": 19,
    "start_time": "2022-06-01T08:01:30.546Z"
   },
   {
    "duration": 50,
    "start_time": "2022-06-01T08:02:09.886Z"
   },
   {
    "duration": 9,
    "start_time": "2022-06-01T08:02:25.496Z"
   },
   {
    "duration": 14,
    "start_time": "2022-06-01T08:02:35.419Z"
   },
   {
    "duration": 11,
    "start_time": "2022-06-01T08:03:11.906Z"
   },
   {
    "duration": 32,
    "start_time": "2022-06-01T08:03:18.256Z"
   },
   {
    "duration": 55,
    "start_time": "2022-06-01T08:03:25.283Z"
   },
   {
    "duration": 54,
    "start_time": "2022-06-01T08:03:51.770Z"
   },
   {
    "duration": 66,
    "start_time": "2022-06-01T08:04:13.756Z"
   },
   {
    "duration": 48,
    "start_time": "2022-06-01T08:04:38.482Z"
   },
   {
    "duration": 14,
    "start_time": "2022-06-01T08:05:09.471Z"
   },
   {
    "duration": 10,
    "start_time": "2022-06-01T08:05:44.595Z"
   },
   {
    "duration": 18,
    "start_time": "2022-06-01T08:06:03.798Z"
   },
   {
    "duration": 10,
    "start_time": "2022-06-01T08:06:35.104Z"
   },
   {
    "duration": 11,
    "start_time": "2022-06-01T08:06:43.397Z"
   },
   {
    "duration": 17,
    "start_time": "2022-06-01T08:06:48.958Z"
   },
   {
    "duration": 1349,
    "start_time": "2022-06-01T08:06:56.842Z"
   },
   {
    "duration": 302,
    "start_time": "2022-06-01T08:06:58.193Z"
   },
   {
    "duration": 6,
    "start_time": "2022-06-01T08:06:58.497Z"
   },
   {
    "duration": 404,
    "start_time": "2022-06-01T08:06:58.505Z"
   },
   {
    "duration": 229,
    "start_time": "2022-06-01T08:06:58.911Z"
   },
   {
    "duration": 5,
    "start_time": "2022-06-01T08:06:59.143Z"
   },
   {
    "duration": 213,
    "start_time": "2022-06-01T08:06:59.150Z"
   },
   {
    "duration": 76,
    "start_time": "2022-06-01T08:06:59.368Z"
   },
   {
    "duration": 270,
    "start_time": "2022-06-01T08:06:59.448Z"
   },
   {
    "duration": 244,
    "start_time": "2022-06-01T08:06:59.720Z"
   },
   {
    "duration": 5,
    "start_time": "2022-06-01T08:06:59.966Z"
   },
   {
    "duration": 188,
    "start_time": "2022-06-01T08:06:59.973Z"
   },
   {
    "duration": 135,
    "start_time": "2022-06-01T08:07:00.165Z"
   },
   {
    "duration": 53,
    "start_time": "2022-06-01T08:07:00.303Z"
   },
   {
    "duration": 1183,
    "start_time": "2022-06-01T08:07:00.358Z"
   },
   {
    "duration": 451,
    "start_time": "2022-06-01T08:07:01.544Z"
   },
   {
    "duration": 183,
    "start_time": "2022-06-01T08:07:01.997Z"
   },
   {
    "duration": 54,
    "start_time": "2022-06-01T08:07:02.182Z"
   },
   {
    "duration": 378,
    "start_time": "2022-06-01T08:07:02.239Z"
   },
   {
    "duration": 80,
    "start_time": "2022-06-01T08:07:02.619Z"
   },
   {
    "duration": 88,
    "start_time": "2022-06-01T08:07:02.701Z"
   },
   {
    "duration": 227,
    "start_time": "2022-06-01T08:07:02.790Z"
   },
   {
    "duration": 21,
    "start_time": "2022-06-01T08:07:03.027Z"
   },
   {
    "duration": 329,
    "start_time": "2022-06-01T08:07:03.050Z"
   },
   {
    "duration": 0,
    "start_time": "2022-06-01T08:07:03.382Z"
   },
   {
    "duration": 0,
    "start_time": "2022-06-01T08:07:03.383Z"
   },
   {
    "duration": 0,
    "start_time": "2022-06-01T08:07:03.384Z"
   },
   {
    "duration": 0,
    "start_time": "2022-06-01T08:07:03.385Z"
   },
   {
    "duration": 0,
    "start_time": "2022-06-01T08:07:03.386Z"
   },
   {
    "duration": 0,
    "start_time": "2022-06-01T08:07:03.387Z"
   },
   {
    "duration": 9,
    "start_time": "2022-06-01T08:07:36.499Z"
   },
   {
    "duration": 19,
    "start_time": "2022-06-01T08:07:56.782Z"
   },
   {
    "duration": 9,
    "start_time": "2022-06-01T08:08:14.759Z"
   },
   {
    "duration": 44,
    "start_time": "2022-06-01T08:13:51.551Z"
   },
   {
    "duration": 15,
    "start_time": "2022-06-01T08:13:54.972Z"
   },
   {
    "duration": 19,
    "start_time": "2022-06-01T08:14:07.059Z"
   },
   {
    "duration": 18,
    "start_time": "2022-06-01T08:14:12.969Z"
   },
   {
    "duration": 19,
    "start_time": "2022-06-01T08:15:57.820Z"
   },
   {
    "duration": 43,
    "start_time": "2022-06-01T08:16:46.452Z"
   },
   {
    "duration": 10,
    "start_time": "2022-06-01T08:17:00.255Z"
   },
   {
    "duration": 56,
    "start_time": "2022-06-01T08:17:07.448Z"
   },
   {
    "duration": 49,
    "start_time": "2022-06-01T08:17:15.875Z"
   },
   {
    "duration": 7,
    "start_time": "2022-06-01T08:17:19.438Z"
   },
   {
    "duration": 57,
    "start_time": "2022-06-01T08:17:26.700Z"
   },
   {
    "duration": 34,
    "start_time": "2022-06-01T08:18:14.053Z"
   },
   {
    "duration": 73,
    "start_time": "2022-06-01T08:18:31.884Z"
   },
   {
    "duration": 23,
    "start_time": "2022-06-01T08:18:53.920Z"
   },
   {
    "duration": 619,
    "start_time": "2022-06-01T08:19:04.524Z"
   },
   {
    "duration": 8,
    "start_time": "2022-06-01T08:19:24.143Z"
   },
   {
    "duration": 73,
    "start_time": "2022-06-01T08:19:28.370Z"
   },
   {
    "duration": 33,
    "start_time": "2022-06-01T08:19:40.700Z"
   },
   {
    "duration": 26,
    "start_time": "2022-06-01T08:20:03.878Z"
   },
   {
    "duration": 26,
    "start_time": "2022-06-01T08:20:07.655Z"
   },
   {
    "duration": 10,
    "start_time": "2022-06-01T08:22:19.678Z"
   },
   {
    "duration": 22,
    "start_time": "2022-06-01T08:25:07.149Z"
   },
   {
    "duration": 22,
    "start_time": "2022-06-01T08:25:07.668Z"
   },
   {
    "duration": 28,
    "start_time": "2022-06-01T08:26:07.543Z"
   },
   {
    "duration": 26,
    "start_time": "2022-06-01T08:26:12.062Z"
   },
   {
    "duration": 24,
    "start_time": "2022-06-01T08:26:16.377Z"
   },
   {
    "duration": 27,
    "start_time": "2022-06-01T08:26:32.050Z"
   },
   {
    "duration": 50,
    "start_time": "2022-06-01T08:26:53.307Z"
   },
   {
    "duration": 24,
    "start_time": "2022-06-01T08:27:04.715Z"
   },
   {
    "duration": 34,
    "start_time": "2022-06-01T08:28:20.356Z"
   },
   {
    "duration": 15,
    "start_time": "2022-06-01T08:28:25.141Z"
   },
   {
    "duration": 17,
    "start_time": "2022-06-01T08:29:08.363Z"
   },
   {
    "duration": 37,
    "start_time": "2022-06-01T08:29:13.919Z"
   },
   {
    "duration": 26,
    "start_time": "2022-06-01T08:29:18.515Z"
   },
   {
    "duration": 11,
    "start_time": "2022-06-01T08:29:25.078Z"
   },
   {
    "duration": 104,
    "start_time": "2022-06-01T08:32:04.383Z"
   },
   {
    "duration": 30,
    "start_time": "2022-06-01T08:32:13.199Z"
   },
   {
    "duration": 96,
    "start_time": "2022-06-01T08:32:53.565Z"
   },
   {
    "duration": 16,
    "start_time": "2022-06-01T08:33:00.554Z"
   },
   {
    "duration": 4,
    "start_time": "2022-06-01T08:33:05.208Z"
   },
   {
    "duration": 12,
    "start_time": "2022-06-01T08:33:13.311Z"
   },
   {
    "duration": 14,
    "start_time": "2022-06-01T08:33:18.901Z"
   },
   {
    "duration": 13,
    "start_time": "2022-06-01T08:33:19.050Z"
   },
   {
    "duration": 10,
    "start_time": "2022-06-01T08:55:15.066Z"
   },
   {
    "duration": 11,
    "start_time": "2022-06-01T08:55:24.269Z"
   },
   {
    "duration": 12,
    "start_time": "2022-06-01T08:56:13.654Z"
   },
   {
    "duration": 18,
    "start_time": "2022-06-01T08:56:37.269Z"
   },
   {
    "duration": 12,
    "start_time": "2022-06-01T08:56:52.366Z"
   },
   {
    "duration": 22,
    "start_time": "2022-06-01T08:57:29.443Z"
   },
   {
    "duration": 11,
    "start_time": "2022-06-01T08:57:33.312Z"
   },
   {
    "duration": 21,
    "start_time": "2022-06-01T08:58:47.352Z"
   },
   {
    "duration": 24,
    "start_time": "2022-06-01T08:58:57.251Z"
   },
   {
    "duration": 12,
    "start_time": "2022-06-01T08:59:34.349Z"
   },
   {
    "duration": 13,
    "start_time": "2022-06-01T08:59:35.797Z"
   },
   {
    "duration": 23,
    "start_time": "2022-06-01T08:59:48.661Z"
   },
   {
    "duration": 17,
    "start_time": "2022-06-01T09:00:30.867Z"
   },
   {
    "duration": 14,
    "start_time": "2022-06-01T09:00:40.698Z"
   },
   {
    "duration": 23,
    "start_time": "2022-06-01T09:02:24.237Z"
   },
   {
    "duration": 16,
    "start_time": "2022-06-01T09:03:20.611Z"
   },
   {
    "duration": 21,
    "start_time": "2022-06-01T09:03:28.342Z"
   },
   {
    "duration": 16,
    "start_time": "2022-06-01T09:03:34.006Z"
   },
   {
    "duration": 19,
    "start_time": "2022-06-01T09:03:52.353Z"
   },
   {
    "duration": 23,
    "start_time": "2022-06-01T09:03:55.510Z"
   },
   {
    "duration": 32,
    "start_time": "2022-06-01T09:04:03.920Z"
   },
   {
    "duration": 12,
    "start_time": "2022-06-01T09:04:10.708Z"
   },
   {
    "duration": 20,
    "start_time": "2022-06-01T09:05:29.502Z"
   },
   {
    "duration": 23,
    "start_time": "2022-06-01T09:06:08.727Z"
   },
   {
    "duration": 19,
    "start_time": "2022-06-01T09:06:19.742Z"
   },
   {
    "duration": 11,
    "start_time": "2022-06-01T09:06:28.540Z"
   },
   {
    "duration": 19,
    "start_time": "2022-06-01T09:06:34.845Z"
   },
   {
    "duration": 31,
    "start_time": "2022-06-01T09:06:39.577Z"
   },
   {
    "duration": 16,
    "start_time": "2022-06-01T09:06:59.708Z"
   },
   {
    "duration": 22,
    "start_time": "2022-06-01T09:07:03.911Z"
   },
   {
    "duration": 11,
    "start_time": "2022-06-01T09:07:08.073Z"
   },
   {
    "duration": 23,
    "start_time": "2022-06-01T09:07:20.057Z"
   },
   {
    "duration": 20,
    "start_time": "2022-06-01T09:07:23.044Z"
   },
   {
    "duration": 12,
    "start_time": "2022-06-01T09:07:29.788Z"
   },
   {
    "duration": 76,
    "start_time": "2022-06-01T09:11:48.869Z"
   },
   {
    "duration": 68,
    "start_time": "2022-06-01T09:11:56.015Z"
   },
   {
    "duration": 23,
    "start_time": "2022-06-01T09:12:27.852Z"
   },
   {
    "duration": 19,
    "start_time": "2022-06-01T09:12:35.161Z"
   },
   {
    "duration": 12,
    "start_time": "2022-06-01T09:12:41.784Z"
   },
   {
    "duration": 22,
    "start_time": "2022-06-01T09:12:51.516Z"
   },
   {
    "duration": 24,
    "start_time": "2022-06-01T09:13:00.527Z"
   },
   {
    "duration": 66,
    "start_time": "2022-06-01T09:13:33.316Z"
   },
   {
    "duration": 16,
    "start_time": "2022-06-01T09:13:38.084Z"
   },
   {
    "duration": 15,
    "start_time": "2022-06-01T09:14:05.478Z"
   },
   {
    "duration": 22,
    "start_time": "2022-06-01T09:14:12.133Z"
   },
   {
    "duration": 14,
    "start_time": "2022-06-01T09:14:16.442Z"
   },
   {
    "duration": 14,
    "start_time": "2022-06-01T09:15:12.856Z"
   },
   {
    "duration": 14,
    "start_time": "2022-06-01T09:15:24.373Z"
   },
   {
    "duration": 12,
    "start_time": "2022-06-01T09:15:29.744Z"
   },
   {
    "duration": 13,
    "start_time": "2022-06-01T09:15:32.260Z"
   },
   {
    "duration": 18,
    "start_time": "2022-06-01T09:15:37.285Z"
   },
   {
    "duration": 14,
    "start_time": "2022-06-01T09:17:09.171Z"
   },
   {
    "duration": 36,
    "start_time": "2022-06-01T09:17:34.902Z"
   },
   {
    "duration": 15,
    "start_time": "2022-06-01T09:17:39.487Z"
   },
   {
    "duration": 19,
    "start_time": "2022-06-01T09:17:47.027Z"
   },
   {
    "duration": 15,
    "start_time": "2022-06-01T09:18:06.902Z"
   },
   {
    "duration": 40,
    "start_time": "2022-06-01T09:18:16.950Z"
   },
   {
    "duration": 14,
    "start_time": "2022-06-01T09:18:27.407Z"
   },
   {
    "duration": 13,
    "start_time": "2022-06-01T09:18:41.305Z"
   },
   {
    "duration": 69,
    "start_time": "2022-06-01T09:20:00.862Z"
   },
   {
    "duration": 17,
    "start_time": "2022-06-01T09:21:42.092Z"
   },
   {
    "duration": 14,
    "start_time": "2022-06-01T09:21:59.409Z"
   },
   {
    "duration": 14,
    "start_time": "2022-06-01T09:22:13.351Z"
   },
   {
    "duration": 28,
    "start_time": "2022-06-01T09:31:03.701Z"
   },
   {
    "duration": 21,
    "start_time": "2022-06-01T09:31:38.540Z"
   },
   {
    "duration": 20,
    "start_time": "2022-06-01T09:31:43.582Z"
   },
   {
    "duration": 19,
    "start_time": "2022-06-01T09:31:45.929Z"
   },
   {
    "duration": 87,
    "start_time": "2022-06-01T09:38:46.696Z"
   },
   {
    "duration": 18,
    "start_time": "2022-06-01T09:38:51.774Z"
   },
   {
    "duration": 14,
    "start_time": "2022-06-01T09:38:55.243Z"
   },
   {
    "duration": 13,
    "start_time": "2022-06-01T09:41:57.254Z"
   },
   {
    "duration": 3,
    "start_time": "2022-06-01T09:53:58.180Z"
   },
   {
    "duration": 3,
    "start_time": "2022-06-01T09:59:48.128Z"
   },
   {
    "duration": 89,
    "start_time": "2022-06-01T11:19:56.780Z"
   },
   {
    "duration": 90,
    "start_time": "2022-06-01T11:20:20.182Z"
   },
   {
    "duration": 33,
    "start_time": "2022-06-01T11:20:46.765Z"
   },
   {
    "duration": 25,
    "start_time": "2022-06-01T11:20:47.082Z"
   },
   {
    "duration": 4,
    "start_time": "2022-06-01T11:23:06.820Z"
   },
   {
    "duration": 15,
    "start_time": "2022-06-01T11:23:32.922Z"
   },
   {
    "duration": 30,
    "start_time": "2022-06-01T11:24:04.664Z"
   },
   {
    "duration": 14,
    "start_time": "2022-06-01T11:24:19.190Z"
   },
   {
    "duration": 13,
    "start_time": "2022-06-01T11:25:48.872Z"
   },
   {
    "duration": 40,
    "start_time": "2022-06-01T11:26:00.712Z"
   },
   {
    "duration": 32,
    "start_time": "2022-06-01T11:26:03.493Z"
   },
   {
    "duration": 5,
    "start_time": "2022-06-01T11:26:06.918Z"
   },
   {
    "duration": 5,
    "start_time": "2022-06-01T11:26:14.307Z"
   },
   {
    "duration": 5,
    "start_time": "2022-06-01T11:26:15.120Z"
   },
   {
    "duration": 5,
    "start_time": "2022-06-01T11:26:22.032Z"
   },
   {
    "duration": 5,
    "start_time": "2022-06-01T11:26:54.321Z"
   },
   {
    "duration": 14,
    "start_time": "2022-06-01T11:27:07.404Z"
   },
   {
    "duration": 13,
    "start_time": "2022-06-01T11:27:11.207Z"
   },
   {
    "duration": 18,
    "start_time": "2022-06-01T11:27:15.510Z"
   },
   {
    "duration": 14,
    "start_time": "2022-06-01T11:27:21.303Z"
   },
   {
    "duration": 13,
    "start_time": "2022-06-01T11:28:11.449Z"
   },
   {
    "duration": 6,
    "start_time": "2022-06-01T11:28:24.120Z"
   },
   {
    "duration": 12,
    "start_time": "2022-06-01T11:28:31.389Z"
   },
   {
    "duration": 14,
    "start_time": "2022-06-01T11:28:39.634Z"
   },
   {
    "duration": 12,
    "start_time": "2022-06-01T11:28:46.293Z"
   },
   {
    "duration": 17,
    "start_time": "2022-06-01T11:28:59.383Z"
   },
   {
    "duration": 4,
    "start_time": "2022-06-01T11:30:07.144Z"
   },
   {
    "duration": 4,
    "start_time": "2022-06-01T11:30:54.737Z"
   },
   {
    "duration": 5,
    "start_time": "2022-06-01T11:30:59.230Z"
   },
   {
    "duration": 5,
    "start_time": "2022-06-01T11:31:04.223Z"
   },
   {
    "duration": 4,
    "start_time": "2022-06-01T11:31:07.272Z"
   },
   {
    "duration": 5,
    "start_time": "2022-06-01T11:31:18.922Z"
   },
   {
    "duration": 4,
    "start_time": "2022-06-01T11:31:32.200Z"
   },
   {
    "duration": 4,
    "start_time": "2022-06-01T11:31:37.728Z"
   },
   {
    "duration": 4,
    "start_time": "2022-06-01T11:31:40.589Z"
   },
   {
    "duration": 14,
    "start_time": "2022-06-01T11:31:52.453Z"
   },
   {
    "duration": 43,
    "start_time": "2022-06-01T11:32:30.880Z"
   },
   {
    "duration": 38,
    "start_time": "2022-06-01T11:32:42.470Z"
   },
   {
    "duration": 27,
    "start_time": "2022-06-01T11:32:53.269Z"
   },
   {
    "duration": 23,
    "start_time": "2022-06-01T11:33:06.044Z"
   },
   {
    "duration": 22,
    "start_time": "2022-06-01T11:33:17.035Z"
   },
   {
    "duration": 455,
    "start_time": "2022-06-01T11:35:49.039Z"
   },
   {
    "duration": 32,
    "start_time": "2022-06-01T11:37:35.540Z"
   },
   {
    "duration": 22,
    "start_time": "2022-06-01T11:39:17.564Z"
   },
   {
    "duration": 78,
    "start_time": "2022-06-01T11:40:25.939Z"
   },
   {
    "duration": 346,
    "start_time": "2022-06-01T11:40:46.199Z"
   },
   {
    "duration": 63,
    "start_time": "2022-06-01T11:40:52.950Z"
   },
   {
    "duration": 43,
    "start_time": "2022-06-01T11:41:24.003Z"
   },
   {
    "duration": 44,
    "start_time": "2022-06-01T11:41:27.831Z"
   },
   {
    "duration": 147,
    "start_time": "2022-06-01T11:42:33.963Z"
   },
   {
    "duration": 43,
    "start_time": "2022-06-01T11:43:51.018Z"
   },
   {
    "duration": 71,
    "start_time": "2022-06-01T11:44:13.079Z"
   },
   {
    "duration": 59,
    "start_time": "2022-06-01T11:44:41.753Z"
   },
   {
    "duration": 65,
    "start_time": "2022-06-01T11:45:19.079Z"
   },
   {
    "duration": 72,
    "start_time": "2022-06-01T11:45:31.545Z"
   },
   {
    "duration": 70,
    "start_time": "2022-06-01T11:45:57.999Z"
   },
   {
    "duration": 69,
    "start_time": "2022-06-01T11:46:01.492Z"
   },
   {
    "duration": 121,
    "start_time": "2022-06-01T11:46:10.062Z"
   },
   {
    "duration": 45,
    "start_time": "2022-06-01T11:50:58.659Z"
   },
   {
    "duration": 30,
    "start_time": "2022-06-01T11:51:11.950Z"
   },
   {
    "duration": 26,
    "start_time": "2022-06-01T11:51:32.064Z"
   },
   {
    "duration": 32,
    "start_time": "2022-06-01T11:51:53.681Z"
   },
   {
    "duration": 28,
    "start_time": "2022-06-01T11:52:26.699Z"
   },
   {
    "duration": 17,
    "start_time": "2022-06-01T11:52:32.468Z"
   },
   {
    "duration": 29,
    "start_time": "2022-06-01T11:53:37.645Z"
   },
   {
    "duration": 25,
    "start_time": "2022-06-01T11:53:47.506Z"
   },
   {
    "duration": 23,
    "start_time": "2022-06-01T11:53:49.638Z"
   },
   {
    "duration": 23,
    "start_time": "2022-06-01T11:53:50.237Z"
   },
   {
    "duration": 25,
    "start_time": "2022-06-01T11:53:50.867Z"
   },
   {
    "duration": 32,
    "start_time": "2022-06-01T11:53:54.602Z"
   },
   {
    "duration": 26,
    "start_time": "2022-06-01T11:54:45.494Z"
   },
   {
    "duration": 26,
    "start_time": "2022-06-01T11:55:01.189Z"
   },
   {
    "duration": 98,
    "start_time": "2022-06-01T11:55:08.280Z"
   },
   {
    "duration": 30,
    "start_time": "2022-06-01T11:55:16.100Z"
   },
   {
    "duration": 35,
    "start_time": "2022-06-01T11:55:21.365Z"
   },
   {
    "duration": 31,
    "start_time": "2022-06-01T11:56:33.735Z"
   },
   {
    "duration": 19,
    "start_time": "2022-06-01T11:56:37.188Z"
   },
   {
    "duration": 6,
    "start_time": "2022-06-01T11:56:46.199Z"
   },
   {
    "duration": 23,
    "start_time": "2022-06-01T11:57:52.201Z"
   },
   {
    "duration": 26,
    "start_time": "2022-06-01T11:57:58.169Z"
   },
   {
    "duration": 37,
    "start_time": "2022-06-01T11:58:15.579Z"
   },
   {
    "duration": 28,
    "start_time": "2022-06-01T11:58:23.678Z"
   },
   {
    "duration": 27,
    "start_time": "2022-06-01T11:58:37.741Z"
   },
   {
    "duration": 25,
    "start_time": "2022-06-01T11:58:44.248Z"
   },
   {
    "duration": 27,
    "start_time": "2022-06-01T11:58:53.581Z"
   },
   {
    "duration": 28,
    "start_time": "2022-06-01T12:00:06.091Z"
   },
   {
    "duration": 27,
    "start_time": "2022-06-01T12:00:28.373Z"
   },
   {
    "duration": 26,
    "start_time": "2022-06-01T12:00:36.764Z"
   },
   {
    "duration": 27,
    "start_time": "2022-06-01T12:00:48.149Z"
   },
   {
    "duration": 148,
    "start_time": "2022-06-01T12:02:08.644Z"
   },
   {
    "duration": 48,
    "start_time": "2022-06-01T12:04:48.755Z"
   },
   {
    "duration": 26,
    "start_time": "2022-06-01T12:04:52.551Z"
   },
   {
    "duration": 47,
    "start_time": "2022-06-01T12:05:28.178Z"
   },
   {
    "duration": 35,
    "start_time": "2022-06-01T12:05:32.946Z"
   },
   {
    "duration": 28,
    "start_time": "2022-06-01T12:05:58.638Z"
   },
   {
    "duration": 26,
    "start_time": "2022-06-01T12:06:42.493Z"
   },
   {
    "duration": 31,
    "start_time": "2022-06-01T12:06:55.589Z"
   },
   {
    "duration": 25,
    "start_time": "2022-06-01T12:07:04.625Z"
   },
   {
    "duration": 29,
    "start_time": "2022-06-01T12:07:10.894Z"
   },
   {
    "duration": 25,
    "start_time": "2022-06-01T12:07:46.384Z"
   },
   {
    "duration": 30,
    "start_time": "2022-06-01T12:07:51.380Z"
   },
   {
    "duration": 57,
    "start_time": "2022-06-01T12:08:20.616Z"
   },
   {
    "duration": 152,
    "start_time": "2022-06-01T12:08:39.531Z"
   },
   {
    "duration": 160,
    "start_time": "2022-06-01T12:08:55.576Z"
   },
   {
    "duration": 132,
    "start_time": "2022-06-01T12:09:15.347Z"
   },
   {
    "duration": 186,
    "start_time": "2022-06-01T12:09:29.952Z"
   },
   {
    "duration": 116,
    "start_time": "2022-06-01T12:09:38.688Z"
   },
   {
    "duration": 120,
    "start_time": "2022-06-01T12:10:10.807Z"
   },
   {
    "duration": 41,
    "start_time": "2022-06-01T12:17:56.278Z"
   },
   {
    "duration": 59,
    "start_time": "2022-06-01T12:20:30.022Z"
   },
   {
    "duration": 70,
    "start_time": "2022-06-01T12:20:32.848Z"
   },
   {
    "duration": 125,
    "start_time": "2022-06-01T12:21:26.249Z"
   },
   {
    "duration": 121,
    "start_time": "2022-06-01T12:21:47.632Z"
   },
   {
    "duration": 122,
    "start_time": "2022-06-01T12:22:11.424Z"
   },
   {
    "duration": 108,
    "start_time": "2022-06-01T12:22:17.483Z"
   },
   {
    "duration": 176,
    "start_time": "2022-06-01T12:22:35.910Z"
   },
   {
    "duration": 155,
    "start_time": "2022-06-01T12:22:43.904Z"
   },
   {
    "duration": 149,
    "start_time": "2022-06-01T12:22:50.238Z"
   },
   {
    "duration": 153,
    "start_time": "2022-06-01T12:22:58.196Z"
   },
   {
    "duration": 136,
    "start_time": "2022-06-01T12:24:33.579Z"
   },
   {
    "duration": 150,
    "start_time": "2022-06-01T12:24:44.382Z"
   },
   {
    "duration": 112,
    "start_time": "2022-06-01T12:25:58.845Z"
   },
   {
    "duration": 112,
    "start_time": "2022-06-01T12:26:09.891Z"
   },
   {
    "duration": 68,
    "start_time": "2022-06-01T12:28:15.031Z"
   },
   {
    "duration": 69,
    "start_time": "2022-06-01T12:28:21.903Z"
   },
   {
    "duration": 216,
    "start_time": "2022-06-01T12:29:58.195Z"
   },
   {
    "duration": 201,
    "start_time": "2022-06-01T12:30:36.288Z"
   },
   {
    "duration": 215,
    "start_time": "2022-06-01T12:30:39.407Z"
   },
   {
    "duration": 195,
    "start_time": "2022-06-01T12:32:15.668Z"
   },
   {
    "duration": 30,
    "start_time": "2022-06-01T12:33:31.968Z"
   },
   {
    "duration": 32,
    "start_time": "2022-06-01T12:33:45.622Z"
   },
   {
    "duration": 30,
    "start_time": "2022-06-01T12:34:39.510Z"
   },
   {
    "duration": 23,
    "start_time": "2022-06-01T12:34:47.478Z"
   },
   {
    "duration": 22,
    "start_time": "2022-06-01T12:35:08.700Z"
   },
   {
    "duration": 40,
    "start_time": "2022-06-01T12:35:28.236Z"
   },
   {
    "duration": 32,
    "start_time": "2022-06-01T12:35:44.018Z"
   },
   {
    "duration": 44,
    "start_time": "2022-06-01T12:35:48.841Z"
   },
   {
    "duration": 24,
    "start_time": "2022-06-01T12:35:56.558Z"
   },
   {
    "duration": 44,
    "start_time": "2022-06-01T12:36:44.738Z"
   },
   {
    "duration": 23,
    "start_time": "2022-06-01T12:37:35.604Z"
   },
   {
    "duration": 20,
    "start_time": "2022-06-01T12:39:04.815Z"
   },
   {
    "duration": 25,
    "start_time": "2022-06-01T12:39:31.063Z"
   },
   {
    "duration": 26,
    "start_time": "2022-06-01T12:40:08.445Z"
   },
   {
    "duration": 26,
    "start_time": "2022-06-01T12:40:26.361Z"
   },
   {
    "duration": 204,
    "start_time": "2022-06-01T12:42:06.960Z"
   },
   {
    "duration": 17,
    "start_time": "2022-06-01T12:44:29.787Z"
   },
   {
    "duration": 115,
    "start_time": "2022-06-01T12:52:14.891Z"
   },
   {
    "duration": 129,
    "start_time": "2022-06-01T12:53:33.938Z"
   },
   {
    "duration": 116,
    "start_time": "2022-06-01T12:53:39.046Z"
   },
   {
    "duration": 94,
    "start_time": "2022-06-01T12:54:17.147Z"
   },
   {
    "duration": 116,
    "start_time": "2022-06-01T12:54:30.986Z"
   },
   {
    "duration": 71,
    "start_time": "2022-06-01T12:59:49.102Z"
   },
   {
    "duration": 71,
    "start_time": "2022-06-01T12:59:51.836Z"
   },
   {
    "duration": 60,
    "start_time": "2022-06-01T13:00:02.786Z"
   },
   {
    "duration": 90,
    "start_time": "2022-06-01T13:00:08.208Z"
   },
   {
    "duration": 83,
    "start_time": "2022-06-01T13:00:11.044Z"
   },
   {
    "duration": 57,
    "start_time": "2022-06-01T13:00:37.034Z"
   },
   {
    "duration": 62,
    "start_time": "2022-06-01T13:00:59.538Z"
   },
   {
    "duration": 60,
    "start_time": "2022-06-01T13:01:04.793Z"
   },
   {
    "duration": 56,
    "start_time": "2022-06-01T13:01:08.592Z"
   },
   {
    "duration": 88,
    "start_time": "2022-06-01T13:02:47.523Z"
   },
   {
    "duration": 91,
    "start_time": "2022-06-01T13:02:54.974Z"
   },
   {
    "duration": 112,
    "start_time": "2022-06-01T13:02:58.024Z"
   },
   {
    "duration": 90,
    "start_time": "2022-06-01T13:03:01.726Z"
   },
   {
    "duration": 101,
    "start_time": "2022-06-01T13:03:04.317Z"
   },
   {
    "duration": 108,
    "start_time": "2022-06-01T13:03:37.380Z"
   },
   {
    "duration": 140,
    "start_time": "2022-06-01T13:03:43.729Z"
   },
   {
    "duration": 143,
    "start_time": "2022-06-01T13:04:58.152Z"
   },
   {
    "duration": 85,
    "start_time": "2022-06-01T13:05:39.919Z"
   },
   {
    "duration": 117,
    "start_time": "2022-06-01T13:05:43.850Z"
   },
   {
    "duration": 117,
    "start_time": "2022-06-01T13:05:52.890Z"
   },
   {
    "duration": 111,
    "start_time": "2022-06-01T13:06:12.875Z"
   },
   {
    "duration": 126,
    "start_time": "2022-06-01T13:06:47.220Z"
   },
   {
    "duration": 118,
    "start_time": "2022-06-01T13:06:49.744Z"
   },
   {
    "duration": 125,
    "start_time": "2022-06-01T13:07:00.280Z"
   },
   {
    "duration": 115,
    "start_time": "2022-06-01T13:07:07.901Z"
   },
   {
    "duration": 16,
    "start_time": "2022-06-01T13:09:58.736Z"
   },
   {
    "duration": 11,
    "start_time": "2022-06-01T13:10:09.024Z"
   },
   {
    "duration": 4,
    "start_time": "2022-06-01T13:10:31.282Z"
   },
   {
    "duration": 5,
    "start_time": "2022-06-01T13:10:35.320Z"
   },
   {
    "duration": 12,
    "start_time": "2022-06-01T13:10:45.742Z"
   },
   {
    "duration": 6,
    "start_time": "2022-06-01T13:10:55.060Z"
   },
   {
    "duration": 5,
    "start_time": "2022-06-01T13:10:58.799Z"
   },
   {
    "duration": 74,
    "start_time": "2022-06-01T13:11:41.247Z"
   },
   {
    "duration": 6,
    "start_time": "2022-06-01T13:11:43.756Z"
   },
   {
    "duration": 9,
    "start_time": "2022-06-01T13:11:51.161Z"
   },
   {
    "duration": 2476,
    "start_time": "2022-06-01T13:12:00.403Z"
   },
   {
    "duration": 987,
    "start_time": "2022-06-01T13:12:02.882Z"
   },
   {
    "duration": 6,
    "start_time": "2022-06-01T13:12:03.871Z"
   },
   {
    "duration": 397,
    "start_time": "2022-06-01T13:12:03.879Z"
   },
   {
    "duration": 244,
    "start_time": "2022-06-01T13:12:04.279Z"
   },
   {
    "duration": 8,
    "start_time": "2022-06-01T13:12:04.525Z"
   },
   {
    "duration": 147,
    "start_time": "2022-06-01T13:12:04.536Z"
   },
   {
    "duration": 62,
    "start_time": "2022-06-01T13:12:04.685Z"
   },
   {
    "duration": 262,
    "start_time": "2022-06-01T13:12:04.748Z"
   },
   {
    "duration": 236,
    "start_time": "2022-06-01T13:12:05.012Z"
   },
   {
    "duration": 4,
    "start_time": "2022-06-01T13:12:05.250Z"
   },
   {
    "duration": 162,
    "start_time": "2022-06-01T13:12:05.256Z"
   },
   {
    "duration": 131,
    "start_time": "2022-06-01T13:12:05.420Z"
   },
   {
    "duration": 54,
    "start_time": "2022-06-01T13:12:05.555Z"
   },
   {
    "duration": 1183,
    "start_time": "2022-06-01T13:12:05.632Z"
   },
   {
    "duration": 456,
    "start_time": "2022-06-01T13:12:06.818Z"
   },
   {
    "duration": 173,
    "start_time": "2022-06-01T13:12:07.277Z"
   },
   {
    "duration": 30,
    "start_time": "2022-06-01T13:12:07.453Z"
   },
   {
    "duration": 369,
    "start_time": "2022-06-01T13:12:07.485Z"
   },
   {
    "duration": 79,
    "start_time": "2022-06-01T13:12:07.856Z"
   },
   {
    "duration": 66,
    "start_time": "2022-06-01T13:12:07.937Z"
   },
   {
    "duration": 365,
    "start_time": "2022-06-01T13:12:08.006Z"
   },
   {
    "duration": 292,
    "start_time": "2022-06-01T13:12:08.374Z"
   },
   {
    "duration": 20,
    "start_time": "2022-06-01T13:12:08.668Z"
   },
   {
    "duration": 46,
    "start_time": "2022-06-01T13:12:08.690Z"
   },
   {
    "duration": 90,
    "start_time": "2022-06-01T13:12:17.468Z"
   },
   {
    "duration": 1905,
    "start_time": "2022-06-01T13:12:22.990Z"
   },
   {
    "duration": 691,
    "start_time": "2022-06-01T13:12:24.898Z"
   },
   {
    "duration": 10,
    "start_time": "2022-06-01T13:12:25.596Z"
   },
   {
    "duration": 555,
    "start_time": "2022-06-01T13:12:25.608Z"
   },
   {
    "duration": 279,
    "start_time": "2022-06-01T13:12:26.166Z"
   },
   {
    "duration": 6,
    "start_time": "2022-06-01T13:12:26.450Z"
   },
   {
    "duration": 136,
    "start_time": "2022-06-01T13:12:26.459Z"
   },
   {
    "duration": 59,
    "start_time": "2022-06-01T13:12:26.597Z"
   },
   {
    "duration": 241,
    "start_time": "2022-06-01T13:12:26.658Z"
   },
   {
    "duration": 259,
    "start_time": "2022-06-01T13:12:26.901Z"
   },
   {
    "duration": 3,
    "start_time": "2022-06-01T13:12:27.162Z"
   },
   {
    "duration": 171,
    "start_time": "2022-06-01T13:12:27.167Z"
   },
   {
    "duration": 136,
    "start_time": "2022-06-01T13:12:27.339Z"
   },
   {
    "duration": 74,
    "start_time": "2022-06-01T13:12:27.480Z"
   },
   {
    "duration": 1147,
    "start_time": "2022-06-01T13:12:27.556Z"
   },
   {
    "duration": 441,
    "start_time": "2022-06-01T13:12:28.706Z"
   },
   {
    "duration": 157,
    "start_time": "2022-06-01T13:12:29.154Z"
   },
   {
    "duration": 54,
    "start_time": "2022-06-01T13:12:29.313Z"
   },
   {
    "duration": 377,
    "start_time": "2022-06-01T13:12:29.370Z"
   },
   {
    "duration": 106,
    "start_time": "2022-06-01T13:12:29.748Z"
   },
   {
    "duration": 91,
    "start_time": "2022-06-01T13:12:29.861Z"
   },
   {
    "duration": 320,
    "start_time": "2022-06-01T13:12:29.954Z"
   },
   {
    "duration": 292,
    "start_time": "2022-06-01T13:12:30.277Z"
   },
   {
    "duration": 24,
    "start_time": "2022-06-01T13:12:30.571Z"
   },
   {
    "duration": 48,
    "start_time": "2022-06-01T13:12:30.597Z"
   },
   {
    "duration": 68,
    "start_time": "2022-06-01T13:12:38.823Z"
   },
   {
    "duration": 2084,
    "start_time": "2022-06-01T13:12:44.150Z"
   },
   {
    "duration": 726,
    "start_time": "2022-06-01T13:12:46.244Z"
   },
   {
    "duration": 7,
    "start_time": "2022-06-01T13:12:46.973Z"
   },
   {
    "duration": 517,
    "start_time": "2022-06-01T13:12:46.982Z"
   },
   {
    "duration": 245,
    "start_time": "2022-06-01T13:12:47.501Z"
   },
   {
    "duration": 5,
    "start_time": "2022-06-01T13:12:47.749Z"
   },
   {
    "duration": 146,
    "start_time": "2022-06-01T13:12:47.757Z"
   },
   {
    "duration": 63,
    "start_time": "2022-06-01T13:12:47.905Z"
   },
   {
    "duration": 276,
    "start_time": "2022-06-01T13:12:47.970Z"
   },
   {
    "duration": 345,
    "start_time": "2022-06-01T13:12:48.252Z"
   },
   {
    "duration": 4,
    "start_time": "2022-06-01T13:12:48.599Z"
   },
   {
    "duration": 246,
    "start_time": "2022-06-01T13:12:48.605Z"
   },
   {
    "duration": 138,
    "start_time": "2022-06-01T13:12:48.853Z"
   },
   {
    "duration": 74,
    "start_time": "2022-06-01T13:12:48.993Z"
   },
   {
    "duration": 1299,
    "start_time": "2022-06-01T13:12:49.069Z"
   },
   {
    "duration": 465,
    "start_time": "2022-06-01T13:12:50.370Z"
   },
   {
    "duration": 166,
    "start_time": "2022-06-01T13:12:50.837Z"
   },
   {
    "duration": 41,
    "start_time": "2022-06-01T13:12:51.006Z"
   },
   {
    "duration": 458,
    "start_time": "2022-06-01T13:12:51.055Z"
   },
   {
    "duration": 122,
    "start_time": "2022-06-01T13:12:51.515Z"
   },
   {
    "duration": 102,
    "start_time": "2022-06-01T13:12:51.638Z"
   },
   {
    "duration": 431,
    "start_time": "2022-06-01T13:12:51.742Z"
   },
   {
    "duration": 330,
    "start_time": "2022-06-01T13:12:52.176Z"
   },
   {
    "duration": 46,
    "start_time": "2022-06-01T13:12:52.509Z"
   },
   {
    "duration": 54,
    "start_time": "2022-06-01T13:12:52.557Z"
   },
   {
    "duration": 2310,
    "start_time": "2022-06-01T13:13:03.433Z"
   },
   {
    "duration": 890,
    "start_time": "2022-06-01T13:13:05.746Z"
   },
   {
    "duration": 10,
    "start_time": "2022-06-01T13:13:06.638Z"
   },
   {
    "duration": 523,
    "start_time": "2022-06-01T13:13:06.652Z"
   },
   {
    "duration": 279,
    "start_time": "2022-06-01T13:13:07.179Z"
   },
   {
    "duration": 4,
    "start_time": "2022-06-01T13:13:07.460Z"
   },
   {
    "duration": 189,
    "start_time": "2022-06-01T13:13:07.466Z"
   },
   {
    "duration": 58,
    "start_time": "2022-06-01T13:13:07.656Z"
   },
   {
    "duration": 402,
    "start_time": "2022-06-01T13:13:07.729Z"
   },
   {
    "duration": 327,
    "start_time": "2022-06-01T13:13:08.134Z"
   },
   {
    "duration": 3,
    "start_time": "2022-06-01T13:13:08.464Z"
   },
   {
    "duration": 274,
    "start_time": "2022-06-01T13:13:08.470Z"
   },
   {
    "duration": 184,
    "start_time": "2022-06-01T13:13:08.751Z"
   },
   {
    "duration": 59,
    "start_time": "2022-06-01T13:13:08.942Z"
   },
   {
    "duration": 1548,
    "start_time": "2022-06-01T13:13:09.003Z"
   },
   {
    "duration": 701,
    "start_time": "2022-06-01T13:13:10.554Z"
   },
   {
    "duration": 212,
    "start_time": "2022-06-01T13:13:11.258Z"
   },
   {
    "duration": 52,
    "start_time": "2022-06-01T13:13:11.475Z"
   },
   {
    "duration": 474,
    "start_time": "2022-06-01T13:13:11.538Z"
   },
   {
    "duration": 102,
    "start_time": "2022-06-01T13:13:12.014Z"
   },
   {
    "duration": 95,
    "start_time": "2022-06-01T13:13:12.138Z"
   },
   {
    "duration": 380,
    "start_time": "2022-06-01T13:13:12.235Z"
   },
   {
    "duration": 271,
    "start_time": "2022-06-01T13:13:12.616Z"
   },
   {
    "duration": 40,
    "start_time": "2022-06-01T13:13:12.890Z"
   },
   {
    "duration": 25,
    "start_time": "2022-06-01T13:13:12.933Z"
   },
   {
    "duration": 168,
    "start_time": "2022-06-01T13:13:12.959Z"
   },
   {
    "duration": 163,
    "start_time": "2022-06-01T13:13:13.129Z"
   },
   {
    "duration": 41,
    "start_time": "2022-06-01T13:13:13.297Z"
   },
   {
    "duration": 161,
    "start_time": "2022-06-01T13:13:13.341Z"
   },
   {
    "duration": 37,
    "start_time": "2022-06-01T13:13:13.504Z"
   },
   {
    "duration": 27,
    "start_time": "2022-06-01T13:13:13.547Z"
   },
   {
    "duration": 223,
    "start_time": "2022-06-01T13:13:13.577Z"
   },
   {
    "duration": 0,
    "start_time": "2022-06-01T13:13:13.802Z"
   },
   {
    "duration": 206,
    "start_time": "2022-06-01T13:14:06.866Z"
   },
   {
    "duration": 248,
    "start_time": "2022-06-01T13:14:17.095Z"
   },
   {
    "duration": 154,
    "start_time": "2022-06-01T13:21:50.238Z"
   },
   {
    "duration": 111,
    "start_time": "2022-06-01T13:23:22.295Z"
   },
   {
    "duration": 1223,
    "start_time": "2022-06-01T13:26:57.156Z"
   },
   {
    "duration": 272,
    "start_time": "2022-06-01T13:26:58.382Z"
   },
   {
    "duration": 7,
    "start_time": "2022-06-01T13:26:58.656Z"
   },
   {
    "duration": 338,
    "start_time": "2022-06-01T13:26:58.665Z"
   },
   {
    "duration": 237,
    "start_time": "2022-06-01T13:26:59.006Z"
   },
   {
    "duration": 3,
    "start_time": "2022-06-01T13:26:59.246Z"
   },
   {
    "duration": 137,
    "start_time": "2022-06-01T13:26:59.251Z"
   },
   {
    "duration": 62,
    "start_time": "2022-06-01T13:26:59.389Z"
   },
   {
    "duration": 232,
    "start_time": "2022-06-01T13:26:59.453Z"
   },
   {
    "duration": 222,
    "start_time": "2022-06-01T13:26:59.688Z"
   },
   {
    "duration": 3,
    "start_time": "2022-06-01T13:26:59.911Z"
   },
   {
    "duration": 165,
    "start_time": "2022-06-01T13:26:59.916Z"
   },
   {
    "duration": 162,
    "start_time": "2022-06-01T13:27:00.084Z"
   },
   {
    "duration": 42,
    "start_time": "2022-06-01T13:27:00.248Z"
   },
   {
    "duration": 1091,
    "start_time": "2022-06-01T13:27:00.292Z"
   },
   {
    "duration": 415,
    "start_time": "2022-06-01T13:27:01.385Z"
   },
   {
    "duration": 149,
    "start_time": "2022-06-01T13:27:01.802Z"
   },
   {
    "duration": 31,
    "start_time": "2022-06-01T13:27:01.953Z"
   },
   {
    "duration": 388,
    "start_time": "2022-06-01T13:27:01.986Z"
   },
   {
    "duration": 92,
    "start_time": "2022-06-01T13:27:02.376Z"
   },
   {
    "duration": 80,
    "start_time": "2022-06-01T13:27:02.470Z"
   },
   {
    "duration": 256,
    "start_time": "2022-06-01T13:27:02.552Z"
   },
   {
    "duration": 258,
    "start_time": "2022-06-01T13:27:02.810Z"
   },
   {
    "duration": 18,
    "start_time": "2022-06-01T13:27:03.071Z"
   },
   {
    "duration": 47,
    "start_time": "2022-06-01T13:27:03.091Z"
   },
   {
    "duration": 224,
    "start_time": "2022-06-01T13:27:03.145Z"
   },
   {
    "duration": 125,
    "start_time": "2022-06-01T13:27:03.371Z"
   },
   {
    "duration": 45,
    "start_time": "2022-06-01T13:27:03.500Z"
   },
   {
    "duration": 121,
    "start_time": "2022-06-01T13:27:03.548Z"
   },
   {
    "duration": 23,
    "start_time": "2022-06-01T13:27:03.672Z"
   },
   {
    "duration": 7,
    "start_time": "2022-06-01T13:27:03.697Z"
   },
   {
    "duration": 160,
    "start_time": "2022-06-01T13:27:03.705Z"
   },
   {
    "duration": 0,
    "start_time": "2022-06-01T13:27:03.867Z"
   },
   {
    "duration": 3,
    "start_time": "2022-06-01T13:34:50.653Z"
   },
   {
    "duration": 97,
    "start_time": "2022-06-01T13:34:58.093Z"
   },
   {
    "duration": 32,
    "start_time": "2022-06-01T13:35:03.307Z"
   },
   {
    "duration": 103,
    "start_time": "2022-06-01T13:35:07.708Z"
   },
   {
    "duration": 389,
    "start_time": "2022-06-01T13:41:00.421Z"
   },
   {
    "duration": 363,
    "start_time": "2022-06-01T13:41:18.942Z"
   },
   {
    "duration": 307,
    "start_time": "2022-06-01T13:41:28.225Z"
   },
   {
    "duration": 315,
    "start_time": "2022-06-01T13:41:33.358Z"
   },
   {
    "duration": 303,
    "start_time": "2022-06-01T13:41:36.551Z"
   },
   {
    "duration": 372,
    "start_time": "2022-06-01T13:42:09.039Z"
   },
   {
    "duration": 372,
    "start_time": "2022-06-01T13:42:13.213Z"
   },
   {
    "duration": 268,
    "start_time": "2022-06-01T13:42:16.720Z"
   },
   {
    "duration": 381,
    "start_time": "2022-06-01T13:42:22.653Z"
   },
   {
    "duration": 268,
    "start_time": "2022-06-01T13:42:38.603Z"
   },
   {
    "duration": 329,
    "start_time": "2022-06-01T13:42:42.490Z"
   },
   {
    "duration": 349,
    "start_time": "2022-06-01T13:43:15.899Z"
   },
   {
    "duration": 422,
    "start_time": "2022-06-01T13:43:33.881Z"
   },
   {
    "duration": 362,
    "start_time": "2022-06-01T13:44:02.773Z"
   },
   {
    "duration": 353,
    "start_time": "2022-06-01T13:44:11.464Z"
   },
   {
    "duration": 378,
    "start_time": "2022-06-01T13:44:22.163Z"
   },
   {
    "duration": 109,
    "start_time": "2022-06-01T13:46:18.544Z"
   },
   {
    "duration": 308,
    "start_time": "2022-06-01T13:46:29.914Z"
   },
   {
    "duration": 292,
    "start_time": "2022-06-01T13:46:56.053Z"
   },
   {
    "duration": 123,
    "start_time": "2022-06-01T13:47:24.862Z"
   },
   {
    "duration": 111,
    "start_time": "2022-06-01T13:47:27.371Z"
   },
   {
    "duration": 315,
    "start_time": "2022-06-01T13:47:30.820Z"
   },
   {
    "duration": 211,
    "start_time": "2022-06-01T13:49:03.168Z"
   },
   {
    "duration": 210,
    "start_time": "2022-06-01T14:06:17.905Z"
   },
   {
    "duration": 10,
    "start_time": "2022-06-01T16:39:01.818Z"
   },
   {
    "duration": 87,
    "start_time": "2022-06-01T17:11:31.721Z"
   },
   {
    "duration": 14,
    "start_time": "2022-06-01T17:11:35.330Z"
   },
   {
    "duration": 30,
    "start_time": "2022-06-01T17:11:42.012Z"
   },
   {
    "duration": 21,
    "start_time": "2022-06-01T17:12:35.641Z"
   },
   {
    "duration": 15,
    "start_time": "2022-06-01T17:12:44.542Z"
   },
   {
    "duration": 111,
    "start_time": "2022-06-01T17:12:55.966Z"
   },
   {
    "duration": 117,
    "start_time": "2022-06-01T17:13:31.117Z"
   },
   {
    "duration": 109,
    "start_time": "2022-06-01T17:13:35.844Z"
   },
   {
    "duration": 300,
    "start_time": "2022-06-01T17:16:21.888Z"
   },
   {
    "duration": 174,
    "start_time": "2022-06-01T17:17:03.224Z"
   },
   {
    "duration": 18,
    "start_time": "2022-06-01T17:17:39.104Z"
   },
   {
    "duration": 206,
    "start_time": "2022-06-01T17:23:03.891Z"
   },
   {
    "duration": 711,
    "start_time": "2022-06-01T17:23:25.201Z"
   },
   {
    "duration": 171,
    "start_time": "2022-06-01T17:23:31.231Z"
   },
   {
    "duration": 169,
    "start_time": "2022-06-01T17:23:33.060Z"
   },
   {
    "duration": 19,
    "start_time": "2022-06-01T17:23:45.264Z"
   },
   {
    "duration": 4,
    "start_time": "2022-06-01T17:31:20.206Z"
   },
   {
    "duration": 12,
    "start_time": "2022-06-01T17:32:01.170Z"
   },
   {
    "duration": 126,
    "start_time": "2022-06-01T17:32:42.845Z"
   },
   {
    "duration": 209,
    "start_time": "2022-06-01T17:32:45.907Z"
   },
   {
    "duration": 18,
    "start_time": "2022-06-01T17:32:50.146Z"
   },
   {
    "duration": 14,
    "start_time": "2022-06-01T17:32:54.244Z"
   },
   {
    "duration": 45,
    "start_time": "2022-06-01T17:33:35.608Z"
   },
   {
    "duration": 43,
    "start_time": "2022-06-01T17:34:28.537Z"
   },
   {
    "duration": 23,
    "start_time": "2022-06-01T17:35:04.318Z"
   },
   {
    "duration": 68,
    "start_time": "2022-06-01T17:35:10.435Z"
   },
   {
    "duration": 81,
    "start_time": "2022-06-01T17:35:29.111Z"
   },
   {
    "duration": 74,
    "start_time": "2022-06-01T17:35:48.062Z"
   },
   {
    "duration": 95,
    "start_time": "2022-06-01T17:35:55.708Z"
   },
   {
    "duration": 63,
    "start_time": "2022-06-01T17:40:51.723Z"
   },
   {
    "duration": 70,
    "start_time": "2022-06-01T17:40:57.415Z"
   },
   {
    "duration": 70,
    "start_time": "2022-06-01T17:41:03.784Z"
   },
   {
    "duration": 69,
    "start_time": "2022-06-01T17:41:11.550Z"
   },
   {
    "duration": 64,
    "start_time": "2022-06-01T17:41:26.511Z"
   },
   {
    "duration": 13,
    "start_time": "2022-06-01T17:45:10.677Z"
   },
   {
    "duration": 15,
    "start_time": "2022-06-01T17:45:24.361Z"
   },
   {
    "duration": 7,
    "start_time": "2022-06-01T17:45:29.605Z"
   },
   {
    "duration": 106,
    "start_time": "2022-06-01T17:50:59.531Z"
   },
   {
    "duration": 116,
    "start_time": "2022-06-01T17:52:10.510Z"
   },
   {
    "duration": 188,
    "start_time": "2022-06-01T17:53:10.970Z"
   },
   {
    "duration": 16,
    "start_time": "2022-06-01T17:53:20.192Z"
   },
   {
    "duration": 10,
    "start_time": "2022-06-01T17:57:24.196Z"
   },
   {
    "duration": 16,
    "start_time": "2022-06-01T17:57:36.199Z"
   },
   {
    "duration": 15,
    "start_time": "2022-06-01T17:57:36.289Z"
   },
   {
    "duration": 316,
    "start_time": "2022-06-01T18:09:00.005Z"
   },
   {
    "duration": 228,
    "start_time": "2022-06-01T18:09:03.939Z"
   },
   {
    "duration": 251,
    "start_time": "2022-06-01T18:09:15.911Z"
   },
   {
    "duration": 18,
    "start_time": "2022-06-01T18:09:53.736Z"
   },
   {
    "duration": 1396,
    "start_time": "2022-06-01T18:10:30.281Z"
   },
   {
    "duration": 260,
    "start_time": "2022-06-01T18:10:31.679Z"
   },
   {
    "duration": 8,
    "start_time": "2022-06-01T18:10:31.941Z"
   },
   {
    "duration": 403,
    "start_time": "2022-06-01T18:10:31.951Z"
   },
   {
    "duration": 247,
    "start_time": "2022-06-01T18:10:32.356Z"
   },
   {
    "duration": 3,
    "start_time": "2022-06-01T18:10:32.605Z"
   },
   {
    "duration": 121,
    "start_time": "2022-06-01T18:10:32.609Z"
   },
   {
    "duration": 51,
    "start_time": "2022-06-01T18:10:32.732Z"
   },
   {
    "duration": 252,
    "start_time": "2022-06-01T18:10:32.785Z"
   },
   {
    "duration": 214,
    "start_time": "2022-06-01T18:10:33.041Z"
   },
   {
    "duration": 3,
    "start_time": "2022-06-01T18:10:33.258Z"
   },
   {
    "duration": 153,
    "start_time": "2022-06-01T18:10:33.262Z"
   },
   {
    "duration": 114,
    "start_time": "2022-06-01T18:10:33.418Z"
   },
   {
    "duration": 44,
    "start_time": "2022-06-01T18:10:33.534Z"
   },
   {
    "duration": 992,
    "start_time": "2022-06-01T18:10:33.580Z"
   },
   {
    "duration": 1202,
    "start_time": "2022-06-01T18:16:49.258Z"
   },
   {
    "duration": 246,
    "start_time": "2022-06-01T18:16:50.462Z"
   },
   {
    "duration": 6,
    "start_time": "2022-06-01T18:16:50.710Z"
   },
   {
    "duration": 339,
    "start_time": "2022-06-01T18:16:50.718Z"
   },
   {
    "duration": 202,
    "start_time": "2022-06-01T18:16:51.059Z"
   },
   {
    "duration": 3,
    "start_time": "2022-06-01T18:16:51.263Z"
   },
   {
    "duration": 115,
    "start_time": "2022-06-01T18:16:51.267Z"
   },
   {
    "duration": 47,
    "start_time": "2022-06-01T18:16:51.384Z"
   },
   {
    "duration": 214,
    "start_time": "2022-06-01T18:16:51.433Z"
   },
   {
    "duration": 205,
    "start_time": "2022-06-01T18:16:51.649Z"
   },
   {
    "duration": 3,
    "start_time": "2022-06-01T18:16:51.856Z"
   },
   {
    "duration": 159,
    "start_time": "2022-06-01T18:16:51.860Z"
   },
   {
    "duration": 116,
    "start_time": "2022-06-01T18:16:52.025Z"
   },
   {
    "duration": 37,
    "start_time": "2022-06-01T18:16:52.144Z"
   },
   {
    "duration": 1048,
    "start_time": "2022-06-01T18:16:52.183Z"
   },
   {
    "duration": 18,
    "start_time": "2022-06-01T18:16:53.233Z"
   },
   {
    "duration": 377,
    "start_time": "2022-06-01T18:16:53.253Z"
   },
   {
    "duration": 132,
    "start_time": "2022-06-01T18:16:53.632Z"
   },
   {
    "duration": 27,
    "start_time": "2022-06-01T18:16:53.766Z"
   },
   {
    "duration": 316,
    "start_time": "2022-06-01T18:16:53.794Z"
   },
   {
    "duration": 62,
    "start_time": "2022-06-01T18:16:54.112Z"
   },
   {
    "duration": 5,
    "start_time": "2022-06-01T18:16:54.175Z"
   },
   {
    "duration": 0,
    "start_time": "2022-06-01T18:16:54.182Z"
   },
   {
    "duration": 0,
    "start_time": "2022-06-01T18:16:54.183Z"
   },
   {
    "duration": 0,
    "start_time": "2022-06-01T18:16:54.184Z"
   },
   {
    "duration": 0,
    "start_time": "2022-06-01T18:16:54.185Z"
   },
   {
    "duration": 0,
    "start_time": "2022-06-01T18:16:54.186Z"
   },
   {
    "duration": 0,
    "start_time": "2022-06-01T18:16:54.188Z"
   },
   {
    "duration": 0,
    "start_time": "2022-06-01T18:16:54.188Z"
   },
   {
    "duration": 1263,
    "start_time": "2022-06-01T18:21:20.184Z"
   },
   {
    "duration": 252,
    "start_time": "2022-06-01T18:21:21.449Z"
   },
   {
    "duration": 6,
    "start_time": "2022-06-01T18:21:21.703Z"
   },
   {
    "duration": 368,
    "start_time": "2022-06-01T18:21:21.712Z"
   },
   {
    "duration": 212,
    "start_time": "2022-06-01T18:21:22.082Z"
   },
   {
    "duration": 3,
    "start_time": "2022-06-01T18:21:22.296Z"
   },
   {
    "duration": 159,
    "start_time": "2022-06-01T18:21:22.301Z"
   },
   {
    "duration": 63,
    "start_time": "2022-06-01T18:21:22.463Z"
   },
   {
    "duration": 239,
    "start_time": "2022-06-01T18:21:22.528Z"
   },
   {
    "duration": 207,
    "start_time": "2022-06-01T18:21:22.769Z"
   },
   {
    "duration": 3,
    "start_time": "2022-06-01T18:21:22.978Z"
   },
   {
    "duration": 152,
    "start_time": "2022-06-01T18:21:22.983Z"
   },
   {
    "duration": 107,
    "start_time": "2022-06-01T18:21:23.137Z"
   },
   {
    "duration": 34,
    "start_time": "2022-06-01T18:21:23.246Z"
   },
   {
    "duration": 997,
    "start_time": "2022-06-01T18:21:23.282Z"
   },
   {
    "duration": 28,
    "start_time": "2022-06-01T18:21:24.282Z"
   },
   {
    "duration": 420,
    "start_time": "2022-06-01T18:21:24.312Z"
   },
   {
    "duration": 142,
    "start_time": "2022-06-01T18:21:24.734Z"
   },
   {
    "duration": 29,
    "start_time": "2022-06-01T18:21:24.878Z"
   },
   {
    "duration": 303,
    "start_time": "2022-06-01T18:21:24.925Z"
   },
   {
    "duration": 69,
    "start_time": "2022-06-01T18:21:25.230Z"
   },
   {
    "duration": 348,
    "start_time": "2022-06-01T18:21:25.300Z"
   },
   {
    "duration": 308,
    "start_time": "2022-06-01T18:21:25.650Z"
   },
   {
    "duration": 16,
    "start_time": "2022-06-01T18:21:25.960Z"
   },
   {
    "duration": 85,
    "start_time": "2022-06-01T18:21:25.978Z"
   },
   {
    "duration": 26,
    "start_time": "2022-06-01T18:21:26.064Z"
   },
   {
    "duration": 98,
    "start_time": "2022-06-01T18:21:26.092Z"
   },
   {
    "duration": 23,
    "start_time": "2022-06-01T18:24:02.784Z"
   },
   {
    "duration": 10,
    "start_time": "2022-06-01T18:24:50.119Z"
   },
   {
    "duration": 500,
    "start_time": "2022-06-01T18:25:14.101Z"
   },
   {
    "duration": 432,
    "start_time": "2022-06-01T18:25:23.098Z"
   },
   {
    "duration": 1269,
    "start_time": "2022-06-01T18:26:31.489Z"
   },
   {
    "duration": 1114,
    "start_time": "2022-06-01T18:29:03.486Z"
   },
   {
    "duration": 1297,
    "start_time": "2022-06-01T18:29:21.105Z"
   },
   {
    "duration": 1203,
    "start_time": "2022-06-01T18:29:29.543Z"
   },
   {
    "duration": 1336,
    "start_time": "2022-06-01T18:29:45.004Z"
   },
   {
    "duration": 1282,
    "start_time": "2022-06-01T18:30:09.510Z"
   },
   {
    "duration": 1025,
    "start_time": "2022-06-01T19:04:13.395Z"
   },
   {
    "duration": 1386,
    "start_time": "2022-06-01T19:05:14.733Z"
   },
   {
    "duration": 1056,
    "start_time": "2022-06-01T19:05:20.199Z"
   },
   {
    "duration": 1398,
    "start_time": "2022-06-01T19:05:50.369Z"
   },
   {
    "duration": 1082,
    "start_time": "2022-06-01T19:06:09.490Z"
   },
   {
    "duration": 1408,
    "start_time": "2022-06-01T19:06:23.767Z"
   },
   {
    "duration": 7,
    "start_time": "2022-06-01T19:06:47.031Z"
   },
   {
    "duration": 6,
    "start_time": "2022-06-01T19:06:53.138Z"
   },
   {
    "duration": 7,
    "start_time": "2022-06-01T19:06:56.016Z"
   },
   {
    "duration": 1024,
    "start_time": "2022-06-01T19:07:46.603Z"
   },
   {
    "duration": 10,
    "start_time": "2022-06-01T19:08:22.190Z"
   },
   {
    "duration": 8,
    "start_time": "2022-06-01T19:08:27.752Z"
   },
   {
    "duration": 9,
    "start_time": "2022-06-01T19:08:40.435Z"
   },
   {
    "duration": 8,
    "start_time": "2022-06-01T19:08:46.132Z"
   },
   {
    "duration": 9,
    "start_time": "2022-06-01T19:09:25.392Z"
   },
   {
    "duration": 8,
    "start_time": "2022-06-01T19:09:42.872Z"
   },
   {
    "duration": 8,
    "start_time": "2022-06-01T19:10:06.087Z"
   },
   {
    "duration": 15,
    "start_time": "2022-06-01T19:16:07.819Z"
   },
   {
    "duration": 10,
    "start_time": "2022-06-01T19:19:08.963Z"
   },
   {
    "duration": 23,
    "start_time": "2022-06-01T19:19:17.590Z"
   },
   {
    "duration": 52,
    "start_time": "2022-06-01T19:19:42.195Z"
   },
   {
    "duration": 52,
    "start_time": "2022-06-01T19:19:46.946Z"
   },
   {
    "duration": 62,
    "start_time": "2022-06-01T19:20:17.625Z"
   },
   {
    "duration": 75,
    "start_time": "2022-06-01T19:20:20.879Z"
   },
   {
    "duration": 193,
    "start_time": "2022-06-01T19:20:53.282Z"
   },
   {
    "duration": 75,
    "start_time": "2022-06-01T19:21:31.463Z"
   },
   {
    "duration": 78,
    "start_time": "2022-06-01T19:23:18.668Z"
   },
   {
    "duration": 89,
    "start_time": "2022-06-01T19:24:01.941Z"
   },
   {
    "duration": 84,
    "start_time": "2022-06-01T19:24:04.605Z"
   },
   {
    "duration": 80,
    "start_time": "2022-06-01T19:24:13.673Z"
   },
   {
    "duration": 75,
    "start_time": "2022-06-01T19:24:33.427Z"
   },
   {
    "duration": 76,
    "start_time": "2022-06-01T19:24:37.896Z"
   },
   {
    "duration": 92,
    "start_time": "2022-06-01T19:26:20.173Z"
   },
   {
    "duration": 95,
    "start_time": "2022-06-01T19:26:24.008Z"
   },
   {
    "duration": 86,
    "start_time": "2022-06-01T19:26:29.462Z"
   },
   {
    "duration": 86,
    "start_time": "2022-06-01T19:26:34.797Z"
   },
   {
    "duration": 89,
    "start_time": "2022-06-01T19:27:07.130Z"
   },
   {
    "duration": 82,
    "start_time": "2022-06-01T19:27:10.463Z"
   },
   {
    "duration": 83,
    "start_time": "2022-06-01T19:27:20.469Z"
   },
   {
    "duration": 107,
    "start_time": "2022-06-01T19:27:25.539Z"
   },
   {
    "duration": 93,
    "start_time": "2022-06-01T19:27:31.760Z"
   },
   {
    "duration": 106,
    "start_time": "2022-06-01T19:28:05.754Z"
   },
   {
    "duration": 4,
    "start_time": "2022-06-01T19:28:49.695Z"
   },
   {
    "duration": 91,
    "start_time": "2022-06-01T19:29:02.968Z"
   },
   {
    "duration": 91,
    "start_time": "2022-06-01T19:29:18.390Z"
   },
   {
    "duration": 94,
    "start_time": "2022-06-01T19:29:28.842Z"
   },
   {
    "duration": 89,
    "start_time": "2022-06-01T19:30:33.176Z"
   },
   {
    "duration": 113,
    "start_time": "2022-06-01T19:31:27.723Z"
   },
   {
    "duration": 506,
    "start_time": "2022-06-01T19:31:41.268Z"
   },
   {
    "duration": 5,
    "start_time": "2022-06-01T19:32:33.771Z"
   },
   {
    "duration": 526,
    "start_time": "2022-06-01T19:32:36.865Z"
   },
   {
    "duration": 135,
    "start_time": "2022-06-01T19:32:46.663Z"
   },
   {
    "duration": 695,
    "start_time": "2022-06-01T19:33:00.823Z"
   },
   {
    "duration": 40,
    "start_time": "2022-06-01T19:34:00.068Z"
   },
   {
    "duration": 95,
    "start_time": "2022-06-01T19:34:03.681Z"
   },
   {
    "duration": 96,
    "start_time": "2022-06-01T19:34:10.002Z"
   },
   {
    "duration": 100,
    "start_time": "2022-06-01T19:34:33.556Z"
   },
   {
    "duration": 100,
    "start_time": "2022-06-01T19:34:48.767Z"
   },
   {
    "duration": 5,
    "start_time": "2022-06-01T19:35:01.124Z"
   },
   {
    "duration": 90,
    "start_time": "2022-06-01T19:35:06.016Z"
   },
   {
    "duration": 92,
    "start_time": "2022-06-01T19:35:27.063Z"
   },
   {
    "duration": 96,
    "start_time": "2022-06-01T19:36:13.266Z"
   },
   {
    "duration": 95,
    "start_time": "2022-06-01T19:36:55.807Z"
   },
   {
    "duration": 98,
    "start_time": "2022-06-01T19:37:01.390Z"
   },
   {
    "duration": 100,
    "start_time": "2022-06-01T19:37:04.885Z"
   },
   {
    "duration": 95,
    "start_time": "2022-06-01T19:37:08.564Z"
   },
   {
    "duration": 98,
    "start_time": "2022-06-01T19:37:13.875Z"
   },
   {
    "duration": 102,
    "start_time": "2022-06-01T19:37:16.531Z"
   },
   {
    "duration": 99,
    "start_time": "2022-06-01T19:37:24.163Z"
   },
   {
    "duration": 97,
    "start_time": "2022-06-01T19:37:29.763Z"
   },
   {
    "duration": 102,
    "start_time": "2022-06-01T19:38:07.738Z"
   },
   {
    "duration": 110,
    "start_time": "2022-06-01T19:39:54.023Z"
   },
   {
    "duration": 119,
    "start_time": "2022-06-01T19:40:18.217Z"
   },
   {
    "duration": 110,
    "start_time": "2022-06-01T19:40:21.306Z"
   },
   {
    "duration": 28,
    "start_time": "2022-06-01T19:40:35.793Z"
   },
   {
    "duration": 101,
    "start_time": "2022-06-01T19:40:43.227Z"
   },
   {
    "duration": 102,
    "start_time": "2022-06-01T19:41:24.425Z"
   },
   {
    "duration": 95,
    "start_time": "2022-06-01T19:41:28.089Z"
   },
   {
    "duration": 5,
    "start_time": "2022-06-01T19:42:21.156Z"
   },
   {
    "duration": 4,
    "start_time": "2022-06-01T19:42:57.240Z"
   },
   {
    "duration": 26,
    "start_time": "2022-06-01T19:43:17.269Z"
   },
   {
    "duration": 97,
    "start_time": "2022-06-01T19:44:16.634Z"
   },
   {
    "duration": 4,
    "start_time": "2022-06-01T19:45:56.294Z"
   },
   {
    "duration": 5,
    "start_time": "2022-06-01T19:47:49.532Z"
   },
   {
    "duration": 108,
    "start_time": "2022-06-01T19:52:06.327Z"
   },
   {
    "duration": 95,
    "start_time": "2022-06-01T19:52:11.881Z"
   },
   {
    "duration": 104,
    "start_time": "2022-06-01T19:52:27.668Z"
   },
   {
    "duration": 103,
    "start_time": "2022-06-01T19:52:30.981Z"
   },
   {
    "duration": 98,
    "start_time": "2022-06-01T19:52:34.440Z"
   },
   {
    "duration": 101,
    "start_time": "2022-06-01T19:52:39.412Z"
   },
   {
    "duration": 103,
    "start_time": "2022-06-01T19:53:39.538Z"
   },
   {
    "duration": 107,
    "start_time": "2022-06-01T19:54:34.026Z"
   },
   {
    "duration": 99,
    "start_time": "2022-06-01T19:55:08.688Z"
   },
   {
    "duration": 211,
    "start_time": "2022-06-01T19:55:15.199Z"
   },
   {
    "duration": 90,
    "start_time": "2022-06-01T19:55:26.186Z"
   },
   {
    "duration": 197,
    "start_time": "2022-06-01T19:55:33.055Z"
   },
   {
    "duration": 85,
    "start_time": "2022-06-01T19:55:46.717Z"
   },
   {
    "duration": 85,
    "start_time": "2022-06-01T19:55:50.806Z"
   },
   {
    "duration": 197,
    "start_time": "2022-06-01T19:56:50.747Z"
   },
   {
    "duration": 202,
    "start_time": "2022-06-01T19:57:12.384Z"
   },
   {
    "duration": 206,
    "start_time": "2022-06-01T19:57:19.870Z"
   },
   {
    "duration": 199,
    "start_time": "2022-06-01T19:57:27.129Z"
   },
   {
    "duration": 71,
    "start_time": "2022-06-01T19:57:32.488Z"
   },
   {
    "duration": 86,
    "start_time": "2022-06-01T19:57:37.886Z"
   },
   {
    "duration": 78,
    "start_time": "2022-06-01T19:58:21.200Z"
   },
   {
    "duration": 82,
    "start_time": "2022-06-01T19:58:24.351Z"
   },
   {
    "duration": 81,
    "start_time": "2022-06-01T19:58:31.611Z"
   },
   {
    "duration": 83,
    "start_time": "2022-06-01T19:58:34.138Z"
   },
   {
    "duration": 198,
    "start_time": "2022-06-01T19:58:52.454Z"
   },
   {
    "duration": 83,
    "start_time": "2022-06-01T19:58:58.938Z"
   },
   {
    "duration": 3123,
    "start_time": "2022-06-01T19:59:32.586Z"
   },
   {
    "duration": 515,
    "start_time": "2022-06-01T19:59:54.926Z"
   },
   {
    "duration": 84,
    "start_time": "2022-06-01T19:59:57.471Z"
   },
   {
    "duration": 36,
    "start_time": "2022-06-01T20:01:05.184Z"
   },
   {
    "duration": 41,
    "start_time": "2022-06-01T20:01:09.006Z"
   },
   {
    "duration": 127,
    "start_time": "2022-06-01T20:02:18.371Z"
   },
   {
    "duration": 38,
    "start_time": "2022-06-01T20:04:11.656Z"
   },
   {
    "duration": 112,
    "start_time": "2022-06-01T20:04:25.490Z"
   },
   {
    "duration": 125,
    "start_time": "2022-06-01T20:04:38.378Z"
   },
   {
    "duration": 41,
    "start_time": "2022-06-01T20:04:44.547Z"
   },
   {
    "duration": 43,
    "start_time": "2022-06-01T20:04:57.837Z"
   },
   {
    "duration": 46,
    "start_time": "2022-06-01T20:04:58.327Z"
   },
   {
    "duration": 42,
    "start_time": "2022-06-01T20:04:58.586Z"
   },
   {
    "duration": 43,
    "start_time": "2022-06-01T20:04:58.820Z"
   },
   {
    "duration": 41,
    "start_time": "2022-06-01T20:04:59.006Z"
   },
   {
    "duration": 48,
    "start_time": "2022-06-01T20:04:59.154Z"
   },
   {
    "duration": 44,
    "start_time": "2022-06-01T20:04:59.307Z"
   },
   {
    "duration": 42,
    "start_time": "2022-06-01T20:04:59.465Z"
   },
   {
    "duration": 40,
    "start_time": "2022-06-01T20:04:59.644Z"
   },
   {
    "duration": 48,
    "start_time": "2022-06-01T20:05:04.769Z"
   },
   {
    "duration": 39,
    "start_time": "2022-06-01T20:05:14.945Z"
   },
   {
    "duration": 49,
    "start_time": "2022-06-01T20:05:24.657Z"
   },
   {
    "duration": 46,
    "start_time": "2022-06-01T20:05:36.497Z"
   },
   {
    "duration": 51,
    "start_time": "2022-06-01T20:05:39.867Z"
   },
   {
    "duration": 41,
    "start_time": "2022-06-01T20:05:50.549Z"
   },
   {
    "duration": 123,
    "start_time": "2022-06-01T20:05:59.652Z"
   },
   {
    "duration": 121,
    "start_time": "2022-06-01T20:06:23.075Z"
   },
   {
    "duration": 123,
    "start_time": "2022-06-01T20:06:46.527Z"
   },
   {
    "duration": 15,
    "start_time": "2022-06-01T20:11:21.743Z"
   },
   {
    "duration": 14,
    "start_time": "2022-06-01T20:11:41.666Z"
   },
   {
    "duration": 14,
    "start_time": "2022-06-01T20:12:05.768Z"
   },
   {
    "duration": 16,
    "start_time": "2022-06-01T20:13:11.026Z"
   },
   {
    "duration": 4,
    "start_time": "2022-06-01T20:13:23.472Z"
   },
   {
    "duration": 15,
    "start_time": "2022-06-01T20:13:27.007Z"
   },
   {
    "duration": 16,
    "start_time": "2022-06-01T20:13:43.893Z"
   },
   {
    "duration": 17,
    "start_time": "2022-06-01T20:14:32.459Z"
   },
   {
    "duration": 16,
    "start_time": "2022-06-01T20:14:48.055Z"
   },
   {
    "duration": 13,
    "start_time": "2022-06-01T20:15:28.754Z"
   },
   {
    "duration": 4,
    "start_time": "2022-06-01T20:15:57.431Z"
   },
   {
    "duration": 17,
    "start_time": "2022-06-01T20:16:01.801Z"
   },
   {
    "duration": 24,
    "start_time": "2022-06-01T20:16:09.556Z"
   },
   {
    "duration": 17,
    "start_time": "2022-06-01T20:16:20.770Z"
   },
   {
    "duration": 22,
    "start_time": "2022-06-01T20:16:35.603Z"
   },
   {
    "duration": 17,
    "start_time": "2022-06-01T20:17:10.082Z"
   },
   {
    "duration": 17,
    "start_time": "2022-06-01T20:17:11.158Z"
   },
   {
    "duration": 17,
    "start_time": "2022-06-01T20:17:11.332Z"
   },
   {
    "duration": 18,
    "start_time": "2022-06-01T20:17:11.498Z"
   },
   {
    "duration": 19,
    "start_time": "2022-06-01T20:17:11.662Z"
   },
   {
    "duration": 18,
    "start_time": "2022-06-01T20:17:24.557Z"
   },
   {
    "duration": 16,
    "start_time": "2022-06-01T20:17:27.873Z"
   },
   {
    "duration": 6,
    "start_time": "2022-06-01T20:19:00.762Z"
   },
   {
    "duration": 17,
    "start_time": "2022-06-01T20:19:21.956Z"
   },
   {
    "duration": 15,
    "start_time": "2022-06-01T20:19:33.542Z"
   },
   {
    "duration": 16,
    "start_time": "2022-06-01T20:19:39.752Z"
   },
   {
    "duration": 17,
    "start_time": "2022-06-01T20:19:59.431Z"
   },
   {
    "duration": 15,
    "start_time": "2022-06-01T20:20:18.075Z"
   },
   {
    "duration": 17,
    "start_time": "2022-06-01T20:20:21.624Z"
   },
   {
    "duration": 17,
    "start_time": "2022-06-01T20:22:08.987Z"
   },
   {
    "duration": 19,
    "start_time": "2022-06-01T20:22:11.431Z"
   },
   {
    "duration": 18,
    "start_time": "2022-06-01T20:22:47.677Z"
   },
   {
    "duration": 17,
    "start_time": "2022-06-01T20:23:28.319Z"
   },
   {
    "duration": 17,
    "start_time": "2022-06-01T20:23:28.974Z"
   },
   {
    "duration": 19,
    "start_time": "2022-06-01T20:23:29.158Z"
   },
   {
    "duration": 17,
    "start_time": "2022-06-01T20:23:29.298Z"
   },
   {
    "duration": 17,
    "start_time": "2022-06-01T20:23:29.445Z"
   },
   {
    "duration": 16,
    "start_time": "2022-06-01T20:23:29.595Z"
   },
   {
    "duration": 18,
    "start_time": "2022-06-01T20:24:22.344Z"
   },
   {
    "duration": 16,
    "start_time": "2022-06-01T20:24:22.756Z"
   },
   {
    "duration": 16,
    "start_time": "2022-06-01T20:24:22.917Z"
   },
   {
    "duration": 16,
    "start_time": "2022-06-01T20:24:23.069Z"
   },
   {
    "duration": 16,
    "start_time": "2022-06-01T20:29:28.156Z"
   },
   {
    "duration": 219,
    "start_time": "2022-06-01T20:38:22.536Z"
   },
   {
    "duration": 22,
    "start_time": "2022-06-01T20:38:34.801Z"
   },
   {
    "duration": 11,
    "start_time": "2022-06-01T20:39:24.030Z"
   },
   {
    "duration": 1325,
    "start_time": "2022-06-02T05:56:40.225Z"
   },
   {
    "duration": 561,
    "start_time": "2022-06-02T05:56:41.552Z"
   },
   {
    "duration": 6,
    "start_time": "2022-06-02T05:56:42.115Z"
   },
   {
    "duration": 306,
    "start_time": "2022-06-02T05:56:42.122Z"
   },
   {
    "duration": 158,
    "start_time": "2022-06-02T05:56:42.429Z"
   },
   {
    "duration": 3,
    "start_time": "2022-06-02T05:56:42.588Z"
   },
   {
    "duration": 113,
    "start_time": "2022-06-02T05:56:42.592Z"
   },
   {
    "duration": 40,
    "start_time": "2022-06-02T05:56:42.707Z"
   },
   {
    "duration": 203,
    "start_time": "2022-06-02T05:56:42.748Z"
   },
   {
    "duration": 183,
    "start_time": "2022-06-02T05:56:42.953Z"
   },
   {
    "duration": 3,
    "start_time": "2022-06-02T05:56:43.137Z"
   },
   {
    "duration": 135,
    "start_time": "2022-06-02T05:56:43.141Z"
   },
   {
    "duration": 88,
    "start_time": "2022-06-02T05:56:43.278Z"
   },
   {
    "duration": 30,
    "start_time": "2022-06-02T05:56:43.367Z"
   },
   {
    "duration": 879,
    "start_time": "2022-06-02T05:56:43.399Z"
   },
   {
    "duration": 1014,
    "start_time": "2022-06-02T05:56:44.280Z"
   },
   {
    "duration": 944,
    "start_time": "2022-06-02T05:56:45.296Z"
   },
   {
    "duration": 13,
    "start_time": "2022-06-02T05:56:46.242Z"
   },
   {
    "duration": 290,
    "start_time": "2022-06-02T05:56:46.257Z"
   },
   {
    "duration": 25,
    "start_time": "2022-06-02T05:56:46.549Z"
   },
   {
    "duration": 277,
    "start_time": "2022-06-02T05:56:46.575Z"
   },
   {
    "duration": 54,
    "start_time": "2022-06-02T05:56:46.853Z"
   },
   {
    "duration": 202,
    "start_time": "2022-06-02T05:56:46.909Z"
   },
   {
    "duration": 228,
    "start_time": "2022-06-02T05:56:47.127Z"
   },
   {
    "duration": 15,
    "start_time": "2022-06-02T05:56:47.356Z"
   },
   {
    "duration": 16,
    "start_time": "2022-06-02T05:56:47.372Z"
   },
   {
    "duration": 0,
    "start_time": "2022-06-02T05:56:47.389Z"
   },
   {
    "duration": 0,
    "start_time": "2022-06-02T05:56:47.391Z"
   },
   {
    "duration": 0,
    "start_time": "2022-06-02T05:56:47.392Z"
   },
   {
    "duration": 0,
    "start_time": "2022-06-02T05:56:47.393Z"
   },
   {
    "duration": 118,
    "start_time": "2022-06-02T05:57:09.863Z"
   },
   {
    "duration": 10,
    "start_time": "2022-06-02T05:57:14.583Z"
   },
   {
    "duration": 122,
    "start_time": "2022-06-02T05:57:15.213Z"
   },
   {
    "duration": 14,
    "start_time": "2022-06-02T05:57:24.944Z"
   },
   {
    "duration": 6,
    "start_time": "2022-06-02T05:57:47.469Z"
   },
   {
    "duration": 49,
    "start_time": "2022-06-02T06:04:29.635Z"
   },
   {
    "duration": 19,
    "start_time": "2022-06-02T06:04:42.238Z"
   },
   {
    "duration": 63,
    "start_time": "2022-06-02T06:05:02.802Z"
   },
   {
    "duration": 6,
    "start_time": "2022-06-02T06:05:06.386Z"
   },
   {
    "duration": 25,
    "start_time": "2022-06-02T06:05:17.024Z"
   },
   {
    "duration": 5,
    "start_time": "2022-06-02T06:05:19.320Z"
   },
   {
    "duration": 4,
    "start_time": "2022-06-02T06:05:19.483Z"
   },
   {
    "duration": 14,
    "start_time": "2022-06-02T06:05:40.913Z"
   },
   {
    "duration": 42,
    "start_time": "2022-06-02T06:06:05.553Z"
   },
   {
    "duration": 26,
    "start_time": "2022-06-02T06:06:08.661Z"
   },
   {
    "duration": 4,
    "start_time": "2022-06-02T06:06:12.502Z"
   },
   {
    "duration": 5,
    "start_time": "2022-06-02T06:06:14.834Z"
   },
   {
    "duration": 4,
    "start_time": "2022-06-02T06:13:55.229Z"
   },
   {
    "duration": 3,
    "start_time": "2022-06-02T06:13:57.561Z"
   },
   {
    "duration": 4,
    "start_time": "2022-06-02T06:13:57.722Z"
   },
   {
    "duration": 4,
    "start_time": "2022-06-02T06:14:02.625Z"
   },
   {
    "duration": 3,
    "start_time": "2022-06-02T06:14:05.669Z"
   },
   {
    "duration": 4,
    "start_time": "2022-06-02T06:14:15.007Z"
   },
   {
    "duration": 40,
    "start_time": "2022-06-02T06:16:02.335Z"
   },
   {
    "duration": 17,
    "start_time": "2022-06-02T06:16:06.376Z"
   },
   {
    "duration": 3,
    "start_time": "2022-06-02T06:16:28.773Z"
   },
   {
    "duration": 4,
    "start_time": "2022-06-02T06:16:52.248Z"
   },
   {
    "duration": 5,
    "start_time": "2022-06-02T06:16:53.758Z"
   },
   {
    "duration": 13,
    "start_time": "2022-06-02T06:16:55.340Z"
   },
   {
    "duration": 4,
    "start_time": "2022-06-02T06:17:04.634Z"
   },
   {
    "duration": 13,
    "start_time": "2022-06-02T06:17:06.518Z"
   },
   {
    "duration": 12,
    "start_time": "2022-06-02T06:17:09.377Z"
   },
   {
    "duration": 12,
    "start_time": "2022-06-02T06:17:09.570Z"
   },
   {
    "duration": 3,
    "start_time": "2022-06-02T06:17:29.926Z"
   },
   {
    "duration": 4,
    "start_time": "2022-06-02T06:17:31.652Z"
   },
   {
    "duration": 3,
    "start_time": "2022-06-02T06:17:31.846Z"
   },
   {
    "duration": 4,
    "start_time": "2022-06-02T06:17:31.975Z"
   },
   {
    "duration": 14,
    "start_time": "2022-06-02T06:17:36.035Z"
   },
   {
    "duration": 5,
    "start_time": "2022-06-02T06:17:50.942Z"
   },
   {
    "duration": 13,
    "start_time": "2022-06-02T06:17:52.797Z"
   },
   {
    "duration": 6,
    "start_time": "2022-06-02T06:17:57.949Z"
   },
   {
    "duration": 4,
    "start_time": "2022-06-02T06:18:00.463Z"
   },
   {
    "duration": 7,
    "start_time": "2022-06-02T06:18:14.465Z"
   },
   {
    "duration": 5,
    "start_time": "2022-06-02T06:18:16.987Z"
   },
   {
    "duration": 13,
    "start_time": "2022-06-02T06:18:28.773Z"
   },
   {
    "duration": 15,
    "start_time": "2022-06-02T06:22:31.079Z"
   },
   {
    "duration": 15,
    "start_time": "2022-06-02T06:23:14.401Z"
   },
   {
    "duration": 22,
    "start_time": "2022-06-02T06:31:24.802Z"
   },
   {
    "duration": 15,
    "start_time": "2022-06-02T06:31:30.364Z"
   },
   {
    "duration": 14,
    "start_time": "2022-06-02T06:31:38.838Z"
   },
   {
    "duration": 13,
    "start_time": "2022-06-02T06:31:39.436Z"
   },
   {
    "duration": 14,
    "start_time": "2022-06-02T06:32:36.132Z"
   },
   {
    "duration": 3,
    "start_time": "2022-06-02T06:34:22.246Z"
   },
   {
    "duration": 4,
    "start_time": "2022-06-02T06:34:28.598Z"
   },
   {
    "duration": 4,
    "start_time": "2022-06-02T06:34:54.251Z"
   },
   {
    "duration": 368,
    "start_time": "2022-06-02T06:35:43.727Z"
   },
   {
    "duration": 642,
    "start_time": "2022-06-02T06:35:47.462Z"
   },
   {
    "duration": 5,
    "start_time": "2022-06-02T06:35:56.406Z"
   },
   {
    "duration": 19,
    "start_time": "2022-06-02T06:36:16.009Z"
   },
   {
    "duration": 4,
    "start_time": "2022-06-02T06:36:44.657Z"
   },
   {
    "duration": 6,
    "start_time": "2022-06-02T06:37:21.853Z"
   },
   {
    "duration": 15,
    "start_time": "2022-06-02T06:37:56.074Z"
   },
   {
    "duration": 1164,
    "start_time": "2022-06-02T06:38:11.611Z"
   },
   {
    "duration": 220,
    "start_time": "2022-06-02T06:38:12.776Z"
   },
   {
    "duration": 6,
    "start_time": "2022-06-02T06:38:12.997Z"
   },
   {
    "duration": 339,
    "start_time": "2022-06-02T06:38:13.005Z"
   },
   {
    "duration": 163,
    "start_time": "2022-06-02T06:38:13.346Z"
   },
   {
    "duration": 3,
    "start_time": "2022-06-02T06:38:13.511Z"
   },
   {
    "duration": 114,
    "start_time": "2022-06-02T06:38:13.526Z"
   },
   {
    "duration": 54,
    "start_time": "2022-06-02T06:38:13.642Z"
   },
   {
    "duration": 238,
    "start_time": "2022-06-02T06:38:13.698Z"
   },
   {
    "duration": 188,
    "start_time": "2022-06-02T06:38:13.939Z"
   },
   {
    "duration": 3,
    "start_time": "2022-06-02T06:38:14.129Z"
   },
   {
    "duration": 134,
    "start_time": "2022-06-02T06:38:14.134Z"
   },
   {
    "duration": 99,
    "start_time": "2022-06-02T06:38:14.269Z"
   },
   {
    "duration": 31,
    "start_time": "2022-06-02T06:38:14.370Z"
   },
   {
    "duration": 908,
    "start_time": "2022-06-02T06:38:14.403Z"
   },
   {
    "duration": 1102,
    "start_time": "2022-06-02T06:38:15.312Z"
   },
   {
    "duration": 973,
    "start_time": "2022-06-02T06:38:16.416Z"
   },
   {
    "duration": 9,
    "start_time": "2022-06-02T06:38:17.391Z"
   },
   {
    "duration": 235,
    "start_time": "2022-06-02T06:38:17.402Z"
   },
   {
    "duration": 24,
    "start_time": "2022-06-02T06:38:17.638Z"
   },
   {
    "duration": 289,
    "start_time": "2022-06-02T06:38:17.664Z"
   },
   {
    "duration": 56,
    "start_time": "2022-06-02T06:38:17.955Z"
   },
   {
    "duration": 206,
    "start_time": "2022-06-02T06:38:18.012Z"
   },
   {
    "duration": 260,
    "start_time": "2022-06-02T06:38:18.220Z"
   },
   {
    "duration": 14,
    "start_time": "2022-06-02T06:38:18.482Z"
   },
   {
    "duration": 130,
    "start_time": "2022-06-02T06:38:18.497Z"
   },
   {
    "duration": 5,
    "start_time": "2022-06-02T06:38:18.628Z"
   },
   {
    "duration": 11,
    "start_time": "2022-06-02T06:38:18.636Z"
   },
   {
    "duration": 134,
    "start_time": "2022-06-02T06:38:18.648Z"
   },
   {
    "duration": 0,
    "start_time": "2022-06-02T06:38:18.783Z"
   },
   {
    "duration": 5,
    "start_time": "2022-06-02T06:38:40.299Z"
   },
   {
    "duration": 19,
    "start_time": "2022-06-02T06:39:16.727Z"
   },
   {
    "duration": 14,
    "start_time": "2022-06-02T06:39:51.167Z"
   },
   {
    "duration": 6,
    "start_time": "2022-06-02T06:39:56.850Z"
   },
   {
    "duration": 5,
    "start_time": "2022-06-02T06:40:10.916Z"
   },
   {
    "duration": 5,
    "start_time": "2022-06-02T06:44:17.241Z"
   },
   {
    "duration": 8,
    "start_time": "2022-06-02T06:44:36.345Z"
   },
   {
    "duration": 4,
    "start_time": "2022-06-02T06:45:58.192Z"
   },
   {
    "duration": 92,
    "start_time": "2022-06-02T06:59:22.367Z"
   },
   {
    "duration": 10,
    "start_time": "2022-06-02T07:00:32.323Z"
   },
   {
    "duration": 6,
    "start_time": "2022-06-02T07:00:46.665Z"
   },
   {
    "duration": 10,
    "start_time": "2022-06-02T07:00:47.738Z"
   },
   {
    "duration": 13,
    "start_time": "2022-06-02T07:01:12.820Z"
   },
   {
    "duration": 13,
    "start_time": "2022-06-02T07:01:19.517Z"
   },
   {
    "duration": 14,
    "start_time": "2022-06-02T07:01:20.063Z"
   },
   {
    "duration": 12,
    "start_time": "2022-06-02T07:01:20.216Z"
   },
   {
    "duration": 12,
    "start_time": "2022-06-02T07:01:20.383Z"
   },
   {
    "duration": 13,
    "start_time": "2022-06-02T07:01:20.509Z"
   },
   {
    "duration": 13,
    "start_time": "2022-06-02T07:01:20.701Z"
   },
   {
    "duration": 13,
    "start_time": "2022-06-02T07:02:18.618Z"
   },
   {
    "duration": 13,
    "start_time": "2022-06-02T07:02:20.661Z"
   },
   {
    "duration": 25,
    "start_time": "2022-06-02T07:02:34.523Z"
   },
   {
    "duration": 13,
    "start_time": "2022-06-02T07:02:42.702Z"
   },
   {
    "duration": 12,
    "start_time": "2022-06-02T07:03:38.425Z"
   },
   {
    "duration": 4,
    "start_time": "2022-06-02T07:03:41.536Z"
   },
   {
    "duration": 4,
    "start_time": "2022-06-02T07:05:48.762Z"
   },
   {
    "duration": 12,
    "start_time": "2022-06-02T07:05:52.513Z"
   },
   {
    "duration": 5,
    "start_time": "2022-06-02T07:06:24.379Z"
   },
   {
    "duration": 5,
    "start_time": "2022-06-02T07:06:26.076Z"
   },
   {
    "duration": 6,
    "start_time": "2022-06-02T07:06:40.435Z"
   },
   {
    "duration": 6,
    "start_time": "2022-06-02T07:06:51.611Z"
   },
   {
    "duration": 108,
    "start_time": "2022-06-02T07:09:42.569Z"
   },
   {
    "duration": 115,
    "start_time": "2022-06-02T07:10:23.678Z"
   },
   {
    "duration": 133,
    "start_time": "2022-06-02T07:10:36.257Z"
   },
   {
    "duration": 112,
    "start_time": "2022-06-02T07:10:43.826Z"
   },
   {
    "duration": 107,
    "start_time": "2022-06-02T07:10:52.607Z"
   },
   {
    "duration": 105,
    "start_time": "2022-06-02T07:11:02.814Z"
   },
   {
    "duration": 110,
    "start_time": "2022-06-02T07:11:12.652Z"
   },
   {
    "duration": 110,
    "start_time": "2022-06-02T07:11:21.157Z"
   },
   {
    "duration": 102,
    "start_time": "2022-06-02T07:12:21.906Z"
   },
   {
    "duration": 104,
    "start_time": "2022-06-02T07:12:25.151Z"
   },
   {
    "duration": 98,
    "start_time": "2022-06-02T07:12:27.657Z"
   },
   {
    "duration": 99,
    "start_time": "2022-06-02T07:12:42.911Z"
   },
   {
    "duration": 91,
    "start_time": "2022-06-02T07:12:53.921Z"
   },
   {
    "duration": 99,
    "start_time": "2022-06-02T07:13:24.921Z"
   },
   {
    "duration": 102,
    "start_time": "2022-06-02T07:13:41.862Z"
   },
   {
    "duration": 99,
    "start_time": "2022-06-02T07:13:44.530Z"
   },
   {
    "duration": 72,
    "start_time": "2022-06-02T07:14:11.601Z"
   },
   {
    "duration": 33,
    "start_time": "2022-06-02T07:14:15.244Z"
   },
   {
    "duration": 101,
    "start_time": "2022-06-02T07:14:20.983Z"
   },
   {
    "duration": 111,
    "start_time": "2022-06-02T07:14:28.147Z"
   },
   {
    "duration": 103,
    "start_time": "2022-06-02T07:14:38.267Z"
   },
   {
    "duration": 649,
    "start_time": "2022-06-02T07:14:49.223Z"
   },
   {
    "duration": 629,
    "start_time": "2022-06-02T07:19:00.861Z"
   },
   {
    "duration": 683,
    "start_time": "2022-06-02T07:19:21.834Z"
   },
   {
    "duration": 508,
    "start_time": "2022-06-02T07:19:34.996Z"
   },
   {
    "duration": 580,
    "start_time": "2022-06-02T07:20:50.636Z"
   },
   {
    "duration": 108,
    "start_time": "2022-06-02T07:22:23.430Z"
   },
   {
    "duration": 8,
    "start_time": "2022-06-02T07:22:38.790Z"
   },
   {
    "duration": 4,
    "start_time": "2022-06-02T07:22:42.454Z"
   },
   {
    "duration": 4,
    "start_time": "2022-06-02T07:25:22.044Z"
   },
   {
    "duration": 108,
    "start_time": "2022-06-02T07:25:34.716Z"
   },
   {
    "duration": 552,
    "start_time": "2022-06-02T07:31:32.746Z"
   },
   {
    "duration": 572,
    "start_time": "2022-06-02T07:32:47.732Z"
   },
   {
    "duration": 509,
    "start_time": "2022-06-02T07:33:31.130Z"
   },
   {
    "duration": 6,
    "start_time": "2022-06-02T07:34:43.975Z"
   },
   {
    "duration": 7,
    "start_time": "2022-06-02T07:34:51.601Z"
   },
   {
    "duration": 42,
    "start_time": "2022-06-02T07:42:04.821Z"
   },
   {
    "duration": 44,
    "start_time": "2022-06-02T07:52:07.781Z"
   },
   {
    "duration": 40,
    "start_time": "2022-06-02T07:52:21.897Z"
   },
   {
    "duration": 13,
    "start_time": "2022-06-02T07:54:30.643Z"
   },
   {
    "duration": 14,
    "start_time": "2022-06-02T07:54:43.455Z"
   },
   {
    "duration": 4,
    "start_time": "2022-06-02T07:59:33.536Z"
   },
   {
    "duration": 3,
    "start_time": "2022-06-02T07:59:42.819Z"
   },
   {
    "duration": 15,
    "start_time": "2022-06-02T08:00:25.753Z"
   },
   {
    "duration": 43,
    "start_time": "2022-06-02T08:00:30.498Z"
   },
   {
    "duration": 14,
    "start_time": "2022-06-02T08:00:34.641Z"
   },
   {
    "duration": 13,
    "start_time": "2022-06-02T08:00:39.572Z"
   },
   {
    "duration": 15,
    "start_time": "2022-06-02T08:00:49.024Z"
   },
   {
    "duration": 14,
    "start_time": "2022-06-02T08:01:11.382Z"
   },
   {
    "duration": 14,
    "start_time": "2022-06-02T08:01:55.615Z"
   },
   {
    "duration": 14,
    "start_time": "2022-06-02T08:03:11.316Z"
   },
   {
    "duration": 15,
    "start_time": "2022-06-02T08:03:30.399Z"
   },
   {
    "duration": 13,
    "start_time": "2022-06-02T08:03:44.462Z"
   },
   {
    "duration": 13,
    "start_time": "2022-06-02T08:03:54.946Z"
   },
   {
    "duration": 16,
    "start_time": "2022-06-02T08:04:31.359Z"
   },
   {
    "duration": 14,
    "start_time": "2022-06-02T08:04:44.971Z"
   },
   {
    "duration": 18,
    "start_time": "2022-06-02T08:05:55.445Z"
   },
   {
    "duration": 19,
    "start_time": "2022-06-02T08:06:06.828Z"
   },
   {
    "duration": 18,
    "start_time": "2022-06-02T08:06:18.350Z"
   },
   {
    "duration": 91,
    "start_time": "2022-06-02T08:09:14.336Z"
   },
   {
    "duration": 41,
    "start_time": "2022-06-02T08:09:39.959Z"
   },
   {
    "duration": 96,
    "start_time": "2022-06-02T08:09:55.660Z"
   },
   {
    "duration": 93,
    "start_time": "2022-06-02T08:10:11.436Z"
   },
   {
    "duration": 14,
    "start_time": "2022-06-02T08:17:10.759Z"
   },
   {
    "duration": 14,
    "start_time": "2022-06-02T08:18:08.375Z"
   },
   {
    "duration": 16,
    "start_time": "2022-06-02T08:19:45.839Z"
   },
   {
    "duration": 16,
    "start_time": "2022-06-02T08:19:49.340Z"
   },
   {
    "duration": 14,
    "start_time": "2022-06-02T08:19:53.943Z"
   },
   {
    "duration": 16,
    "start_time": "2022-06-02T08:20:53.278Z"
   },
   {
    "duration": 14,
    "start_time": "2022-06-02T08:22:30.545Z"
   },
   {
    "duration": 15,
    "start_time": "2022-06-02T08:22:59.072Z"
   },
   {
    "duration": 13,
    "start_time": "2022-06-02T08:25:39.892Z"
   },
   {
    "duration": 14,
    "start_time": "2022-06-02T08:25:50.376Z"
   },
   {
    "duration": 14,
    "start_time": "2022-06-02T08:25:50.507Z"
   },
   {
    "duration": 13,
    "start_time": "2022-06-02T08:27:32.391Z"
   },
   {
    "duration": 15,
    "start_time": "2022-06-02T08:27:57.822Z"
   },
   {
    "duration": 4,
    "start_time": "2022-06-02T08:30:54.703Z"
   },
   {
    "duration": 4,
    "start_time": "2022-06-02T08:30:56.001Z"
   },
   {
    "duration": 2,
    "start_time": "2022-06-02T08:30:56.518Z"
   },
   {
    "duration": 15,
    "start_time": "2022-06-02T08:30:57.328Z"
   },
   {
    "duration": 5,
    "start_time": "2022-06-02T08:31:11.110Z"
   },
   {
    "duration": 18,
    "start_time": "2022-06-02T08:36:33.878Z"
   },
   {
    "duration": 14,
    "start_time": "2022-06-02T08:38:59.592Z"
   },
   {
    "duration": 14,
    "start_time": "2022-06-02T08:40:28.692Z"
   },
   {
    "duration": 15,
    "start_time": "2022-06-02T08:40:31.622Z"
   },
   {
    "duration": 14,
    "start_time": "2022-06-02T08:40:40.692Z"
   },
   {
    "duration": 31,
    "start_time": "2022-06-02T08:42:09.431Z"
   },
   {
    "duration": 30,
    "start_time": "2022-06-02T08:42:22.450Z"
   },
   {
    "duration": 31,
    "start_time": "2022-06-02T08:42:34.113Z"
   },
   {
    "duration": 32,
    "start_time": "2022-06-02T08:43:33.096Z"
   },
   {
    "duration": 4,
    "start_time": "2022-06-02T08:43:56.410Z"
   },
   {
    "duration": 4,
    "start_time": "2022-06-02T08:44:54.732Z"
   },
   {
    "duration": 4,
    "start_time": "2022-06-02T08:44:56.478Z"
   },
   {
    "duration": 14,
    "start_time": "2022-06-02T08:44:56.631Z"
   },
   {
    "duration": 31,
    "start_time": "2022-06-02T08:44:56.794Z"
   },
   {
    "duration": 30,
    "start_time": "2022-06-02T08:45:46.952Z"
   },
   {
    "duration": 29,
    "start_time": "2022-06-02T08:45:55.982Z"
   },
   {
    "duration": 32,
    "start_time": "2022-06-02T08:46:08.835Z"
   },
   {
    "duration": 14,
    "start_time": "2022-06-02T08:46:28.759Z"
   },
   {
    "duration": 13,
    "start_time": "2022-06-02T08:46:38.298Z"
   },
   {
    "duration": 15,
    "start_time": "2022-06-02T08:46:43.291Z"
   },
   {
    "duration": 15,
    "start_time": "2022-06-02T08:46:49.257Z"
   },
   {
    "duration": 14,
    "start_time": "2022-06-02T08:47:19.580Z"
   },
   {
    "duration": 31,
    "start_time": "2022-06-02T08:47:32.439Z"
   },
   {
    "duration": 14,
    "start_time": "2022-06-02T08:47:50.185Z"
   },
   {
    "duration": 30,
    "start_time": "2022-06-02T08:48:52.421Z"
   },
   {
    "duration": 4,
    "start_time": "2022-06-02T08:52:59.585Z"
   },
   {
    "duration": 4,
    "start_time": "2022-06-02T08:53:27.659Z"
   },
   {
    "duration": 4,
    "start_time": "2022-06-02T08:53:32.367Z"
   },
   {
    "duration": 15,
    "start_time": "2022-06-02T08:53:40.997Z"
   },
   {
    "duration": 33,
    "start_time": "2022-06-02T08:56:28.332Z"
   },
   {
    "duration": 53,
    "start_time": "2022-06-02T09:07:44.760Z"
   },
   {
    "duration": 1190,
    "start_time": "2022-06-02T09:13:22.481Z"
   },
   {
    "duration": 250,
    "start_time": "2022-06-02T09:13:23.673Z"
   },
   {
    "duration": 7,
    "start_time": "2022-06-02T09:13:23.927Z"
   },
   {
    "duration": 357,
    "start_time": "2022-06-02T09:13:23.937Z"
   },
   {
    "duration": 186,
    "start_time": "2022-06-02T09:13:24.296Z"
   },
   {
    "duration": 3,
    "start_time": "2022-06-02T09:13:24.484Z"
   },
   {
    "duration": 117,
    "start_time": "2022-06-02T09:13:24.489Z"
   },
   {
    "duration": 48,
    "start_time": "2022-06-02T09:13:24.608Z"
   },
   {
    "duration": 252,
    "start_time": "2022-06-02T09:13:24.658Z"
   },
   {
    "duration": 251,
    "start_time": "2022-06-02T09:13:24.913Z"
   },
   {
    "duration": 112,
    "start_time": "2022-06-02T09:13:25.166Z"
   },
   {
    "duration": 48,
    "start_time": "2022-06-02T09:13:25.280Z"
   },
   {
    "duration": 946,
    "start_time": "2022-06-02T09:13:25.329Z"
   },
   {
    "duration": 1144,
    "start_time": "2022-06-02T09:13:26.277Z"
   },
   {
    "duration": 980,
    "start_time": "2022-06-02T09:13:27.423Z"
   },
   {
    "duration": 21,
    "start_time": "2022-06-02T09:13:28.405Z"
   },
   {
    "duration": 245,
    "start_time": "2022-06-02T09:13:28.428Z"
   },
   {
    "duration": 28,
    "start_time": "2022-06-02T09:13:28.675Z"
   },
   {
    "duration": 303,
    "start_time": "2022-06-02T09:13:28.705Z"
   },
   {
    "duration": 63,
    "start_time": "2022-06-02T09:13:29.010Z"
   },
   {
    "duration": 213,
    "start_time": "2022-06-02T09:13:29.075Z"
   },
   {
    "duration": 269,
    "start_time": "2022-06-02T09:13:29.290Z"
   },
   {
    "duration": 13,
    "start_time": "2022-06-02T09:13:29.561Z"
   },
   {
    "duration": 131,
    "start_time": "2022-06-02T09:13:29.576Z"
   },
   {
    "duration": 4,
    "start_time": "2022-06-02T09:13:29.709Z"
   },
   {
    "duration": 48,
    "start_time": "2022-06-02T09:13:29.715Z"
   },
   {
    "duration": 38,
    "start_time": "2022-06-02T09:13:29.765Z"
   },
   {
    "duration": 223,
    "start_time": "2022-06-02T09:16:50.460Z"
   },
   {
    "duration": 124,
    "start_time": "2022-06-02T09:16:57.094Z"
   },
   {
    "duration": 144,
    "start_time": "2022-06-02T09:17:06.208Z"
   },
   {
    "duration": 10,
    "start_time": "2022-06-02T09:35:02.445Z"
   },
   {
    "duration": 10,
    "start_time": "2022-06-02T09:35:07.630Z"
   },
   {
    "duration": 1349,
    "start_time": "2022-06-02T09:35:10.859Z"
   },
   {
    "duration": 1348,
    "start_time": "2022-06-02T09:38:58.710Z"
   },
   {
    "duration": 1315,
    "start_time": "2022-06-02T09:39:18.350Z"
   },
   {
    "duration": 1300,
    "start_time": "2022-06-02T09:39:34.279Z"
   },
   {
    "duration": 387,
    "start_time": "2022-06-02T09:57:03.363Z"
   },
   {
    "duration": 42,
    "start_time": "2022-06-02T11:28:22.478Z"
   },
   {
    "duration": 14,
    "start_time": "2022-06-02T11:28:28.108Z"
   },
   {
    "duration": 9,
    "start_time": "2022-06-02T11:59:35.432Z"
   },
   {
    "duration": 68,
    "start_time": "2022-06-02T12:00:00.192Z"
   },
   {
    "duration": 643,
    "start_time": "2022-06-02T12:00:05.883Z"
   },
   {
    "duration": 26,
    "start_time": "2022-06-02T12:00:09.067Z"
   },
   {
    "duration": 34,
    "start_time": "2022-06-02T12:19:08.417Z"
   },
   {
    "duration": 52,
    "start_time": "2022-06-02T12:21:57.707Z"
   },
   {
    "duration": 49,
    "start_time": "2022-06-02T12:22:13.388Z"
   },
   {
    "duration": 14,
    "start_time": "2022-06-02T12:22:33.421Z"
   },
   {
    "duration": 35,
    "start_time": "2022-06-02T12:22:38.700Z"
   },
   {
    "duration": 37,
    "start_time": "2022-06-02T12:22:56.968Z"
   },
   {
    "duration": 33,
    "start_time": "2022-06-02T12:23:25.783Z"
   },
   {
    "duration": 9,
    "start_time": "2022-06-02T12:45:31.538Z"
   },
   {
    "duration": 14,
    "start_time": "2022-06-02T12:54:24.874Z"
   },
   {
    "duration": 15,
    "start_time": "2022-06-02T12:54:37.314Z"
   },
   {
    "duration": 13,
    "start_time": "2022-06-02T12:54:43.057Z"
   },
   {
    "duration": 16,
    "start_time": "2022-06-02T12:54:50.715Z"
   },
   {
    "duration": 14,
    "start_time": "2022-06-02T12:55:25.068Z"
   },
   {
    "duration": 13,
    "start_time": "2022-06-02T12:55:35.706Z"
   },
   {
    "duration": 31,
    "start_time": "2022-06-02T12:58:49.065Z"
   },
   {
    "duration": 127,
    "start_time": "2022-06-02T12:59:26.315Z"
   },
   {
    "duration": 4,
    "start_time": "2022-06-02T12:59:28.793Z"
   },
   {
    "duration": 14,
    "start_time": "2022-06-02T13:12:38.082Z"
   },
   {
    "duration": 15,
    "start_time": "2022-06-02T13:12:52.368Z"
   },
   {
    "duration": 18,
    "start_time": "2022-06-02T13:13:20.985Z"
   },
   {
    "duration": 16,
    "start_time": "2022-06-02T13:17:15.768Z"
   },
   {
    "duration": 27,
    "start_time": "2022-06-02T13:28:22.039Z"
   },
   {
    "duration": 14,
    "start_time": "2022-06-02T13:28:32.310Z"
   },
   {
    "duration": 77,
    "start_time": "2022-06-02T13:35:30.144Z"
   },
   {
    "duration": 5,
    "start_time": "2022-06-02T13:35:37.273Z"
   },
   {
    "duration": 14,
    "start_time": "2022-06-02T13:35:45.942Z"
   },
   {
    "duration": 16,
    "start_time": "2022-06-02T13:35:53.347Z"
   },
   {
    "duration": 15,
    "start_time": "2022-06-02T13:38:15.184Z"
   },
   {
    "duration": 28,
    "start_time": "2022-06-02T13:38:45.839Z"
   },
   {
    "duration": 28,
    "start_time": "2022-06-02T13:38:48.439Z"
   },
   {
    "duration": 14,
    "start_time": "2022-06-02T13:39:00.739Z"
   },
   {
    "duration": 14,
    "start_time": "2022-06-02T13:39:13.153Z"
   },
   {
    "duration": 14,
    "start_time": "2022-06-02T13:40:32.396Z"
   },
   {
    "duration": 44,
    "start_time": "2022-06-02T13:41:38.597Z"
   },
   {
    "duration": 27,
    "start_time": "2022-06-02T13:41:43.114Z"
   },
   {
    "duration": 24,
    "start_time": "2022-06-02T13:41:51.657Z"
   },
   {
    "duration": 30,
    "start_time": "2022-06-02T13:41:54.039Z"
   },
   {
    "duration": 28,
    "start_time": "2022-06-02T13:42:06.877Z"
   },
   {
    "duration": 1220,
    "start_time": "2022-06-02T17:37:53.038Z"
   },
   {
    "duration": 258,
    "start_time": "2022-06-02T17:37:54.260Z"
   },
   {
    "duration": 9,
    "start_time": "2022-06-02T17:37:54.520Z"
   },
   {
    "duration": 333,
    "start_time": "2022-06-02T17:37:54.531Z"
   },
   {
    "duration": 205,
    "start_time": "2022-06-02T17:37:54.866Z"
   },
   {
    "duration": 2,
    "start_time": "2022-06-02T17:37:55.073Z"
   },
   {
    "duration": 126,
    "start_time": "2022-06-02T17:37:55.077Z"
   },
   {
    "duration": 56,
    "start_time": "2022-06-02T17:37:55.205Z"
   },
   {
    "duration": 239,
    "start_time": "2022-06-02T17:37:55.262Z"
   },
   {
    "duration": 253,
    "start_time": "2022-06-02T17:37:55.503Z"
   },
   {
    "duration": 118,
    "start_time": "2022-06-02T17:37:55.758Z"
   },
   {
    "duration": 51,
    "start_time": "2022-06-02T17:37:55.877Z"
   },
   {
    "duration": 928,
    "start_time": "2022-06-02T17:37:55.930Z"
   },
   {
    "duration": 1152,
    "start_time": "2022-06-02T17:37:56.860Z"
   },
   {
    "duration": 1065,
    "start_time": "2022-06-02T17:37:58.015Z"
   },
   {
    "duration": 296,
    "start_time": "2022-06-02T17:37:59.082Z"
   },
   {
    "duration": 30,
    "start_time": "2022-06-02T17:37:59.379Z"
   },
   {
    "duration": 297,
    "start_time": "2022-06-02T17:37:59.425Z"
   },
   {
    "duration": 63,
    "start_time": "2022-06-02T17:37:59.724Z"
   },
   {
    "duration": 237,
    "start_time": "2022-06-02T17:37:59.789Z"
   },
   {
    "duration": 239,
    "start_time": "2022-06-02T17:38:00.028Z"
   },
   {
    "duration": 15,
    "start_time": "2022-06-02T17:38:00.269Z"
   },
   {
    "duration": 173,
    "start_time": "2022-06-02T17:38:00.285Z"
   },
   {
    "duration": 4,
    "start_time": "2022-06-02T17:38:00.460Z"
   },
   {
    "duration": 29,
    "start_time": "2022-06-02T17:38:00.466Z"
   },
   {
    "duration": 93,
    "start_time": "2022-06-02T17:38:00.496Z"
   },
   {
    "duration": 1463,
    "start_time": "2022-06-03T06:06:39.742Z"
   },
   {
    "duration": 815,
    "start_time": "2022-06-03T06:06:41.207Z"
   },
   {
    "duration": 10,
    "start_time": "2022-06-03T06:06:42.024Z"
   },
   {
    "duration": 363,
    "start_time": "2022-06-03T06:06:42.035Z"
   },
   {
    "duration": 180,
    "start_time": "2022-06-03T06:06:42.399Z"
   },
   {
    "duration": 3,
    "start_time": "2022-06-03T06:06:42.581Z"
   },
   {
    "duration": 128,
    "start_time": "2022-06-03T06:06:42.585Z"
   },
   {
    "duration": 45,
    "start_time": "2022-06-03T06:06:42.715Z"
   },
   {
    "duration": 226,
    "start_time": "2022-06-03T06:06:42.762Z"
   },
   {
    "duration": 219,
    "start_time": "2022-06-03T06:06:42.990Z"
   },
   {
    "duration": 101,
    "start_time": "2022-06-03T06:06:43.210Z"
   },
   {
    "duration": 45,
    "start_time": "2022-06-03T06:06:43.312Z"
   },
   {
    "duration": 943,
    "start_time": "2022-06-03T06:06:43.359Z"
   },
   {
    "duration": 1164,
    "start_time": "2022-06-03T06:06:44.305Z"
   },
   {
    "duration": 1041,
    "start_time": "2022-06-03T06:06:45.470Z"
   },
   {
    "duration": 137,
    "start_time": "2022-06-03T06:06:46.514Z"
   },
   {
    "duration": 26,
    "start_time": "2022-06-03T06:06:46.653Z"
   },
   {
    "duration": 446,
    "start_time": "2022-06-03T06:06:46.680Z"
   },
   {
    "duration": 70,
    "start_time": "2022-06-03T06:06:47.127Z"
   },
   {
    "duration": 242,
    "start_time": "2022-06-03T06:06:47.198Z"
   },
   {
    "duration": 256,
    "start_time": "2022-06-03T06:06:47.442Z"
   },
   {
    "duration": 15,
    "start_time": "2022-06-03T06:06:47.700Z"
   },
   {
    "duration": 126,
    "start_time": "2022-06-03T06:06:47.728Z"
   },
   {
    "duration": 4,
    "start_time": "2022-06-03T06:06:47.855Z"
   },
   {
    "duration": 19,
    "start_time": "2022-06-03T06:06:47.861Z"
   },
   {
    "duration": 49,
    "start_time": "2022-06-03T06:06:47.881Z"
   },
   {
    "duration": 36,
    "start_time": "2022-06-03T06:08:19.780Z"
   },
   {
    "duration": 11,
    "start_time": "2022-06-03T06:13:09.224Z"
   },
   {
    "duration": 41,
    "start_time": "2022-06-03T06:13:15.285Z"
   },
   {
    "duration": 115,
    "start_time": "2022-06-03T06:13:29.110Z"
   },
   {
    "duration": 30,
    "start_time": "2022-06-03T06:13:32.008Z"
   },
   {
    "duration": 32,
    "start_time": "2022-06-03T06:14:08.154Z"
   },
   {
    "duration": 35,
    "start_time": "2022-06-03T06:14:12.519Z"
   },
   {
    "duration": 31,
    "start_time": "2022-06-03T06:14:16.148Z"
   },
   {
    "duration": 49,
    "start_time": "2022-06-03T06:20:01.224Z"
   },
   {
    "duration": 898,
    "start_time": "2022-06-03T06:20:05.726Z"
   },
   {
    "duration": 688,
    "start_time": "2022-06-03T06:20:15.288Z"
   },
   {
    "duration": 180,
    "start_time": "2022-06-03T06:21:37.908Z"
   },
   {
    "duration": 193,
    "start_time": "2022-06-03T06:21:56.946Z"
   },
   {
    "duration": 5,
    "start_time": "2022-06-03T06:22:00.433Z"
   },
   {
    "duration": 6,
    "start_time": "2022-06-03T06:22:04.541Z"
   },
   {
    "duration": 210,
    "start_time": "2022-06-03T06:22:39.010Z"
   },
   {
    "duration": 178,
    "start_time": "2022-06-03T06:25:47.721Z"
   },
   {
    "duration": 1032,
    "start_time": "2022-06-03T06:28:26.987Z"
   },
   {
    "duration": 1187,
    "start_time": "2022-06-03T06:29:21.724Z"
   },
   {
    "duration": 68,
    "start_time": "2022-06-03T06:31:23.287Z"
   },
   {
    "duration": 39,
    "start_time": "2022-06-03T06:31:29.979Z"
   },
   {
    "duration": 1273,
    "start_time": "2022-06-03T06:31:35.176Z"
   },
   {
    "duration": 1063,
    "start_time": "2022-06-03T06:31:51.427Z"
   },
   {
    "duration": 1249,
    "start_time": "2022-06-03T06:32:48.656Z"
   },
   {
    "duration": 1292,
    "start_time": "2022-06-03T06:33:41.330Z"
   },
   {
    "duration": 1046,
    "start_time": "2022-06-03T06:34:06.441Z"
   },
   {
    "duration": 1345,
    "start_time": "2022-06-03T06:34:47.453Z"
   },
   {
    "duration": 1108,
    "start_time": "2022-06-03T06:34:53.169Z"
   },
   {
    "duration": 1030,
    "start_time": "2022-06-03T06:34:58.753Z"
   },
   {
    "duration": 1590,
    "start_time": "2022-06-03T06:35:23.997Z"
   },
   {
    "duration": 1147,
    "start_time": "2022-06-03T06:35:29.767Z"
   },
   {
    "duration": 1339,
    "start_time": "2022-06-03T06:38:21.597Z"
   },
   {
    "duration": 1045,
    "start_time": "2022-06-03T06:38:29.230Z"
   },
   {
    "duration": 1334,
    "start_time": "2022-06-03T06:39:01.983Z"
   },
   {
    "duration": 1048,
    "start_time": "2022-06-03T06:39:07.492Z"
   },
   {
    "duration": 1343,
    "start_time": "2022-06-03T06:46:02.803Z"
   },
   {
    "duration": 1327,
    "start_time": "2022-06-03T06:46:18.387Z"
   },
   {
    "duration": 1195,
    "start_time": "2022-06-03T06:46:43.503Z"
   },
   {
    "duration": 1358,
    "start_time": "2022-06-03T06:47:32.015Z"
   },
   {
    "duration": 1038,
    "start_time": "2022-06-03T06:49:21.495Z"
   },
   {
    "duration": 1395,
    "start_time": "2022-06-03T06:50:25.015Z"
   },
   {
    "duration": 37,
    "start_time": "2022-06-03T06:52:03.567Z"
   },
   {
    "duration": 1050,
    "start_time": "2022-06-03T06:52:07.307Z"
   },
   {
    "duration": 1470,
    "start_time": "2022-06-03T06:54:33.487Z"
   },
   {
    "duration": 1125,
    "start_time": "2022-06-03T06:55:03.583Z"
   },
   {
    "duration": 1511,
    "start_time": "2022-06-03T06:55:23.466Z"
   },
   {
    "duration": 1086,
    "start_time": "2022-06-03T06:55:26.829Z"
   },
   {
    "duration": 1378,
    "start_time": "2022-06-03T06:55:39.371Z"
   },
   {
    "duration": 1047,
    "start_time": "2022-06-03T06:57:35.683Z"
   },
   {
    "duration": 1318,
    "start_time": "2022-06-03T06:57:46.902Z"
   },
   {
    "duration": 1056,
    "start_time": "2022-06-03T06:59:24.986Z"
   },
   {
    "duration": 1404,
    "start_time": "2022-06-03T07:02:00.846Z"
   },
   {
    "duration": 1106,
    "start_time": "2022-06-03T07:02:21.437Z"
   },
   {
    "duration": 1347,
    "start_time": "2022-06-03T07:02:28.790Z"
   },
   {
    "duration": 1044,
    "start_time": "2022-06-03T07:02:55.788Z"
   },
   {
    "duration": 1435,
    "start_time": "2022-06-03T07:03:15.952Z"
   },
   {
    "duration": 1027,
    "start_time": "2022-06-03T07:03:31.399Z"
   },
   {
    "duration": 1295,
    "start_time": "2022-06-03T07:06:15.305Z"
   },
   {
    "duration": 1050,
    "start_time": "2022-06-03T07:07:02.822Z"
   },
   {
    "duration": 1399,
    "start_time": "2022-06-03T07:07:46.774Z"
   },
   {
    "duration": 1262,
    "start_time": "2022-06-03T07:09:04.776Z"
   },
   {
    "duration": 1293,
    "start_time": "2022-06-03T07:09:36.447Z"
   },
   {
    "duration": 1653,
    "start_time": "2022-06-03T07:10:00.708Z"
   },
   {
    "duration": 1359,
    "start_time": "2022-06-03T07:11:09.451Z"
   },
   {
    "duration": 1690,
    "start_time": "2022-06-03T07:11:17.459Z"
   },
   {
    "duration": 1269,
    "start_time": "2022-06-03T07:13:06.828Z"
   },
   {
    "duration": 1780,
    "start_time": "2022-06-03T07:13:23.801Z"
   },
   {
    "duration": 41,
    "start_time": "2022-06-03T07:13:42.667Z"
   },
   {
    "duration": 1235,
    "start_time": "2022-06-03T07:13:48.390Z"
   },
   {
    "duration": 1295,
    "start_time": "2022-06-03T07:15:55.737Z"
   },
   {
    "duration": 1757,
    "start_time": "2022-06-03T07:15:57.033Z"
   },
   {
    "duration": 98,
    "start_time": "2022-06-03T07:16:19.905Z"
   },
   {
    "duration": 36,
    "start_time": "2022-06-03T07:16:20.691Z"
   },
   {
    "duration": 806,
    "start_time": "2022-06-03T07:16:21.515Z"
   },
   {
    "duration": 82,
    "start_time": "2022-06-03T07:24:40.854Z"
   },
   {
    "duration": 135,
    "start_time": "2022-06-03T07:35:32.095Z"
   },
   {
    "duration": 96,
    "start_time": "2022-06-03T07:35:40.027Z"
   },
   {
    "duration": 107,
    "start_time": "2022-06-03T07:36:08.069Z"
   },
   {
    "duration": 82,
    "start_time": "2022-06-03T07:36:26.143Z"
   },
   {
    "duration": 135,
    "start_time": "2022-06-03T07:44:44.704Z"
   },
   {
    "duration": 161,
    "start_time": "2022-06-03T07:45:50.045Z"
   },
   {
    "duration": 154,
    "start_time": "2022-06-03T07:46:09.081Z"
   },
   {
    "duration": 163,
    "start_time": "2022-06-03T07:47:02.224Z"
   },
   {
    "duration": 161,
    "start_time": "2022-06-03T07:47:11.370Z"
   },
   {
    "duration": 32,
    "start_time": "2022-06-03T08:00:55.373Z"
   },
   {
    "duration": 49,
    "start_time": "2022-06-03T08:01:24.285Z"
   },
   {
    "duration": 18,
    "start_time": "2022-06-03T08:01:32.366Z"
   },
   {
    "duration": 13,
    "start_time": "2022-06-03T08:01:42.358Z"
   },
   {
    "duration": 29,
    "start_time": "2022-06-03T08:01:51.266Z"
   },
   {
    "duration": 30,
    "start_time": "2022-06-03T08:02:01.635Z"
   },
   {
    "duration": 1354,
    "start_time": "2022-06-03T15:22:26.500Z"
   },
   {
    "duration": 773,
    "start_time": "2022-06-03T15:22:27.856Z"
   },
   {
    "duration": 6,
    "start_time": "2022-06-03T15:22:28.632Z"
   },
   {
    "duration": 343,
    "start_time": "2022-06-03T15:22:28.639Z"
   },
   {
    "duration": 187,
    "start_time": "2022-06-03T15:22:28.984Z"
   },
   {
    "duration": 3,
    "start_time": "2022-06-03T15:22:29.173Z"
   },
   {
    "duration": 146,
    "start_time": "2022-06-03T15:22:29.178Z"
   },
   {
    "duration": 38,
    "start_time": "2022-06-03T15:22:29.326Z"
   },
   {
    "duration": 219,
    "start_time": "2022-06-03T15:22:29.366Z"
   },
   {
    "duration": 1228,
    "start_time": "2022-06-03T15:22:29.587Z"
   },
   {
    "duration": 1318,
    "start_time": "2022-06-03T15:22:30.816Z"
   },
   {
    "duration": 189,
    "start_time": "2022-06-03T15:22:32.136Z"
   },
   {
    "duration": 102,
    "start_time": "2022-06-03T15:22:32.326Z"
   },
   {
    "duration": 31,
    "start_time": "2022-06-03T15:22:32.430Z"
   },
   {
    "duration": 1132,
    "start_time": "2022-06-03T15:22:32.463Z"
   },
   {
    "duration": 124,
    "start_time": "2022-06-03T15:22:33.597Z"
   },
   {
    "duration": 27,
    "start_time": "2022-06-03T15:22:33.723Z"
   },
   {
    "duration": 306,
    "start_time": "2022-06-03T15:22:33.752Z"
   },
   {
    "duration": 66,
    "start_time": "2022-06-03T15:22:34.059Z"
   },
   {
    "duration": 229,
    "start_time": "2022-06-03T15:22:34.127Z"
   },
   {
    "duration": 286,
    "start_time": "2022-06-03T15:22:34.358Z"
   },
   {
    "duration": 126,
    "start_time": "2022-06-03T15:22:34.645Z"
   },
   {
    "duration": 4,
    "start_time": "2022-06-03T15:22:34.773Z"
   },
   {
    "duration": 129,
    "start_time": "2022-06-03T15:22:34.779Z"
   },
   {
    "duration": 0,
    "start_time": "2022-06-03T15:22:34.910Z"
   },
   {
    "duration": 6,
    "start_time": "2022-06-03T15:24:41.512Z"
   },
   {
    "duration": 17,
    "start_time": "2022-06-03T15:43:31.844Z"
   },
   {
    "duration": 15,
    "start_time": "2022-06-03T15:43:45.186Z"
   },
   {
    "duration": 33,
    "start_time": "2022-06-03T15:44:27.766Z"
   }
  ],
  "kernelspec": {
   "display_name": "Python 3 (ipykernel)",
   "language": "python",
   "name": "python3"
  },
  "language_info": {
   "codemirror_mode": {
    "name": "ipython",
    "version": 3
   },
   "file_extension": ".py",
   "mimetype": "text/x-python",
   "name": "python",
   "nbconvert_exporter": "python",
   "pygments_lexer": "ipython3",
   "version": "3.9.7"
  },
  "toc": {
   "base_numbering": 1,
   "nav_menu": {},
   "number_sections": true,
   "sideBar": true,
   "skip_h1_title": true,
   "title_cell": "Table of Contents",
   "title_sidebar": "Contents",
   "toc_cell": false,
   "toc_position": {
    "height": "calc(100% - 180px)",
    "left": "10px",
    "top": "150px",
    "width": "195.33px"
   },
   "toc_section_display": true,
   "toc_window_display": false
  }
 },
 "nbformat": 4,
 "nbformat_minor": 2
}
